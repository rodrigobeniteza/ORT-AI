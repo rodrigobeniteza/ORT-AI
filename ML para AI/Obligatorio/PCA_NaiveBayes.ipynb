{
  "cells": [
    {
      "cell_type": "code",
      "execution_count": 1,
      "metadata": {
        "id": "Nk0tWPrBfbS5"
      },
      "outputs": [],
      "source": [
        "# !unzip /content/Faces.zip"
      ]
    },
    {
      "cell_type": "code",
      "execution_count": 2,
      "metadata": {
        "id": "awrfwut65jR5"
      },
      "outputs": [],
      "source": [
        "# !unzip /content/Background.zip"
      ]
    },
    {
      "cell_type": "code",
      "execution_count": 3,
      "metadata": {
        "id": "B9fY5qdDg-Tw"
      },
      "outputs": [],
      "source": [
        "import numpy as np\n",
        "import pandas as pd\n",
        "import matplotlib.pyplot as plt\n",
        "plt.style.use('ggplot')\n",
        "from mpl_toolkits.mplot3d import Axes3D\n",
        "from skimage import feature, data, color\n",
        "import os\n",
        "from tqdm import tqdm\n",
        "import joblib\n",
        "from skimage.transform import resize\n",
        "from sklearn.feature_extraction.image import PatchExtractor\n",
        "from itertools import chain\n",
        "from scipy import stats\n",
        "from sklearn.preprocessing import StandardScaler\n",
        "from sklearn.decomposition import PCA\n",
        "from sklearn.naive_bayes import GaussianNB\n",
        "from sklearn.metrics import classification_report\n",
        "from sklearn.model_selection import train_test_split"
      ]
    },
    {
      "cell_type": "markdown",
      "metadata": {
        "id": "dUQJQ_VS-2N0"
      },
      "source": [
        "# Preparación de los datos"
      ]
    },
    {
      "cell_type": "code",
      "execution_count": 4,
      "metadata": {
        "id": "-notO-zv4Bbt"
      },
      "outputs": [],
      "source": [
        "suffix = '.pgm'\n",
        "\n",
        "all_files = os.listdir('Faces/')\n",
        "pgm_files = [filename for filename in all_files if filename.endswith(suffix)]"
      ]
    },
    {
      "cell_type": "code",
      "execution_count": 5,
      "metadata": {
        "colab": {
          "base_uri": "https://localhost:8080/"
        },
        "id": "-Mf-OLRv7KI3",
        "outputId": "d1866115-c419-469c-f192-32b67f397fb1"
      },
      "outputs": [
        {
          "name": "stderr",
          "output_type": "stream",
          "text": [
            "100%|██████████| 12833/12833 [00:04<00:00, 3041.69it/s]\n"
          ]
        }
      ],
      "source": [
        "positive_patches = []\n",
        "for filename in tqdm(pgm_files):\n",
        "  path = 'Faces/' + filename\n",
        "  with open(path, 'rb') as pgmf:\n",
        "      image = plt.imread(pgmf)\n",
        "  positive_patches.append(image)"
      ]
    },
    {
      "cell_type": "code",
      "execution_count": 6,
      "metadata": {
        "colab": {
          "base_uri": "https://localhost:8080/"
        },
        "id": "kxzhqO0K9z0Y",
        "outputId": "f31bd760-5e05-441c-ec5b-a5ccb63dc0a1"
      },
      "outputs": [
        {
          "data": {
            "text/plain": [
              "(12833, 64, 64)"
            ]
          },
          "execution_count": 6,
          "metadata": {},
          "output_type": "execute_result"
        }
      ],
      "source": [
        "positive_patches = np.array(positive_patches)\n",
        "positive_patches.shape"
      ]
    },
    {
      "cell_type": "code",
      "execution_count": 7,
      "metadata": {
        "id": "3X106d0434hl"
      },
      "outputs": [],
      "source": [
        "P = len(positive_patches)"
      ]
    },
    {
      "cell_type": "code",
      "execution_count": 8,
      "metadata": {
        "id": "ozMroXqk4P8a"
      },
      "outputs": [],
      "source": [
        "# Tomamos algunas imágenes de sklearn\n",
        "imgs = ['text',\n",
        "        'coins',\n",
        "        'moon',\n",
        "        'page',\n",
        "        'clock',\n",
        "        'immunohistochemistry',\n",
        "        'chelsea',\n",
        "        'coffee',\n",
        "        'hubble_deep_field'\n",
        "        ]\n",
        "\n",
        "images = []\n",
        "for name in imgs:\n",
        "    img = getattr(data, name)()\n",
        "    if len(img.shape) == 3 and img.shape[2] == 3:  # Chequeamos si la imagen es RGB\n",
        "        img = color.rgb2gray(img)\n",
        "        img = (img * 255).astype(np.uint8)\n",
        "    images.append(resize(img, (100,100)))\n",
        "\n",
        "# Imagenes caseras adicionales\n",
        "for i in range(31):\n",
        "    filename = \"Background/\"+str(i)+\".jpg\"\n",
        "    img = plt.imread(filename)\n",
        "    img = color.rgb2gray(img)\n",
        "    images.append(resize(img, (100,100)))"
      ]
    },
    {
      "cell_type": "code",
      "execution_count": 9,
      "metadata": {
        "colab": {
          "base_uri": "https://localhost:8080/"
        },
        "id": "02yAa2IO6GFj",
        "outputId": "6c624be3-8d80-4602-ba6c-f45f7a407c35"
      },
      "outputs": [
        {
          "name": "stdout",
          "output_type": "stream",
          "text": [
            "Image size: (64, 64)\n"
          ]
        }
      ],
      "source": [
        "# Tamaño de las imágenes de rostros\n",
        "size = positive_patches[0].shape\n",
        "print(f'Image size: {size}')"
      ]
    },
    {
      "cell_type": "code",
      "execution_count": 10,
      "metadata": {
        "id": "M-RU7TCl6ao8"
      },
      "outputs": [],
      "source": [
        "# Función para extraer porciones de una imagen\n",
        "def extract_patches(img, N, scale=1.0, patch_size=size):\n",
        "    # Calcula el tamaño del parche extraído basado en el factor de escala dado\n",
        "    extracted_patch_size = tuple((scale * np.array(patch_size)).astype(int))\n",
        "\n",
        "    # Inicializa un objeto PatchExtractor con el tamaño de parche calculado,\n",
        "    # el número máximo de parches, y una semilla de estado aleatorio\n",
        "    extractor = PatchExtractor(patch_size=extracted_patch_size, max_patches=N, random_state=0)\n",
        "\n",
        "    # Extrae parches de la imagen dada\n",
        "    # img[np.newaxis] se utiliza la entrada de PatchExtractor es un conjunto de imágenes\n",
        "    patches = extractor.transform(img[np.newaxis])\n",
        "\n",
        "    # Si el factor de escala no es 1, redimensiona cada parche extraído\n",
        "    # al tamaño del parche original\n",
        "    if scale != 1:\n",
        "        patches = np.array([resize(patch, patch_size) for patch in patches])\n",
        "\n",
        "    # Devuelve la lista de parches extraídos (y posiblemente redimensionados)\n",
        "    return patches"
      ]
    },
    {
      "cell_type": "code",
      "execution_count": 11,
      "metadata": {
        "colab": {
          "base_uri": "https://localhost:8080/"
        },
        "id": "XaJk-LsW7HZ7",
        "outputId": "609df6a6-48c9-4128-ce53-8f129336c4c2"
      },
      "outputs": [
        {
          "name": "stderr",
          "output_type": "stream",
          "text": [
            "Procesando imágenes: 100%|██████████| 40/40 [00:01<00:00, 26.60it/s]\n"
          ]
        },
        {
          "data": {
            "text/plain": [
              "(12800, 64, 64)"
            ]
          },
          "execution_count": 11,
          "metadata": {},
          "output_type": "execute_result"
        }
      ],
      "source": [
        "# Extraemos las imágenes de fondo\n",
        "negative_patches = np.vstack([extract_patches(im, 64, scale) for im in tqdm(images, desc='Procesando imágenes') for scale in [0.1,0.25,0.5,0.75,1]])\n",
        "negative_patches.shape"
      ]
    },
    {
      "cell_type": "code",
      "execution_count": 12,
      "metadata": {
        "id": "WgVdOLdV8F22"
      },
      "outputs": [],
      "source": [
        "N = len(negative_patches)"
      ]
    },
    {
      "cell_type": "code",
      "execution_count": 13,
      "metadata": {
        "colab": {
          "base_uri": "https://localhost:8080/"
        },
        "id": "QSQhVM3n-SGs",
        "outputId": "8868e56e-55dd-46b1-e63f-3b8991cdfc2a"
      },
      "outputs": [
        {
          "name": "stderr",
          "output_type": "stream",
          "text": [
            "Construyendo X: 25633it [00:13, 1970.79it/s]\n"
          ]
        }
      ],
      "source": [
        "X = np.array([feature.hog(im) for im in tqdm(chain(positive_patches, negative_patches), desc='Construyendo X')])\n",
        "y = np.zeros(len(X))\n",
        "y[:P] = 1"
      ]
    },
    {
      "cell_type": "code",
      "execution_count": 14,
      "metadata": {
        "id": "Tezqgn6Y2PnH"
      },
      "outputs": [],
      "source": [
        "X_train, X_val, y_train, y_val = train_test_split(X, y, test_size=0.2, random_state=42)"
      ]
    },
    {
      "cell_type": "code",
      "execution_count": 15,
      "metadata": {},
      "outputs": [
        {
          "data": {
            "text/plain": [
              "(20506, 2916)"
            ]
          },
          "execution_count": 15,
          "metadata": {},
          "output_type": "execute_result"
        }
      ],
      "source": [
        "X_train.shape"
      ]
    },
    {
      "cell_type": "code",
      "execution_count": 16,
      "metadata": {
        "id": "zcc491w1HmhO"
      },
      "outputs": [],
      "source": [
        "scaler = StandardScaler()\n",
        "X_train_std = scaler.fit_transform(X_train)"
      ]
    },
    {
      "cell_type": "code",
      "execution_count": 17,
      "metadata": {
        "colab": {
          "base_uri": "https://localhost:8080/"
        },
        "id": "NKXFvtC_z-FL",
        "outputId": "0f903170-10c0-4eaf-9d28-1aee30c7d3bd"
      },
      "outputs": [
        {
          "data": {
            "text/plain": [
              "['scaler.joblib']"
            ]
          },
          "execution_count": 17,
          "metadata": {},
          "output_type": "execute_result"
        }
      ],
      "source": [
        "# Guardar el scaler\n",
        "joblib.dump(scaler, 'scaler.joblib')"
      ]
    },
    {
      "cell_type": "code",
      "execution_count": 18,
      "metadata": {
        "id": "IOe9Yu7qMOJq"
      },
      "outputs": [],
      "source": [
        "# Apply PCA to extract eigenfaces\n",
        "\n",
        "pca = PCA(n_components=500, whiten=True).fit(X_train_std)"
      ]
    },
    {
      "cell_type": "code",
      "execution_count": 19,
      "metadata": {
        "colab": {
          "base_uri": "https://localhost:8080/"
        },
        "id": "HKqECe9A0JFv",
        "outputId": "02a6b306-27ba-4219-98f0-ee8a90e3a249"
      },
      "outputs": [
        {
          "data": {
            "text/plain": [
              "['pca.joblib']"
            ]
          },
          "execution_count": 19,
          "metadata": {},
          "output_type": "execute_result"
        }
      ],
      "source": [
        "# Guardar PCA\n",
        "joblib.dump(pca, 'pca.joblib')"
      ]
    },
    {
      "cell_type": "code",
      "execution_count": 20,
      "metadata": {
        "colab": {
          "base_uri": "https://localhost:8080/",
          "height": 299
        },
        "id": "kh5GQHZykQ7O",
        "outputId": "91c371ff-2b59-4460-d754-ae7e899f5a5e"
      },
      "outputs": [
        {
          "data": {
            "image/png": "[encoded data removed]",
            "text/plain": [
              "<Figure size 1000x400 with 2 Axes>"
            ]
          },
          "metadata": {},
          "output_type": "display_data"
        }
      ],
      "source": [
        "# Obtener varianzas\n",
        "var_explicada = pca.explained_variance_ratio_\n",
        "var_acumulada = np.cumsum(var_explicada)\n",
        "\n",
        "# Gráfico\n",
        "fig, (ax1, ax2) = plt.subplots(1, 2, figsize=(10, 4))\n",
        "\n",
        "# Varianza explicada\n",
        "ax1.bar(range(1, len(var_explicada)+1), var_explicada, color='skyblue')\n",
        "ax1.set_title('Varianza explicada por componente')\n",
        "ax1.set_xlabel('Componente principal')\n",
        "ax1.set_ylabel('Proporción de varianza')\n",
        "ax1.grid(True)\n",
        "\n",
        "# Varianza acumulada\n",
        "ax2.bar(range(1, len(var_acumulada)+1), var_acumulada, color='lightgreen')\n",
        "ax2.axhline(y=0.95, color='r', linestyle='--', label='95%')\n",
        "ax2.set_title('Varianza acumulada')\n",
        "ax2.set_xlabel('Número de componentes')\n",
        "ax2.set_ylabel('Proporción acumulada de varianza')\n",
        "ax2.legend()\n",
        "ax2.grid(True)\n",
        "\n",
        "plt.tight_layout()\n",
        "plt.show()"
      ]
    },
    {
      "cell_type": "code",
      "execution_count": 21,
      "metadata": {
        "colab": {
          "base_uri": "https://localhost:8080/",
          "height": 477
        },
        "id": "XVe1HZBfOCml",
        "outputId": "9975acbe-73af-4e8d-d720-ba7a5e6f1106"
      },
      "outputs": [
        {
          "data": {
            "image/png": "[encoded data removed]",
            "text/plain": [
              "<Figure size 640x480 with 1 Axes>"
            ]
          },
          "metadata": {},
          "output_type": "display_data"
        }
      ],
      "source": [
        "X_train_pca = pca.transform(X_train_std)\n",
        "\n",
        "# Graficar con colores y leyenda\n",
        "colors = ['tab:red', 'tab:blue']\n",
        "labels = ['Back', 'Face']\n",
        "\n",
        "for class_value in [0, 1]:\n",
        "    plt.scatter(X_train_pca[y_train == class_value, 0], X_train_pca[y_train == class_value, 1],\n",
        "                c=colors[class_value], label=labels[class_value], alpha=0.4)\n",
        "\n",
        "plt.xlabel('PC1')\n",
        "plt.ylabel('PC2')\n",
        "plt.title('PCA con clases')\n",
        "plt.legend()\n",
        "plt.grid(True)\n",
        "plt.show()"
      ]
    },
    {
      "cell_type": "code",
      "execution_count": 22,
      "metadata": {
        "colab": {
          "base_uri": "https://localhost:8080/",
          "height": 429
        },
        "id": "MfnvVBT3Ju0M",
        "outputId": "d08cb218-721d-469a-af2c-d2b288b7e166"
      },
      "outputs": [
        {
          "data": {
            "image/png": "[encoded data removed]",
            "text/plain": [
              "<Figure size 640x480 with 1 Axes>"
            ]
          },
          "metadata": {},
          "output_type": "display_data"
        }
      ],
      "source": [
        "# Plot 3D\n",
        "fig = plt.figure()\n",
        "ax = fig.add_subplot(111, projection='3d')\n",
        "\n",
        "colors = ['tab:red', 'tab:blue']\n",
        "labels = ['Back', 'Face']\n",
        "\n",
        "for class_value in [0, 1]:\n",
        "    ax.scatter(\n",
        "        X_train_pca[y_train == class_value, 0],\n",
        "        X_train_pca[y_train == class_value, 1],\n",
        "        X_train_pca[y_train == class_value, 2],\n",
        "        c=colors[class_value],\n",
        "        label=labels[class_value],\n",
        "        alpha=0.7\n",
        "    )\n",
        "\n",
        "ax.view_init(elev=15, azim=30)\n",
        "\n",
        "ax.set_xlabel('PC1')\n",
        "ax.set_ylabel('PC2')\n",
        "ax.set_zlabel('PC3')\n",
        "ax.set_title('PCA - Primeras 3 componentes')\n",
        "ax.legend()\n",
        "plt.show()"
      ]
    },
    {
      "cell_type": "markdown",
      "metadata": {
        "id": "tLabqplB-uR8"
      },
      "source": [
        "# Clasificador"
      ]
    },
    {
      "cell_type": "code",
      "execution_count": 23,
      "metadata": {
        "id": "KKoEH6Uxlhqo"
      },
      "outputs": [],
      "source": [
        "model = GaussianNB()"
      ]
    },
    {
      "cell_type": "code",
      "execution_count": 24,
      "metadata": {
        "colab": {
          "base_uri": "https://localhost:8080/",
          "height": 80
        },
        "id": "Z1ZsKEPelqIO",
        "outputId": "097f4664-a2ff-466d-df00-a4751e0e1f4b"
      },
      "outputs": [
        {
          "data": {
            "text/html": [
              "<style>#sk-container-id-1 {color: black;background-color: white;}#sk-container-id-1 pre{padding: 0;}#sk-container-id-1 div.sk-toggleable {background-color: white;}#sk-container-id-1 label.sk-toggleable__label {cursor: pointer;display: block;width: 100%;margin-bottom: 0;padding: 0.3em;box-sizing: border-box;text-align: center;}#sk-container-id-1 label.sk-toggleable__label-arrow:before {content: \"▸\";float: left;margin-right: 0.25em;color: #696969;}#sk-container-id-1 label.sk-toggleable__label-arrow:hover:before {color: black;}#sk-container-id-1 div.sk-estimator:hover label.sk-toggleable__label-arrow:before {color: black;}#sk-container-id-1 div.sk-toggleable__content {max-height: 0;max-width: 0;overflow: hidden;text-align: left;background-color: #f0f8ff;}#sk-container-id-1 div.sk-toggleable__content pre {margin: 0.2em;color: black;border-radius: 0.25em;background-color: #f0f8ff;}#sk-container-id-1 input.sk-toggleable__control:checked~div.sk-toggleable__content {max-height: 200px;max-width: 100%;overflow: auto;}#sk-container-id-1 input.sk-toggleable__control:checked~label.sk-toggleable__label-arrow:before {content: \"▾\";}#sk-container-id-1 div.sk-estimator input.sk-toggleable__control:checked~label.sk-toggleable__label {background-color: #d4ebff;}#sk-container-id-1 div.sk-label input.sk-toggleable__control:checked~label.sk-toggleable__label {background-color: #d4ebff;}#sk-container-id-1 input.sk-hidden--visually {border: 0;clip: rect(1px 1px 1px 1px);clip: rect(1px, 1px, 1px, 1px);height: 1px;margin: -1px;overflow: hidden;padding: 0;position: absolute;width: 1px;}#sk-container-id-1 div.sk-estimator {font-family: monospace;background-color: #f0f8ff;border: 1px dotted black;border-radius: 0.25em;box-sizing: border-box;margin-bottom: 0.5em;}#sk-container-id-1 div.sk-estimator:hover {background-color: #d4ebff;}#sk-container-id-1 div.sk-parallel-item::after {content: \"\";width: 100%;border-bottom: 1px solid gray;flex-grow: 1;}#sk-container-id-1 div.sk-label:hover label.sk-toggleable__label {background-color: #d4ebff;}#sk-container-id-1 div.sk-serial::before {content: \"\";position: absolute;border-left: 1px solid gray;box-sizing: border-box;top: 0;bottom: 0;left: 50%;z-index: 0;}#sk-container-id-1 div.sk-serial {display: flex;flex-direction: column;align-items: center;background-color: white;padding-right: 0.2em;padding-left: 0.2em;position: relative;}#sk-container-id-1 div.sk-item {position: relative;z-index: 1;}#sk-container-id-1 div.sk-parallel {display: flex;align-items: stretch;justify-content: center;background-color: white;position: relative;}#sk-container-id-1 div.sk-item::before, #sk-container-id-1 div.sk-parallel-item::before {content: \"\";position: absolute;border-left: 1px solid gray;box-sizing: border-box;top: 0;bottom: 0;left: 50%;z-index: -1;}#sk-container-id-1 div.sk-parallel-item {display: flex;flex-direction: column;z-index: 1;position: relative;background-color: white;}#sk-container-id-1 div.sk-parallel-item:first-child::after {align-self: flex-end;width: 50%;}#sk-container-id-1 div.sk-parallel-item:last-child::after {align-self: flex-start;width: 50%;}#sk-container-id-1 div.sk-parallel-item:only-child::after {width: 0;}#sk-container-id-1 div.sk-dashed-wrapped {border: 1px dashed gray;margin: 0 0.4em 0.5em 0.4em;box-sizing: border-box;padding-bottom: 0.4em;background-color: white;}#sk-container-id-1 div.sk-label label {font-family: monospace;font-weight: bold;display: inline-block;line-height: 1.2em;}#sk-container-id-1 div.sk-label-container {text-align: center;}#sk-container-id-1 div.sk-container {/* jupyter's `normalize.less` sets `[hidden] { display: none; }` but bootstrap.min.css set `[hidden] { display: none !important; }` so we also need the `!important` here to be able to override the default hidden behavior on the sphinx rendered scikit-learn.org. See: https://github.com/scikit-learn/scikit-learn/issues/21755 */display: inline-block !important;position: relative;}#sk-container-id-1 div.sk-text-repr-fallback {display: none;}</style><div id=\"sk-container-id-1\" class=\"sk-top-container\"><div class=\"sk-text-repr-fallback\"><pre>GaussianNB()</pre><b>In a Jupyter environment, please rerun this cell to show the HTML representation or trust the notebook. <br />On GitHub, the HTML representation is unable to render, please try loading this page with nbviewer.org.</b></div><div class=\"sk-container\" hidden><div class=\"sk-item\"><div class=\"sk-estimator sk-toggleable\"><input class=\"sk-toggleable__control sk-hidden--visually\" id=\"sk-estimator-id-1\" type=\"checkbox\" checked><label for=\"sk-estimator-id-1\" class=\"sk-toggleable__label sk-toggleable__label-arrow\">GaussianNB</label><div class=\"sk-toggleable__content\"><pre>GaussianNB()</pre></div></div></div></div></div>"
            ],
            "text/plain": [
              "GaussianNB()"
            ]
          },
          "execution_count": 24,
          "metadata": {},
          "output_type": "execute_result"
        }
      ],
      "source": [
        "model.fit(X_train_pca, y_train)"
      ]
    },
    {
      "cell_type": "code",
      "execution_count": 25,
      "metadata": {
        "id": "sVf1oIj3ls4U"
      },
      "outputs": [],
      "source": [
        "y_train_pred = model.predict(X_train_pca)"
      ]
    },
    {
      "cell_type": "code",
      "execution_count": 26,
      "metadata": {
        "colab": {
          "base_uri": "https://localhost:8080/"
        },
        "id": "9J0L2dTplxQ2",
        "outputId": "d3266d48-7528-456e-dbed-13c90f9ed1ad"
      },
      "outputs": [
        {
          "name": "stdout",
          "output_type": "stream",
          "text": [
            "              precision    recall  f1-score   support\n",
            "\n",
            "         0.0       0.94      0.92      0.93     10273\n",
            "         1.0       0.92      0.94      0.93     10233\n",
            "\n",
            "    accuracy                           0.93     20506\n",
            "   macro avg       0.93      0.93      0.93     20506\n",
            "weighted avg       0.93      0.93      0.93     20506\n",
            "\n"
          ]
        }
      ],
      "source": [
        "print(classification_report(y_train, y_train_pred))"
      ]
    },
    {
      "cell_type": "code",
      "execution_count": 27,
      "metadata": {
        "id": "r0plVDRQ-XX9"
      },
      "outputs": [],
      "source": [
        "X_val_std = scaler.transform(X_val)\n",
        "X_val_pca = pca.transform(X_val_std)"
      ]
    },
    {
      "cell_type": "code",
      "execution_count": 28,
      "metadata": {
        "id": "pk_NMVG4-UtK"
      },
      "outputs": [],
      "source": [
        "y_val_pred = model.predict(X_val_pca)"
      ]
    },
    {
      "cell_type": "code",
      "execution_count": 29,
      "metadata": {
        "colab": {
          "base_uri": "https://localhost:8080/"
        },
        "id": "9MZemB19-UtM",
        "outputId": "779e3d73-ebf0-4c10-a75a-bd38f1eca212"
      },
      "outputs": [
        {
          "name": "stdout",
          "output_type": "stream",
          "text": [
            "              precision    recall  f1-score   support\n",
            "\n",
            "         0.0       0.94      0.93      0.94      2527\n",
            "         1.0       0.93      0.94      0.94      2600\n",
            "\n",
            "    accuracy                           0.94      5127\n",
            "   macro avg       0.94      0.94      0.94      5127\n",
            "weighted avg       0.94      0.94      0.94      5127\n",
            "\n"
          ]
        }
      ],
      "source": [
        "print(classification_report(y_val, y_val_pred))"
      ]
    },
    {
      "cell_type": "code",
      "execution_count": 30,
      "metadata": {
        "colab": {
          "base_uri": "https://localhost:8080/"
        },
        "id": "JWxLrsdytywE",
        "outputId": "f665d9c9-59f1-48a9-dcfd-dd06f00616c5"
      },
      "outputs": [
        {
          "data": {
            "text/plain": [
              "['modelo_entrenado.joblib']"
            ]
          },
          "execution_count": 30,
          "metadata": {},
          "output_type": "execute_result"
        }
      ],
      "source": [
        "# Guardar el modelo\n",
        "joblib.dump(model, 'modelo_entrenado.joblib')"
      ]
    },
    {
      "cell_type": "markdown",
      "metadata": {},
      "source": [
        "# Encontrar los mejores hiperparámetros"
      ]
    },
    {
      "cell_type": "code",
      "execution_count": 31,
      "metadata": {},
      "outputs": [],
      "source": [
        "# pip install optuna"
      ]
    },
    {
      "cell_type": "code",
      "execution_count": 38,
      "metadata": {
        "id": "nh_qv7TsuES3"
      },
      "outputs": [],
      "source": [
        "import optuna\n",
        "from sklearn.model_selection import cross_val_score\n",
        "from sklearn.metrics import f1_score"
      ]
    },
    {
      "cell_type": "code",
      "execution_count": 39,
      "metadata": {},
      "outputs": [],
      "source": [
        "# Define the objective function for Optuna optimization (GaussianNB only)\n",
        "def objective(trial):\n",
        "    # Suggest hyperparameters only for GaussianNB\n",
        "    var_smoothing = trial.suggest_float('var_smoothing', 1e-12, 1e-6, log=True)\n",
        "    \n",
        "    # Use the existing PCA transformation (with original parameters: 500 components, whiten=True)\n",
        "    # We'll use the already fitted PCA from your original model\n",
        "    \n",
        "    # Create and train GaussianNB with suggested parameters\n",
        "    model_trial = GaussianNB(var_smoothing=var_smoothing)\n",
        "    \n",
        "    # Use cross-validation to evaluate the model\n",
        "    # We use the existing X_train_pca (from your original PCA with 500 components)\n",
        "    cv_scores = cross_val_score(model_trial, X_train_pca, y_train, \n",
        "                               cv=5, scoring='f1', n_jobs=-1)\n",
        "    \n",
        "    # Return the mean cross-validation score\n",
        "    return cv_scores.mean()"
      ]
    },
    {
      "cell_type": "code",
      "execution_count": 40,
      "metadata": {},
      "outputs": [
        {
          "name": "stderr",
          "output_type": "stream",
          "text": [
            "[I 2025-06-21 11:25:38,709] A new study created in memory with name: no-name-0056fe6f-0e3d-42ae-b1d3-4022dcdbb781\n"
          ]
        },
        {
          "name": "stdout",
          "output_type": "stream",
          "text": [
            "Starting hyperparameter optimization with Optuna...\n"
          ]
        },
        {
          "name": "stderr",
          "output_type": "stream",
          "text": [
            "[I 2025-06-21 11:25:43,507] Trial 0 finished with value: 0.9312772612273594 and parameters: {'var_smoothing': 2.6770326355876675e-10}. Best is trial 0 with value: 0.9312772612273594.\n",
            "[I 2025-06-21 11:25:44,470] Trial 1 finished with value: 0.9312772612273594 and parameters: {'var_smoothing': 2.867992972804256e-07}. Best is trial 0 with value: 0.9312772612273594.\n",
            "[I 2025-06-21 11:25:45,315] Trial 2 finished with value: 0.9312772612273594 and parameters: {'var_smoothing': 1.1732975126589644e-11}. Best is trial 0 with value: 0.9312772612273594.\n",
            "[I 2025-06-21 11:25:45,757] Trial 3 finished with value: 0.9312772612273594 and parameters: {'var_smoothing': 9.287588192385024e-10}. Best is trial 0 with value: 0.9312772612273594.\n",
            "[I 2025-06-21 11:25:46,318] Trial 4 finished with value: 0.9312772612273594 and parameters: {'var_smoothing': 8.609651178193416e-10}. Best is trial 0 with value: 0.9312772612273594.\n",
            "[I 2025-06-21 11:25:46,960] Trial 5 finished with value: 0.9312772612273594 and parameters: {'var_smoothing': 1.8954284544793244e-12}. Best is trial 0 with value: 0.9312772612273594.\n",
            "[I 2025-06-21 11:25:47,457] Trial 6 finished with value: 0.9312772612273594 and parameters: {'var_smoothing': 8.116814651175852e-10}. Best is trial 0 with value: 0.9312772612273594.\n",
            "[I 2025-06-21 11:25:47,976] Trial 7 finished with value: 0.9312772612273594 and parameters: {'var_smoothing': 7.0439219861574e-12}. Best is trial 0 with value: 0.9312772612273594.\n",
            "[I 2025-06-21 11:25:48,552] Trial 8 finished with value: 0.9312772612273594 and parameters: {'var_smoothing': 3.8564646600817846e-10}. Best is trial 0 with value: 0.9312772612273594.\n",
            "[I 2025-06-21 11:25:49,009] Trial 9 finished with value: 0.9312772612273594 and parameters: {'var_smoothing': 5.308780791238716e-09}. Best is trial 0 with value: 0.9312772612273594.\n",
            "[I 2025-06-21 11:25:49,492] Trial 10 finished with value: 0.9312772612273594 and parameters: {'var_smoothing': 5.5969980219777784e-08}. Best is trial 0 with value: 0.9312772612273594.\n",
            "[I 2025-06-21 11:25:49,829] Trial 11 finished with value: 0.9312772612273594 and parameters: {'var_smoothing': 5.577118797453126e-07}. Best is trial 0 with value: 0.9312772612273594.\n",
            "[I 2025-06-21 11:25:50,232] Trial 12 finished with value: 0.9312772612273594 and parameters: {'var_smoothing': 7.527122683253323e-11}. Best is trial 0 with value: 0.9312772612273594.\n",
            "[I 2025-06-21 11:25:50,561] Trial 13 finished with value: 0.9312772612273594 and parameters: {'var_smoothing': 1.872557319018097e-08}. Best is trial 0 with value: 0.9312772612273594.\n",
            "[I 2025-06-21 11:25:51,144] Trial 14 finished with value: 0.9312772612273594 and parameters: {'var_smoothing': 9.069949551231288e-07}. Best is trial 0 with value: 0.9312772612273594.\n",
            "[I 2025-06-21 11:25:51,445] Trial 15 finished with value: 0.9312772612273594 and parameters: {'var_smoothing': 6.750036696790595e-11}. Best is trial 0 with value: 0.9312772612273594.\n",
            "[I 2025-06-21 11:25:51,736] Trial 16 finished with value: 0.9312772612273594 and parameters: {'var_smoothing': 6.435720642639216e-08}. Best is trial 0 with value: 0.9312772612273594.\n",
            "[I 2025-06-21 11:25:51,996] Trial 17 finished with value: 0.9312772612273594 and parameters: {'var_smoothing': 5.857047905945807e-09}. Best is trial 0 with value: 0.9312772612273594.\n",
            "[I 2025-06-21 11:25:52,355] Trial 18 finished with value: 0.9312772612273594 and parameters: {'var_smoothing': 1.4612358888158455e-10}. Best is trial 0 with value: 0.9312772612273594.\n",
            "[I 2025-06-21 11:25:52,653] Trial 19 finished with value: 0.9312772612273594 and parameters: {'var_smoothing': 1.728078365262094e-07}. Best is trial 0 with value: 0.9312772612273594.\n",
            "[I 2025-06-21 11:25:53,119] Trial 20 finished with value: 0.9312772612273594 and parameters: {'var_smoothing': 4.455964742580548e-09}. Best is trial 0 with value: 0.9312772612273594.\n",
            "[I 2025-06-21 11:25:53,499] Trial 21 finished with value: 0.9312772612273594 and parameters: {'var_smoothing': 1.9091371766272553e-11}. Best is trial 0 with value: 0.9312772612273594.\n",
            "[I 2025-06-21 11:25:53,946] Trial 22 finished with value: 0.9312772612273594 and parameters: {'var_smoothing': 1.5915130649148263e-11}. Best is trial 0 with value: 0.9312772612273594.\n",
            "[I 2025-06-21 11:25:54,387] Trial 23 finished with value: 0.9312772612273594 and parameters: {'var_smoothing': 1.9988752771990586e-12}. Best is trial 0 with value: 0.9312772612273594.\n",
            "[I 2025-06-21 11:25:54,665] Trial 24 finished with value: 0.9312772612273594 and parameters: {'var_smoothing': 7.99395829078712e-12}. Best is trial 0 with value: 0.9312772612273594.\n",
            "[I 2025-06-21 11:25:55,056] Trial 25 finished with value: 0.9312772612273594 and parameters: {'var_smoothing': 2.0740607817296327e-10}. Best is trial 0 with value: 0.9312772612273594.\n",
            "[I 2025-06-21 11:25:55,451] Trial 26 finished with value: 0.9312772612273594 and parameters: {'var_smoothing': 3.820236554238175e-11}. Best is trial 0 with value: 0.9312772612273594.\n",
            "[I 2025-06-21 11:25:55,759] Trial 27 finished with value: 0.9312772612273594 and parameters: {'var_smoothing': 1.2088892024258318e-12}. Best is trial 0 with value: 0.9312772612273594.\n",
            "[I 2025-06-21 11:25:56,053] Trial 28 finished with value: 0.9312772612273594 and parameters: {'var_smoothing': 2.0877006248546027e-09}. Best is trial 0 with value: 0.9312772612273594.\n",
            "[I 2025-06-21 11:25:56,560] Trial 29 finished with value: 0.9312772612273594 and parameters: {'var_smoothing': 2.0078393587881013e-08}. Best is trial 0 with value: 0.9312772612273594.\n",
            "[I 2025-06-21 11:25:56,984] Trial 30 finished with value: 0.9312772612273594 and parameters: {'var_smoothing': 5.9079165882192014e-12}. Best is trial 0 with value: 0.9312772612273594.\n",
            "[I 2025-06-21 11:25:57,457] Trial 31 finished with value: 0.9312772612273594 and parameters: {'var_smoothing': 8.71436869576778e-10}. Best is trial 0 with value: 0.9312772612273594.\n",
            "[I 2025-06-21 11:25:57,874] Trial 32 finished with value: 0.9312772612273594 and parameters: {'var_smoothing': 3.006626072489889e-10}. Best is trial 0 with value: 0.9312772612273594.\n",
            "[I 2025-06-21 11:25:58,257] Trial 33 finished with value: 0.9312772612273594 and parameters: {'var_smoothing': 1.7559996059187964e-09}. Best is trial 0 with value: 0.9312772612273594.\n",
            "[I 2025-06-21 11:25:58,632] Trial 34 finished with value: 0.9312772612273594 and parameters: {'var_smoothing': 5.779439797387892e-10}. Best is trial 0 with value: 0.9312772612273594.\n",
            "[I 2025-06-21 11:25:59,020] Trial 35 finished with value: 0.9312772612273594 and parameters: {'var_smoothing': 1.768638778054803e-09}. Best is trial 0 with value: 0.9312772612273594.\n",
            "[I 2025-06-21 11:25:59,499] Trial 36 finished with value: 0.9312772612273594 and parameters: {'var_smoothing': 1.1924501292758577e-08}. Best is trial 0 with value: 0.9312772612273594.\n",
            "[I 2025-06-21 11:25:59,975] Trial 37 finished with value: 0.9312772612273594 and parameters: {'var_smoothing': 3.686221675580178e-12}. Best is trial 0 with value: 0.9312772612273594.\n",
            "[I 2025-06-21 11:26:00,427] Trial 38 finished with value: 0.9312772612273594 and parameters: {'var_smoothing': 9.641887437733035e-11}. Best is trial 0 with value: 0.9312772612273594.\n",
            "[I 2025-06-21 11:26:00,755] Trial 39 finished with value: 0.9312772612273594 and parameters: {'var_smoothing': 2.853447796420316e-11}. Best is trial 0 with value: 0.9312772612273594.\n",
            "[I 2025-06-21 11:26:01,118] Trial 40 finished with value: 0.9312772612273594 and parameters: {'var_smoothing': 2.6617346492462807e-07}. Best is trial 0 with value: 0.9312772612273594.\n",
            "[I 2025-06-21 11:26:01,633] Trial 41 finished with value: 0.9312772612273594 and parameters: {'var_smoothing': 4.756625373210948e-10}. Best is trial 0 with value: 0.9312772612273594.\n",
            "[I 2025-06-21 11:26:02,075] Trial 42 finished with value: 0.9312772612273594 and parameters: {'var_smoothing': 3.296036008829158e-09}. Best is trial 0 with value: 0.9312772612273594.\n",
            "[I 2025-06-21 11:26:02,383] Trial 43 finished with value: 0.9312772612273594 and parameters: {'var_smoothing': 1.154781619377599e-09}. Best is trial 0 with value: 0.9312772612273594.\n",
            "[I 2025-06-21 11:26:02,693] Trial 44 finished with value: 0.9312772612273594 and parameters: {'var_smoothing': 2.6722487522232354e-10}. Best is trial 0 with value: 0.9312772612273594.\n",
            "[I 2025-06-21 11:26:03,089] Trial 45 finished with value: 0.9312772612273594 and parameters: {'var_smoothing': 7.400052452997127e-10}. Best is trial 0 with value: 0.9312772612273594.\n",
            "[I 2025-06-21 11:26:03,509] Trial 46 finished with value: 0.9312772612273594 and parameters: {'var_smoothing': 1.092927953565008e-08}. Best is trial 0 with value: 0.9312772612273594.\n",
            "[I 2025-06-21 11:26:03,855] Trial 47 finished with value: 0.9312772612273594 and parameters: {'var_smoothing': 1.9160460403033128e-10}. Best is trial 0 with value: 0.9312772612273594.\n",
            "[I 2025-06-21 11:26:04,271] Trial 48 finished with value: 0.9312772612273594 and parameters: {'var_smoothing': 1.1435222558010569e-10}. Best is trial 0 with value: 0.9312772612273594.\n",
            "[I 2025-06-21 11:26:04,764] Trial 49 finished with value: 0.9312772612273594 and parameters: {'var_smoothing': 4.04820273644661e-08}. Best is trial 0 with value: 0.9312772612273594.\n"
          ]
        },
        {
          "name": "stdout",
          "output_type": "stream",
          "text": [
            "Optimization completed!\n",
            "Best trial: 0\n",
            "Best F1-score: 0.9313\n",
            "Best parameters:\n",
            "  var_smoothing: 2.6770326355876675e-10\n"
          ]
        }
      ],
      "source": [
        "# Create a study object and optimize\n",
        "print(\"Starting hyperparameter optimization with Optuna...\")\n",
        "study = optuna.create_study(direction='maximize')  # We want to maximize F1-score\n",
        "study.optimize(objective, n_trials=50)  # You can increase n_trials for better results\n",
        "\n",
        "print(\"Optimization completed!\")\n",
        "print(f\"Best trial: {study.best_trial.number}\")\n",
        "print(f\"Best F1-score: {study.best_value:.4f}\")\n",
        "print(\"Best parameters:\")\n",
        "for key, value in study.best_params.items():\n",
        "    print(f\"  {key}: {value}\")\n"
      ]
    },
    {
      "cell_type": "code",
      "execution_count": 41,
      "metadata": {},
      "outputs": [
        {
          "name": "stdout",
          "output_type": "stream",
          "text": [
            "Optimized GaussianNB model trained successfully!\n",
            "Best var_smoothing parameter: 2.6770326355876675e-10\n"
          ]
        }
      ],
      "source": [
        "# Train the final model with the best parameters\n",
        "best_params = study.best_params\n",
        "\n",
        "# Use the existing PCA (no optimization needed for PCA)\n",
        "# We'll use the original pca object that was already fitted\n",
        "pca_optimized = pca  # Use the original PCA with 500 components and whiten=True\n",
        "X_train_pca_optimized = X_train_pca  # Use the existing transformation\n",
        "\n",
        "# Create and train GaussianNB with best parameters\n",
        "model_optimized = GaussianNB(var_smoothing=best_params['var_smoothing'])\n",
        "model_optimized.fit(X_train_pca_optimized, y_train)\n",
        "\n",
        "print(\"Optimized GaussianNB model trained successfully!\")\n",
        "print(f\"Best var_smoothing parameter: {best_params['var_smoothing']}\")\n"
      ]
    },
    {
      "cell_type": "code",
      "execution_count": 44,
      "metadata": {},
      "outputs": [
        {
          "name": "stdout",
          "output_type": "stream",
          "text": [
            "========== OPTIMIZED MODEL - TRAINING RESULTS ==========\n",
            "              precision    recall  f1-score   support\n",
            "\n",
            "         0.0       0.94      0.92      0.93     10273\n",
            "         1.0       0.92      0.94      0.93     10233\n",
            "\n",
            "    accuracy                           0.93     20506\n",
            "   macro avg       0.93      0.93      0.93     20506\n",
            "weighted avg       0.93      0.93      0.93     20506\n",
            "\n"
          ]
        }
      ],
      "source": [
        "# Evaluate the optimized model on training data\n",
        "y_train_pred_optimized = model_optimized.predict(X_train_pca_optimized)\n",
        "print(\"========== OPTIMIZED MODEL - TRAINING RESULTS ==========\")\n",
        "print(classification_report(y_train, y_train_pred_optimized))\n"
      ]
    },
    {
      "cell_type": "code",
      "execution_count": 37,
      "metadata": {},
      "outputs": [
        {
          "name": "stdout",
          "output_type": "stream",
          "text": [
            "=== PERFORMANCE COMPARISON ===\n",
            "\n",
            "Original Model (Validation):\n",
            "F1-score: 0.9388\n",
            "\n",
            "Optimized Model (Validation):\n"
          ]
        },
        {
          "ename": "NameError",
          "evalue": "name 'y_val_pred_optimized' is not defined",
          "output_type": "error",
          "traceback": [
            "\u001b[0;31m---------------------------------------------------------------------------\u001b[0m",
            "\u001b[0;31mNameError\u001b[0m                                 Traceback (most recent call last)",
            "Cell \u001b[0;32mIn[37], line 7\u001b[0m\n\u001b[1;32m      4\u001b[0m \u001b[38;5;28mprint\u001b[39m(\u001b[38;5;124mf\u001b[39m\u001b[38;5;124m\"\u001b[39m\u001b[38;5;124mF1-score: \u001b[39m\u001b[38;5;132;01m{\u001b[39;00mf1_score(y_val,\u001b[38;5;250m \u001b[39my_val_pred)\u001b[38;5;132;01m:\u001b[39;00m\u001b[38;5;124m.4f\u001b[39m\u001b[38;5;132;01m}\u001b[39;00m\u001b[38;5;124m\"\u001b[39m)\n\u001b[1;32m      6\u001b[0m \u001b[38;5;28mprint\u001b[39m(\u001b[38;5;124m\"\u001b[39m\u001b[38;5;130;01m\\n\u001b[39;00m\u001b[38;5;124mOptimized Model (Validation):\u001b[39m\u001b[38;5;124m\"\u001b[39m)\n\u001b[0;32m----> 7\u001b[0m \u001b[38;5;28mprint\u001b[39m(\u001b[38;5;124mf\u001b[39m\u001b[38;5;124m\"\u001b[39m\u001b[38;5;124mF1-score: \u001b[39m\u001b[38;5;132;01m{\u001b[39;00mf1_score(y_val,\u001b[38;5;250m \u001b[39my_val_pred_optimized)\u001b[38;5;132;01m:\u001b[39;00m\u001b[38;5;124m.4f\u001b[39m\u001b[38;5;132;01m}\u001b[39;00m\u001b[38;5;124m\"\u001b[39m)\n\u001b[1;32m      9\u001b[0m improvement \u001b[38;5;241m=\u001b[39m f1_score(y_val, y_val_pred_optimized) \u001b[38;5;241m-\u001b[39m f1_score(y_val, y_val_pred)\n\u001b[1;32m     10\u001b[0m \u001b[38;5;28mprint\u001b[39m(\u001b[38;5;124mf\u001b[39m\u001b[38;5;124m\"\u001b[39m\u001b[38;5;130;01m\\n\u001b[39;00m\u001b[38;5;124mImprovement: \u001b[39m\u001b[38;5;132;01m{\u001b[39;00mimprovement\u001b[38;5;132;01m:\u001b[39;00m\u001b[38;5;124m.4f\u001b[39m\u001b[38;5;132;01m}\u001b[39;00m\u001b[38;5;124m (\u001b[39m\u001b[38;5;132;01m{\u001b[39;00mimprovement\u001b[38;5;241m*\u001b[39m\u001b[38;5;241m100\u001b[39m\u001b[38;5;132;01m:\u001b[39;00m\u001b[38;5;124m.2f\u001b[39m\u001b[38;5;132;01m}\u001b[39;00m\u001b[38;5;124m%)\u001b[39m\u001b[38;5;124m\"\u001b[39m)\n",
            "\u001b[0;31mNameError\u001b[0m: name 'y_val_pred_optimized' is not defined"
          ]
        }
      ],
      "source": [
        "# # Compare original vs optimized model performance\n",
        "# print(\"=== PERFORMANCE COMPARISON ===\")\n",
        "# print(\"\\nOriginal Model (Validation):\")\n",
        "# print(f\"F1-score: {f1_score(y_val, y_val_pred):.4f}\")\n",
        "\n",
        "# print(\"\\nOptimized Model (Validation):\")\n",
        "# print(f\"F1-score: {f1_score(y_val, y_val_pred_optimized):.4f}\")\n",
        "\n",
        "# improvement = f1_score(y_val, y_val_pred_optimized) - f1_score(y_val, y_val_pred)\n",
        "# print(f\"\\nImprovement: {improvement:.4f} ({improvement*100:.2f}%)\")\n"
      ]
    },
    {
      "cell_type": "code",
      "execution_count": null,
      "metadata": {},
      "outputs": [],
      "source": [
        "# Visualize optimization history\n",
        "import matplotlib.pyplot as plt\n",
        "\n",
        "# Plot optimization history\n",
        "fig, (ax1, ax2) = plt.subplots(1, 2, figsize=(15, 5))\n",
        "\n",
        "# Plot objective values over trials\n",
        "trials_df = study.trials_dataframe()\n",
        "ax1.plot(trials_df['number'], trials_df['value'])\n",
        "ax1.set_xlabel('Trial Number')\n",
        "ax1.set_ylabel('F1-Score')\n",
        "ax1.set_title('Optimization Progress')\n",
        "ax1.grid(True)\n",
        "\n",
        "# Plot parameter importance (if available)\n",
        "try:\n",
        "    importance = optuna.importance.get_param_importances(study)\n",
        "    params = list(importance.keys())\n",
        "    values = list(importance.values())\n",
        "    \n",
        "    ax2.barh(params, values)\n",
        "    ax2.set_xlabel('Importance')\n",
        "    ax2.set_title('Parameter Importance')\n",
        "    ax2.grid(True)\n",
        "except:\n",
        "    ax2.text(0.5, 0.5, 'Parameter importance\\nnot available', \n",
        "             ha='center', va='center', transform=ax2.transAxes)\n",
        "    ax2.set_title('Parameter Importance')\n",
        "\n",
        "plt.tight_layout()\n",
        "plt.show()\n"
      ]
    },
    {
      "cell_type": "code",
      "execution_count": null,
      "metadata": {},
      "outputs": [],
      "source": [
        "# Save the optimized GaussianNB model\n",
        "# Note: PCA remains the same as original (500 components, whiten=True)\n",
        "joblib.dump(model_optimized, 'modelo_gaussianNB_optimizado.joblib')\n",
        "\n",
        "print(\"Optimized GaussianNB model saved successfully!\")\n",
        "print(f\"- GaussianNB optimized: modelo_gaussianNB_optimizado.joblib\")\n",
        "print(f\"- PCA (unchanged): pca.joblib\")\n",
        "print(f\"- Scaler (unchanged): scaler.joblib\")\n"
      ]
    },
    {
      "cell_type": "code",
      "execution_count": null,
      "metadata": {},
      "outputs": [],
      "source": [
        "# Evaluate the optimized model on validation data\n",
        "X_val_pca_optimized = X_val_pca  # Use the existing validation PCA transformation\n",
        "y_val_pred_optimized = model_optimized.predict(X_val_pca_optimized)\n",
        "\n",
        "print(\"=== OPTIMIZED MODEL - VALIDATION RESULTS ===\")\n",
        "print(classification_report(y_val, y_val_pred_optimized))\n",
        "y_val_pred_optimized = model_optimized.predict(X_val_pca_optimized)\n",
        "\n",
        "print(\"=== OPTIMIZED MODEL - VALIDATION RESULTS ===\")\n",
        "print(classification_report(y_val, y_val_pred_optimized))\n"
      ]
    },
    {
      "cell_type": "code",
      "execution_count": null,
      "metadata": {},
      "outputs": [],
      "source": [
        "# Define the objective function for Optuna optimization\n",
        "def objective(trial):\n",
        "    # Suggest hyperparameters\n",
        "    n_components = trial.suggest_int('n_components', 50, 1000, step=50)\n",
        "    whiten = trial.suggest_categorical('whiten', [True, False])\n",
        "    var_smoothing = trial.suggest_float('var_smoothing', 1e-12, 1e-6, log=True)\n",
        "    \n",
        "    # Apply PCA with suggested parameters\n",
        "    pca_trial = PCA(n_components=n_components, whiten=whiten)\n",
        "    X_train_pca_trial = pca_trial.fit_transform(X_train_std)\n",
        "    \n",
        "    # Create and train GaussianNB with suggested parameters\n",
        "    model_trial = GaussianNB(var_smoothing=var_smoothing)\n",
        "    \n",
        "    # Use cross-validation to evaluate the model\n",
        "    # We use f1_score as the metric since it's good for binary classification\n",
        "    cv_scores = cross_val_score(model_trial, X_train_pca_trial, y_train, \n",
        "                               cv=5, scoring='f1', n_jobs=-1)\n",
        "    \n",
        "    # Return the mean cross-validation score\n",
        "    return cv_scores.mean()\n"
      ]
    },
    {
      "cell_type": "markdown",
      "metadata": {},
      "source": [
        "#######"
      ]
    },
    {
      "cell_type": "code",
      "execution_count": 55,
      "metadata": {},
      "outputs": [],
      "source": [
        "# Define the objective function for Optuna optimization\n",
        "def objective(trial):\n",
        "    # Hyperparameters to optimize\n",
        "    n_positive_samples = trial.suggest_int('n_positive_samples', 2000, len(positive_patches), step=1000)\n",
        "    var_smoothing = trial.suggest_float('var_smoothing', 1e-12, 1e-6, log=True)\n",
        "\n",
        "    # --- Data Preparation inside the objective ---\n",
        "    # Select a subset of positive patches\n",
        "    current_positive_patches = positive_patches[:n_positive_samples]\n",
        "\n",
        "    # Combine positive and negative patches to form the full dataset\n",
        "    X_full = np.array([feature.hog(im) for im in chain(current_positive_patches, negative_patches)])\n",
        "    y_full = np.zeros(len(X_full))\n",
        "    y_full[:len(current_positive_patches)] = 1\n",
        "\n",
        "    # Split data into training and validation sets\n",
        "    X_train_trial, X_val_trial, y_train_trial, y_val_trial = train_test_split(X_full, y_full, test_size=0.2, random_state=42)\n",
        "\n",
        "    # Scale the features\n",
        "    scaler_trial = StandardScaler()\n",
        "    X_train_std_trial = scaler_trial.fit_transform(X_train_trial)\n",
        "\n",
        "    # Apply PCA (fixed parameters as per previous discussion, n_components=500, whiten=True)\n",
        "    pca_trial = PCA(n_components=500, whiten=True)\n",
        "    X_train_pca_trial = pca_trial.fit_transform(X_train_std_trial)\n",
        "    # --- End Data Preparation ---\n",
        "\n",
        "    # Create and train GaussianNB with suggested parameters\n",
        "    model_trial = GaussianNB(var_smoothing=var_smoothing)\n",
        "\n",
        "    # Use cross-validation to evaluate the model\n",
        "    cv_scores = cross_val_score(model_trial, X_train_pca_trial, y_train_trial,\n",
        "                                cv=5, scoring='f1', n_jobs=-1)\n",
        "\n",
        "    # Return the mean cross-validation score\n",
        "    return cv_scores.mean()"
      ]
    },
    {
      "cell_type": "code",
      "execution_count": 57,
      "metadata": {},
      "outputs": [
        {
          "name": "stderr",
          "output_type": "stream",
          "text": [
            "[I 2025-06-21 12:10:51,181] A new study created in memory with name: no-name-18c6fb2b-4592-4891-adb2-e837b492cd2e\n"
          ]
        },
        {
          "name": "stdout",
          "output_type": "stream",
          "text": [
            "Starting hyperparameter optimization with Optuna...\n"
          ]
        },
        {
          "data": {
            "application/vnd.jupyter.widget-view+json": {
              "model_id": "d3c4eeaec47e4852bff3575b61817ee2",
              "version_major": 2,
              "version_minor": 0
            },
            "text/plain": [
              "  0%|          | 0/50 [00:00<?, ?it/s]"
            ]
          },
          "metadata": {},
          "output_type": "display_data"
        },
        {
          "name": "stderr",
          "output_type": "stream",
          "text": [
            "/Users/josefina.lin/anaconda3/lib/python3.11/site-packages/optuna/distributions.py:702: UserWarning: The distribution is specified by [2000, 12833] and step=1000, but the range is not divisible by `step`. It will be replaced by [2000, 12000].\n",
            "  warnings.warn(\n"
          ]
        },
        {
          "name": "stdout",
          "output_type": "stream",
          "text": [
            "[I 2025-06-21 12:11:25,979] Trial 0 finished with value: 0.9014714977667071 and parameters: {'n_positive_samples': 6000, 'var_smoothing': 3.398268811474363e-11}. Best is trial 0 with value: 0.9014714977667071.\n"
          ]
        },
        {
          "name": "stderr",
          "output_type": "stream",
          "text": [
            "/Users/josefina.lin/anaconda3/lib/python3.11/site-packages/optuna/distributions.py:702: UserWarning: The distribution is specified by [2000, 12833] and step=1000, but the range is not divisible by `step`. It will be replaced by [2000, 12000].\n",
            "  warnings.warn(\n"
          ]
        },
        {
          "name": "stdout",
          "output_type": "stream",
          "text": [
            "[I 2025-06-21 12:11:57,521] Trial 1 finished with value: 0.9366797790389529 and parameters: {'n_positive_samples': 10000, 'var_smoothing': 2.4267773915840316e-07}. Best is trial 1 with value: 0.9366797790389529.\n"
          ]
        },
        {
          "name": "stderr",
          "output_type": "stream",
          "text": [
            "/Users/josefina.lin/anaconda3/lib/python3.11/site-packages/optuna/distributions.py:702: UserWarning: The distribution is specified by [2000, 12833] and step=1000, but the range is not divisible by `step`. It will be replaced by [2000, 12000].\n",
            "  warnings.warn(\n"
          ]
        },
        {
          "name": "stdout",
          "output_type": "stream",
          "text": [
            "[I 2025-06-21 12:12:24,845] Trial 2 finished with value: 0.9295364272939863 and parameters: {'n_positive_samples': 8000, 'var_smoothing': 4.564879765921618e-11}. Best is trial 1 with value: 0.9366797790389529.\n"
          ]
        },
        {
          "name": "stderr",
          "output_type": "stream",
          "text": [
            "/Users/josefina.lin/anaconda3/lib/python3.11/site-packages/optuna/distributions.py:702: UserWarning: The distribution is specified by [2000, 12833] and step=1000, but the range is not divisible by `step`. It will be replaced by [2000, 12000].\n",
            "  warnings.warn(\n"
          ]
        },
        {
          "name": "stdout",
          "output_type": "stream",
          "text": [
            "[I 2025-06-21 12:12:56,907] Trial 3 finished with value: 0.938129010359208 and parameters: {'n_positive_samples': 12000, 'var_smoothing': 8.053695558266663e-12}. Best is trial 3 with value: 0.938129010359208.\n"
          ]
        },
        {
          "name": "stderr",
          "output_type": "stream",
          "text": [
            "/Users/josefina.lin/anaconda3/lib/python3.11/site-packages/optuna/distributions.py:702: UserWarning: The distribution is specified by [2000, 12833] and step=1000, but the range is not divisible by `step`. It will be replaced by [2000, 12000].\n",
            "  warnings.warn(\n"
          ]
        },
        {
          "name": "stdout",
          "output_type": "stream",
          "text": [
            "[I 2025-06-21 12:13:20,619] Trial 4 finished with value: 0.8954891786020156 and parameters: {'n_positive_samples': 4000, 'var_smoothing': 3.1213877598435867e-10}. Best is trial 3 with value: 0.938129010359208.\n"
          ]
        },
        {
          "name": "stderr",
          "output_type": "stream",
          "text": [
            "/Users/josefina.lin/anaconda3/lib/python3.11/site-packages/optuna/distributions.py:702: UserWarning: The distribution is specified by [2000, 12833] and step=1000, but the range is not divisible by `step`. It will be replaced by [2000, 12000].\n",
            "  warnings.warn(\n"
          ]
        },
        {
          "name": "stdout",
          "output_type": "stream",
          "text": [
            "[I 2025-06-21 12:13:41,340] Trial 5 finished with value: 0.8924729630117675 and parameters: {'n_positive_samples': 2000, 'var_smoothing': 8.450706097783061e-09}. Best is trial 3 with value: 0.938129010359208.\n"
          ]
        },
        {
          "name": "stderr",
          "output_type": "stream",
          "text": [
            "/Users/josefina.lin/anaconda3/lib/python3.11/site-packages/optuna/distributions.py:702: UserWarning: The distribution is specified by [2000, 12833] and step=1000, but the range is not divisible by `step`. It will be replaced by [2000, 12000].\n",
            "  warnings.warn(\n"
          ]
        },
        {
          "name": "stdout",
          "output_type": "stream",
          "text": [
            "[I 2025-06-21 12:14:03,640] Trial 6 finished with value: 0.896190970895178 and parameters: {'n_positive_samples': 4000, 'var_smoothing': 8.449664825703902e-08}. Best is trial 3 with value: 0.938129010359208.\n"
          ]
        },
        {
          "name": "stderr",
          "output_type": "stream",
          "text": [
            "/Users/josefina.lin/anaconda3/lib/python3.11/site-packages/optuna/distributions.py:702: UserWarning: The distribution is specified by [2000, 12833] and step=1000, but the range is not divisible by `step`. It will be replaced by [2000, 12000].\n",
            "  warnings.warn(\n"
          ]
        },
        {
          "name": "stdout",
          "output_type": "stream",
          "text": [
            "[I 2025-06-21 12:14:33,017] Trial 7 finished with value: 0.9186735685694838 and parameters: {'n_positive_samples': 9000, 'var_smoothing': 1.2016320658807777e-11}. Best is trial 3 with value: 0.938129010359208.\n"
          ]
        },
        {
          "name": "stderr",
          "output_type": "stream",
          "text": [
            "/Users/josefina.lin/anaconda3/lib/python3.11/site-packages/optuna/distributions.py:702: UserWarning: The distribution is specified by [2000, 12833] and step=1000, but the range is not divisible by `step`. It will be replaced by [2000, 12000].\n",
            "  warnings.warn(\n"
          ]
        },
        {
          "name": "stdout",
          "output_type": "stream",
          "text": [
            "[I 2025-06-21 12:14:54,474] Trial 8 finished with value: 0.8937593429574054 and parameters: {'n_positive_samples': 3000, 'var_smoothing': 1.2387041940180187e-11}. Best is trial 3 with value: 0.938129010359208.\n"
          ]
        },
        {
          "name": "stderr",
          "output_type": "stream",
          "text": [
            "/Users/josefina.lin/anaconda3/lib/python3.11/site-packages/optuna/distributions.py:702: UserWarning: The distribution is specified by [2000, 12833] and step=1000, but the range is not divisible by `step`. It will be replaced by [2000, 12000].\n",
            "  warnings.warn(\n"
          ]
        },
        {
          "name": "stdout",
          "output_type": "stream",
          "text": [
            "[I 2025-06-21 12:15:21,928] Trial 9 finished with value: 0.9181203931118651 and parameters: {'n_positive_samples': 9000, 'var_smoothing': 2.950281968854629e-09}. Best is trial 3 with value: 0.938129010359208.\n"
          ]
        },
        {
          "name": "stderr",
          "output_type": "stream",
          "text": [
            "/Users/josefina.lin/anaconda3/lib/python3.11/site-packages/optuna/distributions.py:702: UserWarning: The distribution is specified by [2000, 12833] and step=1000, but the range is not divisible by `step`. It will be replaced by [2000, 12000].\n",
            "  warnings.warn(\n"
          ]
        },
        {
          "name": "stdout",
          "output_type": "stream",
          "text": [
            "[I 2025-06-21 12:15:52,516] Trial 10 finished with value: 0.9380300305855428 and parameters: {'n_positive_samples': 12000, 'var_smoothing': 1.0000955904901297e-12}. Best is trial 3 with value: 0.938129010359208.\n"
          ]
        },
        {
          "name": "stderr",
          "output_type": "stream",
          "text": [
            "/Users/josefina.lin/anaconda3/lib/python3.11/site-packages/optuna/distributions.py:702: UserWarning: The distribution is specified by [2000, 12833] and step=1000, but the range is not divisible by `step`. It will be replaced by [2000, 12000].\n",
            "  warnings.warn(\n"
          ]
        },
        {
          "name": "stdout",
          "output_type": "stream",
          "text": [
            "[I 2025-06-21 12:16:22,177] Trial 11 finished with value: 0.93803523929011 and parameters: {'n_positive_samples': 12000, 'var_smoothing': 1.090965883836523e-12}. Best is trial 3 with value: 0.938129010359208.\n"
          ]
        },
        {
          "name": "stderr",
          "output_type": "stream",
          "text": [
            "/Users/josefina.lin/anaconda3/lib/python3.11/site-packages/optuna/distributions.py:702: UserWarning: The distribution is specified by [2000, 12833] and step=1000, but the range is not divisible by `step`. It will be replaced by [2000, 12000].\n",
            "  warnings.warn(\n"
          ]
        },
        {
          "name": "stdout",
          "output_type": "stream",
          "text": [
            "[I 2025-06-21 12:16:52,829] Trial 12 finished with value: 0.9378493796928383 and parameters: {'n_positive_samples': 12000, 'var_smoothing': 1.0261699734846599e-12}. Best is trial 3 with value: 0.938129010359208.\n"
          ]
        },
        {
          "name": "stderr",
          "output_type": "stream",
          "text": [
            "/Users/josefina.lin/anaconda3/lib/python3.11/site-packages/optuna/distributions.py:702: UserWarning: The distribution is specified by [2000, 12833] and step=1000, but the range is not divisible by `step`. It will be replaced by [2000, 12000].\n",
            "  warnings.warn(\n"
          ]
        },
        {
          "name": "stdout",
          "output_type": "stream",
          "text": [
            "[I 2025-06-21 12:17:22,114] Trial 13 finished with value: 0.9385676184706868 and parameters: {'n_positive_samples': 11000, 'var_smoothing': 2.2769935639848518e-10}. Best is trial 13 with value: 0.9385676184706868.\n"
          ]
        },
        {
          "name": "stderr",
          "output_type": "stream",
          "text": [
            "/Users/josefina.lin/anaconda3/lib/python3.11/site-packages/optuna/distributions.py:702: UserWarning: The distribution is specified by [2000, 12833] and step=1000, but the range is not divisible by `step`. It will be replaced by [2000, 12000].\n",
            "  warnings.warn(\n"
          ]
        },
        {
          "name": "stdout",
          "output_type": "stream",
          "text": [
            "[I 2025-06-21 12:17:50,376] Trial 14 finished with value: 0.9367488460429815 and parameters: {'n_positive_samples': 10000, 'var_smoothing': 1.9940488013722337e-10}. Best is trial 13 with value: 0.9385676184706868.\n"
          ]
        },
        {
          "name": "stderr",
          "output_type": "stream",
          "text": [
            "/Users/josefina.lin/anaconda3/lib/python3.11/site-packages/optuna/distributions.py:702: UserWarning: The distribution is specified by [2000, 12833] and step=1000, but the range is not divisible by `step`. It will be replaced by [2000, 12000].\n",
            "  warnings.warn(\n"
          ]
        },
        {
          "name": "stdout",
          "output_type": "stream",
          "text": [
            "[I 2025-06-21 12:18:14,333] Trial 15 finished with value: 0.9033185757167941 and parameters: {'n_positive_samples': 6000, 'var_smoothing': 4.827062357048607e-10}. Best is trial 13 with value: 0.9385676184706868.\n"
          ]
        },
        {
          "name": "stderr",
          "output_type": "stream",
          "text": [
            "/Users/josefina.lin/anaconda3/lib/python3.11/site-packages/optuna/distributions.py:702: UserWarning: The distribution is specified by [2000, 12833] and step=1000, but the range is not divisible by `step`. It will be replaced by [2000, 12000].\n",
            "  warnings.warn(\n"
          ]
        },
        {
          "name": "stdout",
          "output_type": "stream",
          "text": [
            "[I 2025-06-21 12:18:46,932] Trial 16 finished with value: 0.9380507130530443 and parameters: {'n_positive_samples': 11000, 'var_smoothing': 1.3202571673501623e-08}. Best is trial 13 with value: 0.9385676184706868.\n"
          ]
        },
        {
          "name": "stderr",
          "output_type": "stream",
          "text": [
            "/Users/josefina.lin/anaconda3/lib/python3.11/site-packages/optuna/distributions.py:702: UserWarning: The distribution is specified by [2000, 12833] and step=1000, but the range is not divisible by `step`. It will be replaced by [2000, 12000].\n",
            "  warnings.warn(\n"
          ]
        },
        {
          "name": "stdout",
          "output_type": "stream",
          "text": [
            "[I 2025-06-21 12:19:11,936] Trial 17 finished with value: 0.916941515959176 and parameters: {'n_positive_samples': 7000, 'var_smoothing': 6.7393415233346515e-12}. Best is trial 13 with value: 0.9385676184706868.\n"
          ]
        },
        {
          "name": "stderr",
          "output_type": "stream",
          "text": [
            "/Users/josefina.lin/anaconda3/lib/python3.11/site-packages/optuna/distributions.py:702: UserWarning: The distribution is specified by [2000, 12833] and step=1000, but the range is not divisible by `step`. It will be replaced by [2000, 12000].\n",
            "  warnings.warn(\n"
          ]
        },
        {
          "name": "stdout",
          "output_type": "stream",
          "text": [
            "[I 2025-06-21 12:19:41,659] Trial 18 finished with value: 0.9386316146087539 and parameters: {'n_positive_samples': 11000, 'var_smoothing': 8.186083209120296e-11}. Best is trial 18 with value: 0.9386316146087539.\n"
          ]
        },
        {
          "name": "stderr",
          "output_type": "stream",
          "text": [
            "/Users/josefina.lin/anaconda3/lib/python3.11/site-packages/optuna/distributions.py:702: UserWarning: The distribution is specified by [2000, 12833] and step=1000, but the range is not divisible by `step`. It will be replaced by [2000, 12000].\n",
            "  warnings.warn(\n"
          ]
        },
        {
          "name": "stdout",
          "output_type": "stream",
          "text": [
            "[I 2025-06-21 12:20:09,927] Trial 19 finished with value: 0.9365598264192203 and parameters: {'n_positive_samples': 10000, 'var_smoothing': 1.5567963064426396e-09}. Best is trial 18 with value: 0.9386316146087539.\n"
          ]
        },
        {
          "name": "stderr",
          "output_type": "stream",
          "text": [
            "/Users/josefina.lin/anaconda3/lib/python3.11/site-packages/optuna/distributions.py:702: UserWarning: The distribution is specified by [2000, 12833] and step=1000, but the range is not divisible by `step`. It will be replaced by [2000, 12000].\n",
            "  warnings.warn(\n"
          ]
        },
        {
          "name": "stdout",
          "output_type": "stream",
          "text": [
            "[I 2025-06-21 12:20:36,542] Trial 20 finished with value: 0.9294893964942998 and parameters: {'n_positive_samples': 8000, 'var_smoothing': 9.767708997452719e-11}. Best is trial 18 with value: 0.9386316146087539.\n"
          ]
        },
        {
          "name": "stderr",
          "output_type": "stream",
          "text": [
            "/Users/josefina.lin/anaconda3/lib/python3.11/site-packages/optuna/distributions.py:702: UserWarning: The distribution is specified by [2000, 12833] and step=1000, but the range is not divisible by `step`. It will be replaced by [2000, 12000].\n",
            "  warnings.warn(\n"
          ]
        },
        {
          "name": "stdout",
          "output_type": "stream",
          "text": [
            "[I 2025-06-21 12:21:05,486] Trial 21 finished with value: 0.9383604023465271 and parameters: {'n_positive_samples': 11000, 'var_smoothing': 4.781942309179098e-12}. Best is trial 18 with value: 0.9386316146087539.\n"
          ]
        },
        {
          "name": "stderr",
          "output_type": "stream",
          "text": [
            "/Users/josefina.lin/anaconda3/lib/python3.11/site-packages/optuna/distributions.py:702: UserWarning: The distribution is specified by [2000, 12833] and step=1000, but the range is not divisible by `step`. It will be replaced by [2000, 12000].\n",
            "  warnings.warn(\n"
          ]
        },
        {
          "name": "stdout",
          "output_type": "stream",
          "text": [
            "[I 2025-06-21 12:21:36,753] Trial 22 finished with value: 0.9386720491140697 and parameters: {'n_positive_samples': 11000, 'var_smoothing': 9.672994212805861e-11}. Best is trial 22 with value: 0.9386720491140697.\n"
          ]
        },
        {
          "name": "stderr",
          "output_type": "stream",
          "text": [
            "/Users/josefina.lin/anaconda3/lib/python3.11/site-packages/optuna/distributions.py:702: UserWarning: The distribution is specified by [2000, 12833] and step=1000, but the range is not divisible by `step`. It will be replaced by [2000, 12000].\n",
            "  warnings.warn(\n"
          ]
        },
        {
          "name": "stdout",
          "output_type": "stream",
          "text": [
            "[I 2025-06-21 12:22:05,505] Trial 23 finished with value: 0.9385450749949742 and parameters: {'n_positive_samples': 11000, 'var_smoothing': 7.688248368170754e-10}. Best is trial 22 with value: 0.9386720491140697.\n"
          ]
        },
        {
          "name": "stderr",
          "output_type": "stream",
          "text": [
            "/Users/josefina.lin/anaconda3/lib/python3.11/site-packages/optuna/distributions.py:702: UserWarning: The distribution is specified by [2000, 12833] and step=1000, but the range is not divisible by `step`. It will be replaced by [2000, 12000].\n",
            "  warnings.warn(\n"
          ]
        },
        {
          "name": "stdout",
          "output_type": "stream",
          "text": [
            "[I 2025-06-21 12:22:32,245] Trial 24 finished with value: 0.9192603883654952 and parameters: {'n_positive_samples': 9000, 'var_smoothing': 8.215537223687127e-11}. Best is trial 22 with value: 0.9386720491140697.\n"
          ]
        },
        {
          "name": "stderr",
          "output_type": "stream",
          "text": [
            "/Users/josefina.lin/anaconda3/lib/python3.11/site-packages/optuna/distributions.py:702: UserWarning: The distribution is specified by [2000, 12833] and step=1000, but the range is not divisible by `step`. It will be replaced by [2000, 12000].\n",
            "  warnings.warn(\n"
          ]
        },
        {
          "name": "stdout",
          "output_type": "stream",
          "text": [
            "[I 2025-06-21 12:23:01,561] Trial 25 finished with value: 0.9381398152799518 and parameters: {'n_positive_samples': 11000, 'var_smoothing': 1.7225089354579876e-10}. Best is trial 22 with value: 0.9386720491140697.\n"
          ]
        },
        {
          "name": "stderr",
          "output_type": "stream",
          "text": [
            "/Users/josefina.lin/anaconda3/lib/python3.11/site-packages/optuna/distributions.py:702: UserWarning: The distribution is specified by [2000, 12833] and step=1000, but the range is not divisible by `step`. It will be replaced by [2000, 12000].\n",
            "  warnings.warn(\n"
          ]
        },
        {
          "name": "stdout",
          "output_type": "stream",
          "text": [
            "[I 2025-06-21 12:23:28,822] Trial 26 finished with value: 0.935910959734579 and parameters: {'n_positive_samples': 10000, 'var_smoothing': 3.769012459315148e-09}. Best is trial 22 with value: 0.9386720491140697.\n"
          ]
        },
        {
          "name": "stderr",
          "output_type": "stream",
          "text": [
            "/Users/josefina.lin/anaconda3/lib/python3.11/site-packages/optuna/distributions.py:702: UserWarning: The distribution is specified by [2000, 12833] and step=1000, but the range is not divisible by `step`. It will be replaced by [2000, 12000].\n",
            "  warnings.warn(\n"
          ]
        },
        {
          "name": "stdout",
          "output_type": "stream",
          "text": [
            "[I 2025-06-21 12:23:54,930] Trial 27 finished with value: 0.9286834005155837 and parameters: {'n_positive_samples': 8000, 'var_smoothing': 3.3888663271637624e-11}. Best is trial 22 with value: 0.9386720491140697.\n"
          ]
        },
        {
          "name": "stderr",
          "output_type": "stream",
          "text": [
            "/Users/josefina.lin/anaconda3/lib/python3.11/site-packages/optuna/distributions.py:702: UserWarning: The distribution is specified by [2000, 12833] and step=1000, but the range is not divisible by `step`. It will be replaced by [2000, 12000].\n",
            "  warnings.warn(\n"
          ]
        },
        {
          "name": "stdout",
          "output_type": "stream",
          "text": [
            "[I 2025-06-21 12:24:23,833] Trial 28 finished with value: 0.9390543977236856 and parameters: {'n_positive_samples': 11000, 'var_smoothing': 7.721049939658849e-10}. Best is trial 28 with value: 0.9390543977236856.\n"
          ]
        },
        {
          "name": "stderr",
          "output_type": "stream",
          "text": [
            "/Users/josefina.lin/anaconda3/lib/python3.11/site-packages/optuna/distributions.py:702: UserWarning: The distribution is specified by [2000, 12833] and step=1000, but the range is not divisible by `step`. It will be replaced by [2000, 12000].\n",
            "  warnings.warn(\n"
          ]
        },
        {
          "name": "stdout",
          "output_type": "stream",
          "text": [
            "[I 2025-06-21 12:24:49,668] Trial 29 finished with value: 0.9177036484448703 and parameters: {'n_positive_samples': 7000, 'var_smoothing': 2.6704548805871426e-11}. Best is trial 28 with value: 0.9390543977236856.\n"
          ]
        },
        {
          "name": "stderr",
          "output_type": "stream",
          "text": [
            "/Users/josefina.lin/anaconda3/lib/python3.11/site-packages/optuna/distributions.py:702: UserWarning: The distribution is specified by [2000, 12833] and step=1000, but the range is not divisible by `step`. It will be replaced by [2000, 12000].\n",
            "  warnings.warn(\n"
          ]
        },
        {
          "name": "stdout",
          "output_type": "stream",
          "text": [
            "[I 2025-06-21 12:25:17,013] Trial 30 finished with value: 0.9184782574885245 and parameters: {'n_positive_samples': 9000, 'var_smoothing': 2.0211069643663407e-08}. Best is trial 28 with value: 0.9390543977236856.\n"
          ]
        },
        {
          "name": "stderr",
          "output_type": "stream",
          "text": [
            "/Users/josefina.lin/anaconda3/lib/python3.11/site-packages/optuna/distributions.py:702: UserWarning: The distribution is specified by [2000, 12833] and step=1000, but the range is not divisible by `step`. It will be replaced by [2000, 12000].\n",
            "  warnings.warn(\n"
          ]
        },
        {
          "name": "stdout",
          "output_type": "stream",
          "text": [
            "[I 2025-06-21 12:25:47,775] Trial 31 finished with value: 0.9391109800730204 and parameters: {'n_positive_samples': 11000, 'var_smoothing': 1.1307471390102775e-09}. Best is trial 31 with value: 0.9391109800730204.\n"
          ]
        },
        {
          "name": "stderr",
          "output_type": "stream",
          "text": [
            "/Users/josefina.lin/anaconda3/lib/python3.11/site-packages/optuna/distributions.py:702: UserWarning: The distribution is specified by [2000, 12833] and step=1000, but the range is not divisible by `step`. It will be replaced by [2000, 12000].\n",
            "  warnings.warn(\n"
          ]
        },
        {
          "name": "stdout",
          "output_type": "stream",
          "text": [
            "[I 2025-06-21 12:26:15,710] Trial 32 finished with value: 0.9358056595523813 and parameters: {'n_positive_samples': 10000, 'var_smoothing': 1.6351647734474372e-09}. Best is trial 31 with value: 0.9391109800730204.\n"
          ]
        },
        {
          "name": "stderr",
          "output_type": "stream",
          "text": [
            "/Users/josefina.lin/anaconda3/lib/python3.11/site-packages/optuna/distributions.py:702: UserWarning: The distribution is specified by [2000, 12833] and step=1000, but the range is not divisible by `step`. It will be replaced by [2000, 12000].\n",
            "  warnings.warn(\n"
          ]
        },
        {
          "name": "stdout",
          "output_type": "stream",
          "text": [
            "[I 2025-06-21 12:26:47,258] Trial 33 finished with value: 0.9381633757546792 and parameters: {'n_positive_samples': 12000, 'var_smoothing': 6.47239209799455e-10}. Best is trial 31 with value: 0.9391109800730204.\n"
          ]
        },
        {
          "name": "stderr",
          "output_type": "stream",
          "text": [
            "/Users/josefina.lin/anaconda3/lib/python3.11/site-packages/optuna/distributions.py:702: UserWarning: The distribution is specified by [2000, 12833] and step=1000, but the range is not divisible by `step`. It will be replaced by [2000, 12000].\n",
            "  warnings.warn(\n"
          ]
        },
        {
          "name": "stdout",
          "output_type": "stream",
          "text": [
            "[I 2025-06-21 12:27:15,843] Trial 34 finished with value: 0.9380004810229314 and parameters: {'n_positive_samples': 11000, 'var_smoothing': 9.867005458867572e-11}. Best is trial 31 with value: 0.9391109800730204.\n"
          ]
        },
        {
          "name": "stderr",
          "output_type": "stream",
          "text": [
            "/Users/josefina.lin/anaconda3/lib/python3.11/site-packages/optuna/distributions.py:702: UserWarning: The distribution is specified by [2000, 12833] and step=1000, but the range is not divisible by `step`. It will be replaced by [2000, 12000].\n",
            "  warnings.warn(\n"
          ]
        },
        {
          "name": "stdout",
          "output_type": "stream",
          "text": [
            "[I 2025-06-21 12:27:44,639] Trial 35 finished with value: 0.9367643332793106 and parameters: {'n_positive_samples': 10000, 'var_smoothing': 3.967363729579786e-09}. Best is trial 31 with value: 0.9391109800730204.\n"
          ]
        },
        {
          "name": "stderr",
          "output_type": "stream",
          "text": [
            "/Users/josefina.lin/anaconda3/lib/python3.11/site-packages/optuna/distributions.py:702: UserWarning: The distribution is specified by [2000, 12833] and step=1000, but the range is not divisible by `step`. It will be replaced by [2000, 12000].\n",
            "  warnings.warn(\n"
          ]
        },
        {
          "name": "stdout",
          "output_type": "stream",
          "text": [
            "[I 2025-06-21 12:28:14,046] Trial 36 finished with value: 0.9384675405709153 and parameters: {'n_positive_samples': 12000, 'var_smoothing': 3.88874141575767e-07}. Best is trial 31 with value: 0.9391109800730204.\n"
          ]
        },
        {
          "name": "stderr",
          "output_type": "stream",
          "text": [
            "/Users/josefina.lin/anaconda3/lib/python3.11/site-packages/optuna/distributions.py:702: UserWarning: The distribution is specified by [2000, 12833] and step=1000, but the range is not divisible by `step`. It will be replaced by [2000, 12000].\n",
            "  warnings.warn(\n"
          ]
        },
        {
          "name": "stdout",
          "output_type": "stream",
          "text": [
            "[I 2025-06-21 12:28:40,948] Trial 37 finished with value: 0.9291738918973316 and parameters: {'n_positive_samples': 8000, 'var_smoothing': 7.901238207701347e-08}. Best is trial 31 with value: 0.9391109800730204.\n"
          ]
        },
        {
          "name": "stderr",
          "output_type": "stream",
          "text": [
            "/Users/josefina.lin/anaconda3/lib/python3.11/site-packages/optuna/distributions.py:702: UserWarning: The distribution is specified by [2000, 12833] and step=1000, but the range is not divisible by `step`. It will be replaced by [2000, 12000].\n",
            "  warnings.warn(\n"
          ]
        },
        {
          "name": "stdout",
          "output_type": "stream",
          "text": [
            "[I 2025-06-21 12:29:03,942] Trial 38 finished with value: 0.9006153565897048 and parameters: {'n_positive_samples': 5000, 'var_smoothing': 3.9352090831416644e-10}. Best is trial 31 with value: 0.9391109800730204.\n"
          ]
        },
        {
          "name": "stderr",
          "output_type": "stream",
          "text": [
            "/Users/josefina.lin/anaconda3/lib/python3.11/site-packages/optuna/distributions.py:702: UserWarning: The distribution is specified by [2000, 12833] and step=1000, but the range is not divisible by `step`. It will be replaced by [2000, 12000].\n",
            "  warnings.warn(\n"
          ]
        },
        {
          "name": "stdout",
          "output_type": "stream",
          "text": [
            "[I 2025-06-21 12:29:32,029] Trial 39 finished with value: 0.918132678184471 and parameters: {'n_positive_samples': 9000, 'var_smoothing': 1.2963384157304722e-09}. Best is trial 31 with value: 0.9391109800730204.\n"
          ]
        },
        {
          "name": "stderr",
          "output_type": "stream",
          "text": [
            "/Users/josefina.lin/anaconda3/lib/python3.11/site-packages/optuna/distributions.py:702: UserWarning: The distribution is specified by [2000, 12833] and step=1000, but the range is not divisible by `step`. It will be replaced by [2000, 12000].\n",
            "  warnings.warn(\n"
          ]
        },
        {
          "name": "stdout",
          "output_type": "stream",
          "text": [
            "[I 2025-06-21 12:30:01,634] Trial 40 finished with value: 0.9380430849141698 and parameters: {'n_positive_samples': 11000, 'var_smoothing': 7.120130228055907e-11}. Best is trial 31 with value: 0.9391109800730204.\n"
          ]
        },
        {
          "name": "stderr",
          "output_type": "stream",
          "text": [
            "/Users/josefina.lin/anaconda3/lib/python3.11/site-packages/optuna/distributions.py:702: UserWarning: The distribution is specified by [2000, 12833] and step=1000, but the range is not divisible by `step`. It will be replaced by [2000, 12000].\n",
            "  warnings.warn(\n"
          ]
        },
        {
          "name": "stdout",
          "output_type": "stream",
          "text": [
            "[I 2025-06-21 12:30:30,295] Trial 41 finished with value: 0.9389129037516097 and parameters: {'n_positive_samples': 11000, 'var_smoothing': 2.6323945635036833e-10}. Best is trial 31 with value: 0.9391109800730204.\n"
          ]
        },
        {
          "name": "stderr",
          "output_type": "stream",
          "text": [
            "/Users/josefina.lin/anaconda3/lib/python3.11/site-packages/optuna/distributions.py:702: UserWarning: The distribution is specified by [2000, 12833] and step=1000, but the range is not divisible by `step`. It will be replaced by [2000, 12000].\n",
            "  warnings.warn(\n"
          ]
        },
        {
          "name": "stdout",
          "output_type": "stream",
          "text": [
            "[I 2025-06-21 12:30:58,356] Trial 42 finished with value: 0.9362203763989015 and parameters: {'n_positive_samples': 10000, 'var_smoothing': 2.703605581286435e-11}. Best is trial 31 with value: 0.9391109800730204.\n"
          ]
        },
        {
          "name": "stderr",
          "output_type": "stream",
          "text": [
            "/Users/josefina.lin/anaconda3/lib/python3.11/site-packages/optuna/distributions.py:702: UserWarning: The distribution is specified by [2000, 12833] and step=1000, but the range is not divisible by `step`. It will be replaced by [2000, 12000].\n",
            "  warnings.warn(\n"
          ]
        },
        {
          "name": "stdout",
          "output_type": "stream",
          "text": [
            "[I 2025-06-21 12:31:27,650] Trial 43 finished with value: 0.9388177068646243 and parameters: {'n_positive_samples': 11000, 'var_smoothing': 3.01768037256531e-10}. Best is trial 31 with value: 0.9391109800730204.\n"
          ]
        },
        {
          "name": "stderr",
          "output_type": "stream",
          "text": [
            "/Users/josefina.lin/anaconda3/lib/python3.11/site-packages/optuna/distributions.py:702: UserWarning: The distribution is specified by [2000, 12833] and step=1000, but the range is not divisible by `step`. It will be replaced by [2000, 12000].\n",
            "  warnings.warn(\n"
          ]
        },
        {
          "name": "stdout",
          "output_type": "stream",
          "text": [
            "[I 2025-06-21 12:31:59,443] Trial 44 finished with value: 0.9379141411793173 and parameters: {'n_positive_samples': 12000, 'var_smoothing': 3.238659022097744e-10}. Best is trial 31 with value: 0.9391109800730204.\n"
          ]
        },
        {
          "name": "stderr",
          "output_type": "stream",
          "text": [
            "/Users/josefina.lin/anaconda3/lib/python3.11/site-packages/optuna/distributions.py:702: UserWarning: The distribution is specified by [2000, 12833] and step=1000, but the range is not divisible by `step`. It will be replaced by [2000, 12000].\n",
            "  warnings.warn(\n"
          ]
        },
        {
          "name": "stdout",
          "output_type": "stream",
          "text": [
            "[I 2025-06-21 12:32:29,346] Trial 45 finished with value: 0.9376967932771857 and parameters: {'n_positive_samples': 12000, 'var_smoothing': 2.4472773588840044e-09}. Best is trial 31 with value: 0.9391109800730204.\n"
          ]
        },
        {
          "name": "stderr",
          "output_type": "stream",
          "text": [
            "/Users/josefina.lin/anaconda3/lib/python3.11/site-packages/optuna/distributions.py:702: UserWarning: The distribution is specified by [2000, 12833] and step=1000, but the range is not divisible by `step`. It will be replaced by [2000, 12000].\n",
            "  warnings.warn(\n"
          ]
        },
        {
          "name": "stdout",
          "output_type": "stream",
          "text": [
            "[I 2025-06-21 12:32:57,230] Trial 46 finished with value: 0.9362211616571313 and parameters: {'n_positive_samples': 10000, 'var_smoothing': 5.67330592486376e-09}. Best is trial 31 with value: 0.9391109800730204.\n"
          ]
        },
        {
          "name": "stderr",
          "output_type": "stream",
          "text": [
            "/Users/josefina.lin/anaconda3/lib/python3.11/site-packages/optuna/distributions.py:702: UserWarning: The distribution is specified by [2000, 12833] and step=1000, but the range is not divisible by `step`. It will be replaced by [2000, 12000].\n",
            "  warnings.warn(\n"
          ]
        },
        {
          "name": "stdout",
          "output_type": "stream",
          "text": [
            "[I 2025-06-21 12:33:25,522] Trial 47 finished with value: 0.9384298278356182 and parameters: {'n_positive_samples': 11000, 'var_smoothing': 8.345779960413384e-10}. Best is trial 31 with value: 0.9391109800730204.\n"
          ]
        },
        {
          "name": "stderr",
          "output_type": "stream",
          "text": [
            "/Users/josefina.lin/anaconda3/lib/python3.11/site-packages/optuna/distributions.py:702: UserWarning: The distribution is specified by [2000, 12833] and step=1000, but the range is not divisible by `step`. It will be replaced by [2000, 12000].\n",
            "  warnings.warn(\n"
          ]
        },
        {
          "name": "stdout",
          "output_type": "stream",
          "text": [
            "[I 2025-06-21 12:33:45,101] Trial 48 finished with value: 0.892706001044823 and parameters: {'n_positive_samples': 2000, 'var_smoothing': 2.3104192511920133e-10}. Best is trial 31 with value: 0.9391109800730204.\n"
          ]
        },
        {
          "name": "stderr",
          "output_type": "stream",
          "text": [
            "/Users/josefina.lin/anaconda3/lib/python3.11/site-packages/optuna/distributions.py:702: UserWarning: The distribution is specified by [2000, 12833] and step=1000, but the range is not divisible by `step`. It will be replaced by [2000, 12000].\n",
            "  warnings.warn(\n"
          ]
        },
        {
          "name": "stdout",
          "output_type": "stream",
          "text": [
            "[I 2025-06-21 12:34:11,877] Trial 49 finished with value: 0.9177913511094943 and parameters: {'n_positive_samples': 9000, 'var_smoothing': 1.5304554010329817e-10}. Best is trial 31 with value: 0.9391109800730204.\n",
            "\n",
            "Optimization completed!\n",
            "Best trial number: 31\n",
            "Best F1-score: 0.9391\n",
            "Best parameters found:\n",
            "  n_positive_samples: 11000\n",
            "  var_smoothing: 1.1307471390102775e-09\n"
          ]
        }
      ],
      "source": [
        "# Create a study object and optimize\n",
        "print(\"Starting hyperparameter optimization with Optuna...\")\n",
        "# We want to maximize the F1-score, so direction='maximize'\n",
        "study = optuna.create_study(direction='maximize')\n",
        "# Run the optimization for 50 trials (you can increase this for potentially better results)\n",
        "study.optimize(objective, n_trials=50, show_progress_bar=True) # show_progress_bar=True added for visual progress\n",
        "\n",
        "print(\"\\nOptimization completed!\")\n",
        "print(f\"Best trial number: {study.best_trial.number}\")\n",
        "print(f\"Best F1-score: {study.best_value:.4f}\")\n",
        "print(\"Best parameters found:\")\n",
        "for key, value in study.best_params.items():\n",
        "    print(f\"  {key}: {value}\")"
      ]
    },
    {
      "cell_type": "code",
      "execution_count": 58,
      "metadata": {},
      "outputs": [
        {
          "data": {
            "text/plain": [
              "{'n_positive_samples': 11000, 'var_smoothing': 1.1307471390102775e-09}"
            ]
          },
          "execution_count": 58,
          "metadata": {},
          "output_type": "execute_result"
        }
      ],
      "source": [
        "study.best_params"
      ]
    },
    {
      "cell_type": "code",
      "execution_count": 59,
      "metadata": {},
      "outputs": [
        {
          "name": "stdout",
          "output_type": "stream",
          "text": [
            "Optimized GaussianNB model trained successfully with best parameters!\n",
            "Best n_positive_samples: 11000\n",
            "Best var_smoothing parameter: 1.1307471390102775e-09\n"
          ]
        }
      ],
      "source": [
        "# Train the final model with the best parameters\n",
        "best_params = study.best_params\n",
        "\n",
        "# Re-prepare the data using the best n_positive_samples\n",
        "final_n_positive_samples = best_params['n_positive_samples']\n",
        "final_current_positive_patches = positive_patches[:final_n_positive_samples]\n",
        "\n",
        "# Combine positive and negative patches to form the full dataset\n",
        "X_final_full = np.array([feature.hog(im) for im in chain(final_current_positive_patches, negative_patches)])\n",
        "y_final_full = np.zeros(len(X_final_full))\n",
        "y_final_full[:len(final_current_positive_patches)] = 1\n",
        "\n",
        "# Split data into training and validation sets\n",
        "X_train_final, X_val_final, y_train_final, y_val_final = train_test_split(X_final_full, y_final_full, test_size=0.2, random_state=42)\n",
        "\n",
        "# Scale the features\n",
        "scaler_final = StandardScaler()\n",
        "X_train_std_final = scaler_final.fit_transform(X_train_final)\n",
        "X_val_std_final = scaler_final.transform(X_val_final) # Scale validation data too\n",
        "\n",
        "# Apply PCA (fixed parameters: 500 components, whiten=True)\n",
        "pca_final = PCA(n_components=500, whiten=True)\n",
        "X_train_pca_final = pca_final.fit_transform(X_train_std_final)\n",
        "X_val_pca_final = pca_final.transform(X_val_std_final) # Transform validation data\n",
        "\n",
        "# Create and train GaussianNB with best parameters\n",
        "model_optimized = GaussianNB(var_smoothing=best_params['var_smoothing'])\n",
        "model_optimized.fit(X_train_pca_final, y_train_final)\n",
        "\n",
        "print(\"Optimized GaussianNB model trained successfully with best parameters!\")\n",
        "print(f\"Best n_positive_samples: {best_params['n_positive_samples']}\")\n",
        "print(f\"Best var_smoothing parameter: {best_params['var_smoothing']}\")"
      ]
    },
    {
      "cell_type": "code",
      "execution_count": 61,
      "metadata": {},
      "outputs": [
        {
          "data": {
            "text/plain": [
              "'/Users/josefina.lin/Documents/GitHub/ORT-AI/ML para AI/Obligatorio'"
            ]
          },
          "execution_count": 61,
          "metadata": {},
          "output_type": "execute_result"
        }
      ],
      "source": [
        "os.getcwd()"
      ]
    },
    {
      "cell_type": "code",
      "execution_count": 64,
      "metadata": {},
      "outputs": [
        {
          "data": {
            "text/plain": [
              "['models/scaler_optuna.joblib']"
            ]
          },
          "execution_count": 64,
          "metadata": {},
          "output_type": "execute_result"
        }
      ],
      "source": [
        "joblib.dump(scaler_final ,'models/scaler_optuna.joblib')"
      ]
    },
    {
      "cell_type": "code",
      "execution_count": 63,
      "metadata": {},
      "outputs": [
        {
          "data": {
            "text/plain": [
              "['models/pca_optuna.joblib']"
            ]
          },
          "execution_count": 63,
          "metadata": {},
          "output_type": "execute_result"
        }
      ],
      "source": [
        "joblib.dump(pca_final ,'models/pca_optuna.joblib')"
      ]
    },
    {
      "cell_type": "code",
      "execution_count": 62,
      "metadata": {},
      "outputs": [
        {
          "data": {
            "text/plain": [
              "['models/GaussianNB_optuna.joblib']"
            ]
          },
          "execution_count": 62,
          "metadata": {},
          "output_type": "execute_result"
        }
      ],
      "source": [
        "joblib.dump(model_optimized ,'models/GaussianNB_optuna.joblib')"
      ]
    }
  ],
  "metadata": {
    "colab": {
      "provenance": []
    },
    "kernelspec": {
      "display_name": "ORT-AI ML",
      "language": "python",
      "name": "ort-ai"
    },
    "language_info": {
      "codemirror_mode": {
        "name": "ipython",
        "version": 3
      },
      "file_extension": ".py",
      "mimetype": "text/x-python",
      "name": "python",
      "nbconvert_exporter": "python",
      "pygments_lexer": "ipython3",
      "version": "3.11.5"
    }
  },
  "nbformat": 4,
  "nbformat_minor": 0
}
