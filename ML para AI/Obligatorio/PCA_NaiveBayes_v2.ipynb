{
  "cells": [
    {
      "cell_type": "code",
      "execution_count": 38,
      "metadata": {
        "id": "Nk0tWPrBfbS5"
      },
      "outputs": [],
      "source": [
        "# !unzip /content/Faces.zip"
      ]
    },
    {
      "cell_type": "code",
      "execution_count": 39,
      "metadata": {
        "id": "awrfwut65jR5"
      },
      "outputs": [],
      "source": [
        "# !unzip /content/Background.zip"
      ]
    },
    {
      "cell_type": "code",
      "execution_count": 40,
      "metadata": {
        "id": "B9fY5qdDg-Tw"
      },
      "outputs": [],
      "source": [
        "import numpy as np\n",
        "import pandas as pd\n",
        "import matplotlib.pyplot as plt\n",
        "plt.style.use('ggplot')\n",
        "from mpl_toolkits.mplot3d import Axes3D\n",
        "from skimage import feature, data, color\n",
        "import os\n",
        "from tqdm import tqdm\n",
        "import joblib\n",
        "from skimage.transform import resize\n",
        "from sklearn.feature_extraction.image import PatchExtractor\n",
        "from itertools import chain\n",
        "from scipy import stats\n",
        "from sklearn.preprocessing import StandardScaler\n",
        "from sklearn.decomposition import PCA\n",
        "from sklearn.naive_bayes import GaussianNB\n",
        "from sklearn.metrics import classification_report\n",
        "from sklearn.model_selection import train_test_split"
      ]
    },
    {
      "cell_type": "markdown",
      "metadata": {
        "id": "dUQJQ_VS-2N0"
      },
      "source": [
        "# Preparación de los datos"
      ]
    },
    {
      "cell_type": "code",
      "execution_count": 41,
      "metadata": {
        "id": "-notO-zv4Bbt"
      },
      "outputs": [],
      "source": [
        "suffix = '.pgm'\n",
        "\n",
        "all_files = os.listdir('Faces/')\n",
        "pgm_files = [filename for filename in all_files if filename.endswith(suffix)]"
      ]
    },
    {
      "cell_type": "code",
      "execution_count": 42,
      "metadata": {
        "colab": {
          "base_uri": "https://localhost:8080/"
        },
        "id": "-Mf-OLRv7KI3",
        "outputId": "d1866115-c419-469c-f192-32b67f397fb1"
      },
      "outputs": [
        {
          "name": "stderr",
          "output_type": "stream",
          "text": [
            "100%|██████████| 12833/12833 [00:02<00:00, 4556.75it/s]\n"
          ]
        }
      ],
      "source": [
        "positive_patches = []\n",
        "for filename in tqdm(pgm_files):\n",
        "  path = 'Faces/' + filename\n",
        "  with open(path, 'rb') as pgmf:\n",
        "      image = plt.imread(pgmf)\n",
        "  positive_patches.append(image)"
      ]
    },
    {
      "cell_type": "code",
      "execution_count": 43,
      "metadata": {
        "colab": {
          "base_uri": "https://localhost:8080/"
        },
        "id": "kxzhqO0K9z0Y",
        "outputId": "f31bd760-5e05-441c-ec5b-a5ccb63dc0a1"
      },
      "outputs": [
        {
          "data": {
            "text/plain": [
              "(12833, 64, 64)"
            ]
          },
          "execution_count": 43,
          "metadata": {},
          "output_type": "execute_result"
        }
      ],
      "source": [
        "positive_patches = np.array(positive_patches)\n",
        "positive_patches.shape"
      ]
    },
    {
      "cell_type": "code",
      "execution_count": 44,
      "metadata": {
        "id": "3X106d0434hl"
      },
      "outputs": [],
      "source": [
        "P = len(positive_patches)"
      ]
    },
    {
      "cell_type": "code",
      "execution_count": 45,
      "metadata": {
        "id": "ozMroXqk4P8a"
      },
      "outputs": [],
      "source": [
        "# Tomamos algunas imágenes de sklearn\n",
        "imgs = ['text',\n",
        "        'coins',\n",
        "        'moon',\n",
        "        'page',\n",
        "        'clock',\n",
        "        'immunohistochemistry',\n",
        "        'chelsea',\n",
        "        'coffee',\n",
        "        'hubble_deep_field'\n",
        "        ]\n",
        "\n",
        "images = []\n",
        "for name in imgs:\n",
        "    img = getattr(data, name)()\n",
        "    if len(img.shape) == 3 and img.shape[2] == 3:  # Chequeamos si la imagen es RGB\n",
        "        img = color.rgb2gray(img)\n",
        "        img = (img * 255).astype(np.uint8)\n",
        "    images.append(resize(img, (100,100)))\n",
        "\n",
        "# Imagenes caseras adicionales\n",
        "for i in range(31):\n",
        "    filename = \"Background/\"+str(i)+\".jpg\"\n",
        "    img = plt.imread(filename)\n",
        "    img = color.rgb2gray(img)\n",
        "    images.append(resize(img, (100,100)))"
      ]
    },
    {
      "cell_type": "code",
      "execution_count": 46,
      "metadata": {
        "colab": {
          "base_uri": "https://localhost:8080/"
        },
        "id": "02yAa2IO6GFj",
        "outputId": "6c624be3-8d80-4602-ba6c-f45f7a407c35"
      },
      "outputs": [
        {
          "name": "stdout",
          "output_type": "stream",
          "text": [
            "Image size: (64, 64)\n"
          ]
        }
      ],
      "source": [
        "# Tamaño de las imágenes de rostros\n",
        "size = positive_patches[0].shape\n",
        "print(f'Image size: {size}')"
      ]
    },
    {
      "cell_type": "code",
      "execution_count": 47,
      "metadata": {
        "id": "M-RU7TCl6ao8"
      },
      "outputs": [],
      "source": [
        "# Función para extraer porciones de una imagen\n",
        "def extract_patches(img, N, scale=1.0, patch_size=size):\n",
        "    # Calcula el tamaño del parche extraído basado en el factor de escala dado\n",
        "    extracted_patch_size = tuple((scale * np.array(patch_size)).astype(int))\n",
        "\n",
        "    # Inicializa un objeto PatchExtractor con el tamaño de parche calculado,\n",
        "    # el número máximo de parches, y una semilla de estado aleatorio\n",
        "    extractor = PatchExtractor(patch_size=extracted_patch_size, max_patches=N, random_state=0)\n",
        "\n",
        "    # Extrae parches de la imagen dada\n",
        "    # img[np.newaxis] se utiliza la entrada de PatchExtractor es un conjunto de imágenes\n",
        "    patches = extractor.transform(img[np.newaxis])\n",
        "\n",
        "    # Si el factor de escala no es 1, redimensiona cada parche extraído\n",
        "    # al tamaño del parche original\n",
        "    if scale != 1:\n",
        "        patches = np.array([resize(patch, patch_size) for patch in patches])\n",
        "\n",
        "    # Devuelve la lista de parches extraídos (y posiblemente redimensionados)\n",
        "    return patches"
      ]
    },
    {
      "cell_type": "code",
      "execution_count": 48,
      "metadata": {
        "colab": {
          "base_uri": "https://localhost:8080/"
        },
        "id": "XaJk-LsW7HZ7",
        "outputId": "609df6a6-48c9-4128-ce53-8f129336c4c2"
      },
      "outputs": [
        {
          "name": "stderr",
          "output_type": "stream",
          "text": [
            "Procesando imágenes: 100%|██████████| 40/40 [00:00<00:00, 45.71it/s]\n"
          ]
        },
        {
          "data": {
            "text/plain": [
              "(12800, 64, 64)"
            ]
          },
          "execution_count": 48,
          "metadata": {},
          "output_type": "execute_result"
        }
      ],
      "source": [
        "# Extraemos las imágenes de fondo\n",
        "negative_patches = np.vstack([extract_patches(im, 64, scale) for im in tqdm(images, desc='Procesando imágenes') for scale in [0.1,0.25,0.5,0.75,1]])\n",
        "negative_patches.shape"
      ]
    },
    {
      "cell_type": "code",
      "execution_count": 49,
      "metadata": {
        "id": "WgVdOLdV8F22"
      },
      "outputs": [],
      "source": [
        "N = len(negative_patches)"
      ]
    },
    {
      "cell_type": "code",
      "execution_count": 50,
      "metadata": {
        "colab": {
          "base_uri": "https://localhost:8080/"
        },
        "id": "QSQhVM3n-SGs",
        "outputId": "8868e56e-55dd-46b1-e63f-3b8991cdfc2a"
      },
      "outputs": [
        {
          "name": "stderr",
          "output_type": "stream",
          "text": [
            "Construyendo X: 25633it [00:10, 2375.70it/s]\n"
          ]
        }
      ],
      "source": [
        "X = np.array([feature.hog(im) for im in tqdm(chain(positive_patches, negative_patches), desc='Construyendo X')])\n",
        "y = np.zeros(len(X))\n",
        "y[:P] = 1"
      ]
    },
    {
      "cell_type": "code",
      "execution_count": 51,
      "metadata": {
        "id": "Tezqgn6Y2PnH"
      },
      "outputs": [],
      "source": [
        "X_train, X_val, y_train, y_val = train_test_split(X, y, test_size=0.2, random_state=42)"
      ]
    },
    {
      "cell_type": "code",
      "execution_count": 52,
      "metadata": {},
      "outputs": [
        {
          "data": {
            "text/plain": [
              "(20506, 2916)"
            ]
          },
          "execution_count": 52,
          "metadata": {},
          "output_type": "execute_result"
        }
      ],
      "source": [
        "X_train.shape"
      ]
    },
    {
      "cell_type": "code",
      "execution_count": 53,
      "metadata": {
        "id": "zcc491w1HmhO"
      },
      "outputs": [],
      "source": [
        "scaler = StandardScaler()\n",
        "X_train_std = scaler.fit_transform(X_train)"
      ]
    },
    {
      "cell_type": "code",
      "execution_count": 54,
      "metadata": {
        "colab": {
          "base_uri": "https://localhost:8080/"
        },
        "id": "NKXFvtC_z-FL",
        "outputId": "0f903170-10c0-4eaf-9d28-1aee30c7d3bd"
      },
      "outputs": [
        {
          "data": {
            "text/plain": [
              "['scaler.joblib']"
            ]
          },
          "execution_count": 54,
          "metadata": {},
          "output_type": "execute_result"
        }
      ],
      "source": [
        "# Guardar el scaler\n",
        "joblib.dump(scaler, 'scaler.joblib')"
      ]
    },
    {
      "cell_type": "code",
      "execution_count": 55,
      "metadata": {
        "id": "IOe9Yu7qMOJq"
      },
      "outputs": [],
      "source": [
        "# Apply PCA to extract eigenfaces\n",
        "\n",
        "pca = PCA(n_components=500, whiten=True).fit(X_train_std)"
      ]
    },
    {
      "cell_type": "code",
      "execution_count": 56,
      "metadata": {
        "colab": {
          "base_uri": "https://localhost:8080/"
        },
        "id": "HKqECe9A0JFv",
        "outputId": "02a6b306-27ba-4219-98f0-ee8a90e3a249"
      },
      "outputs": [
        {
          "data": {
            "text/plain": [
              "['pca.joblib']"
            ]
          },
          "execution_count": 56,
          "metadata": {},
          "output_type": "execute_result"
        }
      ],
      "source": [
        "# Guardar PCA\n",
        "joblib.dump(pca, 'pca.joblib')"
      ]
    },
    {
      "cell_type": "code",
      "execution_count": 57,
      "metadata": {
        "colab": {
          "base_uri": "https://localhost:8080/",
          "height": 299
        },
        "id": "kh5GQHZykQ7O",
        "outputId": "91c371ff-2b59-4460-d754-ae7e899f5a5e"
      },
      "outputs": [
        {
          "data": {
            "image/png": "[encoded data removed]",
            "text/plain": [
              "<Figure size 1000x400 with 2 Axes>"
            ]
          },
          "metadata": {},
          "output_type": "display_data"
        }
      ],
      "source": [
        "# Obtener varianzas\n",
        "var_explicada = pca.explained_variance_ratio_\n",
        "var_acumulada = np.cumsum(var_explicada)\n",
        "\n",
        "# Gráfico\n",
        "fig, (ax1, ax2) = plt.subplots(1, 2, figsize=(10, 4))\n",
        "\n",
        "# Varianza explicada\n",
        "ax1.bar(range(1, len(var_explicada)+1), var_explicada, color='skyblue')\n",
        "ax1.set_title('Varianza explicada por componente')\n",
        "ax1.set_xlabel('Componente principal')\n",
        "ax1.set_ylabel('Proporción de varianza')\n",
        "ax1.grid(True)\n",
        "\n",
        "# Varianza acumulada\n",
        "ax2.bar(range(1, len(var_acumulada)+1), var_acumulada, color='lightgreen')\n",
        "ax2.axhline(y=0.95, color='r', linestyle='--', label='95%')\n",
        "ax2.set_title('Varianza acumulada')\n",
        "ax2.set_xlabel('Número de componentes')\n",
        "ax2.set_ylabel('Proporción acumulada de varianza')\n",
        "ax2.legend()\n",
        "ax2.grid(True)\n",
        "\n",
        "plt.tight_layout()\n",
        "plt.show()"
      ]
    },
    {
      "cell_type": "code",
      "execution_count": 58,
      "metadata": {
        "colab": {
          "base_uri": "https://localhost:8080/",
          "height": 477
        },
        "id": "XVe1HZBfOCml",
        "outputId": "9975acbe-73af-4e8d-d720-ba7a5e6f1106"
      },
      "outputs": [
        {
          "data": {
            "image/png": "[encoded data removed]",
            "text/plain": [
              "<Figure size 640x480 with 1 Axes>"
            ]
          },
          "metadata": {},
          "output_type": "display_data"
        }
      ],
      "source": [
        "X_train_pca = pca.transform(X_train_std)\n",
        "\n",
        "# Graficar con colores y leyenda\n",
        "colors = ['tab:red', 'tab:blue']\n",
        "labels = ['Back', 'Face']\n",
        "\n",
        "for class_value in [0, 1]:\n",
        "    plt.scatter(X_train_pca[y_train == class_value, 0], X_train_pca[y_train == class_value, 1],\n",
        "                c=colors[class_value], label=labels[class_value], alpha=0.4)\n",
        "\n",
        "plt.xlabel('PC1')\n",
        "plt.ylabel('PC2')\n",
        "plt.title('PCA con clases')\n",
        "plt.legend()\n",
        "plt.grid(True)\n",
        "plt.show()"
      ]
    },
    {
      "cell_type": "code",
      "execution_count": 59,
      "metadata": {
        "colab": {
          "base_uri": "https://localhost:8080/",
          "height": 429
        },
        "id": "MfnvVBT3Ju0M",
        "outputId": "d08cb218-721d-469a-af2c-d2b288b7e166"
      },
      "outputs": [
        {
          "data": {
            "image/png": "[encoded data removed]",
            "text/plain": [
              "<Figure size 640x480 with 1 Axes>"
            ]
          },
          "metadata": {},
          "output_type": "display_data"
        }
      ],
      "source": [
        "# Plot 3D\n",
        "fig = plt.figure()\n",
        "ax = fig.add_subplot(111, projection='3d')\n",
        "\n",
        "colors = ['tab:red', 'tab:blue']\n",
        "labels = ['Back', 'Face']\n",
        "\n",
        "for class_value in [0, 1]:\n",
        "    ax.scatter(\n",
        "        X_train_pca[y_train == class_value, 0],\n",
        "        X_train_pca[y_train == class_value, 1],\n",
        "        X_train_pca[y_train == class_value, 2],\n",
        "        c=colors[class_value],\n",
        "        label=labels[class_value],\n",
        "        alpha=0.7\n",
        "    )\n",
        "\n",
        "ax.view_init(elev=15, azim=30)\n",
        "\n",
        "ax.set_xlabel('PC1')\n",
        "ax.set_ylabel('PC2')\n",
        "ax.set_zlabel('PC3')\n",
        "ax.set_title('PCA - Primeras 3 componentes')\n",
        "ax.legend()\n",
        "plt.show()"
      ]
    },
    {
      "cell_type": "markdown",
      "metadata": {
        "id": "tLabqplB-uR8"
      },
      "source": [
        "# Clasificador"
      ]
    },
    {
      "cell_type": "code",
      "execution_count": 60,
      "metadata": {
        "id": "KKoEH6Uxlhqo"
      },
      "outputs": [],
      "source": [
        "model = GaussianNB()"
      ]
    },
    {
      "cell_type": "code",
      "execution_count": 61,
      "metadata": {
        "colab": {
          "base_uri": "https://localhost:8080/",
          "height": 80
        },
        "id": "Z1ZsKEPelqIO",
        "outputId": "097f4664-a2ff-466d-df00-a4751e0e1f4b"
      },
      "outputs": [
        {
          "data": {
            "text/html": [
              "<style>#sk-container-id-2 {\n",
              "  /* Definition of color scheme common for light and dark mode */\n",
              "  --sklearn-color-text: #000;\n",
              "  --sklearn-color-text-muted: #666;\n",
              "  --sklearn-color-line: gray;\n",
              "  /* Definition of color scheme for unfitted estimators */\n",
              "  --sklearn-color-unfitted-level-0: #fff5e6;\n",
              "  --sklearn-color-unfitted-level-1: #f6e4d2;\n",
              "  --sklearn-color-unfitted-level-2: #ffe0b3;\n",
              "  --sklearn-color-unfitted-level-3: chocolate;\n",
              "  /* Definition of color scheme for fitted estimators */\n",
              "  --sklearn-color-fitted-level-0: #f0f8ff;\n",
              "  --sklearn-color-fitted-level-1: #d4ebff;\n",
              "  --sklearn-color-fitted-level-2: #b3dbfd;\n",
              "  --sklearn-color-fitted-level-3: cornflowerblue;\n",
              "\n",
              "  /* Specific color for light theme */\n",
              "  --sklearn-color-text-on-default-background: var(--sg-text-color, var(--theme-code-foreground, var(--jp-content-font-color1, black)));\n",
              "  --sklearn-color-background: var(--sg-background-color, var(--theme-background, var(--jp-layout-color0, white)));\n",
              "  --sklearn-color-border-box: var(--sg-text-color, var(--theme-code-foreground, var(--jp-content-font-color1, black)));\n",
              "  --sklearn-color-icon: #696969;\n",
              "\n",
              "  @media (prefers-color-scheme: dark) {\n",
              "    /* Redefinition of color scheme for dark theme */\n",
              "    --sklearn-color-text-on-default-background: var(--sg-text-color, var(--theme-code-foreground, var(--jp-content-font-color1, white)));\n",
              "    --sklearn-color-background: var(--sg-background-color, var(--theme-background, var(--jp-layout-color0, #111)));\n",
              "    --sklearn-color-border-box: var(--sg-text-color, var(--theme-code-foreground, var(--jp-content-font-color1, white)));\n",
              "    --sklearn-color-icon: #878787;\n",
              "  }\n",
              "}\n",
              "\n",
              "#sk-container-id-2 {\n",
              "  color: var(--sklearn-color-text);\n",
              "}\n",
              "\n",
              "#sk-container-id-2 pre {\n",
              "  padding: 0;\n",
              "}\n",
              "\n",
              "#sk-container-id-2 input.sk-hidden--visually {\n",
              "  border: 0;\n",
              "  clip: rect(1px 1px 1px 1px);\n",
              "  clip: rect(1px, 1px, 1px, 1px);\n",
              "  height: 1px;\n",
              "  margin: -1px;\n",
              "  overflow: hidden;\n",
              "  padding: 0;\n",
              "  position: absolute;\n",
              "  width: 1px;\n",
              "}\n",
              "\n",
              "#sk-container-id-2 div.sk-dashed-wrapped {\n",
              "  border: 1px dashed var(--sklearn-color-line);\n",
              "  margin: 0 0.4em 0.5em 0.4em;\n",
              "  box-sizing: border-box;\n",
              "  padding-bottom: 0.4em;\n",
              "  background-color: var(--sklearn-color-background);\n",
              "}\n",
              "\n",
              "#sk-container-id-2 div.sk-container {\n",
              "  /* jupyter's `normalize.less` sets `[hidden] { display: none; }`\n",
              "     but bootstrap.min.css set `[hidden] { display: none !important; }`\n",
              "     so we also need the `!important` here to be able to override the\n",
              "     default hidden behavior on the sphinx rendered scikit-learn.org.\n",
              "     See: https://github.com/scikit-learn/scikit-learn/issues/21755 */\n",
              "  display: inline-block !important;\n",
              "  position: relative;\n",
              "}\n",
              "\n",
              "#sk-container-id-2 div.sk-text-repr-fallback {\n",
              "  display: none;\n",
              "}\n",
              "\n",
              "div.sk-parallel-item,\n",
              "div.sk-serial,\n",
              "div.sk-item {\n",
              "  /* draw centered vertical line to link estimators */\n",
              "  background-image: linear-gradient(var(--sklearn-color-text-on-default-background), var(--sklearn-color-text-on-default-background));\n",
              "  background-size: 2px 100%;\n",
              "  background-repeat: no-repeat;\n",
              "  background-position: center center;\n",
              "}\n",
              "\n",
              "/* Parallel-specific style estimator block */\n",
              "\n",
              "#sk-container-id-2 div.sk-parallel-item::after {\n",
              "  content: \"\";\n",
              "  width: 100%;\n",
              "  border-bottom: 2px solid var(--sklearn-color-text-on-default-background);\n",
              "  flex-grow: 1;\n",
              "}\n",
              "\n",
              "#sk-container-id-2 div.sk-parallel {\n",
              "  display: flex;\n",
              "  align-items: stretch;\n",
              "  justify-content: center;\n",
              "  background-color: var(--sklearn-color-background);\n",
              "  position: relative;\n",
              "}\n",
              "\n",
              "#sk-container-id-2 div.sk-parallel-item {\n",
              "  display: flex;\n",
              "  flex-direction: column;\n",
              "}\n",
              "\n",
              "#sk-container-id-2 div.sk-parallel-item:first-child::after {\n",
              "  align-self: flex-end;\n",
              "  width: 50%;\n",
              "}\n",
              "\n",
              "#sk-container-id-2 div.sk-parallel-item:last-child::after {\n",
              "  align-self: flex-start;\n",
              "  width: 50%;\n",
              "}\n",
              "\n",
              "#sk-container-id-2 div.sk-parallel-item:only-child::after {\n",
              "  width: 0;\n",
              "}\n",
              "\n",
              "/* Serial-specific style estimator block */\n",
              "\n",
              "#sk-container-id-2 div.sk-serial {\n",
              "  display: flex;\n",
              "  flex-direction: column;\n",
              "  align-items: center;\n",
              "  background-color: var(--sklearn-color-background);\n",
              "  padding-right: 1em;\n",
              "  padding-left: 1em;\n",
              "}\n",
              "\n",
              "\n",
              "/* Toggleable style: style used for estimator/Pipeline/ColumnTransformer box that is\n",
              "clickable and can be expanded/collapsed.\n",
              "- Pipeline and ColumnTransformer use this feature and define the default style\n",
              "- Estimators will overwrite some part of the style using the `sk-estimator` class\n",
              "*/\n",
              "\n",
              "/* Pipeline and ColumnTransformer style (default) */\n",
              "\n",
              "#sk-container-id-2 div.sk-toggleable {\n",
              "  /* Default theme specific background. It is overwritten whether we have a\n",
              "  specific estimator or a Pipeline/ColumnTransformer */\n",
              "  background-color: var(--sklearn-color-background);\n",
              "}\n",
              "\n",
              "/* Toggleable label */\n",
              "#sk-container-id-2 label.sk-toggleable__label {\n",
              "  cursor: pointer;\n",
              "  display: flex;\n",
              "  width: 100%;\n",
              "  margin-bottom: 0;\n",
              "  padding: 0.5em;\n",
              "  box-sizing: border-box;\n",
              "  text-align: center;\n",
              "  align-items: start;\n",
              "  justify-content: space-between;\n",
              "  gap: 0.5em;\n",
              "}\n",
              "\n",
              "#sk-container-id-2 label.sk-toggleable__label .caption {\n",
              "  font-size: 0.6rem;\n",
              "  font-weight: lighter;\n",
              "  color: var(--sklearn-color-text-muted);\n",
              "}\n",
              "\n",
              "#sk-container-id-2 label.sk-toggleable__label-arrow:before {\n",
              "  /* Arrow on the left of the label */\n",
              "  content: \"▸\";\n",
              "  float: left;\n",
              "  margin-right: 0.25em;\n",
              "  color: var(--sklearn-color-icon);\n",
              "}\n",
              "\n",
              "#sk-container-id-2 label.sk-toggleable__label-arrow:hover:before {\n",
              "  color: var(--sklearn-color-text);\n",
              "}\n",
              "\n",
              "/* Toggleable content - dropdown */\n",
              "\n",
              "#sk-container-id-2 div.sk-toggleable__content {\n",
              "  max-height: 0;\n",
              "  max-width: 0;\n",
              "  overflow: hidden;\n",
              "  text-align: left;\n",
              "  /* unfitted */\n",
              "  background-color: var(--sklearn-color-unfitted-level-0);\n",
              "}\n",
              "\n",
              "#sk-container-id-2 div.sk-toggleable__content.fitted {\n",
              "  /* fitted */\n",
              "  background-color: var(--sklearn-color-fitted-level-0);\n",
              "}\n",
              "\n",
              "#sk-container-id-2 div.sk-toggleable__content pre {\n",
              "  margin: 0.2em;\n",
              "  border-radius: 0.25em;\n",
              "  color: var(--sklearn-color-text);\n",
              "  /* unfitted */\n",
              "  background-color: var(--sklearn-color-unfitted-level-0);\n",
              "}\n",
              "\n",
              "#sk-container-id-2 div.sk-toggleable__content.fitted pre {\n",
              "  /* unfitted */\n",
              "  background-color: var(--sklearn-color-fitted-level-0);\n",
              "}\n",
              "\n",
              "#sk-container-id-2 input.sk-toggleable__control:checked~div.sk-toggleable__content {\n",
              "  /* Expand drop-down */\n",
              "  max-height: 200px;\n",
              "  max-width: 100%;\n",
              "  overflow: auto;\n",
              "}\n",
              "\n",
              "#sk-container-id-2 input.sk-toggleable__control:checked~label.sk-toggleable__label-arrow:before {\n",
              "  content: \"▾\";\n",
              "}\n",
              "\n",
              "/* Pipeline/ColumnTransformer-specific style */\n",
              "\n",
              "#sk-container-id-2 div.sk-label input.sk-toggleable__control:checked~label.sk-toggleable__label {\n",
              "  color: var(--sklearn-color-text);\n",
              "  background-color: var(--sklearn-color-unfitted-level-2);\n",
              "}\n",
              "\n",
              "#sk-container-id-2 div.sk-label.fitted input.sk-toggleable__control:checked~label.sk-toggleable__label {\n",
              "  background-color: var(--sklearn-color-fitted-level-2);\n",
              "}\n",
              "\n",
              "/* Estimator-specific style */\n",
              "\n",
              "/* Colorize estimator box */\n",
              "#sk-container-id-2 div.sk-estimator input.sk-toggleable__control:checked~label.sk-toggleable__label {\n",
              "  /* unfitted */\n",
              "  background-color: var(--sklearn-color-unfitted-level-2);\n",
              "}\n",
              "\n",
              "#sk-container-id-2 div.sk-estimator.fitted input.sk-toggleable__control:checked~label.sk-toggleable__label {\n",
              "  /* fitted */\n",
              "  background-color: var(--sklearn-color-fitted-level-2);\n",
              "}\n",
              "\n",
              "#sk-container-id-2 div.sk-label label.sk-toggleable__label,\n",
              "#sk-container-id-2 div.sk-label label {\n",
              "  /* The background is the default theme color */\n",
              "  color: var(--sklearn-color-text-on-default-background);\n",
              "}\n",
              "\n",
              "/* On hover, darken the color of the background */\n",
              "#sk-container-id-2 div.sk-label:hover label.sk-toggleable__label {\n",
              "  color: var(--sklearn-color-text);\n",
              "  background-color: var(--sklearn-color-unfitted-level-2);\n",
              "}\n",
              "\n",
              "/* Label box, darken color on hover, fitted */\n",
              "#sk-container-id-2 div.sk-label.fitted:hover label.sk-toggleable__label.fitted {\n",
              "  color: var(--sklearn-color-text);\n",
              "  background-color: var(--sklearn-color-fitted-level-2);\n",
              "}\n",
              "\n",
              "/* Estimator label */\n",
              "\n",
              "#sk-container-id-2 div.sk-label label {\n",
              "  font-family: monospace;\n",
              "  font-weight: bold;\n",
              "  display: inline-block;\n",
              "  line-height: 1.2em;\n",
              "}\n",
              "\n",
              "#sk-container-id-2 div.sk-label-container {\n",
              "  text-align: center;\n",
              "}\n",
              "\n",
              "/* Estimator-specific */\n",
              "#sk-container-id-2 div.sk-estimator {\n",
              "  font-family: monospace;\n",
              "  border: 1px dotted var(--sklearn-color-border-box);\n",
              "  border-radius: 0.25em;\n",
              "  box-sizing: border-box;\n",
              "  margin-bottom: 0.5em;\n",
              "  /* unfitted */\n",
              "  background-color: var(--sklearn-color-unfitted-level-0);\n",
              "}\n",
              "\n",
              "#sk-container-id-2 div.sk-estimator.fitted {\n",
              "  /* fitted */\n",
              "  background-color: var(--sklearn-color-fitted-level-0);\n",
              "}\n",
              "\n",
              "/* on hover */\n",
              "#sk-container-id-2 div.sk-estimator:hover {\n",
              "  /* unfitted */\n",
              "  background-color: var(--sklearn-color-unfitted-level-2);\n",
              "}\n",
              "\n",
              "#sk-container-id-2 div.sk-estimator.fitted:hover {\n",
              "  /* fitted */\n",
              "  background-color: var(--sklearn-color-fitted-level-2);\n",
              "}\n",
              "\n",
              "/* Specification for estimator info (e.g. \"i\" and \"?\") */\n",
              "\n",
              "/* Common style for \"i\" and \"?\" */\n",
              "\n",
              ".sk-estimator-doc-link,\n",
              "a:link.sk-estimator-doc-link,\n",
              "a:visited.sk-estimator-doc-link {\n",
              "  float: right;\n",
              "  font-size: smaller;\n",
              "  line-height: 1em;\n",
              "  font-family: monospace;\n",
              "  background-color: var(--sklearn-color-background);\n",
              "  border-radius: 1em;\n",
              "  height: 1em;\n",
              "  width: 1em;\n",
              "  text-decoration: none !important;\n",
              "  margin-left: 0.5em;\n",
              "  text-align: center;\n",
              "  /* unfitted */\n",
              "  border: var(--sklearn-color-unfitted-level-1) 1pt solid;\n",
              "  color: var(--sklearn-color-unfitted-level-1);\n",
              "}\n",
              "\n",
              ".sk-estimator-doc-link.fitted,\n",
              "a:link.sk-estimator-doc-link.fitted,\n",
              "a:visited.sk-estimator-doc-link.fitted {\n",
              "  /* fitted */\n",
              "  border: var(--sklearn-color-fitted-level-1) 1pt solid;\n",
              "  color: var(--sklearn-color-fitted-level-1);\n",
              "}\n",
              "\n",
              "/* On hover */\n",
              "div.sk-estimator:hover .sk-estimator-doc-link:hover,\n",
              ".sk-estimator-doc-link:hover,\n",
              "div.sk-label-container:hover .sk-estimator-doc-link:hover,\n",
              ".sk-estimator-doc-link:hover {\n",
              "  /* unfitted */\n",
              "  background-color: var(--sklearn-color-unfitted-level-3);\n",
              "  color: var(--sklearn-color-background);\n",
              "  text-decoration: none;\n",
              "}\n",
              "\n",
              "div.sk-estimator.fitted:hover .sk-estimator-doc-link.fitted:hover,\n",
              ".sk-estimator-doc-link.fitted:hover,\n",
              "div.sk-label-container:hover .sk-estimator-doc-link.fitted:hover,\n",
              ".sk-estimator-doc-link.fitted:hover {\n",
              "  /* fitted */\n",
              "  background-color: var(--sklearn-color-fitted-level-3);\n",
              "  color: var(--sklearn-color-background);\n",
              "  text-decoration: none;\n",
              "}\n",
              "\n",
              "/* Span, style for the box shown on hovering the info icon */\n",
              ".sk-estimator-doc-link span {\n",
              "  display: none;\n",
              "  z-index: 9999;\n",
              "  position: relative;\n",
              "  font-weight: normal;\n",
              "  right: .2ex;\n",
              "  padding: .5ex;\n",
              "  margin: .5ex;\n",
              "  width: min-content;\n",
              "  min-width: 20ex;\n",
              "  max-width: 50ex;\n",
              "  color: var(--sklearn-color-text);\n",
              "  box-shadow: 2pt 2pt 4pt #999;\n",
              "  /* unfitted */\n",
              "  background: var(--sklearn-color-unfitted-level-0);\n",
              "  border: .5pt solid var(--sklearn-color-unfitted-level-3);\n",
              "}\n",
              "\n",
              ".sk-estimator-doc-link.fitted span {\n",
              "  /* fitted */\n",
              "  background: var(--sklearn-color-fitted-level-0);\n",
              "  border: var(--sklearn-color-fitted-level-3);\n",
              "}\n",
              "\n",
              ".sk-estimator-doc-link:hover span {\n",
              "  display: block;\n",
              "}\n",
              "\n",
              "/* \"?\"-specific style due to the `<a>` HTML tag */\n",
              "\n",
              "#sk-container-id-2 a.estimator_doc_link {\n",
              "  float: right;\n",
              "  font-size: 1rem;\n",
              "  line-height: 1em;\n",
              "  font-family: monospace;\n",
              "  background-color: var(--sklearn-color-background);\n",
              "  border-radius: 1rem;\n",
              "  height: 1rem;\n",
              "  width: 1rem;\n",
              "  text-decoration: none;\n",
              "  /* unfitted */\n",
              "  color: var(--sklearn-color-unfitted-level-1);\n",
              "  border: var(--sklearn-color-unfitted-level-1) 1pt solid;\n",
              "}\n",
              "\n",
              "#sk-container-id-2 a.estimator_doc_link.fitted {\n",
              "  /* fitted */\n",
              "  border: var(--sklearn-color-fitted-level-1) 1pt solid;\n",
              "  color: var(--sklearn-color-fitted-level-1);\n",
              "}\n",
              "\n",
              "/* On hover */\n",
              "#sk-container-id-2 a.estimator_doc_link:hover {\n",
              "  /* unfitted */\n",
              "  background-color: var(--sklearn-color-unfitted-level-3);\n",
              "  color: var(--sklearn-color-background);\n",
              "  text-decoration: none;\n",
              "}\n",
              "\n",
              "#sk-container-id-2 a.estimator_doc_link.fitted:hover {\n",
              "  /* fitted */\n",
              "  background-color: var(--sklearn-color-fitted-level-3);\n",
              "}\n",
              "</style><div id=\"sk-container-id-2\" class=\"sk-top-container\"><div class=\"sk-text-repr-fallback\"><pre>GaussianNB()</pre><b>In a Jupyter environment, please rerun this cell to show the HTML representation or trust the notebook. <br />On GitHub, the HTML representation is unable to render, please try loading this page with nbviewer.org.</b></div><div class=\"sk-container\" hidden><div class=\"sk-item\"><div class=\"sk-estimator fitted sk-toggleable\"><input class=\"sk-toggleable__control sk-hidden--visually\" id=\"sk-estimator-id-2\" type=\"checkbox\" checked><label for=\"sk-estimator-id-2\" class=\"sk-toggleable__label fitted sk-toggleable__label-arrow\"><div><div>GaussianNB</div></div><div><a class=\"sk-estimator-doc-link fitted\" rel=\"noreferrer\" target=\"_blank\" href=\"https://scikit-learn.org/1.6/modules/generated/sklearn.naive_bayes.GaussianNB.html\">?<span>Documentation for GaussianNB</span></a><span class=\"sk-estimator-doc-link fitted\">i<span>Fitted</span></span></div></label><div class=\"sk-toggleable__content fitted\"><pre>GaussianNB()</pre></div> </div></div></div></div>"
            ],
            "text/plain": [
              "GaussianNB()"
            ]
          },
          "execution_count": 61,
          "metadata": {},
          "output_type": "execute_result"
        }
      ],
      "source": [
        "model.fit(X_train_pca, y_train)"
      ]
    },
    {
      "cell_type": "code",
      "execution_count": 62,
      "metadata": {
        "id": "sVf1oIj3ls4U"
      },
      "outputs": [],
      "source": [
        "y_train_pred = model.predict(X_train_pca)"
      ]
    },
    {
      "cell_type": "code",
      "execution_count": 63,
      "metadata": {
        "colab": {
          "base_uri": "https://localhost:8080/"
        },
        "id": "9J0L2dTplxQ2",
        "outputId": "d3266d48-7528-456e-dbed-13c90f9ed1ad"
      },
      "outputs": [
        {
          "name": "stdout",
          "output_type": "stream",
          "text": [
            "              precision    recall  f1-score   support\n",
            "\n",
            "         0.0       0.94      0.92      0.93     10273\n",
            "         1.0       0.92      0.94      0.93     10233\n",
            "\n",
            "    accuracy                           0.93     20506\n",
            "   macro avg       0.93      0.93      0.93     20506\n",
            "weighted avg       0.93      0.93      0.93     20506\n",
            "\n"
          ]
        }
      ],
      "source": [
        "print(classification_report(y_train, y_train_pred))"
      ]
    },
    {
      "cell_type": "code",
      "execution_count": 64,
      "metadata": {
        "id": "r0plVDRQ-XX9"
      },
      "outputs": [],
      "source": [
        "X_val_std = scaler.transform(X_val)\n",
        "X_val_pca = pca.transform(X_val_std)"
      ]
    },
    {
      "cell_type": "code",
      "execution_count": 65,
      "metadata": {
        "id": "pk_NMVG4-UtK"
      },
      "outputs": [],
      "source": [
        "y_val_pred = model.predict(X_val_pca)"
      ]
    },
    {
      "cell_type": "code",
      "execution_count": 66,
      "metadata": {
        "colab": {
          "base_uri": "https://localhost:8080/"
        },
        "id": "9MZemB19-UtM",
        "outputId": "779e3d73-ebf0-4c10-a75a-bd38f1eca212"
      },
      "outputs": [
        {
          "name": "stdout",
          "output_type": "stream",
          "text": [
            "              precision    recall  f1-score   support\n",
            "\n",
            "         0.0       0.94      0.93      0.94      2527\n",
            "         1.0       0.93      0.94      0.94      2600\n",
            "\n",
            "    accuracy                           0.94      5127\n",
            "   macro avg       0.94      0.94      0.94      5127\n",
            "weighted avg       0.94      0.94      0.94      5127\n",
            "\n"
          ]
        }
      ],
      "source": [
        "print(classification_report(y_val, y_val_pred))"
      ]
    },
    {
      "cell_type": "code",
      "execution_count": 67,
      "metadata": {
        "colab": {
          "base_uri": "https://localhost:8080/"
        },
        "id": "JWxLrsdytywE",
        "outputId": "f665d9c9-59f1-48a9-dcfd-dd06f00616c5"
      },
      "outputs": [
        {
          "data": {
            "text/plain": [
              "['modelo_entrenado.joblib']"
            ]
          },
          "execution_count": 67,
          "metadata": {},
          "output_type": "execute_result"
        }
      ],
      "source": [
        "# Guardar el modelo\n",
        "joblib.dump(model, 'modelo_entrenado.joblib')"
      ]
    },
    {
      "cell_type": "markdown",
      "metadata": {},
      "source": [
        "# Encontrar los mejores hiperparámetros"
      ]
    },
    {
      "cell_type": "code",
      "execution_count": 68,
      "metadata": {},
      "outputs": [],
      "source": [
        "# pip install optuna"
      ]
    },
    {
      "cell_type": "code",
      "execution_count": 69,
      "metadata": {
        "id": "nh_qv7TsuES3"
      },
      "outputs": [
        {
          "name": "stderr",
          "output_type": "stream",
          "text": [
            "/Users/rodrigobenitez/Library/Python/3.9/lib/python/site-packages/tqdm/auto.py:21: TqdmWarning: IProgress not found. Please update jupyter and ipywidgets. See https://ipywidgets.readthedocs.io/en/stable/user_install.html\n",
            "  from .autonotebook import tqdm as notebook_tqdm\n"
          ]
        }
      ],
      "source": [
        "import optuna\n",
        "from sklearn.model_selection import cross_val_score\n",
        "from sklearn.metrics import f1_score"
      ]
    },
    {
      "cell_type": "code",
      "execution_count": 70,
      "metadata": {},
      "outputs": [],
      "source": [
        "# Define the objective function for Optuna optimization (GaussianNB only)\n",
        "def objective(trial):\n",
        "    # Suggest hyperparameters only for GaussianNB\n",
        "    var_smoothing = trial.suggest_float('var_smoothing', 1e-12, 1e-6, log=True)\n",
        "    \n",
        "    # Use the existing PCA transformation (with original parameters: 500 components, whiten=True)\n",
        "    # We'll use the already fitted PCA from your original model\n",
        "    \n",
        "    # Create and train GaussianNB with suggested parameters\n",
        "    model_trial = GaussianNB(var_smoothing=var_smoothing)\n",
        "    \n",
        "    # Use cross-validation to evaluate the model\n",
        "    # We use the existing X_train_pca (from your original PCA with 500 components)\n",
        "    cv_scores = cross_val_score(model_trial, X_train_pca, y_train, \n",
        "                               cv=5, scoring='f1', n_jobs=-1)\n",
        "    \n",
        "    # Return the mean cross-validation score\n",
        "    return cv_scores.mean()"
      ]
    },
    {
      "cell_type": "code",
      "execution_count": 71,
      "metadata": {},
      "outputs": [
        {
          "name": "stderr",
          "output_type": "stream",
          "text": [
            "[I 2025-06-22 16:43:32,245] A new study created in memory with name: no-name-18e80d44-09b2-4134-bc9f-2be0f0b9769a\n"
          ]
        },
        {
          "name": "stdout",
          "output_type": "stream",
          "text": [
            "Starting hyperparameter optimization with Optuna...\n"
          ]
        },
        {
          "name": "stderr",
          "output_type": "stream",
          "text": [
            "Python(2888) MallocStackLogging: can't turn off malloc stack logging because it was not enabled.\n",
            "Python(2889) MallocStackLogging: can't turn off malloc stack logging because it was not enabled.\n",
            "Python(2890) MallocStackLogging: can't turn off malloc stack logging because it was not enabled.\n",
            "Python(2891) MallocStackLogging: can't turn off malloc stack logging because it was not enabled.\n",
            "Python(2892) MallocStackLogging: can't turn off malloc stack logging because it was not enabled.\n",
            "Python(2893) MallocStackLogging: can't turn off malloc stack logging because it was not enabled.\n",
            "Python(2894) MallocStackLogging: can't turn off malloc stack logging because it was not enabled.\n",
            "Python(2895) MallocStackLogging: can't turn off malloc stack logging because it was not enabled.\n",
            "[I 2025-06-22 16:43:36,428] Trial 0 finished with value: 0.9310707212000254 and parameters: {'var_smoothing': 1.6969066988589125e-09}. Best is trial 0 with value: 0.9310707212000254.\n",
            "[I 2025-06-22 16:43:37,595] Trial 1 finished with value: 0.9310707212000254 and parameters: {'var_smoothing': 3.600022660575141e-08}. Best is trial 0 with value: 0.9310707212000254.\n",
            "[I 2025-06-22 16:43:37,920] Trial 2 finished with value: 0.9310707212000254 and parameters: {'var_smoothing': 8.316823163382466e-12}. Best is trial 0 with value: 0.9310707212000254.\n",
            "[I 2025-06-22 16:43:38,206] Trial 3 finished with value: 0.9310707212000254 and parameters: {'var_smoothing': 8.896619022187397e-11}. Best is trial 0 with value: 0.9310707212000254.\n",
            "[I 2025-06-22 16:43:38,601] Trial 4 finished with value: 0.9310707212000254 and parameters: {'var_smoothing': 4.117953986573867e-07}. Best is trial 0 with value: 0.9310707212000254.\n",
            "[I 2025-06-22 16:43:38,951] Trial 5 finished with value: 0.9310707212000254 and parameters: {'var_smoothing': 1.8435263747696397e-09}. Best is trial 0 with value: 0.9310707212000254.\n",
            "[I 2025-06-22 16:43:39,282] Trial 6 finished with value: 0.9310707212000254 and parameters: {'var_smoothing': 5.723970059127915e-11}. Best is trial 0 with value: 0.9310707212000254.\n",
            "[I 2025-06-22 16:43:39,668] Trial 7 finished with value: 0.9310707212000254 and parameters: {'var_smoothing': 1.3272432589265247e-10}. Best is trial 0 with value: 0.9310707212000254.\n",
            "[I 2025-06-22 16:43:40,016] Trial 8 finished with value: 0.9310707212000254 and parameters: {'var_smoothing': 2.664335504575153e-07}. Best is trial 0 with value: 0.9310707212000254.\n",
            "[I 2025-06-22 16:43:40,565] Trial 9 finished with value: 0.9310707212000254 and parameters: {'var_smoothing': 4.5880192013116787e-10}. Best is trial 0 with value: 0.9310707212000254.\n",
            "[I 2025-06-22 16:43:40,960] Trial 10 finished with value: 0.9310707212000254 and parameters: {'var_smoothing': 4.399017869001671e-09}. Best is trial 0 with value: 0.9310707212000254.\n",
            "[I 2025-06-22 16:43:41,283] Trial 11 finished with value: 0.9310707212000254 and parameters: {'var_smoothing': 2.3876282599530746e-08}. Best is trial 0 with value: 0.9310707212000254.\n",
            "[I 2025-06-22 16:43:41,608] Trial 12 finished with value: 0.9310707212000254 and parameters: {'var_smoothing': 2.021337007511841e-08}. Best is trial 0 with value: 0.9310707212000254.\n",
            "[I 2025-06-22 16:43:41,981] Trial 13 finished with value: 0.9310707212000254 and parameters: {'var_smoothing': 4.516502237333811e-08}. Best is trial 0 with value: 0.9310707212000254.\n",
            "[I 2025-06-22 16:43:42,287] Trial 14 finished with value: 0.9310707212000254 and parameters: {'var_smoothing': 4.933941735454727e-09}. Best is trial 0 with value: 0.9310707212000254.\n",
            "[I 2025-06-22 16:43:42,633] Trial 15 finished with value: 0.9310707212000254 and parameters: {'var_smoothing': 1.0119823883372405e-12}. Best is trial 0 with value: 0.9310707212000254.\n",
            "[I 2025-06-22 16:43:42,936] Trial 16 finished with value: 0.9310707212000254 and parameters: {'var_smoothing': 5.030763670268513e-08}. Best is trial 0 with value: 0.9310707212000254.\n",
            "[I 2025-06-22 16:43:43,221] Trial 17 finished with value: 0.9310707212000254 and parameters: {'var_smoothing': 7.427150333821666e-10}. Best is trial 0 with value: 0.9310707212000254.\n",
            "[I 2025-06-22 16:43:43,500] Trial 18 finished with value: 0.9310707212000254 and parameters: {'var_smoothing': 8.772116751188439e-07}. Best is trial 0 with value: 0.9310707212000254.\n",
            "[I 2025-06-22 16:43:43,825] Trial 19 finished with value: 0.9310707212000254 and parameters: {'var_smoothing': 1.283012123563891e-07}. Best is trial 0 with value: 0.9310707212000254.\n",
            "[I 2025-06-22 16:43:44,107] Trial 20 finished with value: 0.9310707212000254 and parameters: {'var_smoothing': 1.8372628960262698e-11}. Best is trial 0 with value: 0.9310707212000254.\n",
            "[I 2025-06-22 16:43:44,400] Trial 21 finished with value: 0.9310707212000254 and parameters: {'var_smoothing': 4.4776566832326635e-12}. Best is trial 0 with value: 0.9310707212000254.\n",
            "[I 2025-06-22 16:43:44,692] Trial 22 finished with value: 0.9310707212000254 and parameters: {'var_smoothing': 8.124597623270848e-09}. Best is trial 0 with value: 0.9310707212000254.\n",
            "[I 2025-06-22 16:43:44,967] Trial 23 finished with value: 0.9310707212000254 and parameters: {'var_smoothing': 7.189306651215129e-10}. Best is trial 0 with value: 0.9310707212000254.\n",
            "[I 2025-06-22 16:43:45,256] Trial 24 finished with value: 0.9310707212000254 and parameters: {'var_smoothing': 1.774452761107525e-11}. Best is trial 0 with value: 0.9310707212000254.\n",
            "[I 2025-06-22 16:43:45,533] Trial 25 finished with value: 0.9310707212000254 and parameters: {'var_smoothing': 2.368575304672082e-10}. Best is trial 0 with value: 0.9310707212000254.\n",
            "[I 2025-06-22 16:43:45,834] Trial 26 finished with value: 0.9310707212000254 and parameters: {'var_smoothing': 2.5481766665675405e-09}. Best is trial 0 with value: 0.9310707212000254.\n",
            "[I 2025-06-22 16:43:46,108] Trial 27 finished with value: 0.9310707212000254 and parameters: {'var_smoothing': 1.5032443294944292e-11}. Best is trial 0 with value: 0.9310707212000254.\n",
            "[I 2025-06-22 16:43:46,383] Trial 28 finished with value: 0.9310707212000254 and parameters: {'var_smoothing': 1.1711431237873468e-08}. Best is trial 0 with value: 0.9310707212000254.\n",
            "[I 2025-06-22 16:43:46,662] Trial 29 finished with value: 0.9310707212000254 and parameters: {'var_smoothing': 1.0652567732092764e-12}. Best is trial 0 with value: 0.9310707212000254.\n",
            "[I 2025-06-22 16:43:46,985] Trial 30 finished with value: 0.9310707212000254 and parameters: {'var_smoothing': 7.926858502205868e-11}. Best is trial 0 with value: 0.9310707212000254.\n",
            "[I 2025-06-22 16:43:47,266] Trial 31 finished with value: 0.9310707212000254 and parameters: {'var_smoothing': 5.224612110167398e-12}. Best is trial 0 with value: 0.9310707212000254.\n",
            "[I 2025-06-22 16:43:47,546] Trial 32 finished with value: 0.9310707212000254 and parameters: {'var_smoothing': 3.4106427710734234e-11}. Best is trial 0 with value: 0.9310707212000254.\n",
            "[I 2025-06-22 16:43:47,819] Trial 33 finished with value: 0.9310707212000254 and parameters: {'var_smoothing': 2.6216871276234187e-10}. Best is trial 0 with value: 0.9310707212000254.\n",
            "[I 2025-06-22 16:43:48,110] Trial 34 finished with value: 0.9310707212000254 and parameters: {'var_smoothing': 4.472540725440263e-12}. Best is trial 0 with value: 0.9310707212000254.\n",
            "[I 2025-06-22 16:43:48,390] Trial 35 finished with value: 0.9310707212000254 and parameters: {'var_smoothing': 1.990025591155247e-09}. Best is trial 0 with value: 0.9310707212000254.\n",
            "[I 2025-06-22 16:43:48,675] Trial 36 finished with value: 0.9310707212000254 and parameters: {'var_smoothing': 9.006649319586663e-11}. Best is trial 0 with value: 0.9310707212000254.\n",
            "[I 2025-06-22 16:43:48,958] Trial 37 finished with value: 0.9310707212000254 and parameters: {'var_smoothing': 1.402085775674746e-07}. Best is trial 0 with value: 0.9310707212000254.\n",
            "[I 2025-06-22 16:43:49,225] Trial 38 finished with value: 0.9310707212000254 and parameters: {'var_smoothing': 2.172888496129774e-10}. Best is trial 0 with value: 0.9310707212000254.\n",
            "[I 2025-06-22 16:43:49,498] Trial 39 finished with value: 0.9310707212000254 and parameters: {'var_smoothing': 4.5850205150825306e-11}. Best is trial 0 with value: 0.9310707212000254.\n",
            "[I 2025-06-22 16:43:49,775] Trial 40 finished with value: 0.9310707212000254 and parameters: {'var_smoothing': 2.594020547355527e-12}. Best is trial 0 with value: 0.9310707212000254.\n",
            "[I 2025-06-22 16:43:50,051] Trial 41 finished with value: 0.9310707212000254 and parameters: {'var_smoothing': 2.758443022468194e-07}. Best is trial 0 with value: 0.9310707212000254.\n",
            "[I 2025-06-22 16:43:50,332] Trial 42 finished with value: 0.9310707212000254 and parameters: {'var_smoothing': 8.843003813606467e-07}. Best is trial 0 with value: 0.9310707212000254.\n",
            "[I 2025-06-22 16:43:50,604] Trial 43 finished with value: 0.9310707212000254 and parameters: {'var_smoothing': 3.5915116617080867e-07}. Best is trial 0 with value: 0.9310707212000254.\n",
            "[I 2025-06-22 16:43:50,876] Trial 44 finished with value: 0.9310707212000254 and parameters: {'var_smoothing': 5.298484505474314e-08}. Best is trial 0 with value: 0.9310707212000254.\n",
            "[I 2025-06-22 16:43:51,140] Trial 45 finished with value: 0.9310707212000254 and parameters: {'var_smoothing': 3.146145697979816e-08}. Best is trial 0 with value: 0.9310707212000254.\n",
            "[I 2025-06-22 16:43:51,417] Trial 46 finished with value: 0.9310707212000254 and parameters: {'var_smoothing': 1.0855194399838098e-09}. Best is trial 0 with value: 0.9310707212000254.\n",
            "[I 2025-06-22 16:43:51,693] Trial 47 finished with value: 0.9310707212000254 and parameters: {'var_smoothing': 4.474099199865165e-09}. Best is trial 0 with value: 0.9310707212000254.\n",
            "[I 2025-06-22 16:43:51,982] Trial 48 finished with value: 0.9310707212000254 and parameters: {'var_smoothing': 1.205737209236821e-07}. Best is trial 0 with value: 0.9310707212000254.\n",
            "[I 2025-06-22 16:43:52,256] Trial 49 finished with value: 0.9310707212000254 and parameters: {'var_smoothing': 1.066593505351478e-08}. Best is trial 0 with value: 0.9310707212000254.\n"
          ]
        },
        {
          "name": "stdout",
          "output_type": "stream",
          "text": [
            "Optimization completed!\n",
            "Best trial: 0\n",
            "Best F1-score: 0.9311\n",
            "Best parameters:\n",
            "  var_smoothing: 1.6969066988589125e-09\n"
          ]
        }
      ],
      "source": [
        "# Create a study object and optimize\n",
        "print(\"Starting hyperparameter optimization with Optuna...\")\n",
        "study = optuna.create_study(direction='maximize')  # We want to maximize F1-score\n",
        "study.optimize(objective, n_trials=50)  # You can increase n_trials for better results\n",
        "\n",
        "print(\"Optimization completed!\")\n",
        "print(f\"Best trial: {study.best_trial.number}\")\n",
        "print(f\"Best F1-score: {study.best_value:.4f}\")\n",
        "print(\"Best parameters:\")\n",
        "for key, value in study.best_params.items():\n",
        "    print(f\"  {key}: {value}\")\n"
      ]
    },
    {
      "cell_type": "code",
      "execution_count": 72,
      "metadata": {},
      "outputs": [
        {
          "name": "stdout",
          "output_type": "stream",
          "text": [
            "Optimized GaussianNB model trained successfully!\n",
            "Best var_smoothing parameter: 1.6969066988589125e-09\n"
          ]
        }
      ],
      "source": [
        "# Train the final model with the best parameters\n",
        "best_params = study.best_params\n",
        "\n",
        "# Use the existing PCA (no optimization needed for PCA)\n",
        "# We'll use the original pca object that was already fitted\n",
        "pca_optimized = pca  # Use the original PCA with 500 components and whiten=True\n",
        "X_train_pca_optimized = X_train_pca  # Use the existing transformation\n",
        "\n",
        "# Create and train GaussianNB with best parameters\n",
        "model_optimized = GaussianNB(var_smoothing=best_params['var_smoothing'])\n",
        "model_optimized.fit(X_train_pca_optimized, y_train)\n",
        "\n",
        "print(\"Optimized GaussianNB model trained successfully!\")\n",
        "print(f\"Best var_smoothing parameter: {best_params['var_smoothing']}\")\n"
      ]
    },
    {
      "cell_type": "code",
      "execution_count": 73,
      "metadata": {},
      "outputs": [
        {
          "name": "stdout",
          "output_type": "stream",
          "text": [
            "========== OPTIMIZED MODEL - TRAINING RESULTS ==========\n",
            "              precision    recall  f1-score   support\n",
            "\n",
            "         0.0       0.94      0.92      0.93     10273\n",
            "         1.0       0.92      0.94      0.93     10233\n",
            "\n",
            "    accuracy                           0.93     20506\n",
            "   macro avg       0.93      0.93      0.93     20506\n",
            "weighted avg       0.93      0.93      0.93     20506\n",
            "\n"
          ]
        }
      ],
      "source": [
        "# Evaluate the optimized model on training data\n",
        "y_train_pred_optimized = model_optimized.predict(X_train_pca_optimized)\n",
        "print(\"========== OPTIMIZED MODEL - TRAINING RESULTS ==========\")\n",
        "print(classification_report(y_train, y_train_pred_optimized))\n"
      ]
    },
    {
      "cell_type": "code",
      "execution_count": 74,
      "metadata": {},
      "outputs": [],
      "source": [
        "# # Compare original vs optimized model performance\n",
        "# print(\"=== PERFORMANCE COMPARISON ===\")\n",
        "# print(\"\\nOriginal Model (Validation):\")\n",
        "# print(f\"F1-score: {f1_score(y_val, y_val_pred):.4f}\")\n",
        "\n",
        "# print(\"\\nOptimized Model (Validation):\")\n",
        "# print(f\"F1-score: {f1_score(y_val, y_val_pred_optimized):.4f}\")\n",
        "\n",
        "# improvement = f1_score(y_val, y_val_pred_optimized) - f1_score(y_val, y_val_pred)\n",
        "# print(f\"\\nImprovement: {improvement:.4f} ({improvement*100:.2f}%)\")\n"
      ]
    },
    {
      "cell_type": "code",
      "execution_count": 75,
      "metadata": {},
      "outputs": [
        {
          "data": {
            "image/png": "[encoded data removed]",
            "text/plain": [
              "<Figure size 1500x500 with 2 Axes>"
            ]
          },
          "metadata": {},
          "output_type": "display_data"
        }
      ],
      "source": [
        "# Visualize optimization history\n",
        "import matplotlib.pyplot as plt\n",
        "\n",
        "# Plot optimization history\n",
        "fig, (ax1, ax2) = plt.subplots(1, 2, figsize=(15, 5))\n",
        "\n",
        "# Plot objective values over trials\n",
        "trials_df = study.trials_dataframe()\n",
        "ax1.plot(trials_df['number'], trials_df['value'])\n",
        "ax1.set_xlabel('Trial Number')\n",
        "ax1.set_ylabel('F1-Score')\n",
        "ax1.set_title('Optimization Progress')\n",
        "ax1.grid(True)\n",
        "\n",
        "# Plot parameter importance (if available)\n",
        "try:\n",
        "    importance = optuna.importance.get_param_importances(study)\n",
        "    params = list(importance.keys())\n",
        "    values = list(importance.values())\n",
        "    \n",
        "    ax2.barh(params, values)\n",
        "    ax2.set_xlabel('Importance')\n",
        "    ax2.set_title('Parameter Importance')\n",
        "    ax2.grid(True)\n",
        "except:\n",
        "    ax2.text(0.5, 0.5, 'Parameter importance\\nnot available', \n",
        "             ha='center', va='center', transform=ax2.transAxes)\n",
        "    ax2.set_title('Parameter Importance')\n",
        "\n",
        "plt.tight_layout()\n",
        "plt.show()\n"
      ]
    },
    {
      "cell_type": "code",
      "execution_count": 76,
      "metadata": {},
      "outputs": [
        {
          "name": "stdout",
          "output_type": "stream",
          "text": [
            "Optimized GaussianNB model saved successfully!\n",
            "- GaussianNB optimized: modelo_gaussianNB_optimizado.joblib\n",
            "- PCA (unchanged): pca.joblib\n",
            "- Scaler (unchanged): scaler.joblib\n"
          ]
        }
      ],
      "source": [
        "# Save the optimized GaussianNB model\n",
        "# Note: PCA remains the same as original (500 components, whiten=True)\n",
        "joblib.dump(model_optimized, 'modelo_gaussianNB_optimizado.joblib')\n",
        "\n",
        "print(\"Optimized GaussianNB model saved successfully!\")\n",
        "print(f\"- GaussianNB optimized: modelo_gaussianNB_optimizado.joblib\")\n",
        "print(f\"- PCA (unchanged): pca.joblib\")\n",
        "print(f\"- Scaler (unchanged): scaler.joblib\")\n"
      ]
    },
    {
      "cell_type": "code",
      "execution_count": 77,
      "metadata": {},
      "outputs": [
        {
          "name": "stdout",
          "output_type": "stream",
          "text": [
            "=== OPTIMIZED MODEL - VALIDATION RESULTS ===\n",
            "              precision    recall  f1-score   support\n",
            "\n",
            "         0.0       0.94      0.93      0.94      2527\n",
            "         1.0       0.93      0.94      0.94      2600\n",
            "\n",
            "    accuracy                           0.94      5127\n",
            "   macro avg       0.94      0.94      0.94      5127\n",
            "weighted avg       0.94      0.94      0.94      5127\n",
            "\n",
            "=== OPTIMIZED MODEL - VALIDATION RESULTS ===\n",
            "              precision    recall  f1-score   support\n",
            "\n",
            "         0.0       0.94      0.93      0.94      2527\n",
            "         1.0       0.93      0.94      0.94      2600\n",
            "\n",
            "    accuracy                           0.94      5127\n",
            "   macro avg       0.94      0.94      0.94      5127\n",
            "weighted avg       0.94      0.94      0.94      5127\n",
            "\n"
          ]
        }
      ],
      "source": [
        "# Evaluate the optimized model on validation data\n",
        "X_val_pca_optimized = X_val_pca  # Use the existing validation PCA transformation\n",
        "y_val_pred_optimized = model_optimized.predict(X_val_pca_optimized)\n",
        "\n",
        "print(\"=== OPTIMIZED MODEL - VALIDATION RESULTS ===\")\n",
        "print(classification_report(y_val, y_val_pred_optimized))\n",
        "y_val_pred_optimized = model_optimized.predict(X_val_pca_optimized)\n",
        "\n",
        "print(\"=== OPTIMIZED MODEL - VALIDATION RESULTS ===\")\n",
        "print(classification_report(y_val, y_val_pred_optimized))\n"
      ]
    },
    {
      "cell_type": "code",
      "execution_count": 78,
      "metadata": {},
      "outputs": [],
      "source": [
        "# Define the objective function for Optuna optimization\n",
        "def objective(trial):\n",
        "    # Suggest hyperparameters\n",
        "    n_components = trial.suggest_int('n_components', 50, 1000, step=50)\n",
        "    whiten = trial.suggest_categorical('whiten', [True, False])\n",
        "    var_smoothing = trial.suggest_float('var_smoothing', 1e-12, 1e-6, log=True)\n",
        "    \n",
        "    # Apply PCA with suggested parameters\n",
        "    pca_trial = PCA(n_components=n_components, whiten=whiten)\n",
        "    X_train_pca_trial = pca_trial.fit_transform(X_train_std)\n",
        "    \n",
        "    # Create and train GaussianNB with suggested parameters\n",
        "    model_trial = GaussianNB(var_smoothing=var_smoothing)\n",
        "    \n",
        "    # Use cross-validation to evaluate the model\n",
        "    # We use f1_score as the metric since it's good for binary classification\n",
        "    cv_scores = cross_val_score(model_trial, X_train_pca_trial, y_train, \n",
        "                               cv=5, scoring='f1', n_jobs=-1)\n",
        "    \n",
        "    # Return the mean cross-validation score\n",
        "    return cv_scores.mean()\n"
      ]
    },
    {
      "cell_type": "markdown",
      "metadata": {},
      "source": [
        "#######"
      ]
    },
    {
      "cell_type": "code",
      "execution_count": 79,
      "metadata": {},
      "outputs": [],
      "source": [
        "# Define the objective function for Optuna optimization\n",
        "def objective(trial):\n",
        "    # Hyperparameters to optimize\n",
        "    n_positive_samples = trial.suggest_int('n_positive_samples', 2000, len(positive_patches), step=1000)\n",
        "    var_smoothing = trial.suggest_float('var_smoothing', 1e-12, 1e-6, log=True)\n",
        "\n",
        "    # --- Data Preparation inside the objective ---\n",
        "    # Select a subset of positive patches\n",
        "    current_positive_patches = positive_patches[:n_positive_samples]\n",
        "\n",
        "    # Combine positive and negative patches to form the full dataset\n",
        "    X_full = np.array([feature.hog(im) for im in chain(current_positive_patches, negative_patches)])\n",
        "    y_full = np.zeros(len(X_full))\n",
        "    y_full[:len(current_positive_patches)] = 1\n",
        "\n",
        "    # Split data into training and validation sets\n",
        "    X_train_trial, X_val_trial, y_train_trial, y_val_trial = train_test_split(X_full, y_full, test_size=0.2, random_state=42)\n",
        "\n",
        "    # Scale the features\n",
        "    scaler_trial = StandardScaler()\n",
        "    X_train_std_trial = scaler_trial.fit_transform(X_train_trial)\n",
        "\n",
        "    # Apply PCA (fixed parameters as per previous discussion, n_components=500, whiten=True)\n",
        "    pca_trial = PCA(n_components=500, whiten=True)\n",
        "    X_train_pca_trial = pca_trial.fit_transform(X_train_std_trial)\n",
        "    # --- End Data Preparation ---\n",
        "\n",
        "    # Create and train GaussianNB with suggested parameters\n",
        "    model_trial = GaussianNB(var_smoothing=var_smoothing)\n",
        "\n",
        "    # Use cross-validation to evaluate the model\n",
        "    cv_scores = cross_val_score(model_trial, X_train_pca_trial, y_train_trial,\n",
        "                                cv=5, scoring='f1', n_jobs=-1)\n",
        "\n",
        "    # Return the mean cross-validation score\n",
        "    return cv_scores.mean()"
      ]
    },
    {
      "cell_type": "code",
      "execution_count": 80,
      "metadata": {},
      "outputs": [
        {
          "name": "stderr",
          "output_type": "stream",
          "text": [
            "[I 2025-06-22 16:43:53,050] A new study created in memory with name: no-name-3e19fbaf-74fe-4459-aa00-6f3a117675f0\n"
          ]
        },
        {
          "name": "stdout",
          "output_type": "stream",
          "text": [
            "Starting hyperparameter optimization with Optuna...\n"
          ]
        },
        {
          "name": "stderr",
          "output_type": "stream",
          "text": [
            "  0%|          | 0/50 [00:00<?, ?it/s]/Users/rodrigobenitez/Library/Python/3.9/lib/python/site-packages/optuna/distributions.py:702: UserWarning: The distribution is specified by [2000, 12833] and step=1000, but the range is not divisible by `step`. It will be replaced by [2000, 12000].\n",
            "  warnings.warn(\n",
            "Best trial: 0. Best value: 0.929757:   2%|▏         | 1/50 [00:16<13:04, 16.01s/it]/Users/rodrigobenitez/Library/Python/3.9/lib/python/site-packages/optuna/distributions.py:702: UserWarning: The distribution is specified by [2000, 12833] and step=1000, but the range is not divisible by `step`. It will be replaced by [2000, 12000].\n",
            "  warnings.warn(\n"
          ]
        },
        {
          "name": "stdout",
          "output_type": "stream",
          "text": [
            "[I 2025-06-22 16:44:09,062] Trial 0 finished with value: 0.9297574605239705 and parameters: {'n_positive_samples': 8000, 'var_smoothing': 3.382547857295605e-09}. Best is trial 0 with value: 0.9297574605239705.\n"
          ]
        },
        {
          "name": "stderr",
          "output_type": "stream",
          "text": [
            "Best trial: 0. Best value: 0.929757:   4%|▍         | 2/50 [00:27<10:42, 13.38s/it]/Users/rodrigobenitez/Library/Python/3.9/lib/python/site-packages/optuna/distributions.py:702: UserWarning: The distribution is specified by [2000, 12833] and step=1000, but the range is not divisible by `step`. It will be replaced by [2000, 12000].\n",
            "  warnings.warn(\n"
          ]
        },
        {
          "name": "stdout",
          "output_type": "stream",
          "text": [
            "[I 2025-06-22 16:44:20,606] Trial 1 finished with value: 0.8958178381059666 and parameters: {'n_positive_samples': 4000, 'var_smoothing': 1.3016936779653399e-12}. Best is trial 0 with value: 0.9297574605239705.\n"
          ]
        },
        {
          "name": "stderr",
          "output_type": "stream",
          "text": [
            "Best trial: 0. Best value: 0.929757:   6%|▌         | 3/50 [00:38<09:46, 12.49s/it]/Users/rodrigobenitez/Library/Python/3.9/lib/python/site-packages/optuna/distributions.py:702: UserWarning: The distribution is specified by [2000, 12833] and step=1000, but the range is not divisible by `step`. It will be replaced by [2000, 12000].\n",
            "  warnings.warn(\n"
          ]
        },
        {
          "name": "stdout",
          "output_type": "stream",
          "text": [
            "[I 2025-06-22 16:44:32,027] Trial 2 finished with value: 0.8948223982502419 and parameters: {'n_positive_samples': 4000, 'var_smoothing': 8.236616752150467e-08}. Best is trial 0 with value: 0.9297574605239705.\n"
          ]
        },
        {
          "name": "stderr",
          "output_type": "stream",
          "text": [
            "Best trial: 0. Best value: 0.929757:   8%|▊         | 4/50 [00:49<08:50, 11.54s/it]/Users/rodrigobenitez/Library/Python/3.9/lib/python/site-packages/optuna/distributions.py:702: UserWarning: The distribution is specified by [2000, 12833] and step=1000, but the range is not divisible by `step`. It will be replaced by [2000, 12000].\n",
            "  warnings.warn(\n"
          ]
        },
        {
          "name": "stdout",
          "output_type": "stream",
          "text": [
            "[I 2025-06-22 16:44:42,118] Trial 3 finished with value: 0.8925213067654785 and parameters: {'n_positive_samples': 3000, 'var_smoothing': 8.949562457447403e-10}. Best is trial 0 with value: 0.9297574605239705.\n"
          ]
        },
        {
          "name": "stderr",
          "output_type": "stream",
          "text": [
            "Best trial: 0. Best value: 0.929757:  10%|█         | 5/50 [00:58<08:03, 10.74s/it]/Users/rodrigobenitez/Library/Python/3.9/lib/python/site-packages/optuna/distributions.py:702: UserWarning: The distribution is specified by [2000, 12833] and step=1000, but the range is not divisible by `step`. It will be replaced by [2000, 12000].\n",
            "  warnings.warn(\n"
          ]
        },
        {
          "name": "stdout",
          "output_type": "stream",
          "text": [
            "[I 2025-06-22 16:44:51,428] Trial 4 finished with value: 0.8949680141254228 and parameters: {'n_positive_samples': 2000, 'var_smoothing': 4.2600728673312426e-12}. Best is trial 0 with value: 0.9297574605239705.\n"
          ]
        },
        {
          "name": "stderr",
          "output_type": "stream",
          "text": [
            "Best trial: 0. Best value: 0.929757:  12%|█▏        | 6/50 [01:09<07:58, 10.88s/it]/Users/rodrigobenitez/Library/Python/3.9/lib/python/site-packages/optuna/distributions.py:702: UserWarning: The distribution is specified by [2000, 12833] and step=1000, but the range is not divisible by `step`. It will be replaced by [2000, 12000].\n",
            "  warnings.warn(\n"
          ]
        },
        {
          "name": "stdout",
          "output_type": "stream",
          "text": [
            "[I 2025-06-22 16:45:02,598] Trial 5 finished with value: 0.8942885367472113 and parameters: {'n_positive_samples': 4000, 'var_smoothing': 4.271495867313466e-12}. Best is trial 0 with value: 0.9297574605239705.\n"
          ]
        },
        {
          "name": "stderr",
          "output_type": "stream",
          "text": [
            "Best trial: 6. Best value: 0.93803:  14%|█▍        | 7/50 [01:25<08:56, 12.48s/it] /Users/rodrigobenitez/Library/Python/3.9/lib/python/site-packages/optuna/distributions.py:702: UserWarning: The distribution is specified by [2000, 12833] and step=1000, but the range is not divisible by `step`. It will be replaced by [2000, 12000].\n",
            "  warnings.warn(\n"
          ]
        },
        {
          "name": "stdout",
          "output_type": "stream",
          "text": [
            "[I 2025-06-22 16:45:18,350] Trial 6 finished with value: 0.938030009333447 and parameters: {'n_positive_samples': 12000, 'var_smoothing': 4.091274906126516e-07}. Best is trial 6 with value: 0.938030009333447.\n"
          ]
        },
        {
          "name": "stderr",
          "output_type": "stream",
          "text": [
            "Best trial: 6. Best value: 0.93803:  16%|█▌        | 8/50 [01:37<08:35, 12.27s/it]/Users/rodrigobenitez/Library/Python/3.9/lib/python/site-packages/optuna/distributions.py:702: UserWarning: The distribution is specified by [2000, 12833] and step=1000, but the range is not divisible by `step`. It will be replaced by [2000, 12000].\n",
            "  warnings.warn(\n"
          ]
        },
        {
          "name": "stdout",
          "output_type": "stream",
          "text": [
            "[I 2025-06-22 16:45:30,180] Trial 7 finished with value: 0.9024523427592275 and parameters: {'n_positive_samples': 6000, 'var_smoothing': 9.177180324117256e-10}. Best is trial 6 with value: 0.938030009333447.\n"
          ]
        },
        {
          "name": "stderr",
          "output_type": "stream",
          "text": [
            "Best trial: 6. Best value: 0.93803:  18%|█▊        | 9/50 [01:46<07:52, 11.52s/it]/Users/rodrigobenitez/Library/Python/3.9/lib/python/site-packages/optuna/distributions.py:702: UserWarning: The distribution is specified by [2000, 12833] and step=1000, but the range is not divisible by `step`. It will be replaced by [2000, 12000].\n",
            "  warnings.warn(\n"
          ]
        },
        {
          "name": "stdout",
          "output_type": "stream",
          "text": [
            "[I 2025-06-22 16:45:40,037] Trial 8 finished with value: 0.892564262986394 and parameters: {'n_positive_samples': 3000, 'var_smoothing': 1.5189669666590648e-07}. Best is trial 6 with value: 0.938030009333447.\n"
          ]
        },
        {
          "name": "stderr",
          "output_type": "stream",
          "text": [
            "Best trial: 6. Best value: 0.93803:  20%|██        | 10/50 [02:00<08:00, 12.01s/it]/Users/rodrigobenitez/Library/Python/3.9/lib/python/site-packages/optuna/distributions.py:702: UserWarning: The distribution is specified by [2000, 12833] and step=1000, but the range is not divisible by `step`. It will be replaced by [2000, 12000].\n",
            "  warnings.warn(\n"
          ]
        },
        {
          "name": "stdout",
          "output_type": "stream",
          "text": [
            "[I 2025-06-22 16:45:53,159] Trial 9 finished with value: 0.9287151617303502 and parameters: {'n_positive_samples': 8000, 'var_smoothing': 4.705198964921875e-09}. Best is trial 6 with value: 0.938030009333447.\n"
          ]
        },
        {
          "name": "stderr",
          "output_type": "stream",
          "text": [
            "Best trial: 6. Best value: 0.93803:  22%|██▏       | 11/50 [02:16<08:35, 13.21s/it]/Users/rodrigobenitez/Library/Python/3.9/lib/python/site-packages/optuna/distributions.py:702: UserWarning: The distribution is specified by [2000, 12833] and step=1000, but the range is not divisible by `step`. It will be replaced by [2000, 12000].\n",
            "  warnings.warn(\n"
          ]
        },
        {
          "name": "stdout",
          "output_type": "stream",
          "text": [
            "[I 2025-06-22 16:46:09,083] Trial 10 finished with value: 0.9374667758469908 and parameters: {'n_positive_samples': 12000, 'var_smoothing': 7.60469076691461e-07}. Best is trial 6 with value: 0.938030009333447.\n"
          ]
        },
        {
          "name": "stderr",
          "output_type": "stream",
          "text": [
            "Best trial: 6. Best value: 0.93803:  24%|██▍       | 12/50 [02:31<08:53, 14.04s/it]/Users/rodrigobenitez/Library/Python/3.9/lib/python/site-packages/optuna/distributions.py:702: UserWarning: The distribution is specified by [2000, 12833] and step=1000, but the range is not divisible by `step`. It will be replaced by [2000, 12000].\n",
            "  warnings.warn(\n"
          ]
        },
        {
          "name": "stdout",
          "output_type": "stream",
          "text": [
            "[I 2025-06-22 16:46:25,019] Trial 11 finished with value: 0.9377994449806624 and parameters: {'n_positive_samples': 12000, 'var_smoothing': 7.760090341537166e-07}. Best is trial 6 with value: 0.938030009333447.\n"
          ]
        },
        {
          "name": "stderr",
          "output_type": "stream",
          "text": [
            "Best trial: 6. Best value: 0.93803:  26%|██▌       | 13/50 [02:47<08:57, 14.53s/it]/Users/rodrigobenitez/Library/Python/3.9/lib/python/site-packages/optuna/distributions.py:702: UserWarning: The distribution is specified by [2000, 12833] and step=1000, but the range is not divisible by `step`. It will be replaced by [2000, 12000].\n",
            "  warnings.warn(\n"
          ]
        },
        {
          "name": "stdout",
          "output_type": "stream",
          "text": [
            "[I 2025-06-22 16:46:40,677] Trial 12 finished with value: 0.9372597264030166 and parameters: {'n_positive_samples': 12000, 'var_smoothing': 8.682079273466091e-07}. Best is trial 6 with value: 0.938030009333447.\n"
          ]
        },
        {
          "name": "stderr",
          "output_type": "stream",
          "text": [
            "Best trial: 6. Best value: 0.93803:  28%|██▊       | 14/50 [03:01<08:38, 14.42s/it]/Users/rodrigobenitez/Library/Python/3.9/lib/python/site-packages/optuna/distributions.py:702: UserWarning: The distribution is specified by [2000, 12833] and step=1000, but the range is not divisible by `step`. It will be replaced by [2000, 12000].\n",
            "  warnings.warn(\n"
          ]
        },
        {
          "name": "stdout",
          "output_type": "stream",
          "text": [
            "[I 2025-06-22 16:46:54,829] Trial 13 finished with value: 0.9364324648246878 and parameters: {'n_positive_samples': 10000, 'var_smoothing': 3.792862926329783e-08}. Best is trial 6 with value: 0.938030009333447.\n"
          ]
        },
        {
          "name": "stderr",
          "output_type": "stream",
          "text": [
            "Best trial: 6. Best value: 0.93803:  30%|███       | 15/50 [03:16<08:24, 14.41s/it]/Users/rodrigobenitez/Library/Python/3.9/lib/python/site-packages/optuna/distributions.py:702: UserWarning: The distribution is specified by [2000, 12833] and step=1000, but the range is not divisible by `step`. It will be replaced by [2000, 12000].\n",
            "  warnings.warn(\n"
          ]
        },
        {
          "name": "stdout",
          "output_type": "stream",
          "text": [
            "[I 2025-06-22 16:47:09,220] Trial 14 finished with value: 0.9370204996862042 and parameters: {'n_positive_samples': 10000, 'var_smoothing': 9.581738852555841e-11}. Best is trial 6 with value: 0.938030009333447.\n"
          ]
        },
        {
          "name": "stderr",
          "output_type": "stream",
          "text": [
            "Best trial: 6. Best value: 0.93803:  32%|███▏      | 16/50 [03:30<08:09, 14.40s/it]/Users/rodrigobenitez/Library/Python/3.9/lib/python/site-packages/optuna/distributions.py:702: UserWarning: The distribution is specified by [2000, 12833] and step=1000, but the range is not divisible by `step`. It will be replaced by [2000, 12000].\n",
            "  warnings.warn(\n"
          ]
        },
        {
          "name": "stdout",
          "output_type": "stream",
          "text": [
            "[I 2025-06-22 16:47:23,598] Trial 15 finished with value: 0.9359862547589224 and parameters: {'n_positive_samples': 10000, 'var_smoothing': 1.6324465036005647e-08}. Best is trial 6 with value: 0.938030009333447.\n"
          ]
        },
        {
          "name": "stderr",
          "output_type": "stream",
          "text": [
            "Best trial: 6. Best value: 0.93803:  34%|███▍      | 17/50 [03:44<07:52, 14.33s/it]/Users/rodrigobenitez/Library/Python/3.9/lib/python/site-packages/optuna/distributions.py:702: UserWarning: The distribution is specified by [2000, 12833] and step=1000, but the range is not divisible by `step`. It will be replaced by [2000, 12000].\n",
            "  warnings.warn(\n"
          ]
        },
        {
          "name": "stdout",
          "output_type": "stream",
          "text": [
            "[I 2025-06-22 16:47:37,765] Trial 16 finished with value: 0.937943014547232 and parameters: {'n_positive_samples': 11000, 'var_smoothing': 2.3514883875478344e-07}. Best is trial 6 with value: 0.938030009333447.\n"
          ]
        },
        {
          "name": "stderr",
          "output_type": "stream",
          "text": [
            "Best trial: 17. Best value: 0.93804:  36%|███▌      | 18/50 [04:00<07:52, 14.76s/it]/Users/rodrigobenitez/Library/Python/3.9/lib/python/site-packages/optuna/distributions.py:702: UserWarning: The distribution is specified by [2000, 12833] and step=1000, but the range is not divisible by `step`. It will be replaced by [2000, 12000].\n",
            "  warnings.warn(\n"
          ]
        },
        {
          "name": "stdout",
          "output_type": "stream",
          "text": [
            "[I 2025-06-22 16:47:53,535] Trial 17 finished with value: 0.9380403335418436 and parameters: {'n_positive_samples': 11000, 'var_smoothing': 1.4987042794128355e-10}. Best is trial 17 with value: 0.9380403335418436.\n"
          ]
        },
        {
          "name": "stderr",
          "output_type": "stream",
          "text": [
            "Best trial: 17. Best value: 0.93804:  38%|███▊      | 19/50 [04:14<07:34, 14.66s/it]/Users/rodrigobenitez/Library/Python/3.9/lib/python/site-packages/optuna/distributions.py:702: UserWarning: The distribution is specified by [2000, 12833] and step=1000, but the range is not divisible by `step`. It will be replaced by [2000, 12000].\n",
            "  warnings.warn(\n"
          ]
        },
        {
          "name": "stdout",
          "output_type": "stream",
          "text": [
            "[I 2025-06-22 16:48:07,952] Trial 18 finished with value: 0.9289186770760913 and parameters: {'n_positive_samples': 8000, 'var_smoothing': 1.168714741309263e-10}. Best is trial 17 with value: 0.9380403335418436.\n"
          ]
        },
        {
          "name": "stderr",
          "output_type": "stream",
          "text": [
            "Best trial: 17. Best value: 0.93804:  40%|████      | 20/50 [04:27<06:57, 13.90s/it]/Users/rodrigobenitez/Library/Python/3.9/lib/python/site-packages/optuna/distributions.py:702: UserWarning: The distribution is specified by [2000, 12833] and step=1000, but the range is not divisible by `step`. It will be replaced by [2000, 12000].\n",
            "  warnings.warn(\n"
          ]
        },
        {
          "name": "stdout",
          "output_type": "stream",
          "text": [
            "[I 2025-06-22 16:48:20,099] Trial 19 finished with value: 0.902320472652109 and parameters: {'n_positive_samples': 6000, 'var_smoothing': 1.3955682414252915e-10}. Best is trial 17 with value: 0.9380403335418436.\n"
          ]
        },
        {
          "name": "stderr",
          "output_type": "stream",
          "text": [
            "Best trial: 17. Best value: 0.93804:  42%|████▏     | 21/50 [04:41<06:50, 14.15s/it]/Users/rodrigobenitez/Library/Python/3.9/lib/python/site-packages/optuna/distributions.py:702: UserWarning: The distribution is specified by [2000, 12833] and step=1000, but the range is not divisible by `step`. It will be replaced by [2000, 12000].\n",
            "  warnings.warn(\n"
          ]
        },
        {
          "name": "stdout",
          "output_type": "stream",
          "text": [
            "[I 2025-06-22 16:48:34,823] Trial 20 finished with value: 0.9187945972001316 and parameters: {'n_positive_samples': 9000, 'var_smoothing': 1.2514872101755562e-11}. Best is trial 17 with value: 0.9380403335418436.\n"
          ]
        },
        {
          "name": "stderr",
          "output_type": "stream",
          "text": [
            "Best trial: 17. Best value: 0.93804:  44%|████▍     | 22/50 [04:57<06:47, 14.57s/it]/Users/rodrigobenitez/Library/Python/3.9/lib/python/site-packages/optuna/distributions.py:702: UserWarning: The distribution is specified by [2000, 12833] and step=1000, but the range is not divisible by `step`. It will be replaced by [2000, 12000].\n",
            "  warnings.warn(\n"
          ]
        },
        {
          "name": "stdout",
          "output_type": "stream",
          "text": [
            "[I 2025-06-22 16:48:50,365] Trial 21 finished with value: 0.9379848361341262 and parameters: {'n_positive_samples': 11000, 'var_smoothing': 1.755919846346037e-07}. Best is trial 17 with value: 0.9380403335418436.\n"
          ]
        },
        {
          "name": "stderr",
          "output_type": "stream",
          "text": [
            "Best trial: 22. Best value: 0.938399:  46%|████▌     | 23/50 [05:12<06:37, 14.71s/it]/Users/rodrigobenitez/Library/Python/3.9/lib/python/site-packages/optuna/distributions.py:702: UserWarning: The distribution is specified by [2000, 12833] and step=1000, but the range is not divisible by `step`. It will be replaced by [2000, 12000].\n",
            "  warnings.warn(\n"
          ]
        },
        {
          "name": "stdout",
          "output_type": "stream",
          "text": [
            "[I 2025-06-22 16:49:05,408] Trial 22 finished with value: 0.9383993646049016 and parameters: {'n_positive_samples': 11000, 'var_smoothing': 8.999845517933542e-09}. Best is trial 22 with value: 0.9383993646049016.\n"
          ]
        },
        {
          "name": "stderr",
          "output_type": "stream",
          "text": [
            "Best trial: 22. Best value: 0.938399:  48%|████▊     | 24/50 [05:27<06:27, 14.92s/it]/Users/rodrigobenitez/Library/Python/3.9/lib/python/site-packages/optuna/distributions.py:702: UserWarning: The distribution is specified by [2000, 12833] and step=1000, but the range is not divisible by `step`. It will be replaced by [2000, 12000].\n",
            "  warnings.warn(\n"
          ]
        },
        {
          "name": "stdout",
          "output_type": "stream",
          "text": [
            "[I 2025-06-22 16:49:20,806] Trial 23 finished with value: 0.9379671552868591 and parameters: {'n_positive_samples': 11000, 'var_smoothing': 7.115113741203899e-09}. Best is trial 22 with value: 0.9383993646049016.\n"
          ]
        },
        {
          "name": "stderr",
          "output_type": "stream",
          "text": [
            "Best trial: 22. Best value: 0.938399:  50%|█████     | 25/50 [05:43<06:15, 15.03s/it]/Users/rodrigobenitez/Library/Python/3.9/lib/python/site-packages/optuna/distributions.py:702: UserWarning: The distribution is specified by [2000, 12833] and step=1000, but the range is not divisible by `step`. It will be replaced by [2000, 12000].\n",
            "  warnings.warn(\n"
          ]
        },
        {
          "name": "stdout",
          "output_type": "stream",
          "text": [
            "[I 2025-06-22 16:49:36,112] Trial 24 finished with value: 0.938012366357925 and parameters: {'n_positive_samples': 11000, 'var_smoothing': 3.1302667061666734e-10}. Best is trial 22 with value: 0.9383993646049016.\n"
          ]
        },
        {
          "name": "stderr",
          "output_type": "stream",
          "text": [
            "Best trial: 22. Best value: 0.938399:  52%|█████▏    | 26/50 [05:57<05:54, 14.79s/it]/Users/rodrigobenitez/Library/Python/3.9/lib/python/site-packages/optuna/distributions.py:702: UserWarning: The distribution is specified by [2000, 12833] and step=1000, but the range is not divisible by `step`. It will be replaced by [2000, 12000].\n",
            "  warnings.warn(\n"
          ]
        },
        {
          "name": "stdout",
          "output_type": "stream",
          "text": [
            "[I 2025-06-22 16:49:50,330] Trial 25 finished with value: 0.9186163135154379 and parameters: {'n_positive_samples': 9000, 'var_smoothing': 4.5136440135229314e-11}. Best is trial 22 with value: 0.9383993646049016.\n"
          ]
        },
        {
          "name": "stderr",
          "output_type": "stream",
          "text": [
            "Best trial: 22. Best value: 0.938399:  54%|█████▍    | 27/50 [06:13<05:50, 15.22s/it]/Users/rodrigobenitez/Library/Python/3.9/lib/python/site-packages/optuna/distributions.py:702: UserWarning: The distribution is specified by [2000, 12833] and step=1000, but the range is not divisible by `step`. It will be replaced by [2000, 12000].\n",
            "  warnings.warn(\n"
          ]
        },
        {
          "name": "stdout",
          "output_type": "stream",
          "text": [
            "[I 2025-06-22 16:50:06,556] Trial 26 finished with value: 0.9380573315590857 and parameters: {'n_positive_samples': 12000, 'var_smoothing': 2.4145942797919014e-08}. Best is trial 22 with value: 0.9383993646049016.\n"
          ]
        },
        {
          "name": "stderr",
          "output_type": "stream",
          "text": [
            "Best trial: 22. Best value: 0.938399:  56%|█████▌    | 28/50 [06:27<05:29, 14.97s/it]/Users/rodrigobenitez/Library/Python/3.9/lib/python/site-packages/optuna/distributions.py:702: UserWarning: The distribution is specified by [2000, 12833] and step=1000, but the range is not divisible by `step`. It will be replaced by [2000, 12000].\n",
            "  warnings.warn(\n"
          ]
        },
        {
          "name": "stdout",
          "output_type": "stream",
          "text": [
            "[I 2025-06-22 16:50:20,946] Trial 27 finished with value: 0.9177816259268694 and parameters: {'n_positive_samples': 9000, 'var_smoothing': 1.8638000839086836e-08}. Best is trial 22 with value: 0.9383993646049016.\n"
          ]
        },
        {
          "name": "stderr",
          "output_type": "stream",
          "text": [
            "Best trial: 22. Best value: 0.938399:  58%|█████▊    | 29/50 [06:42<05:12, 14.87s/it]/Users/rodrigobenitez/Library/Python/3.9/lib/python/site-packages/optuna/distributions.py:702: UserWarning: The distribution is specified by [2000, 12833] and step=1000, but the range is not divisible by `step`. It will be replaced by [2000, 12000].\n",
            "  warnings.warn(\n"
          ]
        },
        {
          "name": "stdout",
          "output_type": "stream",
          "text": [
            "[I 2025-06-22 16:50:35,588] Trial 28 finished with value: 0.9366235826385318 and parameters: {'n_positive_samples': 10000, 'var_smoothing': 2.1472599212253154e-09}. Best is trial 22 with value: 0.9383993646049016.\n"
          ]
        },
        {
          "name": "stderr",
          "output_type": "stream",
          "text": [
            "Best trial: 22. Best value: 0.938399:  60%|██████    | 30/50 [06:55<04:44, 14.23s/it]/Users/rodrigobenitez/Library/Python/3.9/lib/python/site-packages/optuna/distributions.py:702: UserWarning: The distribution is specified by [2000, 12833] and step=1000, but the range is not divisible by `step`. It will be replaced by [2000, 12000].\n",
            "  warnings.warn(\n"
          ]
        },
        {
          "name": "stdout",
          "output_type": "stream",
          "text": [
            "[I 2025-06-22 16:50:48,311] Trial 29 finished with value: 0.9167417683688764 and parameters: {'n_positive_samples': 7000, 'var_smoothing': 2.2623718589203472e-09}. Best is trial 22 with value: 0.9383993646049016.\n"
          ]
        },
        {
          "name": "stderr",
          "output_type": "stream",
          "text": [
            "Best trial: 22. Best value: 0.938399:  62%|██████▏   | 31/50 [07:11<04:43, 14.94s/it]/Users/rodrigobenitez/Library/Python/3.9/lib/python/site-packages/optuna/distributions.py:702: UserWarning: The distribution is specified by [2000, 12833] and step=1000, but the range is not divisible by `step`. It will be replaced by [2000, 12000].\n",
            "  warnings.warn(\n"
          ]
        },
        {
          "name": "stdout",
          "output_type": "stream",
          "text": [
            "[I 2025-06-22 16:51:04,920] Trial 30 finished with value: 0.9383887924668297 and parameters: {'n_positive_samples': 11000, 'var_smoothing': 3.551401312081216e-10}. Best is trial 22 with value: 0.9383993646049016.\n"
          ]
        },
        {
          "name": "stderr",
          "output_type": "stream",
          "text": [
            "Best trial: 31. Best value: 0.938869:  64%|██████▍   | 32/50 [07:27<04:31, 15.09s/it]/Users/rodrigobenitez/Library/Python/3.9/lib/python/site-packages/optuna/distributions.py:702: UserWarning: The distribution is specified by [2000, 12833] and step=1000, but the range is not divisible by `step`. It will be replaced by [2000, 12000].\n",
            "  warnings.warn(\n"
          ]
        },
        {
          "name": "stdout",
          "output_type": "stream",
          "text": [
            "[I 2025-06-22 16:51:20,362] Trial 31 finished with value: 0.9388692822546341 and parameters: {'n_positive_samples': 11000, 'var_smoothing': 4.300079567495854e-10}. Best is trial 31 with value: 0.9388692822546341.\n"
          ]
        },
        {
          "name": "stderr",
          "output_type": "stream",
          "text": [
            "Best trial: 31. Best value: 0.938869:  66%|██████▌   | 33/50 [07:43<04:20, 15.34s/it]/Users/rodrigobenitez/Library/Python/3.9/lib/python/site-packages/optuna/distributions.py:702: UserWarning: The distribution is specified by [2000, 12833] and step=1000, but the range is not divisible by `step`. It will be replaced by [2000, 12000].\n",
            "  warnings.warn(\n"
          ]
        },
        {
          "name": "stdout",
          "output_type": "stream",
          "text": [
            "[I 2025-06-22 16:51:36,285] Trial 32 finished with value: 0.9375865584907453 and parameters: {'n_positive_samples': 12000, 'var_smoothing': 5.532302153040833e-10}. Best is trial 31 with value: 0.9388692822546341.\n"
          ]
        },
        {
          "name": "stderr",
          "output_type": "stream",
          "text": [
            "Best trial: 31. Best value: 0.938869:  68%|██████▊   | 34/50 [07:59<04:11, 15.70s/it]/Users/rodrigobenitez/Library/Python/3.9/lib/python/site-packages/optuna/distributions.py:702: UserWarning: The distribution is specified by [2000, 12833] and step=1000, but the range is not divisible by `step`. It will be replaced by [2000, 12000].\n",
            "  warnings.warn(\n"
          ]
        },
        {
          "name": "stdout",
          "output_type": "stream",
          "text": [
            "[I 2025-06-22 16:51:52,821] Trial 33 finished with value: 0.9377129119124998 and parameters: {'n_positive_samples': 11000, 'var_smoothing': 9.73965535005136e-09}. Best is trial 31 with value: 0.9388692822546341.\n"
          ]
        },
        {
          "name": "stderr",
          "output_type": "stream",
          "text": [
            "Best trial: 31. Best value: 0.938869:  70%|███████   | 35/50 [08:15<03:57, 15.82s/it]/Users/rodrigobenitez/Library/Python/3.9/lib/python/site-packages/optuna/distributions.py:702: UserWarning: The distribution is specified by [2000, 12833] and step=1000, but the range is not divisible by `step`. It will be replaced by [2000, 12000].\n",
            "  warnings.warn(\n"
          ]
        },
        {
          "name": "stdout",
          "output_type": "stream",
          "text": [
            "[I 2025-06-22 16:52:08,936] Trial 34 finished with value: 0.9362461810917566 and parameters: {'n_positive_samples': 10000, 'var_smoothing': 5.832210719154745e-08}. Best is trial 31 with value: 0.9388692822546341.\n"
          ]
        },
        {
          "name": "stderr",
          "output_type": "stream",
          "text": [
            "Best trial: 31. Best value: 0.938869:  72%|███████▏  | 36/50 [08:32<03:44, 16.02s/it]/Users/rodrigobenitez/Library/Python/3.9/lib/python/site-packages/optuna/distributions.py:702: UserWarning: The distribution is specified by [2000, 12833] and step=1000, but the range is not divisible by `step`. It will be replaced by [2000, 12000].\n",
            "  warnings.warn(\n"
          ]
        },
        {
          "name": "stdout",
          "output_type": "stream",
          "text": [
            "[I 2025-06-22 16:52:25,421] Trial 35 finished with value: 0.9378749922351748 and parameters: {'n_positive_samples': 12000, 'var_smoothing': 2.062830112443245e-09}. Best is trial 31 with value: 0.9388692822546341.\n"
          ]
        },
        {
          "name": "stderr",
          "output_type": "stream",
          "text": [
            "Best trial: 31. Best value: 0.938869:  74%|███████▍  | 37/50 [08:46<03:19, 15.37s/it]/Users/rodrigobenitez/Library/Python/3.9/lib/python/site-packages/optuna/distributions.py:702: UserWarning: The distribution is specified by [2000, 12833] and step=1000, but the range is not divisible by `step`. It will be replaced by [2000, 12000].\n",
            "  warnings.warn(\n"
          ]
        },
        {
          "name": "stdout",
          "output_type": "stream",
          "text": [
            "[I 2025-06-22 16:52:39,266] Trial 36 finished with value: 0.9185035632850355 and parameters: {'n_positive_samples': 9000, 'var_smoothing': 3.228680981221638e-11}. Best is trial 31 with value: 0.9388692822546341.\n"
          ]
        },
        {
          "name": "stderr",
          "output_type": "stream",
          "text": [
            "Best trial: 31. Best value: 0.938869:  76%|███████▌  | 38/50 [09:00<02:59, 14.93s/it]/Users/rodrigobenitez/Library/Python/3.9/lib/python/site-packages/optuna/distributions.py:702: UserWarning: The distribution is specified by [2000, 12833] and step=1000, but the range is not divisible by `step`. It will be replaced by [2000, 12000].\n",
            "  warnings.warn(\n"
          ]
        },
        {
          "name": "stdout",
          "output_type": "stream",
          "text": [
            "[I 2025-06-22 16:52:53,161] Trial 37 finished with value: 0.9293578431172411 and parameters: {'n_positive_samples': 8000, 'var_smoothing': 3.31278808455573e-10}. Best is trial 31 with value: 0.9388692822546341.\n"
          ]
        },
        {
          "name": "stderr",
          "output_type": "stream",
          "text": [
            "Best trial: 31. Best value: 0.938869:  78%|███████▊  | 39/50 [09:15<02:47, 15.21s/it]/Users/rodrigobenitez/Library/Python/3.9/lib/python/site-packages/optuna/distributions.py:702: UserWarning: The distribution is specified by [2000, 12833] and step=1000, but the range is not divisible by `step`. It will be replaced by [2000, 12000].\n",
            "  warnings.warn(\n"
          ]
        },
        {
          "name": "stdout",
          "output_type": "stream",
          "text": [
            "[I 2025-06-22 16:53:09,045] Trial 38 finished with value: 0.9382580759625192 and parameters: {'n_positive_samples': 11000, 'var_smoothing': 2.60384422009603e-08}. Best is trial 31 with value: 0.9388692822546341.\n"
          ]
        },
        {
          "name": "stderr",
          "output_type": "stream",
          "text": [
            "Best trial: 31. Best value: 0.938869:  80%|████████  | 40/50 [09:30<02:31, 15.12s/it]/Users/rodrigobenitez/Library/Python/3.9/lib/python/site-packages/optuna/distributions.py:702: UserWarning: The distribution is specified by [2000, 12833] and step=1000, but the range is not divisible by `step`. It will be replaced by [2000, 12000].\n",
            "  warnings.warn(\n"
          ]
        },
        {
          "name": "stdout",
          "output_type": "stream",
          "text": [
            "[I 2025-06-22 16:53:23,949] Trial 39 finished with value: 0.9358270178541588 and parameters: {'n_positive_samples': 10000, 'var_smoothing': 1.066658212417255e-09}. Best is trial 31 with value: 0.9388692822546341.\n"
          ]
        },
        {
          "name": "stderr",
          "output_type": "stream",
          "text": [
            "Best trial: 31. Best value: 0.938869:  82%|████████▏ | 41/50 [09:42<02:05, 13.98s/it]/Users/rodrigobenitez/Library/Python/3.9/lib/python/site-packages/optuna/distributions.py:702: UserWarning: The distribution is specified by [2000, 12833] and step=1000, but the range is not divisible by `step`. It will be replaced by [2000, 12000].\n",
            "  warnings.warn(\n"
          ]
        },
        {
          "name": "stdout",
          "output_type": "stream",
          "text": [
            "[I 2025-06-22 16:53:35,274] Trial 40 finished with value: 0.9009525070259322 and parameters: {'n_positive_samples': 5000, 'var_smoothing': 4.526452696596445e-09}. Best is trial 31 with value: 0.9388692822546341.\n"
          ]
        },
        {
          "name": "stderr",
          "output_type": "stream",
          "text": [
            "Best trial: 31. Best value: 0.938869:  84%|████████▍ | 42/50 [09:56<01:53, 14.17s/it]/Users/rodrigobenitez/Library/Python/3.9/lib/python/site-packages/optuna/distributions.py:702: UserWarning: The distribution is specified by [2000, 12833] and step=1000, but the range is not divisible by `step`. It will be replaced by [2000, 12000].\n",
            "  warnings.warn(\n"
          ]
        },
        {
          "name": "stdout",
          "output_type": "stream",
          "text": [
            "[I 2025-06-22 16:53:49,870] Trial 41 finished with value: 0.9386712126355027 and parameters: {'n_positive_samples': 11000, 'var_smoothing': 3.3113519896639204e-08}. Best is trial 31 with value: 0.9388692822546341.\n"
          ]
        },
        {
          "name": "stderr",
          "output_type": "stream",
          "text": [
            "Best trial: 31. Best value: 0.938869:  86%|████████▌ | 43/50 [10:12<01:41, 14.56s/it]/Users/rodrigobenitez/Library/Python/3.9/lib/python/site-packages/optuna/distributions.py:702: UserWarning: The distribution is specified by [2000, 12833] and step=1000, but the range is not divisible by `step`. It will be replaced by [2000, 12000].\n",
            "  warnings.warn(\n"
          ]
        },
        {
          "name": "stdout",
          "output_type": "stream",
          "text": [
            "[I 2025-06-22 16:54:05,357] Trial 42 finished with value: 0.9387665434156016 and parameters: {'n_positive_samples': 11000, 'var_smoothing': 8.671775672816078e-08}. Best is trial 31 with value: 0.9388692822546341.\n"
          ]
        },
        {
          "name": "stderr",
          "output_type": "stream",
          "text": [
            "Best trial: 31. Best value: 0.938869:  88%|████████▊ | 44/50 [10:27<01:28, 14.73s/it]/Users/rodrigobenitez/Library/Python/3.9/lib/python/site-packages/optuna/distributions.py:702: UserWarning: The distribution is specified by [2000, 12833] and step=1000, but the range is not divisible by `step`. It will be replaced by [2000, 12000].\n",
            "  warnings.warn(\n"
          ]
        },
        {
          "name": "stdout",
          "output_type": "stream",
          "text": [
            "[I 2025-06-22 16:54:20,493] Trial 43 finished with value: 0.9376590774430447 and parameters: {'n_positive_samples': 11000, 'var_smoothing': 1.0774736970543225e-07}. Best is trial 31 with value: 0.9388692822546341.\n"
          ]
        },
        {
          "name": "stderr",
          "output_type": "stream",
          "text": [
            "Best trial: 31. Best value: 0.938869:  90%|█████████ | 45/50 [10:42<01:13, 14.77s/it]/Users/rodrigobenitez/Library/Python/3.9/lib/python/site-packages/optuna/distributions.py:702: UserWarning: The distribution is specified by [2000, 12833] and step=1000, but the range is not divisible by `step`. It will be replaced by [2000, 12000].\n",
            "  warnings.warn(\n"
          ]
        },
        {
          "name": "stdout",
          "output_type": "stream",
          "text": [
            "[I 2025-06-22 16:54:35,329] Trial 44 finished with value: 0.9362417749763914 and parameters: {'n_positive_samples': 10000, 'var_smoothing': 5.5659358503477056e-08}. Best is trial 31 with value: 0.9388692822546341.\n"
          ]
        },
        {
          "name": "stderr",
          "output_type": "stream",
          "text": [
            "Best trial: 31. Best value: 0.938869:  92%|█████████▏| 46/50 [10:57<01:00, 15.05s/it]/Users/rodrigobenitez/Library/Python/3.9/lib/python/site-packages/optuna/distributions.py:702: UserWarning: The distribution is specified by [2000, 12833] and step=1000, but the range is not divisible by `step`. It will be replaced by [2000, 12000].\n",
            "  warnings.warn(\n"
          ]
        },
        {
          "name": "stdout",
          "output_type": "stream",
          "text": [
            "[I 2025-06-22 16:54:51,040] Trial 45 finished with value: 0.937863480069862 and parameters: {'n_positive_samples': 12000, 'var_smoothing': 1.2081924888993703e-08}. Best is trial 31 with value: 0.9388692822546341.\n"
          ]
        },
        {
          "name": "stderr",
          "output_type": "stream",
          "text": [
            "Best trial: 31. Best value: 0.938869:  94%|█████████▍| 47/50 [11:08<00:40, 13.59s/it]/Users/rodrigobenitez/Library/Python/3.9/lib/python/site-packages/optuna/distributions.py:702: UserWarning: The distribution is specified by [2000, 12833] and step=1000, but the range is not divisible by `step`. It will be replaced by [2000, 12000].\n",
            "  warnings.warn(\n"
          ]
        },
        {
          "name": "stdout",
          "output_type": "stream",
          "text": [
            "[I 2025-06-22 16:55:01,236] Trial 46 finished with value: 0.894034784616118 and parameters: {'n_positive_samples': 2000, 'var_smoothing': 2.868861487989406e-07}. Best is trial 31 with value: 0.9388692822546341.\n"
          ]
        },
        {
          "name": "stderr",
          "output_type": "stream",
          "text": [
            "Best trial: 31. Best value: 0.938869:  96%|█████████▌| 48/50 [11:23<00:27, 13.99s/it]/Users/rodrigobenitez/Library/Python/3.9/lib/python/site-packages/optuna/distributions.py:702: UserWarning: The distribution is specified by [2000, 12833] and step=1000, but the range is not divisible by `step`. It will be replaced by [2000, 12000].\n",
            "  warnings.warn(\n"
          ]
        },
        {
          "name": "stdout",
          "output_type": "stream",
          "text": [
            "[I 2025-06-22 16:55:16,143] Trial 47 finished with value: 0.9385725441268689 and parameters: {'n_positive_samples': 11000, 'var_smoothing': 7.657060523095437e-10}. Best is trial 31 with value: 0.9388692822546341.\n"
          ]
        },
        {
          "name": "stderr",
          "output_type": "stream",
          "text": [
            "Best trial: 31. Best value: 0.938869:  98%|█████████▊| 49/50 [11:36<00:13, 13.93s/it]/Users/rodrigobenitez/Library/Python/3.9/lib/python/site-packages/optuna/distributions.py:702: UserWarning: The distribution is specified by [2000, 12833] and step=1000, but the range is not divisible by `step`. It will be replaced by [2000, 12000].\n",
            "  warnings.warn(\n"
          ]
        },
        {
          "name": "stdout",
          "output_type": "stream",
          "text": [
            "[I 2025-06-22 16:55:29,946] Trial 48 finished with value: 0.9182529964462736 and parameters: {'n_positive_samples': 9000, 'var_smoothing': 9.88248500021702e-10}. Best is trial 31 with value: 0.9388692822546341.\n"
          ]
        },
        {
          "name": "stderr",
          "output_type": "stream",
          "text": [
            "Best trial: 31. Best value: 0.938869: 100%|██████████| 50/50 [11:51<00:00, 14.23s/it]"
          ]
        },
        {
          "name": "stdout",
          "output_type": "stream",
          "text": [
            "[I 2025-06-22 16:55:44,536] Trial 49 finished with value: 0.9365825570191226 and parameters: {'n_positive_samples': 10000, 'var_smoothing': 9.145643989431664e-08}. Best is trial 31 with value: 0.9388692822546341.\n",
            "\n",
            "Optimization completed!\n",
            "Best trial number: 31\n",
            "Best F1-score: 0.9389\n",
            "Best parameters found:\n",
            "  n_positive_samples: 11000\n",
            "  var_smoothing: 4.300079567495854e-10\n"
          ]
        },
        {
          "name": "stderr",
          "output_type": "stream",
          "text": [
            "\n"
          ]
        }
      ],
      "source": [
        "# Create a study object and optimize\n",
        "print(\"Starting hyperparameter optimization with Optuna...\")\n",
        "# We want to maximize the F1-score, so direction='maximize'\n",
        "study = optuna.create_study(direction='maximize')\n",
        "# Run the optimization for 50 trials (you can increase this for potentially better results)\n",
        "study.optimize(objective, n_trials=50, show_progress_bar=True) # show_progress_bar=True added for visual progress\n",
        "\n",
        "print(\"\\nOptimization completed!\")\n",
        "print(f\"Best trial number: {study.best_trial.number}\")\n",
        "print(f\"Best F1-score: {study.best_value:.4f}\")\n",
        "print(\"Best parameters found:\")\n",
        "for key, value in study.best_params.items():\n",
        "    print(f\"  {key}: {value}\")"
      ]
    },
    {
      "cell_type": "code",
      "execution_count": 81,
      "metadata": {},
      "outputs": [
        {
          "data": {
            "text/plain": [
              "{'n_positive_samples': 11000, 'var_smoothing': 4.300079567495854e-10}"
            ]
          },
          "execution_count": 81,
          "metadata": {},
          "output_type": "execute_result"
        }
      ],
      "source": [
        "study.best_params"
      ]
    },
    {
      "cell_type": "code",
      "execution_count": 82,
      "metadata": {},
      "outputs": [
        {
          "name": "stdout",
          "output_type": "stream",
          "text": [
            "Optimized GaussianNB model trained successfully with best parameters!\n",
            "Best n_positive_samples: 11000\n",
            "Best var_smoothing parameter: 4.300079567495854e-10\n"
          ]
        }
      ],
      "source": [
        "# Train the final model with the best parameters\n",
        "best_params = study.best_params\n",
        "\n",
        "# Re-prepare the data using the best n_positive_samples\n",
        "final_n_positive_samples = best_params['n_positive_samples']\n",
        "final_current_positive_patches = positive_patches[:final_n_positive_samples]\n",
        "\n",
        "# Combine positive and negative patches to form the full dataset\n",
        "X_final_full = np.array([feature.hog(im) for im in chain(final_current_positive_patches, negative_patches)])\n",
        "y_final_full = np.zeros(len(X_final_full))\n",
        "y_final_full[:len(final_current_positive_patches)] = 1\n",
        "\n",
        "# Split data into training and validation sets\n",
        "X_train_final, X_val_final, y_train_final, y_val_final = train_test_split(X_final_full, y_final_full, test_size=0.2, random_state=42)\n",
        "\n",
        "# Scale the features\n",
        "scaler_final = StandardScaler()\n",
        "X_train_std_final = scaler_final.fit_transform(X_train_final)\n",
        "X_val_std_final = scaler_final.transform(X_val_final) # Scale validation data too\n",
        "\n",
        "# Apply PCA (fixed parameters: 500 components, whiten=True)\n",
        "pca_final = PCA(n_components=500, whiten=True)\n",
        "X_train_pca_final = pca_final.fit_transform(X_train_std_final)\n",
        "X_val_pca_final = pca_final.transform(X_val_std_final) # Transform validation data\n",
        "\n",
        "# Create and train GaussianNB with best parameters\n",
        "model_optimized = GaussianNB(var_smoothing=best_params['var_smoothing'])\n",
        "model_optimized.fit(X_train_pca_final, y_train_final)\n",
        "\n",
        "print(\"Optimized GaussianNB model trained successfully with best parameters!\")\n",
        "print(f\"Best n_positive_samples: {best_params['n_positive_samples']}\")\n",
        "print(f\"Best var_smoothing parameter: {best_params['var_smoothing']}\")"
      ]
    },
    {
      "cell_type": "code",
      "execution_count": 83,
      "metadata": {},
      "outputs": [
        {
          "data": {
            "text/plain": [
              "'/Users/rodrigobenitez/Documents/GitHub/ORT-AI/ML para AI/Obligatorio'"
            ]
          },
          "execution_count": 83,
          "metadata": {},
          "output_type": "execute_result"
        }
      ],
      "source": [
        "os.getcwd()"
      ]
    },
    {
      "cell_type": "code",
      "execution_count": 84,
      "metadata": {},
      "outputs": [
        {
          "data": {
            "text/plain": [
              "['models/scaler_optuna.joblib']"
            ]
          },
          "execution_count": 84,
          "metadata": {},
          "output_type": "execute_result"
        }
      ],
      "source": [
        "joblib.dump(scaler_final ,'models/scaler_optuna.joblib')"
      ]
    },
    {
      "cell_type": "code",
      "execution_count": 85,
      "metadata": {},
      "outputs": [
        {
          "data": {
            "text/plain": [
              "['models/pca_optuna.joblib']"
            ]
          },
          "execution_count": 85,
          "metadata": {},
          "output_type": "execute_result"
        }
      ],
      "source": [
        "joblib.dump(pca_final ,'models/pca_optuna.joblib')"
      ]
    },
    {
      "cell_type": "code",
      "execution_count": 86,
      "metadata": {},
      "outputs": [
        {
          "data": {
            "text/plain": [
              "['models/GaussianNB_optuna.joblib']"
            ]
          },
          "execution_count": 86,
          "metadata": {},
          "output_type": "execute_result"
        }
      ],
      "source": [
        "joblib.dump(model_optimized ,'models/GaussianNB_optuna.joblib')"
      ]
    }
  ],
  "metadata": {
    "colab": {
      "provenance": []
    },
    "kernelspec": {
      "display_name": "ORT-AI ML",
      "language": "python",
      "name": "ort-ai"
    },
    "language_info": {
      "codemirror_mode": {
        "name": "ipython",
        "version": 3
      },
      "file_extension": ".py",
      "mimetype": "text/x-python",
      "name": "python",
      "nbconvert_exporter": "python",
      "pygments_lexer": "ipython3",
      "version": "3.11.5"
    }
  },
  "nbformat": 4,
  "nbformat_minor": 0
}
