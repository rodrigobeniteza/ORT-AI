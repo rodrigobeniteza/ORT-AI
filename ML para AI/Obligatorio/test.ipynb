{
 "cells": [
  {
   "cell_type": "code",
   "execution_count": null,
   "metadata": {},
   "outputs": [],
   "source": [
    "import numpy as np\n",
    "import os\n",
    "from sklearn.decomposition import PCA\n",
    "from sklearn.model_selection import train_test_split, GridSearchCV\n",
    "from sklearn.metrics import f1_score, classification_report\n",
    "from sklearn.svm import SVC\n",
    "from sklearn.ensemble import RandomForestClassifier\n",
    "from sklearn.linear_model import LogisticRegression\n",
    "from skimage.io import imread\n",
    "from skimage.transform import resize\n",
    "\n",
    "# Configuración\n",
    "IMG_SIZE = (64, 64)  # Tamaño al que se redimensionarán las imágenes\n",
    "\n",
    "def load_images_from_folder(folder, label, img_size=IMG_SIZE):\n",
    "    images = []\n",
    "    labels = []\n",
    "    for filename in os.listdir(folder):\n",
    "        if filename.lower().endswith(('.png', '.jpg', '.jpeg', '.bmp')):\n",
    "            img_path = os.path.join(folder, filename)\n",
    "            img = imread(img_path, as_gray=True)\n",
    "            img_resized = resize(img, img_size, anti_aliasing=True)\n",
    "            images.append(img_resized.flatten())\n",
    "            labels.append(label)\n",
    "    return images, labels\n",
    "\n",
    "# Cargar datos\n",
    "# Asume que tienes dos carpetas: 'faces/' y 'non_faces/' con imágenes correspondientes\n",
    "faces_folder = '/Users/rodrigobenitez/Documents/GitHub/ORT-AI/ML para AI/Obligatorio/Faces'\n",
    "non_faces_folder = '/Users/rodrigobenitez/Documents/GitHub/ORT-AI/ML para AI/Obligatorio/Generar_Fondos/generated_patches'\n",
    "\n",
    "faces_imgs, faces_labels = load_images_from_folder(faces_folder, 1)\n",
    "non_faces_imgs, non_faces_labels = load_images_from_folder(non_faces_folder, 0)\n",
    "\n",
    "X = np.array(faces_imgs + non_faces_imgs)\n",
    "y = np.array(faces_labels + non_faces_labels)\n",
    "\n",
    "# Dividir en entrenamiento y prueba\n",
    "X_train, X_test, y_train, y_test = train_test_split(X, y, test_size=0.2, random_state=42, stratify=y)\n",
    "\n",
    "\n"
   ]
  },
  {
   "cell_type": "code",
   "execution_count": 3,
   "metadata": {},
   "outputs": [
    {
     "data": {
      "text/plain": [
       "array([[0.4       , 0.56862745, 0.59607843, ..., 0.09803922, 0.09803922,\n",
       "        0.10196078],\n",
       "       [0.54509804, 0.5372549 , 0.57647059, ..., 0.38039216, 0.39215686,\n",
       "        0.38823529],\n",
       "       [0.28627451, 0.25490196, 0.25098039, ..., 0.38823529, 0.40784314,\n",
       "        0.41960784],\n",
       "       ...,\n",
       "       [0.16078431, 0.15686275, 0.15686275, ..., 0.52156863, 0.52156863,\n",
       "        0.51372549],\n",
       "       [0.42352941, 0.48627451, 0.63529412, ..., 0.21176471, 0.19215686,\n",
       "        0.19215686],\n",
       "       [0.49411765, 0.34117647, 0.17647059, ..., 0.48627451, 0.60784314,\n",
       "        0.28235294]])"
      ]
     },
     "execution_count": 3,
     "metadata": {},
     "output_type": "execute_result"
    }
   ],
   "source": [
    "X_train"
   ]
  },
  {
   "cell_type": "code",
   "execution_count": 4,
   "metadata": {},
   "outputs": [
    {
     "data": {
      "text/plain": [
       "array([0, 0, 0, ..., 0, 0, 0])"
      ]
     },
     "execution_count": 4,
     "metadata": {},
     "output_type": "execute_result"
    }
   ],
   "source": [
    "y_train"
   ]
  },
  {
   "cell_type": "code",
   "execution_count": null,
   "metadata": {},
   "outputs": [],
   "source": []
  },
  {
   "cell_type": "code",
   "execution_count": null,
   "metadata": {},
   "outputs": [],
   "source": [
    "# Aplicar PCA para reducción de dimensionalidad\n",
    "n_components = 100  # Puedes ajustar este valor\n",
    "pca = PCA(n_components=n_components, whiten=True, random_state=42)\n",
    "X_train_pca = pca.fit_transform(X_train)\n",
    "X_test_pca = pca.transform(X_test)\n",
    "\n",
    "# Definir modelos a probar\n",
    "models = {\n",
    "    'SVM': SVC(class_weight='balanced', probability=True, random_state=42),\n",
    "    'RandomForest': RandomForestClassifier(class_weight='balanced', random_state=42),\n",
    "    'LogisticRegression': LogisticRegression(class_weight='balanced', max_iter=1000, random_state=42)\n",
    "}\n",
    "\n",
    "# Hiperparámetros para GridSearch\n",
    "param_grids = {\n",
    "    'SVM': {\n",
    "        'C': [0.1, 1, 10],\n",
    "        'kernel': ['linear', 'rbf'],\n",
    "        'gamma': ['scale', 'auto']\n",
    "    },\n",
    "    'RandomForest': {\n",
    "        'n_estimators': [50, 100, 200],\n",
    "        'max_depth': [None, 10, 20]\n",
    "    },\n",
    "    'LogisticRegression': {\n",
    "        'C': [0.1, 1, 10]\n",
    "    }\n",
    "}\n",
    "\n",
    "best_f1 = 0\n",
    "best_model = None\n",
    "best_name = \"\"\n",
    "best_report = \"\"\n",
    "\n",
    "for name, model in models.items():\n",
    "    print(f\"Entrenando y buscando hiperparámetros para: {name}\")\n",
    "    grid = GridSearchCV(model, param_grids[name], scoring='f1', cv=5, n_jobs=-1)\n",
    "    grid.fit(X_train_pca, y_train)\n",
    "    y_pred = grid.predict(X_test_pca)\n",
    "    f1 = f1_score(y_test, y_pred)\n",
    "    print(f\"Mejor F1 para {name}: {f1:.4f}\")\n",
    "    print(classification_report(y_test, y_pred))\n",
    "    if f1 > best_f1:\n",
    "        best_f1 = f1\n",
    "        best_model = grid.best_estimator_\n",
    "        best_name = name\n",
    "        best_report = classification_report(y_test, y_pred)\n",
    "\n",
    "print(f\"\\nMejor modelo: {best_name} con F1 score de {best_f1:.4f}\")\n",
    "print(\"Reporte de clasificación del mejor modelo:\")\n",
    "print(best_report)"
   ]
  }
 ],
 "metadata": {
  "kernelspec": {
   "display_name": "Python 3",
   "language": "python",
   "name": "python3"
  },
  "language_info": {
   "codemirror_mode": {
    "name": "ipython",
    "version": 3
   },
   "file_extension": ".py",
   "mimetype": "text/x-python",
   "name": "python",
   "nbconvert_exporter": "python",
   "pygments_lexer": "ipython3",
   "version": "3.9.6"
  }
 },
 "nbformat": 4,
 "nbformat_minor": 2
}
