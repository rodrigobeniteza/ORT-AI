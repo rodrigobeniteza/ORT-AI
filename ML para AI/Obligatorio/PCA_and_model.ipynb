{
 "cells": [
  {
   "cell_type": "markdown",
   "metadata": {},
   "source": [
    "# Librerías"
   ]
  },
  {
   "cell_type": "code",
   "execution_count": 1,
   "metadata": {},
   "outputs": [],
   "source": [
    "import numpy as np \n",
    "import pandas as pd\n",
    "import joblib\n",
    "import matplotlib.pyplot as plt \n",
    "plt.style.use('ggplot')\n",
    "from mpl_toolkits.mplot3d import Axes3D\n",
    "from skimage import feature, data, color \n",
    "import os\n",
    "from tqdm import tqdm \n",
    "from skimage.transform import resize \n",
    "from sklearn.feature_extraction.image import PatchExtractor\n",
    "from itertools import chain \n",
    "from scipy import stats \n",
    "from sklearn.preprocessing import StandardScaler \n",
    "from sklearn.decomposition import PCA \n",
    "from sklearn.naive_bayes import GaussianNB \n",
    "from sklearn.metrics import classification_report \n",
    "from sklearn.model_selection import train_test_split\n",
    "\n",
    "#Metricas de performance\n",
    "from sklearn.metrics import accuracy_score, classification_report, confusion_matrix, ConfusionMatrixDisplay"
   ]
  },
  {
   "cell_type": "markdown",
   "metadata": {},
   "source": [
    "# Importar Caras y Fondos"
   ]
  },
  {
   "cell_type": "code",
   "execution_count": 2,
   "metadata": {},
   "outputs": [
    {
     "name": "stderr",
     "output_type": "stream",
     "text": [
      "100%|██████████| 12833/12833 [00:07<00:00, 1766.09it/s]\n",
      "100%|██████████| 12800/12800 [00:08<00:00, 1529.04it/s]\n"
     ]
    }
   ],
   "source": [
    "face_suffix = '.pgm'\n",
    "face_dir = os.listdir('Faces/')\n",
    "pgm_files = [filename for filename in face_dir if filename.endswith(face_suffix)]\n",
    "\n",
    "face_suffix = '.png'\n",
    "fondos_dir = os.listdir('Generar_Fondos/generated_patches/')\n",
    "png_files = [filename for filename in fondos_dir if filename.endswith(face_suffix)]\n",
    "\n",
    "positive_patches = []\n",
    "for filename in tqdm(pgm_files):\n",
    "    path = 'Faces/' + filename\n",
    "    with open (path, 'rb') as pgmf:\n",
    "        image = plt.imread(pgmf)\n",
    "        positive_patches.append (image)\n",
    "\n",
    "negative_patches = []\n",
    "for filename in tqdm(png_files):\n",
    "    path = 'Generar_Fondos/generated_patches/' + filename\n",
    "    with open (path, 'rb') as pgmf:\n",
    "        image = plt.imread(pgmf)\n",
    "        negative_patches.append(image)\n",
    "    "
   ]
  },
  {
   "cell_type": "code",
   "execution_count": 3,
   "metadata": {},
   "outputs": [
    {
     "name": "stdout",
     "output_type": "stream",
     "text": [
      "(12833, 64, 64)\n",
      "(12800, 64, 64)\n"
     ]
    }
   ],
   "source": [
    "positive_patches = np.array(positive_patches)\n",
    "negative_patches = np.array(negative_patches)\n",
    "\n",
    "print(positive_patches.shape)\n",
    "print(negative_patches.shape)"
   ]
  },
  {
   "cell_type": "code",
   "execution_count": 3,
   "metadata": {},
   "outputs": [],
   "source": [
    "P = len(positive_patches)"
   ]
  },
  {
   "cell_type": "code",
   "execution_count": 4,
   "metadata": {},
   "outputs": [
    {
     "name": "stderr",
     "output_type": "stream",
     "text": [
      "Construyendo X: 25633it [00:31, 817.55it/s]\n"
     ]
    }
   ],
   "source": [
    "X = np. array([feature.hog(im) for im in tqdm(chain(positive_patches, negative_patches), desc='Construyendo X') ])\n",
    "y = np. zeros(len(X))\n",
    "y[:P] = 1 # 1 es positivo, 0 es negativo"
   ]
  },
  {
   "cell_type": "code",
   "execution_count": 5,
   "metadata": {},
   "outputs": [],
   "source": [
    "# Separar en conjuntos de entrenamiento y prueba\n",
    "X_train, X_test, y_train, y_test = train_test_split(X, y, test_size=0.2, random_state=42)"
   ]
  },
  {
   "cell_type": "markdown",
   "metadata": {},
   "source": [
    "# PCA"
   ]
  },
  {
   "cell_type": "code",
   "execution_count": 15,
   "metadata": {},
   "outputs": [],
   "source": [
    "# Entrenar el modelo con PCA al conjunto de entrenamiento\n",
    "# Aplicar PCA para reducir la dimensionalidad\n",
    "pca = PCA(n_components=500)\n",
    "X_train_pca = pca.fit(X_train)\n",
    "X_train_pca_transform = pca.fit_transform(X_train)\n",
    "# X_train_pca_transform = pca.transform(X_train_pca)\n"
   ]
  },
  {
   "cell_type": "code",
   "execution_count": 16,
   "metadata": {},
   "outputs": [
    {
     "data": {
      "text/plain": [
       "(20506, 500)"
      ]
     },
     "execution_count": 16,
     "metadata": {},
     "output_type": "execute_result"
    }
   ],
   "source": [
    "X_train_pca_transform.shape"
   ]
  },
  {
   "cell_type": "code",
   "execution_count": 9,
   "metadata": {},
   "outputs": [
    {
     "data": {
      "application/vnd.plotly.v1+json": {
       "config": {
        "plotlyServerURL": "https://plot.ly"
       },
       "data": [
        {
         "marker": {
          "color": "#1f77b4"
         },
         "name": "Varianza explicada",
         "opacity": 0.8,
         "type": "bar",
         "x": {
          "bdata": "AQACAAMABAAFAAYABwAIAAkACgALAAwADQAOAA8AEAARABIAEwAUABUAFgAXABgAGQAaABsAHAAdAB4AHwAgACEAIgAjACQAJQAmACcAKAApACoAKwAsAC0ALgAvADAAMQAyADMANAA1ADYANwA4ADkAOgA7ADwAPQA+AD8AQABBAEIAQwBEAEUARgBHAEgASQBKAEsATABNAE4ATwBQAFEAUgBTAFQAVQBWAFcAWABZAFoAWwBcAF0AXgBfAGAAYQBiAGMAZABlAGYAZwBoAGkAagBrAGwAbQBuAG8AcABxAHIAcwB0AHUAdgB3AHgAeQB6AHsAfAB9AH4AfwCAAIEAggCDAIQAhQCGAIcAiACJAIoAiwCMAI0AjgCPAJAAkQCSAJMAlACVAJYAlwCYAJkAmgCbAJwAnQCeAJ8AoAChAKIAowCkAKUApgCnAKgAqQCqAKsArACtAK4ArwCwALEAsgCzALQAtQC2ALcAuAC5ALoAuwC8AL0AvgC/AMAAwQDCAMMAxADFAMYAxwDIAMkAygDLAMwAzQDOAM8A0ADRANIA0wDUANUA1gDXANgA2QDaANsA3ADdAN4A3wDgAOEA4gDjAOQA5QDmAOcA6ADpAOoA6wDsAO0A7gDvAPAA8QDyAPMA9AD1APYA9wD4APkA+gD7APwA/QD+AP8AAAEBAQIBAwEEAQUBBgEHAQgBCQEKAQsBDAENAQ4BDwEQAREBEgETARQBFQEWARcBGAEZARoBGwEcAR0BHgEfASABIQEiASMBJAElASYBJwEoASkBKgErASwBLQEuAS8BMAExATIBMwE0ATUBNgE3ATgBOQE6ATsBPAE9AT4BPwFAAUEBQgFDAUQBRQFGAUcBSAFJAUoBSwFMAU0BTgFPAVABUQFSAVMBVAFVAVYBVwFYAVkBWgFbAVwBXQFeAV8BYAFhAWIBYwFkAWUBZgFnAWgBaQFqAWsBbAFtAW4BbwFwAXEBcgFzAXQBdQF2AXcBeAF5AXoBewF8AX0BfgF/AYABgQGCAYMBhAGFAYYBhwGIAYkBigGLAYwBjQGOAY8BkAGRAZIBkwGUAZUBlgGXAZgBmQGaAZsBnAGdAZ4BnwGgAaEBogGjAaQBpQGmAacBqAGpAaoBqwGsAa0BrgGvAbABsQGyAbMBtAG1AbYBtwG4AbkBugG7AbwBvQG+Ab8BwAHBAcIBwwHEAcUBxgHHAcgByQHKAcsBzAHNAc4BzwHQAdEB0gHTAdQB1QHWAdcB2AHZAdoB2wHcAd0B3gHfAeAB4QHiAeMB5AHlAeYB5wHoAekB6gHrAewB7QHuAe8B8AHxAfIB8wH0AQ==",
          "dtype": "i2"
         },
         "xaxis": "x",
         "y": {
          "bdata": "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",
          "dtype": "f8"
         },
         "yaxis": "y"
        },
        {
         "marker": {
          "color": "#2ca02c"
         },
         "name": "Varianza acumulada",
         "opacity": 0.8,
         "type": "bar",
         "x": {
          "bdata": "AQACAAMABAAFAAYABwAIAAkACgALAAwADQAOAA8AEAARABIAEwAUABUAFgAXABgAGQAaABsAHAAdAB4AHwAgACEAIgAjACQAJQAmACcAKAApACoAKwAsAC0ALgAvADAAMQAyADMANAA1ADYANwA4ADkAOgA7ADwAPQA+AD8AQABBAEIAQwBEAEUARgBHAEgASQBKAEsATABNAE4ATwBQAFEAUgBTAFQAVQBWAFcAWABZAFoAWwBcAF0AXgBfAGAAYQBiAGMAZABlAGYAZwBoAGkAagBrAGwAbQBuAG8AcABxAHIAcwB0AHUAdgB3AHgAeQB6AHsAfAB9AH4AfwCAAIEAggCDAIQAhQCGAIcAiACJAIoAiwCMAI0AjgCPAJAAkQCSAJMAlACVAJYAlwCYAJkAmgCbAJwAnQCeAJ8AoAChAKIAowCkAKUApgCnAKgAqQCqAKsArACtAK4ArwCwALEAsgCzALQAtQC2ALcAuAC5ALoAuwC8AL0AvgC/AMAAwQDCAMMAxADFAMYAxwDIAMkAygDLAMwAzQDOAM8A0ADRANIA0wDUANUA1gDXANgA2QDaANsA3ADdAN4A3wDgAOEA4gDjAOQA5QDmAOcA6ADpAOoA6wDsAO0A7gDvAPAA8QDyAPMA9AD1APYA9wD4APkA+gD7APwA/QD+AP8AAAEBAQIBAwEEAQUBBgEHAQgBCQEKAQsBDAENAQ4BDwEQAREBEgETARQBFQEWARcBGAEZARoBGwEcAR0BHgEfASABIQEiASMBJAElASYBJwEoASkBKgErASwBLQEuAS8BMAExATIBMwE0ATUBNgE3ATgBOQE6ATsBPAE9AT4BPwFAAUEBQgFDAUQBRQFGAUcBSAFJAUoBSwFMAU0BTgFPAVABUQFSAVMBVAFVAVYBVwFYAVkBWgFbAVwBXQFeAV8BYAFhAWIBYwFkAWUBZgFnAWgBaQFqAWsBbAFtAW4BbwFwAXEBcgFzAXQBdQF2AXcBeAF5AXoBewF8AX0BfgF/AYABgQGCAYMBhAGFAYYBhwGIAYkBigGLAYwBjQGOAY8BkAGRAZIBkwGUAZUBlgGXAZgBmQGaAZsBnAGdAZ4BnwGgAaEBogGjAaQBpQGmAacBqAGpAaoBqwGsAa0BrgGvAbABsQGyAbMBtAG1AbYBtwG4AbkBugG7AbwBvQG+Ab8BwAHBAcIBwwHEAcUBxgHHAcgByQHKAcsBzAHNAc4BzwHQAdEB0gHTAdQB1QHWAdcB2AHZAdoB2wHcAd0B3gHfAeAB4QHiAeMB5AHlAeYB5wHoAekB6gHrAewB7QHuAe8B8AHxAfIB8wH0AQ==",
          "dtype": "i2"
         },
         "xaxis": "x2",
         "y": {
          "bdata": "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",
          "dtype": "f8"
         },
         "yaxis": "y2"
        }
       ],
       "layout": {
        "annotations": [
         {
          "font": {
           "size": 16
          },
          "showarrow": false,
          "text": "Varianza explicada por componente",
          "x": 0.225,
          "xanchor": "center",
          "xref": "paper",
          "y": 1,
          "yanchor": "bottom",
          "yref": "paper"
         },
         {
          "font": {
           "size": 16
          },
          "showarrow": false,
          "text": "Varianza acumulada",
          "x": 0.775,
          "xanchor": "center",
          "xref": "paper",
          "y": 1,
          "yanchor": "bottom",
          "yref": "paper"
         }
        ],
        "font": {
         "size": 12
        },
        "height": 500,
        "margin": {
         "t": 100
        },
        "paper_bgcolor": "white",
        "plot_bgcolor": "white",
        "shapes": [
         {
          "line": {
           "color": "red",
           "dash": "dash",
           "width": 2
          },
          "type": "line",
          "x0": 0,
          "x1": 1,
          "xref": "x2 domain",
          "y0": 0.95,
          "y1": 0.95,
          "yref": "y2"
         }
        ],
        "showlegend": true,
        "template": {
         "data": {
          "bar": [
           {
            "error_x": {
             "color": "#2a3f5f"
            },
            "error_y": {
             "color": "#2a3f5f"
            },
            "marker": {
             "line": {
              "color": "#E5ECF6",
              "width": 0.5
             },
             "pattern": {
              "fillmode": "overlay",
              "size": 10,
              "solidity": 0.2
             }
            },
            "type": "bar"
           }
          ],
          "barpolar": [
           {
            "marker": {
             "line": {
              "color": "#E5ECF6",
              "width": 0.5
             },
             "pattern": {
              "fillmode": "overlay",
              "size": 10,
              "solidity": 0.2
             }
            },
            "type": "barpolar"
           }
          ],
          "carpet": [
           {
            "aaxis": {
             "endlinecolor": "#2a3f5f",
             "gridcolor": "white",
             "linecolor": "white",
             "minorgridcolor": "white",
             "startlinecolor": "#2a3f5f"
            },
            "baxis": {
             "endlinecolor": "#2a3f5f",
             "gridcolor": "white",
             "linecolor": "white",
             "minorgridcolor": "white",
             "startlinecolor": "#2a3f5f"
            },
            "type": "carpet"
           }
          ],
          "choropleth": [
           {
            "colorbar": {
             "outlinewidth": 0,
             "ticks": ""
            },
            "type": "choropleth"
           }
          ],
          "contour": [
           {
            "colorbar": {
             "outlinewidth": 0,
             "ticks": ""
            },
            "colorscale": [
             [
              0,
              "#0d0887"
             ],
             [
              0.1111111111111111,
              "#46039f"
             ],
             [
              0.2222222222222222,
              "#7201a8"
             ],
             [
              0.3333333333333333,
              "#9c179e"
             ],
             [
              0.4444444444444444,
              "#bd3786"
             ],
             [
              0.5555555555555556,
              "#d8576b"
             ],
             [
              0.6666666666666666,
              "#ed7953"
             ],
             [
              0.7777777777777778,
              "#fb9f3a"
             ],
             [
              0.8888888888888888,
              "#fdca26"
             ],
             [
              1,
              "#f0f921"
             ]
            ],
            "type": "contour"
           }
          ],
          "contourcarpet": [
           {
            "colorbar": {
             "outlinewidth": 0,
             "ticks": ""
            },
            "type": "contourcarpet"
           }
          ],
          "heatmap": [
           {
            "colorbar": {
             "outlinewidth": 0,
             "ticks": ""
            },
            "colorscale": [
             [
              0,
              "#0d0887"
             ],
             [
              0.1111111111111111,
              "#46039f"
             ],
             [
              0.2222222222222222,
              "#7201a8"
             ],
             [
              0.3333333333333333,
              "#9c179e"
             ],
             [
              0.4444444444444444,
              "#bd3786"
             ],
             [
              0.5555555555555556,
              "#d8576b"
             ],
             [
              0.6666666666666666,
              "#ed7953"
             ],
             [
              0.7777777777777778,
              "#fb9f3a"
             ],
             [
              0.8888888888888888,
              "#fdca26"
             ],
             [
              1,
              "#f0f921"
             ]
            ],
            "type": "heatmap"
           }
          ],
          "histogram": [
           {
            "marker": {
             "pattern": {
              "fillmode": "overlay",
              "size": 10,
              "solidity": 0.2
             }
            },
            "type": "histogram"
           }
          ],
          "histogram2d": [
           {
            "colorbar": {
             "outlinewidth": 0,
             "ticks": ""
            },
            "colorscale": [
             [
              0,
              "#0d0887"
             ],
             [
              0.1111111111111111,
              "#46039f"
             ],
             [
              0.2222222222222222,
              "#7201a8"
             ],
             [
              0.3333333333333333,
              "#9c179e"
             ],
             [
              0.4444444444444444,
              "#bd3786"
             ],
             [
              0.5555555555555556,
              "#d8576b"
             ],
             [
              0.6666666666666666,
              "#ed7953"
             ],
             [
              0.7777777777777778,
              "#fb9f3a"
             ],
             [
              0.8888888888888888,
              "#fdca26"
             ],
             [
              1,
              "#f0f921"
             ]
            ],
            "type": "histogram2d"
           }
          ],
          "histogram2dcontour": [
           {
            "colorbar": {
             "outlinewidth": 0,
             "ticks": ""
            },
            "colorscale": [
             [
              0,
              "#0d0887"
             ],
             [
              0.1111111111111111,
              "#46039f"
             ],
             [
              0.2222222222222222,
              "#7201a8"
             ],
             [
              0.3333333333333333,
              "#9c179e"
             ],
             [
              0.4444444444444444,
              "#bd3786"
             ],
             [
              0.5555555555555556,
              "#d8576b"
             ],
             [
              0.6666666666666666,
              "#ed7953"
             ],
             [
              0.7777777777777778,
              "#fb9f3a"
             ],
             [
              0.8888888888888888,
              "#fdca26"
             ],
             [
              1,
              "#f0f921"
             ]
            ],
            "type": "histogram2dcontour"
           }
          ],
          "mesh3d": [
           {
            "colorbar": {
             "outlinewidth": 0,
             "ticks": ""
            },
            "type": "mesh3d"
           }
          ],
          "parcoords": [
           {
            "line": {
             "colorbar": {
              "outlinewidth": 0,
              "ticks": ""
             }
            },
            "type": "parcoords"
           }
          ],
          "pie": [
           {
            "automargin": true,
            "type": "pie"
           }
          ],
          "scatter": [
           {
            "fillpattern": {
             "fillmode": "overlay",
             "size": 10,
             "solidity": 0.2
            },
            "type": "scatter"
           }
          ],
          "scatter3d": [
           {
            "line": {
             "colorbar": {
              "outlinewidth": 0,
              "ticks": ""
             }
            },
            "marker": {
             "colorbar": {
              "outlinewidth": 0,
              "ticks": ""
             }
            },
            "type": "scatter3d"
           }
          ],
          "scattercarpet": [
           {
            "marker": {
             "colorbar": {
              "outlinewidth": 0,
              "ticks": ""
             }
            },
            "type": "scattercarpet"
           }
          ],
          "scattergeo": [
           {
            "marker": {
             "colorbar": {
              "outlinewidth": 0,
              "ticks": ""
             }
            },
            "type": "scattergeo"
           }
          ],
          "scattergl": [
           {
            "marker": {
             "colorbar": {
              "outlinewidth": 0,
              "ticks": ""
             }
            },
            "type": "scattergl"
           }
          ],
          "scattermap": [
           {
            "marker": {
             "colorbar": {
              "outlinewidth": 0,
              "ticks": ""
             }
            },
            "type": "scattermap"
           }
          ],
          "scattermapbox": [
           {
            "marker": {
             "colorbar": {
              "outlinewidth": 0,
              "ticks": ""
             }
            },
            "type": "scattermapbox"
           }
          ],
          "scatterpolar": [
           {
            "marker": {
             "colorbar": {
              "outlinewidth": 0,
              "ticks": ""
             }
            },
            "type": "scatterpolar"
           }
          ],
          "scatterpolargl": [
           {
            "marker": {
             "colorbar": {
              "outlinewidth": 0,
              "ticks": ""
             }
            },
            "type": "scatterpolargl"
           }
          ],
          "scatterternary": [
           {
            "marker": {
             "colorbar": {
              "outlinewidth": 0,
              "ticks": ""
             }
            },
            "type": "scatterternary"
           }
          ],
          "surface": [
           {
            "colorbar": {
             "outlinewidth": 0,
             "ticks": ""
            },
            "colorscale": [
             [
              0,
              "#0d0887"
             ],
             [
              0.1111111111111111,
              "#46039f"
             ],
             [
              0.2222222222222222,
              "#7201a8"
             ],
             [
              0.3333333333333333,
              "#9c179e"
             ],
             [
              0.4444444444444444,
              "#bd3786"
             ],
             [
              0.5555555555555556,
              "#d8576b"
             ],
             [
              0.6666666666666666,
              "#ed7953"
             ],
             [
              0.7777777777777778,
              "#fb9f3a"
             ],
             [
              0.8888888888888888,
              "#fdca26"
             ],
             [
              1,
              "#f0f921"
             ]
            ],
            "type": "surface"
           }
          ],
          "table": [
           {
            "cells": {
             "fill": {
              "color": "#EBF0F8"
             },
             "line": {
              "color": "white"
             }
            },
            "header": {
             "fill": {
              "color": "#C8D4E3"
             },
             "line": {
              "color": "white"
             }
            },
            "type": "table"
           }
          ]
         },
         "layout": {
          "annotationdefaults": {
           "arrowcolor": "#2a3f5f",
           "arrowhead": 0,
           "arrowwidth": 1
          },
          "autotypenumbers": "strict",
          "coloraxis": {
           "colorbar": {
            "outlinewidth": 0,
            "ticks": ""
           }
          },
          "colorscale": {
           "diverging": [
            [
             0,
             "#8e0152"
            ],
            [
             0.1,
             "#c51b7d"
            ],
            [
             0.2,
             "#de77ae"
            ],
            [
             0.3,
             "#f1b6da"
            ],
            [
             0.4,
             "#fde0ef"
            ],
            [
             0.5,
             "#f7f7f7"
            ],
            [
             0.6,
             "#e6f5d0"
            ],
            [
             0.7,
             "#b8e186"
            ],
            [
             0.8,
             "#7fbc41"
            ],
            [
             0.9,
             "#4d9221"
            ],
            [
             1,
             "#276419"
            ]
           ],
           "sequential": [
            [
             0,
             "#0d0887"
            ],
            [
             0.1111111111111111,
             "#46039f"
            ],
            [
             0.2222222222222222,
             "#7201a8"
            ],
            [
             0.3333333333333333,
             "#9c179e"
            ],
            [
             0.4444444444444444,
             "#bd3786"
            ],
            [
             0.5555555555555556,
             "#d8576b"
            ],
            [
             0.6666666666666666,
             "#ed7953"
            ],
            [
             0.7777777777777778,
             "#fb9f3a"
            ],
            [
             0.8888888888888888,
             "#fdca26"
            ],
            [
             1,
             "#f0f921"
            ]
           ],
           "sequentialminus": [
            [
             0,
             "#0d0887"
            ],
            [
             0.1111111111111111,
             "#46039f"
            ],
            [
             0.2222222222222222,
             "#7201a8"
            ],
            [
             0.3333333333333333,
             "#9c179e"
            ],
            [
             0.4444444444444444,
             "#bd3786"
            ],
            [
             0.5555555555555556,
             "#d8576b"
            ],
            [
             0.6666666666666666,
             "#ed7953"
            ],
            [
             0.7777777777777778,
             "#fb9f3a"
            ],
            [
             0.8888888888888888,
             "#fdca26"
            ],
            [
             1,
             "#f0f921"
            ]
           ]
          },
          "colorway": [
           "#636efa",
           "#EF553B",
           "#00cc96",
           "#ab63fa",
           "#FFA15A",
           "#19d3f3",
           "#FF6692",
           "#B6E880",
           "#FF97FF",
           "#FECB52"
          ],
          "font": {
           "color": "#2a3f5f"
          },
          "geo": {
           "bgcolor": "white",
           "lakecolor": "white",
           "landcolor": "#E5ECF6",
           "showlakes": true,
           "showland": true,
           "subunitcolor": "white"
          },
          "hoverlabel": {
           "align": "left"
          },
          "hovermode": "closest",
          "mapbox": {
           "style": "light"
          },
          "paper_bgcolor": "white",
          "plot_bgcolor": "#E5ECF6",
          "polar": {
           "angularaxis": {
            "gridcolor": "white",
            "linecolor": "white",
            "ticks": ""
           },
           "bgcolor": "#E5ECF6",
           "radialaxis": {
            "gridcolor": "white",
            "linecolor": "white",
            "ticks": ""
           }
          },
          "scene": {
           "xaxis": {
            "backgroundcolor": "#E5ECF6",
            "gridcolor": "white",
            "gridwidth": 2,
            "linecolor": "white",
            "showbackground": true,
            "ticks": "",
            "zerolinecolor": "white"
           },
           "yaxis": {
            "backgroundcolor": "#E5ECF6",
            "gridcolor": "white",
            "gridwidth": 2,
            "linecolor": "white",
            "showbackground": true,
            "ticks": "",
            "zerolinecolor": "white"
           },
           "zaxis": {
            "backgroundcolor": "#E5ECF6",
            "gridcolor": "white",
            "gridwidth": 2,
            "linecolor": "white",
            "showbackground": true,
            "ticks": "",
            "zerolinecolor": "white"
           }
          },
          "shapedefaults": {
           "line": {
            "color": "#2a3f5f"
           }
          },
          "ternary": {
           "aaxis": {
            "gridcolor": "white",
            "linecolor": "white",
            "ticks": ""
           },
           "baxis": {
            "gridcolor": "white",
            "linecolor": "white",
            "ticks": ""
           },
           "bgcolor": "#E5ECF6",
           "caxis": {
            "gridcolor": "white",
            "linecolor": "white",
            "ticks": ""
           }
          },
          "title": {
           "x": 0.05
          },
          "xaxis": {
           "automargin": true,
           "gridcolor": "white",
           "linecolor": "white",
           "ticks": "",
           "title": {
            "standoff": 15
           },
           "zerolinecolor": "white",
           "zerolinewidth": 2
          },
          "yaxis": {
           "automargin": true,
           "gridcolor": "white",
           "linecolor": "white",
           "ticks": "",
           "title": {
            "standoff": 15
           },
           "zerolinecolor": "white",
           "zerolinewidth": 2
          }
         }
        },
        "title": {
         "font": {
          "size": 20
         },
         "text": "Análisis de Varianza PCA"
        },
        "width": 1200,
        "xaxis": {
         "anchor": "y",
         "domain": [
          0,
          0.45
         ],
         "gridcolor": "LightGray",
         "gridwidth": 1,
         "showgrid": true,
         "title": {
          "text": "Componente principal"
         }
        },
        "xaxis2": {
         "anchor": "y2",
         "domain": [
          0.55,
          1
         ],
         "gridcolor": "LightGray",
         "gridwidth": 1,
         "showgrid": true,
         "title": {
          "text": "Componente principal"
         }
        },
        "yaxis": {
         "anchor": "x",
         "domain": [
          0,
          1
         ],
         "gridcolor": "LightGray",
         "gridwidth": 1,
         "showgrid": true,
         "title": {
          "text": "Proporción de varianza"
         }
        },
        "yaxis2": {
         "anchor": "x2",
         "domain": [
          0,
          1
         ],
         "gridcolor": "LightGray",
         "gridwidth": 1,
         "showgrid": true,
         "title": {
          "text": "Proporción de varianza"
         }
        }
       }
      }
     },
     "metadata": {},
     "output_type": "display_data"
    }
   ],
   "source": [
    "import plotly.express as px\n",
    "import plotly.graph_objects as go\n",
    "from plotly.subplots import make_subplots\n",
    "import pandas as pd\n",
    "\n",
    "# Obtener varianzas\n",
    "var_explicada = X_train_pca.explained_variance_ratio_ \n",
    "var_acumulada = np.cumsum(var_explicada)\n",
    "\n",
    "# Crear DataFrames para Plotly\n",
    "df_var_explicada = pd.DataFrame({\n",
    "    'Componente': range(1, len(var_explicada)+1),\n",
    "    'Varianza': var_explicada\n",
    "})\n",
    "\n",
    "df_var_acumulada = pd.DataFrame({\n",
    "    'Componente': range(1, len(var_acumulada)+1),\n",
    "    'Varianza': var_acumulada\n",
    "})\n",
    "\n",
    "# Crear subplots usando Plotly Express\n",
    "fig = make_subplots(rows=1, cols=2, subplot_titles=('Varianza explicada por componente', 'Varianza acumulada'))\n",
    "\n",
    "# Varianza explicada\n",
    "fig.add_trace(\n",
    "    go.Bar(\n",
    "        x=df_var_explicada['Componente'], \n",
    "        y=df_var_explicada['Varianza'], \n",
    "        name='Varianza explicada',\n",
    "        marker_color='#1f77b4',  # Azul más oscuro\n",
    "        opacity=0.8\n",
    "    ),\n",
    "    row=1, col=1\n",
    ")\n",
    "\n",
    "# Varianza acumulada\n",
    "fig.add_trace(\n",
    "    go.Bar(\n",
    "        x=df_var_acumulada['Componente'], \n",
    "        y=df_var_acumulada['Varianza'], \n",
    "        name='Varianza acumulada',\n",
    "        marker_color='#2ca02c',  # Verde más oscuro\n",
    "        opacity=0.8\n",
    "    ),\n",
    "    row=1, col=2\n",
    ")\n",
    "\n",
    "# Agregar línea de 95% de varianza\n",
    "fig.add_hline(\n",
    "    y=0.95, \n",
    "    line_dash=\"dash\", \n",
    "    line_color=\"red\",\n",
    "    line_width=2,\n",
    "    row=1, \n",
    "    col=2\n",
    ")\n",
    "\n",
    "# Actualizar layout\n",
    "fig.update_layout(\n",
    "    height=500,\n",
    "    width=1200,\n",
    "    showlegend=True,\n",
    "    title_text=\"Análisis de Varianza PCA\",\n",
    "    title_font_size=20,\n",
    "    plot_bgcolor='white',\n",
    "    paper_bgcolor='white',\n",
    "    xaxis_title=\"Componente principal\",\n",
    "    yaxis_title=\"Proporción de varianza\",\n",
    "    xaxis2_title=\"Componente principal\",\n",
    "    yaxis2_title=\"Proporción de varianza\",\n",
    "    font=dict(size=12),\n",
    "    margin=dict(t=100)\n",
    ")\n",
    "\n",
    "# Actualizar ejes para mejor visualización\n",
    "fig.update_xaxes(showgrid=True, gridwidth=1, gridcolor='LightGray')\n",
    "fig.update_yaxes(showgrid=True, gridwidth=1, gridcolor='LightGray')\n",
    "\n",
    "fig.show()"
   ]
  },
  {
   "cell_type": "code",
   "execution_count": 18,
   "metadata": {},
   "outputs": [
    {
     "data": {
      "image/png": "[encoded data removed]",
      "text/plain": [
       "<Figure size 640x480 with 1 Axes>"
      ]
     },
     "metadata": {},
     "output_type": "display_data"
    }
   ],
   "source": [
    "# Tomar solo las primeras dos componentes para graficar\n",
    "X_plot = X_train_pca_transform[:, :2]\n",
    "\n",
    "\n",
    "# Graficar con colores y leyenda\n",
    "colors = ['tab:red', 'tab:blue']\n",
    "labels = ['Back', 'Face']\n",
    "\n",
    "for class_value in [0, 1]:\n",
    "    plt.scatter(X_train_pca_transform[y_train == class_value, 0], X_train_pca_transform[y_train == class_value, 1], c=colors [class_value], label=labels[class_value], alpha=0.4)\n",
    "\n",
    "plt.xlabel('PC1')\n",
    "plt.ylabel('PC2')\n",
    "plt.title('PCA con clases')\n",
    "plt.legend()\n",
    "plt.grid(True)\n",
    "plt.show()"
   ]
  },
  {
   "cell_type": "markdown",
   "metadata": {},
   "source": [
    "# Models"
   ]
  },
  {
   "cell_type": "code",
   "execution_count": 19,
   "metadata": {},
   "outputs": [],
   "source": [
    "# Separar en conjuntos de entrenamiento y prueba\n",
    "# X_train, X_test, y_train, y_test = train_test_split(x_transform, y, test_size=0.2, random_state=42)\n",
    "\n",
    "X_test_pca = pca.transform(X_test)"
   ]
  },
  {
   "cell_type": "code",
   "execution_count": 21,
   "metadata": {},
   "outputs": [
    {
     "name": "stdout",
     "output_type": "stream",
     "text": [
      "(20506, 500)\n",
      "(5127, 500)\n",
      "(20506,)\n",
      "(5127,)\n"
     ]
    }
   ],
   "source": [
    "print(X_train_pca_transform.shape)\n",
    "print(X_test_pca.shape)\n",
    "print(y_train.shape)\n",
    "print(y_test.shape)"
   ]
  },
  {
   "cell_type": "code",
   "execution_count": 22,
   "metadata": {},
   "outputs": [],
   "source": [
    "#Algorimtos de clasificacion\n",
    "from sklearn.neighbors import KNeighborsClassifier\n",
    "from sklearn.linear_model import LogisticRegression\n",
    "from sklearn.tree import DecisionTreeClassifier\n",
    "\n",
    "from re import A\n"
   ]
  },
  {
   "cell_type": "code",
   "execution_count": 28,
   "metadata": {},
   "outputs": [],
   "source": [
    "X_train = X_train_pca_transform\n",
    "\n",
    "X_test = X_test_pca"
   ]
  },
  {
   "cell_type": "markdown",
   "metadata": {},
   "source": [
    "## KNN"
   ]
  },
  {
   "cell_type": "code",
   "execution_count": 26,
   "metadata": {},
   "outputs": [],
   "source": [
    "# Elegimos el k\n",
    "k = 3"
   ]
  },
  {
   "cell_type": "code",
   "execution_count": 29,
   "metadata": {},
   "outputs": [
    {
     "data": {
      "text/html": [
       "<style>#sk-container-id-2 {\n",
       "  /* Definition of color scheme common for light and dark mode */\n",
       "  --sklearn-color-text: #000;\n",
       "  --sklearn-color-text-muted: #666;\n",
       "  --sklearn-color-line: gray;\n",
       "  /* Definition of color scheme for unfitted estimators */\n",
       "  --sklearn-color-unfitted-level-0: #fff5e6;\n",
       "  --sklearn-color-unfitted-level-1: #f6e4d2;\n",
       "  --sklearn-color-unfitted-level-2: #ffe0b3;\n",
       "  --sklearn-color-unfitted-level-3: chocolate;\n",
       "  /* Definition of color scheme for fitted estimators */\n",
       "  --sklearn-color-fitted-level-0: #f0f8ff;\n",
       "  --sklearn-color-fitted-level-1: #d4ebff;\n",
       "  --sklearn-color-fitted-level-2: #b3dbfd;\n",
       "  --sklearn-color-fitted-level-3: cornflowerblue;\n",
       "\n",
       "  /* Specific color for light theme */\n",
       "  --sklearn-color-text-on-default-background: var(--sg-text-color, var(--theme-code-foreground, var(--jp-content-font-color1, black)));\n",
       "  --sklearn-color-background: var(--sg-background-color, var(--theme-background, var(--jp-layout-color0, white)));\n",
       "  --sklearn-color-border-box: var(--sg-text-color, var(--theme-code-foreground, var(--jp-content-font-color1, black)));\n",
       "  --sklearn-color-icon: #696969;\n",
       "\n",
       "  @media (prefers-color-scheme: dark) {\n",
       "    /* Redefinition of color scheme for dark theme */\n",
       "    --sklearn-color-text-on-default-background: var(--sg-text-color, var(--theme-code-foreground, var(--jp-content-font-color1, white)));\n",
       "    --sklearn-color-background: var(--sg-background-color, var(--theme-background, var(--jp-layout-color0, #111)));\n",
       "    --sklearn-color-border-box: var(--sg-text-color, var(--theme-code-foreground, var(--jp-content-font-color1, white)));\n",
       "    --sklearn-color-icon: #878787;\n",
       "  }\n",
       "}\n",
       "\n",
       "#sk-container-id-2 {\n",
       "  color: var(--sklearn-color-text);\n",
       "}\n",
       "\n",
       "#sk-container-id-2 pre {\n",
       "  padding: 0;\n",
       "}\n",
       "\n",
       "#sk-container-id-2 input.sk-hidden--visually {\n",
       "  border: 0;\n",
       "  clip: rect(1px 1px 1px 1px);\n",
       "  clip: rect(1px, 1px, 1px, 1px);\n",
       "  height: 1px;\n",
       "  margin: -1px;\n",
       "  overflow: hidden;\n",
       "  padding: 0;\n",
       "  position: absolute;\n",
       "  width: 1px;\n",
       "}\n",
       "\n",
       "#sk-container-id-2 div.sk-dashed-wrapped {\n",
       "  border: 1px dashed var(--sklearn-color-line);\n",
       "  margin: 0 0.4em 0.5em 0.4em;\n",
       "  box-sizing: border-box;\n",
       "  padding-bottom: 0.4em;\n",
       "  background-color: var(--sklearn-color-background);\n",
       "}\n",
       "\n",
       "#sk-container-id-2 div.sk-container {\n",
       "  /* jupyter's `normalize.less` sets `[hidden] { display: none; }`\n",
       "     but bootstrap.min.css set `[hidden] { display: none !important; }`\n",
       "     so we also need the `!important` here to be able to override the\n",
       "     default hidden behavior on the sphinx rendered scikit-learn.org.\n",
       "     See: https://github.com/scikit-learn/scikit-learn/issues/21755 */\n",
       "  display: inline-block !important;\n",
       "  position: relative;\n",
       "}\n",
       "\n",
       "#sk-container-id-2 div.sk-text-repr-fallback {\n",
       "  display: none;\n",
       "}\n",
       "\n",
       "div.sk-parallel-item,\n",
       "div.sk-serial,\n",
       "div.sk-item {\n",
       "  /* draw centered vertical line to link estimators */\n",
       "  background-image: linear-gradient(var(--sklearn-color-text-on-default-background), var(--sklearn-color-text-on-default-background));\n",
       "  background-size: 2px 100%;\n",
       "  background-repeat: no-repeat;\n",
       "  background-position: center center;\n",
       "}\n",
       "\n",
       "/* Parallel-specific style estimator block */\n",
       "\n",
       "#sk-container-id-2 div.sk-parallel-item::after {\n",
       "  content: \"\";\n",
       "  width: 100%;\n",
       "  border-bottom: 2px solid var(--sklearn-color-text-on-default-background);\n",
       "  flex-grow: 1;\n",
       "}\n",
       "\n",
       "#sk-container-id-2 div.sk-parallel {\n",
       "  display: flex;\n",
       "  align-items: stretch;\n",
       "  justify-content: center;\n",
       "  background-color: var(--sklearn-color-background);\n",
       "  position: relative;\n",
       "}\n",
       "\n",
       "#sk-container-id-2 div.sk-parallel-item {\n",
       "  display: flex;\n",
       "  flex-direction: column;\n",
       "}\n",
       "\n",
       "#sk-container-id-2 div.sk-parallel-item:first-child::after {\n",
       "  align-self: flex-end;\n",
       "  width: 50%;\n",
       "}\n",
       "\n",
       "#sk-container-id-2 div.sk-parallel-item:last-child::after {\n",
       "  align-self: flex-start;\n",
       "  width: 50%;\n",
       "}\n",
       "\n",
       "#sk-container-id-2 div.sk-parallel-item:only-child::after {\n",
       "  width: 0;\n",
       "}\n",
       "\n",
       "/* Serial-specific style estimator block */\n",
       "\n",
       "#sk-container-id-2 div.sk-serial {\n",
       "  display: flex;\n",
       "  flex-direction: column;\n",
       "  align-items: center;\n",
       "  background-color: var(--sklearn-color-background);\n",
       "  padding-right: 1em;\n",
       "  padding-left: 1em;\n",
       "}\n",
       "\n",
       "\n",
       "/* Toggleable style: style used for estimator/Pipeline/ColumnTransformer box that is\n",
       "clickable and can be expanded/collapsed.\n",
       "- Pipeline and ColumnTransformer use this feature and define the default style\n",
       "- Estimators will overwrite some part of the style using the `sk-estimator` class\n",
       "*/\n",
       "\n",
       "/* Pipeline and ColumnTransformer style (default) */\n",
       "\n",
       "#sk-container-id-2 div.sk-toggleable {\n",
       "  /* Default theme specific background. It is overwritten whether we have a\n",
       "  specific estimator or a Pipeline/ColumnTransformer */\n",
       "  background-color: var(--sklearn-color-background);\n",
       "}\n",
       "\n",
       "/* Toggleable label */\n",
       "#sk-container-id-2 label.sk-toggleable__label {\n",
       "  cursor: pointer;\n",
       "  display: flex;\n",
       "  width: 100%;\n",
       "  margin-bottom: 0;\n",
       "  padding: 0.5em;\n",
       "  box-sizing: border-box;\n",
       "  text-align: center;\n",
       "  align-items: start;\n",
       "  justify-content: space-between;\n",
       "  gap: 0.5em;\n",
       "}\n",
       "\n",
       "#sk-container-id-2 label.sk-toggleable__label .caption {\n",
       "  font-size: 0.6rem;\n",
       "  font-weight: lighter;\n",
       "  color: var(--sklearn-color-text-muted);\n",
       "}\n",
       "\n",
       "#sk-container-id-2 label.sk-toggleable__label-arrow:before {\n",
       "  /* Arrow on the left of the label */\n",
       "  content: \"▸\";\n",
       "  float: left;\n",
       "  margin-right: 0.25em;\n",
       "  color: var(--sklearn-color-icon);\n",
       "}\n",
       "\n",
       "#sk-container-id-2 label.sk-toggleable__label-arrow:hover:before {\n",
       "  color: var(--sklearn-color-text);\n",
       "}\n",
       "\n",
       "/* Toggleable content - dropdown */\n",
       "\n",
       "#sk-container-id-2 div.sk-toggleable__content {\n",
       "  max-height: 0;\n",
       "  max-width: 0;\n",
       "  overflow: hidden;\n",
       "  text-align: left;\n",
       "  /* unfitted */\n",
       "  background-color: var(--sklearn-color-unfitted-level-0);\n",
       "}\n",
       "\n",
       "#sk-container-id-2 div.sk-toggleable__content.fitted {\n",
       "  /* fitted */\n",
       "  background-color: var(--sklearn-color-fitted-level-0);\n",
       "}\n",
       "\n",
       "#sk-container-id-2 div.sk-toggleable__content pre {\n",
       "  margin: 0.2em;\n",
       "  border-radius: 0.25em;\n",
       "  color: var(--sklearn-color-text);\n",
       "  /* unfitted */\n",
       "  background-color: var(--sklearn-color-unfitted-level-0);\n",
       "}\n",
       "\n",
       "#sk-container-id-2 div.sk-toggleable__content.fitted pre {\n",
       "  /* unfitted */\n",
       "  background-color: var(--sklearn-color-fitted-level-0);\n",
       "}\n",
       "\n",
       "#sk-container-id-2 input.sk-toggleable__control:checked~div.sk-toggleable__content {\n",
       "  /* Expand drop-down */\n",
       "  max-height: 200px;\n",
       "  max-width: 100%;\n",
       "  overflow: auto;\n",
       "}\n",
       "\n",
       "#sk-container-id-2 input.sk-toggleable__control:checked~label.sk-toggleable__label-arrow:before {\n",
       "  content: \"▾\";\n",
       "}\n",
       "\n",
       "/* Pipeline/ColumnTransformer-specific style */\n",
       "\n",
       "#sk-container-id-2 div.sk-label input.sk-toggleable__control:checked~label.sk-toggleable__label {\n",
       "  color: var(--sklearn-color-text);\n",
       "  background-color: var(--sklearn-color-unfitted-level-2);\n",
       "}\n",
       "\n",
       "#sk-container-id-2 div.sk-label.fitted input.sk-toggleable__control:checked~label.sk-toggleable__label {\n",
       "  background-color: var(--sklearn-color-fitted-level-2);\n",
       "}\n",
       "\n",
       "/* Estimator-specific style */\n",
       "\n",
       "/* Colorize estimator box */\n",
       "#sk-container-id-2 div.sk-estimator input.sk-toggleable__control:checked~label.sk-toggleable__label {\n",
       "  /* unfitted */\n",
       "  background-color: var(--sklearn-color-unfitted-level-2);\n",
       "}\n",
       "\n",
       "#sk-container-id-2 div.sk-estimator.fitted input.sk-toggleable__control:checked~label.sk-toggleable__label {\n",
       "  /* fitted */\n",
       "  background-color: var(--sklearn-color-fitted-level-2);\n",
       "}\n",
       "\n",
       "#sk-container-id-2 div.sk-label label.sk-toggleable__label,\n",
       "#sk-container-id-2 div.sk-label label {\n",
       "  /* The background is the default theme color */\n",
       "  color: var(--sklearn-color-text-on-default-background);\n",
       "}\n",
       "\n",
       "/* On hover, darken the color of the background */\n",
       "#sk-container-id-2 div.sk-label:hover label.sk-toggleable__label {\n",
       "  color: var(--sklearn-color-text);\n",
       "  background-color: var(--sklearn-color-unfitted-level-2);\n",
       "}\n",
       "\n",
       "/* Label box, darken color on hover, fitted */\n",
       "#sk-container-id-2 div.sk-label.fitted:hover label.sk-toggleable__label.fitted {\n",
       "  color: var(--sklearn-color-text);\n",
       "  background-color: var(--sklearn-color-fitted-level-2);\n",
       "}\n",
       "\n",
       "/* Estimator label */\n",
       "\n",
       "#sk-container-id-2 div.sk-label label {\n",
       "  font-family: monospace;\n",
       "  font-weight: bold;\n",
       "  display: inline-block;\n",
       "  line-height: 1.2em;\n",
       "}\n",
       "\n",
       "#sk-container-id-2 div.sk-label-container {\n",
       "  text-align: center;\n",
       "}\n",
       "\n",
       "/* Estimator-specific */\n",
       "#sk-container-id-2 div.sk-estimator {\n",
       "  font-family: monospace;\n",
       "  border: 1px dotted var(--sklearn-color-border-box);\n",
       "  border-radius: 0.25em;\n",
       "  box-sizing: border-box;\n",
       "  margin-bottom: 0.5em;\n",
       "  /* unfitted */\n",
       "  background-color: var(--sklearn-color-unfitted-level-0);\n",
       "}\n",
       "\n",
       "#sk-container-id-2 div.sk-estimator.fitted {\n",
       "  /* fitted */\n",
       "  background-color: var(--sklearn-color-fitted-level-0);\n",
       "}\n",
       "\n",
       "/* on hover */\n",
       "#sk-container-id-2 div.sk-estimator:hover {\n",
       "  /* unfitted */\n",
       "  background-color: var(--sklearn-color-unfitted-level-2);\n",
       "}\n",
       "\n",
       "#sk-container-id-2 div.sk-estimator.fitted:hover {\n",
       "  /* fitted */\n",
       "  background-color: var(--sklearn-color-fitted-level-2);\n",
       "}\n",
       "\n",
       "/* Specification for estimator info (e.g. \"i\" and \"?\") */\n",
       "\n",
       "/* Common style for \"i\" and \"?\" */\n",
       "\n",
       ".sk-estimator-doc-link,\n",
       "a:link.sk-estimator-doc-link,\n",
       "a:visited.sk-estimator-doc-link {\n",
       "  float: right;\n",
       "  font-size: smaller;\n",
       "  line-height: 1em;\n",
       "  font-family: monospace;\n",
       "  background-color: var(--sklearn-color-background);\n",
       "  border-radius: 1em;\n",
       "  height: 1em;\n",
       "  width: 1em;\n",
       "  text-decoration: none !important;\n",
       "  margin-left: 0.5em;\n",
       "  text-align: center;\n",
       "  /* unfitted */\n",
       "  border: var(--sklearn-color-unfitted-level-1) 1pt solid;\n",
       "  color: var(--sklearn-color-unfitted-level-1);\n",
       "}\n",
       "\n",
       ".sk-estimator-doc-link.fitted,\n",
       "a:link.sk-estimator-doc-link.fitted,\n",
       "a:visited.sk-estimator-doc-link.fitted {\n",
       "  /* fitted */\n",
       "  border: var(--sklearn-color-fitted-level-1) 1pt solid;\n",
       "  color: var(--sklearn-color-fitted-level-1);\n",
       "}\n",
       "\n",
       "/* On hover */\n",
       "div.sk-estimator:hover .sk-estimator-doc-link:hover,\n",
       ".sk-estimator-doc-link:hover,\n",
       "div.sk-label-container:hover .sk-estimator-doc-link:hover,\n",
       ".sk-estimator-doc-link:hover {\n",
       "  /* unfitted */\n",
       "  background-color: var(--sklearn-color-unfitted-level-3);\n",
       "  color: var(--sklearn-color-background);\n",
       "  text-decoration: none;\n",
       "}\n",
       "\n",
       "div.sk-estimator.fitted:hover .sk-estimator-doc-link.fitted:hover,\n",
       ".sk-estimator-doc-link.fitted:hover,\n",
       "div.sk-label-container:hover .sk-estimator-doc-link.fitted:hover,\n",
       ".sk-estimator-doc-link.fitted:hover {\n",
       "  /* fitted */\n",
       "  background-color: var(--sklearn-color-fitted-level-3);\n",
       "  color: var(--sklearn-color-background);\n",
       "  text-decoration: none;\n",
       "}\n",
       "\n",
       "/* Span, style for the box shown on hovering the info icon */\n",
       ".sk-estimator-doc-link span {\n",
       "  display: none;\n",
       "  z-index: 9999;\n",
       "  position: relative;\n",
       "  font-weight: normal;\n",
       "  right: .2ex;\n",
       "  padding: .5ex;\n",
       "  margin: .5ex;\n",
       "  width: min-content;\n",
       "  min-width: 20ex;\n",
       "  max-width: 50ex;\n",
       "  color: var(--sklearn-color-text);\n",
       "  box-shadow: 2pt 2pt 4pt #999;\n",
       "  /* unfitted */\n",
       "  background: var(--sklearn-color-unfitted-level-0);\n",
       "  border: .5pt solid var(--sklearn-color-unfitted-level-3);\n",
       "}\n",
       "\n",
       ".sk-estimator-doc-link.fitted span {\n",
       "  /* fitted */\n",
       "  background: var(--sklearn-color-fitted-level-0);\n",
       "  border: var(--sklearn-color-fitted-level-3);\n",
       "}\n",
       "\n",
       ".sk-estimator-doc-link:hover span {\n",
       "  display: block;\n",
       "}\n",
       "\n",
       "/* \"?\"-specific style due to the `<a>` HTML tag */\n",
       "\n",
       "#sk-container-id-2 a.estimator_doc_link {\n",
       "  float: right;\n",
       "  font-size: 1rem;\n",
       "  line-height: 1em;\n",
       "  font-family: monospace;\n",
       "  background-color: var(--sklearn-color-background);\n",
       "  border-radius: 1rem;\n",
       "  height: 1rem;\n",
       "  width: 1rem;\n",
       "  text-decoration: none;\n",
       "  /* unfitted */\n",
       "  color: var(--sklearn-color-unfitted-level-1);\n",
       "  border: var(--sklearn-color-unfitted-level-1) 1pt solid;\n",
       "}\n",
       "\n",
       "#sk-container-id-2 a.estimator_doc_link.fitted {\n",
       "  /* fitted */\n",
       "  border: var(--sklearn-color-fitted-level-1) 1pt solid;\n",
       "  color: var(--sklearn-color-fitted-level-1);\n",
       "}\n",
       "\n",
       "/* On hover */\n",
       "#sk-container-id-2 a.estimator_doc_link:hover {\n",
       "  /* unfitted */\n",
       "  background-color: var(--sklearn-color-unfitted-level-3);\n",
       "  color: var(--sklearn-color-background);\n",
       "  text-decoration: none;\n",
       "}\n",
       "\n",
       "#sk-container-id-2 a.estimator_doc_link.fitted:hover {\n",
       "  /* fitted */\n",
       "  background-color: var(--sklearn-color-fitted-level-3);\n",
       "}\n",
       "</style><div id=\"sk-container-id-2\" class=\"sk-top-container\"><div class=\"sk-text-repr-fallback\"><pre>KNeighborsClassifier(metric=&#x27;euclidean&#x27;, n_neighbors=3)</pre><b>In a Jupyter environment, please rerun this cell to show the HTML representation or trust the notebook. <br />On GitHub, the HTML representation is unable to render, please try loading this page with nbviewer.org.</b></div><div class=\"sk-container\" hidden><div class=\"sk-item\"><div class=\"sk-estimator fitted sk-toggleable\"><input class=\"sk-toggleable__control sk-hidden--visually\" id=\"sk-estimator-id-2\" type=\"checkbox\" checked><label for=\"sk-estimator-id-2\" class=\"sk-toggleable__label fitted sk-toggleable__label-arrow\"><div><div>KNeighborsClassifier</div></div><div><a class=\"sk-estimator-doc-link fitted\" rel=\"noreferrer\" target=\"_blank\" href=\"https://scikit-learn.org/1.6/modules/generated/sklearn.neighbors.KNeighborsClassifier.html\">?<span>Documentation for KNeighborsClassifier</span></a><span class=\"sk-estimator-doc-link fitted\">i<span>Fitted</span></span></div></label><div class=\"sk-toggleable__content fitted\"><pre>KNeighborsClassifier(metric=&#x27;euclidean&#x27;, n_neighbors=3)</pre></div> </div></div></div></div>"
      ],
      "text/plain": [
       "KNeighborsClassifier(metric='euclidean', n_neighbors=3)"
      ]
     },
     "execution_count": 29,
     "metadata": {},
     "output_type": "execute_result"
    }
   ],
   "source": [
    "knn = KNeighborsClassifier(n_neighbors=k, metric='euclidean')\n",
    "knn.fit(X_train, y_train)"
   ]
  },
  {
   "cell_type": "code",
   "execution_count": 30,
   "metadata": {},
   "outputs": [
    {
     "name": "stdout",
     "output_type": "stream",
     "text": [
      "Accuracy train: 0.9970740271140154\n",
      "Accuracy test:  0.9968792666276575\n"
     ]
    }
   ],
   "source": [
    "y_train_pred = knn.predict(X_train)\n",
    "y_test_pred = knn.predict(X_test)\n",
    "\n",
    "print('Accuracy train:',accuracy_score(y_train,y_train_pred))\n",
    "print('Accuracy test: ',accuracy_score(y_test,y_test_pred))"
   ]
  },
  {
   "cell_type": "code",
   "execution_count": 31,
   "metadata": {},
   "outputs": [
    {
     "name": "stdout",
     "output_type": "stream",
     "text": [
      "              precision    recall  f1-score   support\n",
      "\n",
      "         0.0       1.00      1.00      1.00     10273\n",
      "         1.0       1.00      1.00      1.00     10233\n",
      "\n",
      "    accuracy                           1.00     20506\n",
      "   macro avg       1.00      1.00      1.00     20506\n",
      "weighted avg       1.00      1.00      1.00     20506\n",
      "\n"
     ]
    }
   ],
   "source": [
    "print(classification_report(y_train, y_train_pred))"
   ]
  },
  {
   "cell_type": "code",
   "execution_count": 18,
   "metadata": {},
   "outputs": [
    {
     "name": "stdout",
     "output_type": "stream",
     "text": [
      "              precision    recall  f1-score   support\n",
      "\n",
      "         0.0       1.00      1.00      1.00      2527\n",
      "         1.0       1.00      1.00      1.00      2600\n",
      "\n",
      "    accuracy                           1.00      5127\n",
      "   macro avg       1.00      1.00      1.00      5127\n",
      "weighted avg       1.00      1.00      1.00      5127\n",
      "\n"
     ]
    }
   ],
   "source": [
    "print(classification_report(y_test,y_test_pred))"
   ]
  },
  {
   "cell_type": "code",
   "execution_count": 32,
   "metadata": {},
   "outputs": [
    {
     "data": {
      "text/plain": [
       "['models/knn_model.joblib']"
      ]
     },
     "execution_count": 32,
     "metadata": {},
     "output_type": "execute_result"
    }
   ],
   "source": [
    "joblib.dump(knn, 'models/knn_model.joblib')"
   ]
  },
  {
   "cell_type": "markdown",
   "metadata": {},
   "source": [
    "### Implementar GridSearch para buscar la mejor k"
   ]
  },
  {
   "cell_type": "code",
   "execution_count": 33,
   "metadata": {},
   "outputs": [
    {
     "name": "stdout",
     "output_type": "stream",
     "text": [
      "Iniciando GridSearchCV...\n",
      "Fitting 5 folds for each of 25 candidates, totalling 125 fits\n",
      "GridSearchCV finalizado.\n",
      "Mejor parámetro 'k' (n_neighbors): 1\n",
      "Mejor score (accuracy) en validación cruzada: 0.9944\n",
      "\n",
      "Resultados del mejor modelo:\n",
      "Accuracy train: 1.0\n",
      "Accuracy test:  0.9970743124634289\n"
     ]
    }
   ],
   "source": [
    "from sklearn.model_selection import GridSearchCV\n",
    "\n",
    "# 1. Definir el clasificador\n",
    "knn = KNeighborsClassifier(metric='euclidean') \n",
    "\n",
    "# 2. Definir el rango de parámetros a buscar\n",
    "param_grid = {\n",
    "    'n_neighbors': list(range(1, 51, 2))\n",
    "}\n",
    "\n",
    "# Puedes ajustar este rango según tu problema y la cantidad de datos que tengas.\n",
    "# Si tienes muchos datos, 'k' puede ser más grande.\n",
    "\n",
    "# 3. Configurar GridSearchCV\n",
    "# cv: número de folds para la validación cruzada (por ejemplo, 5 o 10)\n",
    "# scoring: la métrica que se usará para evaluar los modelos (por ejemplo, 'accuracy')\n",
    "# n_jobs: número de CPUs a usar (-1 significa usar todos los disponibles)\n",
    "grid_search = GridSearchCV(estimator=knn,\n",
    "                           param_grid=param_grid,\n",
    "                           cv=5,\n",
    "                           scoring='accuracy',\n",
    "                           n_jobs=-1,\n",
    "                           verbose=1) # verbose=1 para ver el progreso\n",
    "\n",
    "# 4. Ejecutar la búsqueda en cuadrícula en los datos de entrenamiento\n",
    "print(\"Iniciando GridSearchCV...\")\n",
    "grid_search.fit(X_train, y_train)\n",
    "print(\"GridSearchCV finalizado.\")\n",
    "\n",
    "# 5. Obtener los mejores resultados\n",
    "print(f\"Mejor parámetro 'k' (n_neighbors): {grid_search.best_params_['n_neighbors']}\")\n",
    "print(f\"Mejor score (accuracy) en validación cruzada: {grid_search.best_score_:.4f}\")\n",
    "\n",
    "# 6. Evaluar el mejor modelo en el conjunto de prueba\n",
    "best_knn = grid_search.best_estimator_\n",
    "\n",
    "y_train_pred = best_knn.predict(X_train)\n",
    "y_test_pred = best_knn.predict(X_test)\n",
    "\n",
    "print('\\nResultados del mejor modelo:')\n",
    "print('Accuracy train:', accuracy_score(y_train, y_train_pred))\n",
    "print('Accuracy test: ', accuracy_score(y_test, y_test_pred))\n"
   ]
  },
  {
   "cell_type": "code",
   "execution_count": 34,
   "metadata": {},
   "outputs": [
    {
     "name": "stdout",
     "output_type": "stream",
     "text": [
      "              precision    recall  f1-score   support\n",
      "\n",
      "         0.0       1.00      1.00      1.00     10273\n",
      "         1.0       1.00      1.00      1.00     10233\n",
      "\n",
      "    accuracy                           1.00     20506\n",
      "   macro avg       1.00      1.00      1.00     20506\n",
      "weighted avg       1.00      1.00      1.00     20506\n",
      "\n"
     ]
    }
   ],
   "source": [
    "print(classification_report(y_train, y_train_pred))"
   ]
  },
  {
   "cell_type": "code",
   "execution_count": 35,
   "metadata": {},
   "outputs": [
    {
     "name": "stdout",
     "output_type": "stream",
     "text": [
      "              precision    recall  f1-score   support\n",
      "\n",
      "         0.0       1.00      1.00      1.00      2527\n",
      "         1.0       1.00      1.00      1.00      2600\n",
      "\n",
      "    accuracy                           1.00      5127\n",
      "   macro avg       1.00      1.00      1.00      5127\n",
      "weighted avg       1.00      1.00      1.00      5127\n",
      "\n"
     ]
    }
   ],
   "source": [
    "print(classification_report(y_test, y_test_pred))"
   ]
  },
  {
   "cell_type": "code",
   "execution_count": 36,
   "metadata": {},
   "outputs": [
    {
     "data": {
      "text/plain": [
       "['models/best_knn_model.joblib']"
      ]
     },
     "execution_count": 36,
     "metadata": {},
     "output_type": "execute_result"
    }
   ],
   "source": [
    "joblib.dump(best_knn, 'models/best_knn_model.joblib')"
   ]
  },
  {
   "cell_type": "markdown",
   "metadata": {},
   "source": [
    "## Naive Bayes"
   ]
  },
  {
   "cell_type": "code",
   "execution_count": 37,
   "metadata": {},
   "outputs": [],
   "source": [
    "from sklearn.naive_bayes import GaussianNB\n",
    "from sklearn.metrics import classification_report, accuracy_score"
   ]
  },
  {
   "cell_type": "code",
   "execution_count": 38,
   "metadata": {},
   "outputs": [
    {
     "name": "stdout",
     "output_type": "stream",
     "text": [
      "              precision    recall  f1-score   support\n",
      "\n",
      "         0.0       0.94      0.96      0.95     10273\n",
      "         1.0       0.96      0.94      0.95     10233\n",
      "\n",
      "    accuracy                           0.95     20506\n",
      "   macro avg       0.95      0.95      0.95     20506\n",
      "weighted avg       0.95      0.95      0.95     20506\n",
      "\n"
     ]
    }
   ],
   "source": [
    "model = GaussianNB()\n",
    "model.fit(X_train, y_train)\n",
    "y_train_pred = model.predict(X_train)\n",
    "# y_test_pred = model.predict(X_test)\n",
    "\n",
    "# print('Accuracy train:',accuracy_score(y_train,y_train_pred))\n",
    "# print('Accuracy test: ',accuracy_score(y_test,y_test_pred))\n",
    "\n",
    "print(classification_report(y_train, y_train_pred))"
   ]
  },
  {
   "cell_type": "code",
   "execution_count": 39,
   "metadata": {},
   "outputs": [
    {
     "name": "stdout",
     "output_type": "stream",
     "text": [
      "              precision    recall  f1-score   support\n",
      "\n",
      "         0.0       0.94      0.96      0.95      2527\n",
      "         1.0       0.96      0.94      0.95      2600\n",
      "\n",
      "    accuracy                           0.95      5127\n",
      "   macro avg       0.95      0.95      0.95      5127\n",
      "weighted avg       0.95      0.95      0.95      5127\n",
      "\n"
     ]
    }
   ],
   "source": [
    "# X_test\n",
    "y_test_pred = model.predict(X_test)\n",
    "print(classification_report(y_test, y_test_pred))\n"
   ]
  },
  {
   "cell_type": "code",
   "execution_count": 40,
   "metadata": {},
   "outputs": [
    {
     "data": {
      "text/plain": [
       "['models/nb_model.joblib']"
      ]
     },
     "execution_count": 40,
     "metadata": {},
     "output_type": "execute_result"
    }
   ],
   "source": [
    "joblib.dump(model, 'models/nb_model.joblib')"
   ]
  },
  {
   "cell_type": "markdown",
   "metadata": {},
   "source": [
    "## Decision Tree"
   ]
  },
  {
   "cell_type": "code",
   "execution_count": 41,
   "metadata": {},
   "outputs": [],
   "source": [
    "clf = DecisionTreeClassifier()\n",
    "clf = clf.fit(X_train, y_train)"
   ]
  },
  {
   "cell_type": "code",
   "execution_count": 28,
   "metadata": {},
   "outputs": [
    {
     "name": "stdout",
     "output_type": "stream",
     "text": [
      "              precision    recall  f1-score   support\n",
      "\n",
      "         0.0       0.98      0.98      0.98      2527\n",
      "         1.0       0.98      0.98      0.98      2600\n",
      "\n",
      "    accuracy                           0.98      5127\n",
      "   macro avg       0.98      0.98      0.98      5127\n",
      "weighted avg       0.98      0.98      0.98      5127\n",
      "\n"
     ]
    }
   ],
   "source": [
    "y_test_pred = clf.predict(X_test)\n",
    "print(classification_report(y_test, y_test_pred))"
   ]
  },
  {
   "cell_type": "code",
   "execution_count": 42,
   "metadata": {},
   "outputs": [
    {
     "data": {
      "text/plain": [
       "['models/tree_model.joblib']"
      ]
     },
     "execution_count": 42,
     "metadata": {},
     "output_type": "execute_result"
    }
   ],
   "source": [
    "joblib.dump(clf, 'models/tree_model.joblib')"
   ]
  },
  {
   "cell_type": "code",
   "execution_count": null,
   "metadata": {},
   "outputs": [],
   "source": []
  }
 ],
 "metadata": {
  "kernelspec": {
   "display_name": "ml-env",
   "language": "python",
   "name": "python3"
  },
  "language_info": {
   "codemirror_mode": {
    "name": "ipython",
    "version": 3
   },
   "file_extension": ".py",
   "mimetype": "text/x-python",
   "name": "python",
   "nbconvert_exporter": "python",
   "pygments_lexer": "ipython3",
   "version": "3.13.2"
  }
 },
 "nbformat": 4,
 "nbformat_minor": 2
}
