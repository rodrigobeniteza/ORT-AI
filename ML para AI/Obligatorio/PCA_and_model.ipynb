{
 "cells": [
  {
   "cell_type": "code",
   "execution_count": 6,
   "metadata": {},
   "outputs": [],
   "source": [
    "import numpy as np \n",
    "import pandas as pd\n",
    "import matplotlib.pyplot as plt \n",
    "plt.style.use('ggplot')\n",
    "from mpl_toolkits.mplot3d import Axes3D\n",
    "from skimage import feature, data, color \n",
    "import os\n",
    "from tqdm import tqdm \n",
    "from skimage.transform import resize \n",
    "from sklearn.feature_extraction.image import PatchExtractor\n",
    "from itertools import chain \n",
    "from scipy import stats \n",
    "from sklearn.preprocessing import StandardScaler \n",
    "from sklearn.decomposition import PCA \n",
    "from sklearn.naive_bayes import GaussianNB \n",
    "from sklearn.metrics import classification_report \n",
    "from sklearn.model_selection import train_test_split"
   ]
  },
  {
   "cell_type": "code",
   "execution_count": null,
   "metadata": {},
   "outputs": [],
   "source": [
    "face_suffix = '•pgm\"\n",
    "face_dir = os.listdir('/Faces')\n",
    "pgm_files = [filename for filename in face_dir if filename.endswith(face_suffix)]\n",
    "\n",
    "face_suffix = '•jpg\"\n",
    "fondos_dir = os.listdir('/Generar_Fondos')\n",
    "jpg_files = [filename for filename in fondos_dir if filename.endswith(face_suffix)]\n",
    "\n",
    "positive_patches = []\n",
    "for filename in tqdm(pgm_files):\n",
    "    path = '/Faces/' + filename\n",
    "    with open (path, 'rb') as Pgmf:\n",
    "        image = plt.imread(pgmf)\n",
    "        positive_patches.append (image)\n",
    "\n",
    "negative_patches = []\n",
    "for filename in tqdm(pgm_files):\n",
    "    path = '/Non-Faces/' + filename\n",
    "    with open (path, 'rb') as Pgmf:\n",
    "        image = plt.imread(pgmf)\n",
    "        negative_patches.append(image)"
   ]
  },
  {
   "cell_type": "code",
   "execution_count": null,
   "metadata": {},
   "outputs": [],
   "source": []
  },
  {
   "cell_type": "code",
   "execution_count": null,
   "metadata": {},
   "outputs": [],
   "source": []
  },
  {
   "cell_type": "code",
   "execution_count": null,
   "metadata": {},
   "outputs": [],
   "source": []
  },
  {
   "cell_type": "code",
   "execution_count": null,
   "metadata": {},
   "outputs": [],
   "source": []
  },
  {
   "cell_type": "code",
   "execution_count": null,
   "metadata": {},
   "outputs": [],
   "source": []
  },
  {
   "cell_type": "code",
   "execution_count": null,
   "metadata": {},
   "outputs": [],
   "source": []
  },
  {
   "cell_type": "code",
   "execution_count": null,
   "metadata": {},
   "outputs": [],
   "source": []
  },
  {
   "cell_type": "code",
   "execution_count": null,
   "metadata": {},
   "outputs": [],
   "source": []
  }
 ],
 "metadata": {
  "kernelspec": {
   "display_name": "Python 3",
   "language": "python",
   "name": "python3"
  },
  "language_info": {
   "codemirror_mode": {
    "name": "ipython",
    "version": 3
   },
   "file_extension": ".py",
   "mimetype": "text/x-python",
   "name": "python",
   "nbconvert_exporter": "python",
   "pygments_lexer": "ipython3",
   "version": "3.9.6"
  }
 },
 "nbformat": 4,
 "nbformat_minor": 2
}
