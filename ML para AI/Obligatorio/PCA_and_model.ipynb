{
 "cells": [
  {
   "cell_type": "code",
   "execution_count": 6,
   "metadata": {},
   "outputs": [],
   "source": [
    "import numpy as np \n",
    "import pandas as pd\n",
    "import matplotlib.pyplot as plt \n",
    "plt.style.use('ggplot')\n",
    "from mpl_toolkits.mplot3d import Axes3D\n",
    "from skimage import feature, data, color \n",
    "import os\n",
    "from tqdm import tqdm \n",
    "from skimage.transform import resize \n",
    "from sklearn.feature_extraction.image import PatchExtractor\n",
    "from itertools import chain \n",
    "from scipy import stats \n",
    "from sklearn.preprocessing import StandardScaler \n",
    "from sklearn.decomposition import PCA \n",
    "from sklearn.naive_bayes import GaussianNB \n",
    "from sklearn.metrics import classification_report \n",
    "from sklearn.model_selection import train_test_split"
   ]
  },
  {
   "cell_type": "code",
   "execution_count": 16,
   "metadata": {},
   "outputs": [
    {
     "name": "stderr",
     "output_type": "stream",
     "text": [
      "100%|██████████| 12833/12833 [00:02<00:00, 6143.01it/s]\n",
      "100%|██████████| 12800/12800 [00:02<00:00, 4337.78it/s]\n"
     ]
    }
   ],
   "source": [
    "face_suffix = '.pgm'\n",
    "face_dir = os.listdir('Faces/')\n",
    "pgm_files = [filename for filename in face_dir if filename.endswith(face_suffix)]\n",
    "\n",
    "face_suffix = '.png'\n",
    "fondos_dir = os.listdir('Generar_Fondos/generated_patches/')\n",
    "png_files = [filename for filename in fondos_dir if filename.endswith(face_suffix)]\n",
    "\n",
    "positive_patches = []\n",
    "for filename in tqdm(pgm_files):\n",
    "    path = 'Faces/' + filename\n",
    "    with open (path, 'rb') as pgmf:\n",
    "        image = plt.imread(pgmf)\n",
    "        positive_patches.append (image)\n",
    "\n",
    "negative_patches = []\n",
    "for filename in tqdm(png_files):\n",
    "    path = 'Generar_Fondos/generated_patches/' + filename\n",
    "    with open (path, 'rb') as pgmf:\n",
    "        image = plt.imread(pgmf)\n",
    "        negative_patches.append(image)\n",
    "    "
   ]
  },
  {
   "cell_type": "code",
   "execution_count": 17,
   "metadata": {},
   "outputs": [
    {
     "name": "stdout",
     "output_type": "stream",
     "text": [
      "(12833, 64, 64)\n",
      "(12800, 64, 64)\n"
     ]
    }
   ],
   "source": [
    "positive_patches = np.array(positive_patches)\n",
    "negative_patches = np.array(negative_patches)\n",
    "\n",
    "print(positive_patches.shape)\n",
    "print(negative_patches.shape)"
   ]
  },
  {
   "cell_type": "code",
   "execution_count": null,
   "metadata": {},
   "outputs": [],
   "source": []
  },
  {
   "cell_type": "code",
   "execution_count": null,
   "metadata": {},
   "outputs": [],
   "source": []
  },
  {
   "cell_type": "code",
   "execution_count": null,
   "metadata": {},
   "outputs": [],
   "source": []
  },
  {
   "cell_type": "code",
   "execution_count": null,
   "metadata": {},
   "outputs": [],
   "source": []
  },
  {
   "cell_type": "code",
   "execution_count": null,
   "metadata": {},
   "outputs": [],
   "source": []
  },
  {
   "cell_type": "code",
   "execution_count": null,
   "metadata": {},
   "outputs": [],
   "source": []
  },
  {
   "cell_type": "code",
   "execution_count": null,
   "metadata": {},
   "outputs": [],
   "source": []
  }
 ],
 "metadata": {
  "kernelspec": {
   "display_name": "Python 3",
   "language": "python",
   "name": "python3"
  },
  "language_info": {
   "codemirror_mode": {
    "name": "ipython",
    "version": 3
   },
   "file_extension": ".py",
   "mimetype": "text/x-python",
   "name": "python",
   "nbconvert_exporter": "python",
   "pygments_lexer": "ipython3",
   "version": "3.9.6"
  }
 },
 "nbformat": 4,
 "nbformat_minor": 2
}
