{
  "cells": [
    {
      "cell_type": "code",
      "execution_count": 1,
      "metadata": {
        "id": "Nk0tWPrBfbS5"
      },
      "outputs": [],
      "source": [
        "# !unzip /content/Faces.zip"
      ]
    },
    {
      "cell_type": "code",
      "execution_count": 2,
      "metadata": {
        "id": "awrfwut65jR5"
      },
      "outputs": [],
      "source": [
        "# !unzip /content/Background.zip"
      ]
    },
    {
      "cell_type": "code",
      "execution_count": 3,
      "metadata": {
        "id": "B9fY5qdDg-Tw"
      },
      "outputs": [],
      "source": [
        "import numpy as np\n",
        "import pandas as pd\n",
        "import matplotlib.pyplot as plt\n",
        "plt.style.use('ggplot')\n",
        "from mpl_toolkits.mplot3d import Axes3D\n",
        "from skimage import feature, data, color\n",
        "import os\n",
        "from tqdm import tqdm\n",
        "import joblib\n",
        "from skimage.transform import resize\n",
        "from sklearn.feature_extraction.image import PatchExtractor\n",
        "from itertools import chain\n",
        "from scipy import stats\n",
        "from sklearn.preprocessing import StandardScaler\n",
        "from sklearn.decomposition import PCA\n",
        "from sklearn.naive_bayes import GaussianNB\n",
        "from sklearn.metrics import classification_report\n",
        "from sklearn.model_selection import train_test_split"
      ]
    },
    {
      "cell_type": "markdown",
      "metadata": {
        "id": "dUQJQ_VS-2N0"
      },
      "source": [
        "# Preparación de los datos"
      ]
    },
    {
      "cell_type": "code",
      "execution_count": 4,
      "metadata": {
        "id": "-notO-zv4Bbt"
      },
      "outputs": [],
      "source": [
        "suffix = '.pgm'\n",
        "\n",
        "all_files = os.listdir('Faces/')\n",
        "pgm_files = [filename for filename in all_files if filename.endswith(suffix)]"
      ]
    },
    {
      "cell_type": "code",
      "execution_count": 5,
      "metadata": {
        "colab": {
          "base_uri": "https://localhost:8080/"
        },
        "id": "-Mf-OLRv7KI3",
        "outputId": "d1866115-c419-469c-f192-32b67f397fb1"
      },
      "outputs": [
        {
          "name": "stderr",
          "output_type": "stream",
          "text": [
            "100%|██████████| 12833/12833 [00:02<00:00, 5724.78it/s]\n"
          ]
        }
      ],
      "source": [
        "positive_patches = []\n",
        "for filename in tqdm(pgm_files):\n",
        "  path = 'Faces/' + filename\n",
        "  with open(path, 'rb') as pgmf:\n",
        "      image = plt.imread(pgmf)\n",
        "  positive_patches.append(image)"
      ]
    },
    {
      "cell_type": "code",
      "execution_count": 6,
      "metadata": {
        "colab": {
          "base_uri": "https://localhost:8080/"
        },
        "id": "kxzhqO0K9z0Y",
        "outputId": "f31bd760-5e05-441c-ec5b-a5ccb63dc0a1"
      },
      "outputs": [
        {
          "data": {
            "text/plain": [
              "(12833, 64, 64)"
            ]
          },
          "execution_count": 6,
          "metadata": {},
          "output_type": "execute_result"
        }
      ],
      "source": [
        "positive_patches = np.array(positive_patches)\n",
        "positive_patches.shape"
      ]
    },
    {
      "cell_type": "code",
      "execution_count": 7,
      "metadata": {
        "id": "3X106d0434hl"
      },
      "outputs": [],
      "source": [
        "P = len(positive_patches)"
      ]
    },
    {
      "cell_type": "code",
      "execution_count": 8,
      "metadata": {
        "id": "ozMroXqk4P8a"
      },
      "outputs": [],
      "source": [
        "# Tomamos algunas imágenes de sklearn\n",
        "imgs = ['text',\n",
        "        'coins',\n",
        "        'moon',\n",
        "        'page',\n",
        "        'clock',\n",
        "        'immunohistochemistry',\n",
        "        'chelsea',\n",
        "        'coffee',\n",
        "        'hubble_deep_field'\n",
        "        ]\n",
        "\n",
        "images = []\n",
        "for name in imgs:\n",
        "    img = getattr(data, name)()\n",
        "    if len(img.shape) == 3 and img.shape[2] == 3:  # Chequeamos si la imagen es RGB\n",
        "        img = color.rgb2gray(img)\n",
        "        img = (img * 255).astype(np.uint8)\n",
        "    images.append(resize(img, (100,100)))\n",
        "\n",
        "# Imagenes caseras adicionales\n",
        "for i in range(31):\n",
        "    filename = \"Background/\"+str(i)+\".jpg\"\n",
        "    img = plt.imread(filename)\n",
        "    img = color.rgb2gray(img)\n",
        "    images.append(resize(img, (100,100)))"
      ]
    },
    {
      "cell_type": "code",
      "execution_count": 9,
      "metadata": {
        "colab": {
          "base_uri": "https://localhost:8080/"
        },
        "id": "02yAa2IO6GFj",
        "outputId": "6c624be3-8d80-4602-ba6c-f45f7a407c35"
      },
      "outputs": [
        {
          "name": "stdout",
          "output_type": "stream",
          "text": [
            "Image size: (64, 64)\n"
          ]
        }
      ],
      "source": [
        "# Tamaño de las imágenes de rostros\n",
        "size = positive_patches[0].shape\n",
        "print(f'Image size: {size}')"
      ]
    },
    {
      "cell_type": "code",
      "execution_count": 10,
      "metadata": {
        "id": "M-RU7TCl6ao8"
      },
      "outputs": [],
      "source": [
        "# Función para extraer porciones de una imagen\n",
        "def extract_patches(img, N, scale=1.0, patch_size=size):\n",
        "    # Calcula el tamaño del parche extraído basado en el factor de escala dado\n",
        "    extracted_patch_size = tuple((scale * np.array(patch_size)).astype(int))\n",
        "\n",
        "    # Inicializa un objeto PatchExtractor con el tamaño de parche calculado,\n",
        "    # el número máximo de parches, y una semilla de estado aleatorio\n",
        "    extractor = PatchExtractor(patch_size=extracted_patch_size, max_patches=N, random_state=0)\n",
        "\n",
        "    # Extrae parches de la imagen dada\n",
        "    # img[np.newaxis] se utiliza la entrada de PatchExtractor es un conjunto de imágenes\n",
        "    patches = extractor.transform(img[np.newaxis])\n",
        "\n",
        "    # Si el factor de escala no es 1, redimensiona cada parche extraído\n",
        "    # al tamaño del parche original\n",
        "    if scale != 1:\n",
        "        patches = np.array([resize(patch, patch_size) for patch in patches])\n",
        "\n",
        "    # Devuelve la lista de parches extraídos (y posiblemente redimensionados)\n",
        "    return patches"
      ]
    },
    {
      "cell_type": "code",
      "execution_count": 11,
      "metadata": {
        "colab": {
          "base_uri": "https://localhost:8080/"
        },
        "id": "XaJk-LsW7HZ7",
        "outputId": "609df6a6-48c9-4128-ce53-8f129336c4c2"
      },
      "outputs": [
        {
          "name": "stderr",
          "output_type": "stream",
          "text": [
            "Procesando imágenes: 100%|██████████| 40/40 [00:00<00:00, 40.93it/s]\n"
          ]
        },
        {
          "data": {
            "text/plain": [
              "(12800, 64, 64)"
            ]
          },
          "execution_count": 11,
          "metadata": {},
          "output_type": "execute_result"
        }
      ],
      "source": [
        "# Extraemos las imágenes de fondo\n",
        "negative_patches = np.vstack([extract_patches(im, 64, scale) for im in tqdm(images, desc='Procesando imágenes') for scale in [0.1,0.25,0.5,0.75,1]])\n",
        "negative_patches.shape"
      ]
    },
    {
      "cell_type": "code",
      "execution_count": 12,
      "metadata": {
        "id": "WgVdOLdV8F22"
      },
      "outputs": [],
      "source": [
        "N = len(negative_patches)"
      ]
    },
    {
      "cell_type": "code",
      "execution_count": 13,
      "metadata": {
        "colab": {
          "base_uri": "https://localhost:8080/"
        },
        "id": "QSQhVM3n-SGs",
        "outputId": "8868e56e-55dd-46b1-e63f-3b8991cdfc2a"
      },
      "outputs": [
        {
          "name": "stderr",
          "output_type": "stream",
          "text": [
            "Construyendo X: 25633it [00:11, 2314.29it/s]\n"
          ]
        }
      ],
      "source": [
        "X = np.array([feature.hog(im) for im in tqdm(chain(positive_patches, negative_patches), desc='Construyendo X')])\n",
        "y = np.zeros(len(X))\n",
        "y[:P] = 1"
      ]
    },
    {
      "cell_type": "code",
      "execution_count": 14,
      "metadata": {
        "id": "Tezqgn6Y2PnH"
      },
      "outputs": [],
      "source": [
        "X_train, X_val, y_train, y_val = train_test_split(X, y, test_size=0.2, random_state=42)"
      ]
    },
    {
      "cell_type": "code",
      "execution_count": 15,
      "metadata": {},
      "outputs": [
        {
          "data": {
            "text/plain": [
              "(20506, 2916)"
            ]
          },
          "execution_count": 15,
          "metadata": {},
          "output_type": "execute_result"
        }
      ],
      "source": [
        "X_train.shape"
      ]
    },
    {
      "cell_type": "code",
      "execution_count": 16,
      "metadata": {
        "id": "zcc491w1HmhO"
      },
      "outputs": [],
      "source": [
        "scaler = StandardScaler()\n",
        "X_train_std = scaler.fit_transform(X_train)"
      ]
    },
    {
      "cell_type": "code",
      "execution_count": 17,
      "metadata": {
        "colab": {
          "base_uri": "https://localhost:8080/"
        },
        "id": "NKXFvtC_z-FL",
        "outputId": "0f903170-10c0-4eaf-9d28-1aee30c7d3bd"
      },
      "outputs": [
        {
          "data": {
            "text/plain": [
              "['scaler.joblib']"
            ]
          },
          "execution_count": 17,
          "metadata": {},
          "output_type": "execute_result"
        }
      ],
      "source": [
        "# Guardar el scaler\n",
        "joblib.dump(scaler, 'scaler.joblib')"
      ]
    },
    {
      "cell_type": "code",
      "execution_count": 18,
      "metadata": {
        "id": "IOe9Yu7qMOJq"
      },
      "outputs": [],
      "source": [
        "# Apply PCA to extract eigenfaces\n",
        "\n",
        "pca = PCA(n_components=500, whiten=True).fit(X_train_std)"
      ]
    },
    {
      "cell_type": "code",
      "execution_count": 19,
      "metadata": {
        "colab": {
          "base_uri": "https://localhost:8080/"
        },
        "id": "HKqECe9A0JFv",
        "outputId": "02a6b306-27ba-4219-98f0-ee8a90e3a249"
      },
      "outputs": [
        {
          "data": {
            "text/plain": [
              "['pca.joblib']"
            ]
          },
          "execution_count": 19,
          "metadata": {},
          "output_type": "execute_result"
        }
      ],
      "source": [
        "# Guardar PCA\n",
        "joblib.dump(pca, 'pca.joblib')"
      ]
    },
    {
      "cell_type": "code",
      "execution_count": 20,
      "metadata": {
        "colab": {
          "base_uri": "https://localhost:8080/",
          "height": 299
        },
        "id": "kh5GQHZykQ7O",
        "outputId": "91c371ff-2b59-4460-d754-ae7e899f5a5e"
      },
      "outputs": [
        {
          "data": {
            "image/png": "[encoded data removed]",
            "text/plain": [
              "<Figure size 1000x400 with 2 Axes>"
            ]
          },
          "metadata": {},
          "output_type": "display_data"
        }
      ],
      "source": [
        "# Obtener varianzas\n",
        "var_explicada = pca.explained_variance_ratio_\n",
        "var_acumulada = np.cumsum(var_explicada)\n",
        "\n",
        "# Gráfico\n",
        "fig, (ax1, ax2) = plt.subplots(1, 2, figsize=(10, 4))\n",
        "\n",
        "# Varianza explicada\n",
        "ax1.bar(range(1, len(var_explicada)+1), var_explicada, color='skyblue')\n",
        "ax1.set_title('Varianza explicada por componente')\n",
        "ax1.set_xlabel('Componente principal')\n",
        "ax1.set_ylabel('Proporción de varianza')\n",
        "ax1.grid(True)\n",
        "\n",
        "# Varianza acumulada\n",
        "ax2.bar(range(1, len(var_acumulada)+1), var_acumulada, color='lightgreen')\n",
        "ax2.axhline(y=0.95, color='r', linestyle='--', label='95%')\n",
        "ax2.set_title('Varianza acumulada')\n",
        "ax2.set_xlabel('Número de componentes')\n",
        "ax2.set_ylabel('Proporción acumulada de varianza')\n",
        "ax2.legend()\n",
        "ax2.grid(True)\n",
        "\n",
        "plt.tight_layout()\n",
        "plt.show()"
      ]
    },
    {
      "cell_type": "code",
      "execution_count": 21,
      "metadata": {
        "colab": {
          "base_uri": "https://localhost:8080/",
          "height": 477
        },
        "id": "XVe1HZBfOCml",
        "outputId": "9975acbe-73af-4e8d-d720-ba7a5e6f1106"
      },
      "outputs": [
        {
          "data": {
            "image/png": "[encoded data removed]",
            "text/plain": [
              "<Figure size 640x480 with 1 Axes>"
            ]
          },
          "metadata": {},
          "output_type": "display_data"
        }
      ],
      "source": [
        "X_train_pca = pca.transform(X_train_std)\n",
        "\n",
        "# Graficar con colores y leyenda\n",
        "colors = ['tab:red', 'tab:blue']\n",
        "labels = ['Back', 'Face']\n",
        "\n",
        "for class_value in [0, 1]:\n",
        "    plt.scatter(X_train_pca[y_train == class_value, 0], X_train_pca[y_train == class_value, 1],\n",
        "                c=colors[class_value], label=labels[class_value], alpha=0.4)\n",
        "\n",
        "plt.xlabel('PC1')\n",
        "plt.ylabel('PC2')\n",
        "plt.title('PCA con clases')\n",
        "plt.legend()\n",
        "plt.grid(True)\n",
        "plt.show()"
      ]
    },
    {
      "cell_type": "code",
      "execution_count": 22,
      "metadata": {
        "colab": {
          "base_uri": "https://localhost:8080/",
          "height": 429
        },
        "id": "MfnvVBT3Ju0M",
        "outputId": "d08cb218-721d-469a-af2c-d2b288b7e166"
      },
      "outputs": [
        {
          "data": {
            "image/png": "[encoded data removed]",
            "text/plain": [
              "<Figure size 640x480 with 1 Axes>"
            ]
          },
          "metadata": {},
          "output_type": "display_data"
        }
      ],
      "source": [
        "# Plot 3D\n",
        "fig = plt.figure()\n",
        "ax = fig.add_subplot(111, projection='3d')\n",
        "\n",
        "colors = ['tab:red', 'tab:blue']\n",
        "labels = ['Back', 'Face']\n",
        "\n",
        "for class_value in [0, 1]:\n",
        "    ax.scatter(\n",
        "        X_train_pca[y_train == class_value, 0],\n",
        "        X_train_pca[y_train == class_value, 1],\n",
        "        X_train_pca[y_train == class_value, 2],\n",
        "        c=colors[class_value],\n",
        "        label=labels[class_value],\n",
        "        alpha=0.7\n",
        "    )\n",
        "\n",
        "ax.view_init(elev=15, azim=30)\n",
        "\n",
        "ax.set_xlabel('PC1')\n",
        "ax.set_ylabel('PC2')\n",
        "ax.set_zlabel('PC3')\n",
        "ax.set_title('PCA - Primeras 3 componentes')\n",
        "ax.legend()\n",
        "plt.show()"
      ]
    },
    {
      "cell_type": "markdown",
      "metadata": {
        "id": "tLabqplB-uR8"
      },
      "source": [
        "# Clasificador"
      ]
    },
    {
      "cell_type": "code",
      "execution_count": 23,
      "metadata": {
        "id": "KKoEH6Uxlhqo"
      },
      "outputs": [],
      "source": [
        "model = GaussianNB()"
      ]
    },
    {
      "cell_type": "code",
      "execution_count": 24,
      "metadata": {
        "colab": {
          "base_uri": "https://localhost:8080/",
          "height": 80
        },
        "id": "Z1ZsKEPelqIO",
        "outputId": "097f4664-a2ff-466d-df00-a4751e0e1f4b"
      },
      "outputs": [
        {
          "data": {
            "text/html": [
              "<style>#sk-container-id-1 {\n",
              "  /* Definition of color scheme common for light and dark mode */\n",
              "  --sklearn-color-text: #000;\n",
              "  --sklearn-color-text-muted: #666;\n",
              "  --sklearn-color-line: gray;\n",
              "  /* Definition of color scheme for unfitted estimators */\n",
              "  --sklearn-color-unfitted-level-0: #fff5e6;\n",
              "  --sklearn-color-unfitted-level-1: #f6e4d2;\n",
              "  --sklearn-color-unfitted-level-2: #ffe0b3;\n",
              "  --sklearn-color-unfitted-level-3: chocolate;\n",
              "  /* Definition of color scheme for fitted estimators */\n",
              "  --sklearn-color-fitted-level-0: #f0f8ff;\n",
              "  --sklearn-color-fitted-level-1: #d4ebff;\n",
              "  --sklearn-color-fitted-level-2: #b3dbfd;\n",
              "  --sklearn-color-fitted-level-3: cornflowerblue;\n",
              "\n",
              "  /* Specific color for light theme */\n",
              "  --sklearn-color-text-on-default-background: var(--sg-text-color, var(--theme-code-foreground, var(--jp-content-font-color1, black)));\n",
              "  --sklearn-color-background: var(--sg-background-color, var(--theme-background, var(--jp-layout-color0, white)));\n",
              "  --sklearn-color-border-box: var(--sg-text-color, var(--theme-code-foreground, var(--jp-content-font-color1, black)));\n",
              "  --sklearn-color-icon: #696969;\n",
              "\n",
              "  @media (prefers-color-scheme: dark) {\n",
              "    /* Redefinition of color scheme for dark theme */\n",
              "    --sklearn-color-text-on-default-background: var(--sg-text-color, var(--theme-code-foreground, var(--jp-content-font-color1, white)));\n",
              "    --sklearn-color-background: var(--sg-background-color, var(--theme-background, var(--jp-layout-color0, #111)));\n",
              "    --sklearn-color-border-box: var(--sg-text-color, var(--theme-code-foreground, var(--jp-content-font-color1, white)));\n",
              "    --sklearn-color-icon: #878787;\n",
              "  }\n",
              "}\n",
              "\n",
              "#sk-container-id-1 {\n",
              "  color: var(--sklearn-color-text);\n",
              "}\n",
              "\n",
              "#sk-container-id-1 pre {\n",
              "  padding: 0;\n",
              "}\n",
              "\n",
              "#sk-container-id-1 input.sk-hidden--visually {\n",
              "  border: 0;\n",
              "  clip: rect(1px 1px 1px 1px);\n",
              "  clip: rect(1px, 1px, 1px, 1px);\n",
              "  height: 1px;\n",
              "  margin: -1px;\n",
              "  overflow: hidden;\n",
              "  padding: 0;\n",
              "  position: absolute;\n",
              "  width: 1px;\n",
              "}\n",
              "\n",
              "#sk-container-id-1 div.sk-dashed-wrapped {\n",
              "  border: 1px dashed var(--sklearn-color-line);\n",
              "  margin: 0 0.4em 0.5em 0.4em;\n",
              "  box-sizing: border-box;\n",
              "  padding-bottom: 0.4em;\n",
              "  background-color: var(--sklearn-color-background);\n",
              "}\n",
              "\n",
              "#sk-container-id-1 div.sk-container {\n",
              "  /* jupyter's `normalize.less` sets `[hidden] { display: none; }`\n",
              "     but bootstrap.min.css set `[hidden] { display: none !important; }`\n",
              "     so we also need the `!important` here to be able to override the\n",
              "     default hidden behavior on the sphinx rendered scikit-learn.org.\n",
              "     See: https://github.com/scikit-learn/scikit-learn/issues/21755 */\n",
              "  display: inline-block !important;\n",
              "  position: relative;\n",
              "}\n",
              "\n",
              "#sk-container-id-1 div.sk-text-repr-fallback {\n",
              "  display: none;\n",
              "}\n",
              "\n",
              "div.sk-parallel-item,\n",
              "div.sk-serial,\n",
              "div.sk-item {\n",
              "  /* draw centered vertical line to link estimators */\n",
              "  background-image: linear-gradient(var(--sklearn-color-text-on-default-background), var(--sklearn-color-text-on-default-background));\n",
              "  background-size: 2px 100%;\n",
              "  background-repeat: no-repeat;\n",
              "  background-position: center center;\n",
              "}\n",
              "\n",
              "/* Parallel-specific style estimator block */\n",
              "\n",
              "#sk-container-id-1 div.sk-parallel-item::after {\n",
              "  content: \"\";\n",
              "  width: 100%;\n",
              "  border-bottom: 2px solid var(--sklearn-color-text-on-default-background);\n",
              "  flex-grow: 1;\n",
              "}\n",
              "\n",
              "#sk-container-id-1 div.sk-parallel {\n",
              "  display: flex;\n",
              "  align-items: stretch;\n",
              "  justify-content: center;\n",
              "  background-color: var(--sklearn-color-background);\n",
              "  position: relative;\n",
              "}\n",
              "\n",
              "#sk-container-id-1 div.sk-parallel-item {\n",
              "  display: flex;\n",
              "  flex-direction: column;\n",
              "}\n",
              "\n",
              "#sk-container-id-1 div.sk-parallel-item:first-child::after {\n",
              "  align-self: flex-end;\n",
              "  width: 50%;\n",
              "}\n",
              "\n",
              "#sk-container-id-1 div.sk-parallel-item:last-child::after {\n",
              "  align-self: flex-start;\n",
              "  width: 50%;\n",
              "}\n",
              "\n",
              "#sk-container-id-1 div.sk-parallel-item:only-child::after {\n",
              "  width: 0;\n",
              "}\n",
              "\n",
              "/* Serial-specific style estimator block */\n",
              "\n",
              "#sk-container-id-1 div.sk-serial {\n",
              "  display: flex;\n",
              "  flex-direction: column;\n",
              "  align-items: center;\n",
              "  background-color: var(--sklearn-color-background);\n",
              "  padding-right: 1em;\n",
              "  padding-left: 1em;\n",
              "}\n",
              "\n",
              "\n",
              "/* Toggleable style: style used for estimator/Pipeline/ColumnTransformer box that is\n",
              "clickable and can be expanded/collapsed.\n",
              "- Pipeline and ColumnTransformer use this feature and define the default style\n",
              "- Estimators will overwrite some part of the style using the `sk-estimator` class\n",
              "*/\n",
              "\n",
              "/* Pipeline and ColumnTransformer style (default) */\n",
              "\n",
              "#sk-container-id-1 div.sk-toggleable {\n",
              "  /* Default theme specific background. It is overwritten whether we have a\n",
              "  specific estimator or a Pipeline/ColumnTransformer */\n",
              "  background-color: var(--sklearn-color-background);\n",
              "}\n",
              "\n",
              "/* Toggleable label */\n",
              "#sk-container-id-1 label.sk-toggleable__label {\n",
              "  cursor: pointer;\n",
              "  display: flex;\n",
              "  width: 100%;\n",
              "  margin-bottom: 0;\n",
              "  padding: 0.5em;\n",
              "  box-sizing: border-box;\n",
              "  text-align: center;\n",
              "  align-items: start;\n",
              "  justify-content: space-between;\n",
              "  gap: 0.5em;\n",
              "}\n",
              "\n",
              "#sk-container-id-1 label.sk-toggleable__label .caption {\n",
              "  font-size: 0.6rem;\n",
              "  font-weight: lighter;\n",
              "  color: var(--sklearn-color-text-muted);\n",
              "}\n",
              "\n",
              "#sk-container-id-1 label.sk-toggleable__label-arrow:before {\n",
              "  /* Arrow on the left of the label */\n",
              "  content: \"▸\";\n",
              "  float: left;\n",
              "  margin-right: 0.25em;\n",
              "  color: var(--sklearn-color-icon);\n",
              "}\n",
              "\n",
              "#sk-container-id-1 label.sk-toggleable__label-arrow:hover:before {\n",
              "  color: var(--sklearn-color-text);\n",
              "}\n",
              "\n",
              "/* Toggleable content - dropdown */\n",
              "\n",
              "#sk-container-id-1 div.sk-toggleable__content {\n",
              "  max-height: 0;\n",
              "  max-width: 0;\n",
              "  overflow: hidden;\n",
              "  text-align: left;\n",
              "  /* unfitted */\n",
              "  background-color: var(--sklearn-color-unfitted-level-0);\n",
              "}\n",
              "\n",
              "#sk-container-id-1 div.sk-toggleable__content.fitted {\n",
              "  /* fitted */\n",
              "  background-color: var(--sklearn-color-fitted-level-0);\n",
              "}\n",
              "\n",
              "#sk-container-id-1 div.sk-toggleable__content pre {\n",
              "  margin: 0.2em;\n",
              "  border-radius: 0.25em;\n",
              "  color: var(--sklearn-color-text);\n",
              "  /* unfitted */\n",
              "  background-color: var(--sklearn-color-unfitted-level-0);\n",
              "}\n",
              "\n",
              "#sk-container-id-1 div.sk-toggleable__content.fitted pre {\n",
              "  /* unfitted */\n",
              "  background-color: var(--sklearn-color-fitted-level-0);\n",
              "}\n",
              "\n",
              "#sk-container-id-1 input.sk-toggleable__control:checked~div.sk-toggleable__content {\n",
              "  /* Expand drop-down */\n",
              "  max-height: 200px;\n",
              "  max-width: 100%;\n",
              "  overflow: auto;\n",
              "}\n",
              "\n",
              "#sk-container-id-1 input.sk-toggleable__control:checked~label.sk-toggleable__label-arrow:before {\n",
              "  content: \"▾\";\n",
              "}\n",
              "\n",
              "/* Pipeline/ColumnTransformer-specific style */\n",
              "\n",
              "#sk-container-id-1 div.sk-label input.sk-toggleable__control:checked~label.sk-toggleable__label {\n",
              "  color: var(--sklearn-color-text);\n",
              "  background-color: var(--sklearn-color-unfitted-level-2);\n",
              "}\n",
              "\n",
              "#sk-container-id-1 div.sk-label.fitted input.sk-toggleable__control:checked~label.sk-toggleable__label {\n",
              "  background-color: var(--sklearn-color-fitted-level-2);\n",
              "}\n",
              "\n",
              "/* Estimator-specific style */\n",
              "\n",
              "/* Colorize estimator box */\n",
              "#sk-container-id-1 div.sk-estimator input.sk-toggleable__control:checked~label.sk-toggleable__label {\n",
              "  /* unfitted */\n",
              "  background-color: var(--sklearn-color-unfitted-level-2);\n",
              "}\n",
              "\n",
              "#sk-container-id-1 div.sk-estimator.fitted input.sk-toggleable__control:checked~label.sk-toggleable__label {\n",
              "  /* fitted */\n",
              "  background-color: var(--sklearn-color-fitted-level-2);\n",
              "}\n",
              "\n",
              "#sk-container-id-1 div.sk-label label.sk-toggleable__label,\n",
              "#sk-container-id-1 div.sk-label label {\n",
              "  /* The background is the default theme color */\n",
              "  color: var(--sklearn-color-text-on-default-background);\n",
              "}\n",
              "\n",
              "/* On hover, darken the color of the background */\n",
              "#sk-container-id-1 div.sk-label:hover label.sk-toggleable__label {\n",
              "  color: var(--sklearn-color-text);\n",
              "  background-color: var(--sklearn-color-unfitted-level-2);\n",
              "}\n",
              "\n",
              "/* Label box, darken color on hover, fitted */\n",
              "#sk-container-id-1 div.sk-label.fitted:hover label.sk-toggleable__label.fitted {\n",
              "  color: var(--sklearn-color-text);\n",
              "  background-color: var(--sklearn-color-fitted-level-2);\n",
              "}\n",
              "\n",
              "/* Estimator label */\n",
              "\n",
              "#sk-container-id-1 div.sk-label label {\n",
              "  font-family: monospace;\n",
              "  font-weight: bold;\n",
              "  display: inline-block;\n",
              "  line-height: 1.2em;\n",
              "}\n",
              "\n",
              "#sk-container-id-1 div.sk-label-container {\n",
              "  text-align: center;\n",
              "}\n",
              "\n",
              "/* Estimator-specific */\n",
              "#sk-container-id-1 div.sk-estimator {\n",
              "  font-family: monospace;\n",
              "  border: 1px dotted var(--sklearn-color-border-box);\n",
              "  border-radius: 0.25em;\n",
              "  box-sizing: border-box;\n",
              "  margin-bottom: 0.5em;\n",
              "  /* unfitted */\n",
              "  background-color: var(--sklearn-color-unfitted-level-0);\n",
              "}\n",
              "\n",
              "#sk-container-id-1 div.sk-estimator.fitted {\n",
              "  /* fitted */\n",
              "  background-color: var(--sklearn-color-fitted-level-0);\n",
              "}\n",
              "\n",
              "/* on hover */\n",
              "#sk-container-id-1 div.sk-estimator:hover {\n",
              "  /* unfitted */\n",
              "  background-color: var(--sklearn-color-unfitted-level-2);\n",
              "}\n",
              "\n",
              "#sk-container-id-1 div.sk-estimator.fitted:hover {\n",
              "  /* fitted */\n",
              "  background-color: var(--sklearn-color-fitted-level-2);\n",
              "}\n",
              "\n",
              "/* Specification for estimator info (e.g. \"i\" and \"?\") */\n",
              "\n",
              "/* Common style for \"i\" and \"?\" */\n",
              "\n",
              ".sk-estimator-doc-link,\n",
              "a:link.sk-estimator-doc-link,\n",
              "a:visited.sk-estimator-doc-link {\n",
              "  float: right;\n",
              "  font-size: smaller;\n",
              "  line-height: 1em;\n",
              "  font-family: monospace;\n",
              "  background-color: var(--sklearn-color-background);\n",
              "  border-radius: 1em;\n",
              "  height: 1em;\n",
              "  width: 1em;\n",
              "  text-decoration: none !important;\n",
              "  margin-left: 0.5em;\n",
              "  text-align: center;\n",
              "  /* unfitted */\n",
              "  border: var(--sklearn-color-unfitted-level-1) 1pt solid;\n",
              "  color: var(--sklearn-color-unfitted-level-1);\n",
              "}\n",
              "\n",
              ".sk-estimator-doc-link.fitted,\n",
              "a:link.sk-estimator-doc-link.fitted,\n",
              "a:visited.sk-estimator-doc-link.fitted {\n",
              "  /* fitted */\n",
              "  border: var(--sklearn-color-fitted-level-1) 1pt solid;\n",
              "  color: var(--sklearn-color-fitted-level-1);\n",
              "}\n",
              "\n",
              "/* On hover */\n",
              "div.sk-estimator:hover .sk-estimator-doc-link:hover,\n",
              ".sk-estimator-doc-link:hover,\n",
              "div.sk-label-container:hover .sk-estimator-doc-link:hover,\n",
              ".sk-estimator-doc-link:hover {\n",
              "  /* unfitted */\n",
              "  background-color: var(--sklearn-color-unfitted-level-3);\n",
              "  color: var(--sklearn-color-background);\n",
              "  text-decoration: none;\n",
              "}\n",
              "\n",
              "div.sk-estimator.fitted:hover .sk-estimator-doc-link.fitted:hover,\n",
              ".sk-estimator-doc-link.fitted:hover,\n",
              "div.sk-label-container:hover .sk-estimator-doc-link.fitted:hover,\n",
              ".sk-estimator-doc-link.fitted:hover {\n",
              "  /* fitted */\n",
              "  background-color: var(--sklearn-color-fitted-level-3);\n",
              "  color: var(--sklearn-color-background);\n",
              "  text-decoration: none;\n",
              "}\n",
              "\n",
              "/* Span, style for the box shown on hovering the info icon */\n",
              ".sk-estimator-doc-link span {\n",
              "  display: none;\n",
              "  z-index: 9999;\n",
              "  position: relative;\n",
              "  font-weight: normal;\n",
              "  right: .2ex;\n",
              "  padding: .5ex;\n",
              "  margin: .5ex;\n",
              "  width: min-content;\n",
              "  min-width: 20ex;\n",
              "  max-width: 50ex;\n",
              "  color: var(--sklearn-color-text);\n",
              "  box-shadow: 2pt 2pt 4pt #999;\n",
              "  /* unfitted */\n",
              "  background: var(--sklearn-color-unfitted-level-0);\n",
              "  border: .5pt solid var(--sklearn-color-unfitted-level-3);\n",
              "}\n",
              "\n",
              ".sk-estimator-doc-link.fitted span {\n",
              "  /* fitted */\n",
              "  background: var(--sklearn-color-fitted-level-0);\n",
              "  border: var(--sklearn-color-fitted-level-3);\n",
              "}\n",
              "\n",
              ".sk-estimator-doc-link:hover span {\n",
              "  display: block;\n",
              "}\n",
              "\n",
              "/* \"?\"-specific style due to the `<a>` HTML tag */\n",
              "\n",
              "#sk-container-id-1 a.estimator_doc_link {\n",
              "  float: right;\n",
              "  font-size: 1rem;\n",
              "  line-height: 1em;\n",
              "  font-family: monospace;\n",
              "  background-color: var(--sklearn-color-background);\n",
              "  border-radius: 1rem;\n",
              "  height: 1rem;\n",
              "  width: 1rem;\n",
              "  text-decoration: none;\n",
              "  /* unfitted */\n",
              "  color: var(--sklearn-color-unfitted-level-1);\n",
              "  border: var(--sklearn-color-unfitted-level-1) 1pt solid;\n",
              "}\n",
              "\n",
              "#sk-container-id-1 a.estimator_doc_link.fitted {\n",
              "  /* fitted */\n",
              "  border: var(--sklearn-color-fitted-level-1) 1pt solid;\n",
              "  color: var(--sklearn-color-fitted-level-1);\n",
              "}\n",
              "\n",
              "/* On hover */\n",
              "#sk-container-id-1 a.estimator_doc_link:hover {\n",
              "  /* unfitted */\n",
              "  background-color: var(--sklearn-color-unfitted-level-3);\n",
              "  color: var(--sklearn-color-background);\n",
              "  text-decoration: none;\n",
              "}\n",
              "\n",
              "#sk-container-id-1 a.estimator_doc_link.fitted:hover {\n",
              "  /* fitted */\n",
              "  background-color: var(--sklearn-color-fitted-level-3);\n",
              "}\n",
              "</style><div id=\"sk-container-id-1\" class=\"sk-top-container\"><div class=\"sk-text-repr-fallback\"><pre>GaussianNB()</pre><b>In a Jupyter environment, please rerun this cell to show the HTML representation or trust the notebook. <br />On GitHub, the HTML representation is unable to render, please try loading this page with nbviewer.org.</b></div><div class=\"sk-container\" hidden><div class=\"sk-item\"><div class=\"sk-estimator fitted sk-toggleable\"><input class=\"sk-toggleable__control sk-hidden--visually\" id=\"sk-estimator-id-1\" type=\"checkbox\" checked><label for=\"sk-estimator-id-1\" class=\"sk-toggleable__label fitted sk-toggleable__label-arrow\"><div><div>GaussianNB</div></div><div><a class=\"sk-estimator-doc-link fitted\" rel=\"noreferrer\" target=\"_blank\" href=\"https://scikit-learn.org/1.6/modules/generated/sklearn.naive_bayes.GaussianNB.html\">?<span>Documentation for GaussianNB</span></a><span class=\"sk-estimator-doc-link fitted\">i<span>Fitted</span></span></div></label><div class=\"sk-toggleable__content fitted\"><pre>GaussianNB()</pre></div> </div></div></div></div>"
            ],
            "text/plain": [
              "GaussianNB()"
            ]
          },
          "execution_count": 24,
          "metadata": {},
          "output_type": "execute_result"
        }
      ],
      "source": [
        "model.fit(X_train_pca, y_train)"
      ]
    },
    {
      "cell_type": "code",
      "execution_count": 25,
      "metadata": {
        "id": "sVf1oIj3ls4U"
      },
      "outputs": [],
      "source": [
        "y_train_pred = model.predict(X_train_pca)"
      ]
    },
    {
      "cell_type": "code",
      "execution_count": 26,
      "metadata": {
        "colab": {
          "base_uri": "https://localhost:8080/"
        },
        "id": "9J0L2dTplxQ2",
        "outputId": "d3266d48-7528-456e-dbed-13c90f9ed1ad"
      },
      "outputs": [
        {
          "name": "stdout",
          "output_type": "stream",
          "text": [
            "              precision    recall  f1-score   support\n",
            "\n",
            "         0.0       0.94      0.92      0.93     10273\n",
            "         1.0       0.92      0.94      0.93     10233\n",
            "\n",
            "    accuracy                           0.93     20506\n",
            "   macro avg       0.93      0.93      0.93     20506\n",
            "weighted avg       0.93      0.93      0.93     20506\n",
            "\n"
          ]
        }
      ],
      "source": [
        "print(classification_report(y_train, y_train_pred))"
      ]
    },
    {
      "cell_type": "code",
      "execution_count": 27,
      "metadata": {
        "id": "r0plVDRQ-XX9"
      },
      "outputs": [],
      "source": [
        "X_val_std = scaler.transform(X_val)\n",
        "X_val_pca = pca.transform(X_val_std)"
      ]
    },
    {
      "cell_type": "code",
      "execution_count": 28,
      "metadata": {
        "id": "pk_NMVG4-UtK"
      },
      "outputs": [],
      "source": [
        "y_val_pred = model.predict(X_val_pca)"
      ]
    },
    {
      "cell_type": "code",
      "execution_count": 29,
      "metadata": {
        "colab": {
          "base_uri": "https://localhost:8080/"
        },
        "id": "9MZemB19-UtM",
        "outputId": "779e3d73-ebf0-4c10-a75a-bd38f1eca212"
      },
      "outputs": [
        {
          "name": "stdout",
          "output_type": "stream",
          "text": [
            "              precision    recall  f1-score   support\n",
            "\n",
            "         0.0       0.94      0.93      0.94      2527\n",
            "         1.0       0.93      0.94      0.94      2600\n",
            "\n",
            "    accuracy                           0.94      5127\n",
            "   macro avg       0.94      0.94      0.94      5127\n",
            "weighted avg       0.94      0.94      0.94      5127\n",
            "\n"
          ]
        }
      ],
      "source": [
        "print(classification_report(y_val, y_val_pred))"
      ]
    },
    {
      "cell_type": "code",
      "execution_count": 30,
      "metadata": {
        "colab": {
          "base_uri": "https://localhost:8080/"
        },
        "id": "JWxLrsdytywE",
        "outputId": "f665d9c9-59f1-48a9-dcfd-dd06f00616c5"
      },
      "outputs": [
        {
          "data": {
            "text/plain": [
              "['modelo_entrenado.joblib']"
            ]
          },
          "execution_count": 30,
          "metadata": {},
          "output_type": "execute_result"
        }
      ],
      "source": [
        "# Guardar el modelo\n",
        "joblib.dump(model, 'modelo_entrenado.joblib')"
      ]
    },
    {
      "cell_type": "markdown",
      "metadata": {},
      "source": [
        "# Encontrar los mejores hiperparámetros"
      ]
    },
    {
      "cell_type": "code",
      "execution_count": 31,
      "metadata": {},
      "outputs": [],
      "source": [
        "# pip install optuna"
      ]
    },
    {
      "cell_type": "code",
      "execution_count": 42,
      "metadata": {},
      "outputs": [
        {
          "name": "stdout",
          "output_type": "stream",
          "text": [
            "Defaulting to user installation because normal site-packages is not writeable\n",
            "Requirement already satisfied: xgboost in /Users/rodrigobenitez/Library/Python/3.9/lib/python/site-packages (2.1.4)\n",
            "Requirement already satisfied: numpy in /Users/rodrigobenitez/Library/Python/3.9/lib/python/site-packages (from xgboost) (2.0.2)\n",
            "Requirement already satisfied: scipy in /Users/rodrigobenitez/Library/Python/3.9/lib/python/site-packages (from xgboost) (1.13.1)\n"
          ]
        }
      ],
      "source": [
        "#!pip install xgboost\n"
      ]
    },
    {
      "cell_type": "code",
      "execution_count": 43,
      "metadata": {
        "id": "nh_qv7TsuES3"
      },
      "outputs": [],
      "source": [
        "import optuna\n",
        "from sklearn.model_selection import cross_val_score\n",
        "from sklearn.metrics import f1_score\n",
        "import xgboost as xgb"
      ]
    },
    {
      "cell_type": "code",
      "execution_count": 46,
      "metadata": {},
      "outputs": [],
      "source": [
        "# ... existing code ...\n",
        "def objective(trial):\n",
        "    # Sugerir hiperparámetros para XGBoost\n",
        "    param = {\n",
        "        'n_estimators': trial.suggest_int('n_estimators', 50, 300),\n",
        "        'max_depth': trial.suggest_int('max_depth', 3, 15),\n",
        "        'learning_rate': trial.suggest_float('learning_rate', 1e-3, 0.3, log=True),\n",
        "        'subsample': trial.suggest_float('subsample', 0.5, 1.0),\n",
        "        'colsample_bytree': trial.suggest_float('colsample_bytree', 0.5, 1.0),\n",
        "        'gamma': trial.suggest_float('gamma', 0, 5),\n",
        "        'reg_alpha': trial.suggest_float('reg_alpha', 0, 5),\n",
        "        'reg_lambda': trial.suggest_float('reg_lambda', 0, 5),\n",
        "        'eval_metric': 'logloss'\n",
        "    }\n",
        "    \n",
        "    # Crear y entrenar el modelo XGBoost con los parámetros sugeridos\n",
        "    model_trial = xgb.XGBClassifier(**param, n_jobs=-1, random_state=42)\n",
        "    \n",
        "    # Evaluar el modelo usando validación cruzada\n",
        "    cv_scores = cross_val_score(model_trial, X_train_pca, y_train, \n",
        "                               cv=5, scoring='f1', n_jobs=-1)\n",
        "    \n",
        "    # Retornar el promedio de las puntuaciones de validación cruzada\n",
        "    return cv_scores.mean()"
      ]
    },
    {
      "cell_type": "code",
      "execution_count": 47,
      "metadata": {},
      "outputs": [
        {
          "name": "stderr",
          "output_type": "stream",
          "text": [
            "[I 2025-06-22 18:00:08,110] A new study created in memory with name: no-name-067aa5a5-9c5f-4436-8041-eccd5388b3b8\n"
          ]
        },
        {
          "name": "stdout",
          "output_type": "stream",
          "text": [
            "Iniciando optimización de hiperparámetros para XGBoost con Optuna...\n"
          ]
        },
        {
          "name": "stderr",
          "output_type": "stream",
          "text": [
            "[I 2025-06-22 18:00:22,182] Trial 0 finished with value: 0.9919376909690467 and parameters: {'n_estimators': 155, 'max_depth': 9, 'learning_rate': 0.038006102342976196, 'subsample': 0.9904258243847393, 'colsample_bytree': 0.5091814128861919, 'gamma': 1.5503954204144992, 'reg_alpha': 2.8869124309164778, 'reg_lambda': 4.811017994723224}. Best is trial 0 with value: 0.9919376909690467.\n",
            "[I 2025-06-22 18:00:31,617] Trial 1 finished with value: 0.9873269270977925 and parameters: {'n_estimators': 285, 'max_depth': 4, 'learning_rate': 0.0011424977460626716, 'subsample': 0.7890757859778823, 'colsample_bytree': 0.5054699274829714, 'gamma': 2.7070068289994125, 'reg_alpha': 0.31834236503126834, 'reg_lambda': 2.1794139969924324}. Best is trial 0 with value: 0.9919376909690467.\n",
            "[I 2025-06-22 18:00:38,528] Trial 2 finished with value: 0.987178591510005 and parameters: {'n_estimators': 242, 'max_depth': 4, 'learning_rate': 0.0035280398441580557, 'subsample': 0.6767384826897793, 'colsample_bytree': 0.565933140996766, 'gamma': 3.1516491198732473, 'reg_alpha': 2.3225236972404604, 'reg_lambda': 0.0337251567757596}. Best is trial 0 with value: 0.9919376909690467.\n",
            "[I 2025-06-22 18:00:42,443] Trial 3 finished with value: 0.9931324134985348 and parameters: {'n_estimators': 96, 'max_depth': 15, 'learning_rate': 0.2678466321208074, 'subsample': 0.7030622626330991, 'colsample_bytree': 0.6328947205548223, 'gamma': 2.2711071736255315, 'reg_alpha': 2.40756563551919, 'reg_lambda': 4.537550614849942}. Best is trial 3 with value: 0.9931324134985348.\n",
            "[I 2025-06-22 18:00:50,920] Trial 4 finished with value: 0.9921959201781683 and parameters: {'n_estimators': 165, 'max_depth': 15, 'learning_rate': 0.04362976783994129, 'subsample': 0.6981588901939848, 'colsample_bytree': 0.7877429323182048, 'gamma': 2.6403994877959964, 'reg_alpha': 4.448901946506304, 'reg_lambda': 2.9337758219949643}. Best is trial 3 with value: 0.9931324134985348.\n",
            "[I 2025-06-22 18:02:41,058] Trial 5 finished with value: 0.9885217070439317 and parameters: {'n_estimators': 274, 'max_depth': 15, 'learning_rate': 0.0026324986204451072, 'subsample': 0.9909700774234006, 'colsample_bytree': 0.6348342429427252, 'gamma': 0.6732276071990262, 'reg_alpha': 2.372972182067797, 'reg_lambda': 3.536931712714621}. Best is trial 3 with value: 0.9931324134985348.\n",
            "[I 2025-06-22 18:02:47,026] Trial 6 finished with value: 0.9857173706903646 and parameters: {'n_estimators': 281, 'max_depth': 3, 'learning_rate': 0.004643593624906957, 'subsample': 0.8589665771096742, 'colsample_bytree': 0.5528115140179228, 'gamma': 1.7989211212102592, 'reg_alpha': 1.091857569134519, 'reg_lambda': 2.735790366798048}. Best is trial 3 with value: 0.9931324134985348.\n",
            "[I 2025-06-22 18:03:02,699] Trial 7 finished with value: 0.9880352826467286 and parameters: {'n_estimators': 252, 'max_depth': 7, 'learning_rate': 0.00677028782077081, 'subsample': 0.5329679193627397, 'colsample_bytree': 0.8630154901963322, 'gamma': 1.2152639600790627, 'reg_alpha': 0.3682540355549552, 'reg_lambda': 4.482120977639611}. Best is trial 3 with value: 0.9931324134985348.\n",
            "[I 2025-06-22 18:03:18,739] Trial 8 finished with value: 0.985518740107012 and parameters: {'n_estimators': 260, 'max_depth': 10, 'learning_rate': 0.001658330025685963, 'subsample': 0.5158051720631008, 'colsample_bytree': 0.8742870229121983, 'gamma': 2.426416232923503, 'reg_alpha': 3.1038320091062004, 'reg_lambda': 3.399681041814352}. Best is trial 3 with value: 0.9931324134985348.\n",
            "[I 2025-06-22 18:03:25,013] Trial 9 finished with value: 0.9923427804718127 and parameters: {'n_estimators': 124, 'max_depth': 14, 'learning_rate': 0.06829217763338924, 'subsample': 0.9123389170861995, 'colsample_bytree': 0.7234647903924978, 'gamma': 4.7058024489775745, 'reg_alpha': 3.0764982427150116, 'reg_lambda': 0.08635325050198317}. Best is trial 3 with value: 0.9931324134985348.\n",
            "[I 2025-06-22 18:03:30,285] Trial 10 finished with value: 0.9921458774910693 and parameters: {'n_estimators': 51, 'max_depth': 12, 'learning_rate': 0.18925816859010972, 'subsample': 0.6104154395093476, 'colsample_bytree': 0.6820233586177479, 'gamma': 0.05104803587321971, 'reg_alpha': 4.732267246333787, 'reg_lambda': 1.2321182587455093}. Best is trial 3 with value: 0.9931324134985348.\n",
            "[I 2025-06-22 18:03:33,399] Trial 11 finished with value: 0.9922951006933036 and parameters: {'n_estimators': 89, 'max_depth': 13, 'learning_rate': 0.29707111233198774, 'subsample': 0.8487340814993813, 'colsample_bytree': 0.7131099411341864, 'gamma': 4.361833324474789, 'reg_alpha': 3.6710139048520807, 'reg_lambda': 0.02500545911977369}. Best is trial 3 with value: 0.9931324134985348.\n",
            "[I 2025-06-22 18:03:38,505] Trial 12 finished with value: 0.9930339883112724 and parameters: {'n_estimators': 119, 'max_depth': 13, 'learning_rate': 0.0994604071647992, 'subsample': 0.8867092409006109, 'colsample_bytree': 0.7641279592619963, 'gamma': 4.971105530935336, 'reg_alpha': 1.5622234162188835, 'reg_lambda': 1.1791429921076548}. Best is trial 3 with value: 0.9931324134985348.\n",
            "[I 2025-06-22 18:03:43,045] Trial 13 finished with value: 0.9927891879226347 and parameters: {'n_estimators': 101, 'max_depth': 11, 'learning_rate': 0.12115009422461062, 'subsample': 0.7549578046655322, 'colsample_bytree': 0.7940019084508582, 'gamma': 3.7972251873654423, 'reg_alpha': 1.5152889561872342, 'reg_lambda': 1.6598878553638112}. Best is trial 3 with value: 0.9931324134985348.\n",
            "[I 2025-06-22 18:03:57,647] Trial 14 finished with value: 0.9905025268819525 and parameters: {'n_estimators': 207, 'max_depth': 13, 'learning_rate': 0.014973444911170987, 'subsample': 0.6576207568329628, 'colsample_bytree': 0.6233683145835458, 'gamma': 3.9211772504425713, 'reg_alpha': 1.4284534020279873, 'reg_lambda': 1.0180614026121155}. Best is trial 3 with value: 0.9931324134985348.\n",
            "[I 2025-06-22 18:04:02,150] Trial 15 finished with value: 0.9920502472871509 and parameters: {'n_estimators': 62, 'max_depth': 8, 'learning_rate': 0.1215512058156504, 'subsample': 0.8115513781757746, 'colsample_bytree': 0.9978965924194989, 'gamma': 3.491144685311208, 'reg_alpha': 1.8737972441669821, 'reg_lambda': 3.958056831631348}. Best is trial 3 with value: 0.9931324134985348.\n",
            "[I 2025-06-22 18:04:18,566] Trial 16 finished with value: 0.9907056451142593 and parameters: {'n_estimators': 130, 'max_depth': 12, 'learning_rate': 0.020994582868341712, 'subsample': 0.9083156417115748, 'colsample_bytree': 0.6481756962012193, 'gamma': 2.073326825846866, 'reg_alpha': 1.0006722624403308, 'reg_lambda': 2.096503733502624}. Best is trial 3 with value: 0.9931324134985348.\n",
            "[I 2025-06-22 18:04:23,004] Trial 17 finished with value: 0.9923927986849345 and parameters: {'n_estimators': 201, 'max_depth': 15, 'learning_rate': 0.27867202512780226, 'subsample': 0.6053054321582804, 'colsample_bytree': 0.8671086903474778, 'gamma': 3.121424153719582, 'reg_alpha': 3.9375465195624546, 'reg_lambda': 0.9311319213620739}. Best is trial 3 with value: 0.9931324134985348.\n",
            "[I 2025-06-22 18:04:28,115] Trial 18 finished with value: 0.9925925584370411 and parameters: {'n_estimators': 88, 'max_depth': 6, 'learning_rate': 0.08909334143738679, 'subsample': 0.7269059769347495, 'colsample_bytree': 0.7763068280719442, 'gamma': 1.0991664070671125, 'reg_alpha': 1.9692344728024835, 'reg_lambda': 4.284913960407435}. Best is trial 3 with value: 0.9931324134985348.\n",
            "[I 2025-06-22 18:04:35,125] Trial 19 finished with value: 0.9920482223337542 and parameters: {'n_estimators': 130, 'max_depth': 13, 'learning_rate': 0.0454159107783878, 'subsample': 0.8996493981175551, 'colsample_bytree': 0.9590921045124967, 'gamma': 4.32653986982556, 'reg_alpha': 0.9286479051255498, 'reg_lambda': 1.841346033201813}. Best is trial 3 with value: 0.9931324134985348.\n",
            "[I 2025-06-22 18:04:40,107] Trial 20 finished with value: 0.9929845768347596 and parameters: {'n_estimators': 193, 'max_depth': 10, 'learning_rate': 0.16875515107103267, 'subsample': 0.7636264940383461, 'colsample_bytree': 0.5904745027799754, 'gamma': 2.159926086339972, 'reg_alpha': 2.673204343642082, 'reg_lambda': 0.6120511394720545}. Best is trial 3 with value: 0.9931324134985348.\n",
            "[I 2025-06-22 18:04:45,592] Trial 21 finished with value: 0.9929839217357772 and parameters: {'n_estimators': 192, 'max_depth': 10, 'learning_rate': 0.18299289781446476, 'subsample': 0.7672994440493427, 'colsample_bytree': 0.5867751746586276, 'gamma': 2.254165735479061, 'reg_alpha': 2.7997126127179497, 'reg_lambda': 0.5968883631952601}. Best is trial 3 with value: 0.9931324134985348.\n",
            "[I 2025-06-22 18:04:50,356] Trial 22 finished with value: 0.9925446816122584 and parameters: {'n_estimators': 229, 'max_depth': 11, 'learning_rate': 0.15933028958079248, 'subsample': 0.8255311369481289, 'colsample_bytree': 0.702606644002861, 'gamma': 3.0235905888551304, 'reg_alpha': 3.442974460109028, 'reg_lambda': 1.4184449101451357}. Best is trial 3 with value: 0.9931324134985348.\n",
            "[I 2025-06-22 18:04:55,191] Trial 23 finished with value: 0.9925419190809027 and parameters: {'n_estimators': 158, 'max_depth': 14, 'learning_rate': 0.08982848756594937, 'subsample': 0.7282040930256926, 'colsample_bytree': 0.6564894778500536, 'gamma': 4.992818264008634, 'reg_alpha': 1.8786052181342099, 'reg_lambda': 0.5463526163367429}. Best is trial 3 with value: 0.9931324134985348.\n",
            "[I 2025-06-22 18:05:06,680] Trial 24 finished with value: 0.9898022585815445 and parameters: {'n_estimators': 109, 'max_depth': 14, 'learning_rate': 0.016091453473904914, 'subsample': 0.6235126572623975, 'colsample_bytree': 0.5953523382622999, 'gamma': 1.8468075767272463, 'reg_alpha': 2.5182542617071357, 'reg_lambda': 0.5879104540115299}. Best is trial 3 with value: 0.9931324134985348.\n",
            "[I 2025-06-22 18:05:10,140] Trial 25 finished with value: 0.9932303293326618 and parameters: {'n_estimators': 72, 'max_depth': 12, 'learning_rate': 0.2894078117200622, 'subsample': 0.5585697469685822, 'colsample_bytree': 0.7507272959757783, 'gamma': 1.4509231537639475, 'reg_alpha': 2.1354422861514495, 'reg_lambda': 2.427199572541065}. Best is trial 25 with value: 0.9932303293326618.\n",
            "[I 2025-06-22 18:05:13,947] Trial 26 finished with value: 0.9933281550984268 and parameters: {'n_estimators': 75, 'max_depth': 12, 'learning_rate': 0.2745835452378077, 'subsample': 0.549183081352708, 'colsample_bytree': 0.8223336310185598, 'gamma': 0.6558471107944015, 'reg_alpha': 2.1489147906453363, 'reg_lambda': 2.563999893262209}. Best is trial 26 with value: 0.9933281550984268.\n",
            "[I 2025-06-22 18:05:17,679] Trial 27 finished with value: 0.993473345728345 and parameters: {'n_estimators': 69, 'max_depth': 12, 'learning_rate': 0.2981217694021722, 'subsample': 0.5679113794164087, 'colsample_bytree': 0.8232642836656796, 'gamma': 0.4740536074085616, 'reg_alpha': 2.165382462653817, 'reg_lambda': 3.2601531665645522}. Best is trial 27 with value: 0.993473345728345.\n",
            "[I 2025-06-22 18:05:24,257] Trial 28 finished with value: 0.9904629577910988 and parameters: {'n_estimators': 69, 'max_depth': 11, 'learning_rate': 0.0608655695985948, 'subsample': 0.5536195942230052, 'colsample_bytree': 0.8235536598353834, 'gamma': 0.27000363979500763, 'reg_alpha': 2.0895815498877313, 'reg_lambda': 3.08211764308705}. Best is trial 27 with value: 0.993473345728345.\n",
            "[I 2025-06-22 18:05:30,257] Trial 29 finished with value: 0.9887335311038745 and parameters: {'n_estimators': 76, 'max_depth': 9, 'learning_rate': 0.027628136331478866, 'subsample': 0.5757185213405259, 'colsample_bytree': 0.9197411753371313, 'gamma': 0.747348507153823, 'reg_alpha': 0.6864141429627635, 'reg_lambda': 2.4140286025677007}. Best is trial 27 with value: 0.993473345728345.\n",
            "[I 2025-06-22 18:05:34,480] Trial 30 finished with value: 0.9929823293810301 and parameters: {'n_estimators': 143, 'max_depth': 12, 'learning_rate': 0.2334719510703224, 'subsample': 0.5006735454608084, 'colsample_bytree': 0.8244435939660902, 'gamma': 1.3270400927549624, 'reg_alpha': 3.2702561107120425, 'reg_lambda': 3.5794451036901513}. Best is trial 27 with value: 0.993473345728345.\n",
            "[I 2025-06-22 18:05:38,424] Trial 31 finished with value: 0.9932264987996284 and parameters: {'n_estimators': 90, 'max_depth': 12, 'learning_rate': 0.29015537552616866, 'subsample': 0.5620944474652791, 'colsample_bytree': 0.7464220074160776, 'gamma': 0.6918572548781443, 'reg_alpha': 2.2149133628536695, 'reg_lambda': 4.93368670127096}. Best is trial 27 with value: 0.993473345728345.\n",
            "[I 2025-06-22 18:05:43,121] Trial 32 finished with value: 0.9918490129416743 and parameters: {'n_estimators': 57, 'max_depth': 12, 'learning_rate': 0.13035038330419352, 'subsample': 0.583580890400649, 'colsample_bytree': 0.7493881925964858, 'gamma': 0.6328363619489585, 'reg_alpha': 2.139066453833008, 'reg_lambda': 4.97885161054843}. Best is trial 27 with value: 0.993473345728345.\n",
            "[I 2025-06-22 18:05:48,303] Trial 33 finished with value: 0.9924412983639703 and parameters: {'n_estimators': 76, 'max_depth': 11, 'learning_rate': 0.1929949244513325, 'subsample': 0.6407684572286217, 'colsample_bytree': 0.8351310528005171, 'gamma': 0.31698423909322543, 'reg_alpha': 1.718192820342038, 'reg_lambda': 2.4304853633431205}. Best is trial 27 with value: 0.993473345728345.\n",
            "[I 2025-06-22 18:05:51,767] Trial 34 finished with value: 0.9934227759339272 and parameters: {'n_estimators': 84, 'max_depth': 9, 'learning_rate': 0.29559598723799196, 'subsample': 0.5554136764874162, 'colsample_bytree': 0.7355647362522498, 'gamma': 1.0219596909308457, 'reg_alpha': 1.2671783206902367, 'reg_lambda': 3.9132051160062877}. Best is trial 27 with value: 0.993473345728345.\n",
            "[I 2025-06-22 18:05:56,706] Trial 35 finished with value: 0.991554588278747 and parameters: {'n_estimators': 78, 'max_depth': 9, 'learning_rate': 0.0698291882615522, 'subsample': 0.5256360978460571, 'colsample_bytree': 0.893646572300054, 'gamma': 1.5595507177828112, 'reg_alpha': 1.468176563155538, 'reg_lambda': 3.224177796471742}. Best is trial 27 with value: 0.993473345728345.\n",
            "[I 2025-06-22 18:06:00,856] Trial 36 finished with value: 0.9926382237084775 and parameters: {'n_estimators': 107, 'max_depth': 8, 'learning_rate': 0.21965030314399028, 'subsample': 0.5501214989398855, 'colsample_bytree': 0.8019646486469685, 'gamma': 0.92486903594949, 'reg_alpha': 1.1787678032825588, 'reg_lambda': 3.898912113576309}. Best is trial 27 with value: 0.993473345728345.\n",
            "[I 2025-06-22 18:06:03,955] Trial 37 finished with value: 0.9922952304973739 and parameters: {'n_estimators': 50, 'max_depth': 6, 'learning_rate': 0.15279611259230155, 'subsample': 0.6816719858149204, 'colsample_bytree': 0.6847165481007031, 'gamma': 1.5108698683633457, 'reg_alpha': 0.5758795997032262, 'reg_lambda': 2.911657194873162}. Best is trial 27 with value: 0.993473345728345.\n",
            "[I 2025-06-22 18:06:09,644] Trial 38 finished with value: 0.986949743657393 and parameters: {'n_estimators': 69, 'max_depth': 8, 'learning_rate': 0.009396336587463834, 'subsample': 0.5885651111992654, 'colsample_bytree': 0.8421128049070347, 'gamma': 0.25841295382815893, 'reg_alpha': 2.395620584150984, 'reg_lambda': 2.6974898602078428}. Best is trial 27 with value: 0.993473345728345.\n",
            "[I 2025-06-22 18:06:17,006] Trial 39 finished with value: 0.992886801541926 and parameters: {'n_estimators': 298, 'max_depth': 10, 'learning_rate': 0.2240973984207068, 'subsample': 0.6411662455381, 'colsample_bytree': 0.7376421186477747, 'gamma': 0.9237919389833719, 'reg_alpha': 2.664647748965371, 'reg_lambda': 3.824039488076406}. Best is trial 27 with value: 0.993473345728345.\n",
            "[I 2025-06-22 18:06:26,892] Trial 40 finished with value: 0.9909143074706538 and parameters: {'n_estimators': 141, 'max_depth': 9, 'learning_rate': 0.03383640258177545, 'subsample': 0.5038587862366875, 'colsample_bytree': 0.9086222212077697, 'gamma': 0.48560258050709526, 'reg_alpha': 1.297370250335637, 'reg_lambda': 4.252768043065508}. Best is trial 27 with value: 0.993473345728345.\n",
            "[I 2025-06-22 18:06:33,006] Trial 41 finished with value: 0.9936221097407596 and parameters: {'n_estimators': 90, 'max_depth': 12, 'learning_rate': 0.29700570855152436, 'subsample': 0.559334601997334, 'colsample_bytree': 0.7679733701856468, 'gamma': 0.019147842199662257, 'reg_alpha': 2.2123438853979347, 'reg_lambda': 4.657179995343226}. Best is trial 41 with value: 0.9936221097407596.\n",
            "[I 2025-06-22 18:06:38,582] Trial 42 finished with value: 0.9930317739881254 and parameters: {'n_estimators': 84, 'max_depth': 11, 'learning_rate': 0.29482624366587556, 'subsample': 0.5579591059593721, 'colsample_bytree': 0.8056197425081207, 'gamma': 0.0931535602769874, 'reg_alpha': 1.7287660642062463, 'reg_lambda': 4.6592689817162345}. Best is trial 41 with value: 0.9936221097407596.\n",
            "[I 2025-06-22 18:06:43,273] Trial 43 finished with value: 0.9932279067534322 and parameters: {'n_estimators': 100, 'max_depth': 10, 'learning_rate': 0.21633722226536758, 'subsample': 0.5263815046774557, 'colsample_bytree': 0.7862353651076563, 'gamma': 0.9543719255858776, 'reg_alpha': 3.0202281751649673, 'reg_lambda': 2.1389370689073783}. Best is trial 41 with value: 0.9936221097407596.\n",
            "[I 2025-06-22 18:06:48,236] Trial 44 finished with value: 0.9923921878258305 and parameters: {'n_estimators': 63, 'max_depth': 14, 'learning_rate': 0.1359560995727767, 'subsample': 0.9556458150091982, 'colsample_bytree': 0.7632477558949309, 'gamma': 1.352953031537589, 'reg_alpha': 2.315595913719666, 'reg_lambda': 3.5906693349182053}. Best is trial 41 with value: 0.9936221097407596.\n",
            "[I 2025-06-22 18:06:56,734] Trial 45 finished with value: 0.9932780194605556 and parameters: {'n_estimators': 115, 'max_depth': 13, 'learning_rate': 0.0974670809540088, 'subsample': 0.6050205155168125, 'colsample_bytree': 0.7327023835066107, 'gamma': 0.4858741617452983, 'reg_alpha': 0.2104146330709833, 'reg_lambda': 3.3616748680616544}. Best is trial 41 with value: 0.9936221097407596.\n",
            "[I 2025-06-22 18:07:04,565] Trial 46 finished with value: 0.9927350800054094 and parameters: {'n_estimators': 96, 'max_depth': 13, 'learning_rate': 0.10190334400444671, 'subsample': 0.5974168060604619, 'colsample_bytree': 0.7180661341938639, 'gamma': 0.46897726449010335, 'reg_alpha': 0.2199896383464755, 'reg_lambda': 3.3112606776051807}. Best is trial 41 with value: 0.9936221097407596.\n",
            "[I 2025-06-22 18:07:23,556] Trial 47 finished with value: 0.9916958178815245 and parameters: {'n_estimators': 115, 'max_depth': 14, 'learning_rate': 0.0558467801720896, 'subsample': 0.6215079553120755, 'colsample_bytree': 0.6857933123358539, 'gamma': 0.010822200687719219, 'reg_alpha': 0.14227609673534242, 'reg_lambda': 4.220815729592038}. Best is trial 41 with value: 0.9936221097407596.\n",
            "[I 2025-06-22 18:07:28,694] Trial 48 finished with value: 0.9935235841953874 and parameters: {'n_estimators': 111, 'max_depth': 7, 'learning_rate': 0.1659735276600479, 'subsample': 0.5381304783873461, 'colsample_bytree': 0.8093483865501849, 'gamma': 0.5156254671089837, 'reg_alpha': 0.005384539969803009, 'reg_lambda': 3.733365150204383}. Best is trial 41 with value: 0.9936221097407596.\n",
            "[I 2025-06-22 18:07:35,742] Trial 49 finished with value: 0.9862933151374751 and parameters: {'n_estimators': 167, 'max_depth': 5, 'learning_rate': 0.0011340763948168874, 'subsample': 0.5421478134679637, 'colsample_bytree': 0.8143330191098349, 'gamma': 1.126329666777163, 'reg_alpha': 0.5333076655949575, 'reg_lambda': 4.637880200406454}. Best is trial 41 with value: 0.9936221097407596.\n"
          ]
        },
        {
          "name": "stdout",
          "output_type": "stream",
          "text": [
            "¡Optimización completada!\n",
            "Mejor trial: 41\n",
            "Mejor F1-score: 0.9936\n",
            "Mejores hiperparámetros para XGBoost:\n",
            "  n_estimators: 90\n",
            "  max_depth: 12\n",
            "  learning_rate: 0.29700570855152436\n",
            "  subsample: 0.559334601997334\n",
            "  colsample_bytree: 0.7679733701856468\n",
            "  gamma: 0.019147842199662257\n",
            "  reg_alpha: 2.2123438853979347\n",
            "  reg_lambda: 4.657179995343226\n"
          ]
        }
      ],
      "source": [
        "# Create a study object and optimize\n",
        "print(\"Iniciando optimización de hiperparámetros para XGBoost con Optuna...\")\n",
        "study = optuna.create_study(direction='maximize')  # Queremos maximizar el F1-score\n",
        "study.optimize(objective, n_trials=50)  # Puedes aumentar n_trials para mejores resultados\n",
        "\n",
        "print(\"¡Optimización completada!\")\n",
        "print(f\"Mejor trial: {study.best_trial.number}\")\n",
        "print(f\"Mejor F1-score: {study.best_value:.4f}\")\n",
        "print(\"Mejores hiperparámetros para XGBoost:\")\n",
        "for key, value in study.best_params.items():\n",
        "    print(f\"  {key}: {value}\")\n"
      ]
    },
    {
      "cell_type": "code",
      "execution_count": 48,
      "metadata": {},
      "outputs": [
        {
          "name": "stdout",
          "output_type": "stream",
          "text": [
            "¡Modelo XGBoost optimizado entrenado exitosamente!\n",
            "Mejores hiperparámetros encontrados:\n",
            "  n_estimators: 90\n",
            "  max_depth: 12\n",
            "  learning_rate: 0.29700570855152436\n",
            "  subsample: 0.559334601997334\n",
            "  colsample_bytree: 0.7679733701856468\n",
            "  gamma: 0.019147842199662257\n",
            "  reg_alpha: 2.2123438853979347\n",
            "  reg_lambda: 4.657179995343226\n"
          ]
        }
      ],
      "source": [
        "# Train the final model with the best parameters\n",
        "best_params = study.best_params\n",
        "\n",
        "# Usar el PCA ya ajustado y la transformación existente\n",
        "pca_optimized = pca  # Usamos el PCA original\n",
        "X_train_pca_optimized = X_train_pca  # Usamos la transformación existente\n",
        "\n",
        "# Crear y entrenar XGBClassifier con los mejores hiperparámetros\n",
        "model_optimized = xgb.XGBClassifier(**best_params, n_jobs=-1, random_state=42)\n",
        "model_optimized.fit(X_train_pca_optimized, y_train)\n",
        "\n",
        "print(\"¡Modelo XGBoost optimizado entrenado exitosamente!\")\n",
        "print(\"Mejores hiperparámetros encontrados:\")\n",
        "for key, value in best_params.items():\n",
        "    print(f\"  {key}: {value}\")\n"
      ]
    },
    {
      "cell_type": "code",
      "execution_count": 49,
      "metadata": {},
      "outputs": [
        {
          "name": "stdout",
          "output_type": "stream",
          "text": [
            "========== OPTIMIZED MODEL - TRAINING RESULTS ==========\n",
            "              precision    recall  f1-score   support\n",
            "\n",
            "         0.0       1.00      1.00      1.00     10273\n",
            "         1.0       1.00      1.00      1.00     10233\n",
            "\n",
            "    accuracy                           1.00     20506\n",
            "   macro avg       1.00      1.00      1.00     20506\n",
            "weighted avg       1.00      1.00      1.00     20506\n",
            "\n"
          ]
        }
      ],
      "source": [
        "# Evaluate the optimized model on training data\n",
        "y_train_pred_optimized = model_optimized.predict(X_train_pca_optimized)\n",
        "print(\"========== OPTIMIZED MODEL - TRAINING RESULTS ==========\")\n",
        "print(classification_report(y_train, y_train_pred_optimized))\n"
      ]
    },
    {
      "cell_type": "code",
      "execution_count": 74,
      "metadata": {},
      "outputs": [],
      "source": [
        "# # Compare original vs optimized model performance\n",
        "# print(\"=== PERFORMANCE COMPARISON ===\")\n",
        "# print(\"\\nOriginal Model (Validation):\")\n",
        "# print(f\"F1-score: {f1_score(y_val, y_val_pred):.4f}\")\n",
        "\n",
        "# print(\"\\nOptimized Model (Validation):\")\n",
        "# print(f\"F1-score: {f1_score(y_val, y_val_pred_optimized):.4f}\")\n",
        "\n",
        "# improvement = f1_score(y_val, y_val_pred_optimized) - f1_score(y_val, y_val_pred)\n",
        "# print(f\"\\nImprovement: {improvement:.4f} ({improvement*100:.2f}%)\")\n"
      ]
    },
    {
      "cell_type": "code",
      "execution_count": 50,
      "metadata": {},
      "outputs": [
        {
          "data": {
            "image/png": "[encoded data removed]",
            "text/plain": [
              "<Figure size 1500x500 with 2 Axes>"
            ]
          },
          "metadata": {},
          "output_type": "display_data"
        }
      ],
      "source": [
        "# Visualize optimization history\n",
        "import matplotlib.pyplot as plt\n",
        "\n",
        "# Plot optimization history\n",
        "fig, (ax1, ax2) = plt.subplots(1, 2, figsize=(15, 5))\n",
        "\n",
        "# Plot objective values over trials\n",
        "trials_df = study.trials_dataframe()\n",
        "ax1.plot(trials_df['number'], trials_df['value'])\n",
        "ax1.set_xlabel('Trial Number')\n",
        "ax1.set_ylabel('F1-Score')\n",
        "ax1.set_title('Optimization Progress')\n",
        "ax1.grid(True)\n",
        "\n",
        "# Plot parameter importance (if available)\n",
        "try:\n",
        "    importance = optuna.importance.get_param_importances(study)\n",
        "    params = list(importance.keys())\n",
        "    values = list(importance.values())\n",
        "    \n",
        "    ax2.barh(params, values)\n",
        "    ax2.set_xlabel('Importance')\n",
        "    ax2.set_title('Parameter Importance')\n",
        "    ax2.grid(True)\n",
        "except:\n",
        "    ax2.text(0.5, 0.5, 'Parameter importance\\nnot available', \n",
        "             ha='center', va='center', transform=ax2.transAxes)\n",
        "    ax2.set_title('Parameter Importance')\n",
        "\n",
        "plt.tight_layout()\n",
        "plt.show()\n"
      ]
    },
    {
      "cell_type": "code",
      "execution_count": 53,
      "metadata": {},
      "outputs": [
        {
          "name": "stdout",
          "output_type": "stream",
          "text": [
            "Optimized XGBoost model saved successfully!\n"
          ]
        }
      ],
      "source": [
        "# Save the optimized GaussianNB model\n",
        "joblib.dump(model_optimized, 'models/xgboost_optimizado.joblib')\n",
        "\n",
        "print(\"Optimized XGBoost model saved successfully!\")\n",
        "\n"
      ]
    },
    {
      "cell_type": "code",
      "execution_count": 52,
      "metadata": {},
      "outputs": [
        {
          "name": "stdout",
          "output_type": "stream",
          "text": [
            "=== OPTIMIZED MODEL - VALIDATION RESULTS ===\n",
            "              precision    recall  f1-score   support\n",
            "\n",
            "         0.0       0.99      1.00      0.99      2527\n",
            "         1.0       1.00      0.99      0.99      2600\n",
            "\n",
            "    accuracy                           0.99      5127\n",
            "   macro avg       0.99      0.99      0.99      5127\n",
            "weighted avg       0.99      0.99      0.99      5127\n",
            "\n",
            "=== OPTIMIZED MODEL - VALIDATION RESULTS ===\n",
            "              precision    recall  f1-score   support\n",
            "\n",
            "         0.0       0.99      1.00      0.99      2527\n",
            "         1.0       1.00      0.99      0.99      2600\n",
            "\n",
            "    accuracy                           0.99      5127\n",
            "   macro avg       0.99      0.99      0.99      5127\n",
            "weighted avg       0.99      0.99      0.99      5127\n",
            "\n"
          ]
        }
      ],
      "source": [
        "# Evaluate the optimized model on validation data\n",
        "X_val_pca_optimized = X_val_pca  # Use the existing validation PCA transformation\n",
        "y_val_pred_optimized = model_optimized.predict(X_val_pca_optimized)\n",
        "\n",
        "print(\"=== OPTIMIZED MODEL - VALIDATION RESULTS ===\")\n",
        "print(classification_report(y_val, y_val_pred_optimized))\n",
        "y_val_pred_optimized = model_optimized.predict(X_val_pca_optimized)\n",
        "\n",
        "print(\"=== OPTIMIZED MODEL - VALIDATION RESULTS ===\")\n",
        "print(classification_report(y_val, y_val_pred_optimized))\n"
      ]
    },
    {
      "cell_type": "markdown",
      "metadata": {},
      "source": [
        "#######"
      ]
    },
    {
      "cell_type": "code",
      "execution_count": 54,
      "metadata": {},
      "outputs": [],
      "source": [
        "def objective(trial):\n",
        "    # Hiperparámetro a optimizar\n",
        "    n_positive_samples = trial.suggest_int('n_positive_samples', 2000, len(positive_patches), step=1000)\n",
        "\n",
        "    # --- Preparación de datos dentro del objective ---\n",
        "    # Seleccionar un subconjunto de positive patches\n",
        "    current_positive_patches = positive_patches[:n_positive_samples]\n",
        "\n",
        "    # Combinar positive y negative patches para formar el dataset completo\n",
        "    X_full = np.array([feature.hog(im) for im in chain(current_positive_patches, negative_patches)])\n",
        "    y_full = np.zeros(len(X_full))\n",
        "    y_full[:len(current_positive_patches)] = 1\n",
        "\n",
        "    # Dividir en train y validation\n",
        "    X_train_trial, X_val_trial, y_train_trial, y_val_trial = train_test_split(X_full, y_full, test_size=0.2, random_state=42)\n",
        "\n",
        "    # Escalar características\n",
        "    scaler_trial = StandardScaler()\n",
        "    X_train_std_trial = scaler_trial.fit_transform(X_train_trial)\n",
        "\n",
        "    # Aplicar PCA (parámetros fijos)\n",
        "    pca_trial = PCA(n_components=500, whiten=True)\n",
        "    X_train_pca_trial = pca_trial.fit_transform(X_train_std_trial)\n",
        "    # --- Fin preparación de datos ---\n",
        "\n",
        "    # Hiperparámetros fijos de XGBoost\n",
        "    xgb_params = {\n",
        "        'n_estimators': 90,\n",
        "        'max_depth': 12,\n",
        "        'learning_rate': 0.29700570855152436,\n",
        "        'subsample': 0.559334601997334,\n",
        "        'colsample_bytree': 0.7679733701856468,\n",
        "        'gamma': 0.019147842199662257,\n",
        "        'reg_alpha': 2.2123438853979347,\n",
        "        'reg_lambda': 4.657179995343226,\n",
        "        'eval_metric': 'logloss'\n",
        "    }\n",
        "\n",
        "    # Crear y entrenar XGBClassifier con los hiperparámetros fijos\n",
        "    model_trial = xgb.XGBClassifier(**xgb_params, n_jobs=-1, random_state=42)\n",
        "\n",
        "    # Validación cruzada\n",
        "    cv_scores = cross_val_score(model_trial, X_train_pca_trial, y_train_trial,\n",
        "                                cv=5, scoring='f1', n_jobs=-1)\n",
        "\n",
        "    # Retornar el promedio del F1-score\n",
        "    return cv_scores.mean()"
      ]
    },
    {
      "cell_type": "code",
      "execution_count": 56,
      "metadata": {},
      "outputs": [
        {
          "name": "stderr",
          "output_type": "stream",
          "text": [
            "[I 2025-06-22 18:20:43,609] A new study created in memory with name: no-name-a91d1ce1-5637-4eff-a81f-6f76b3b383d7\n"
          ]
        },
        {
          "name": "stdout",
          "output_type": "stream",
          "text": [
            "Starting optimization of n_positive_samples with Optuna and XGBoost...\n"
          ]
        },
        {
          "name": "stderr",
          "output_type": "stream",
          "text": [
            "  0%|          | 0/50 [00:00<?, ?it/s]/Users/rodrigobenitez/Library/Python/3.9/lib/python/site-packages/optuna/distributions.py:702: UserWarning: The distribution is specified by [2000, 12833] and step=1000, but the range is not divisible by `step`. It will be replaced by [2000, 12000].\n",
            "  warnings.warn(\n",
            "Best trial: 0. Best value: 0.993449:   2%|▏         | 1/50 [00:23<19:31, 23.91s/it]/Users/rodrigobenitez/Library/Python/3.9/lib/python/site-packages/optuna/distributions.py:702: UserWarning: The distribution is specified by [2000, 12833] and step=1000, but the range is not divisible by `step`. It will be replaced by [2000, 12000].\n",
            "  warnings.warn(\n"
          ]
        },
        {
          "name": "stdout",
          "output_type": "stream",
          "text": [
            "[I 2025-06-22 18:21:07,514] Trial 0 finished with value: 0.9934490870715471 and parameters: {'n_positive_samples': 11000}. Best is trial 0 with value: 0.9934490870715471.\n"
          ]
        },
        {
          "name": "stderr",
          "output_type": "stream",
          "text": [
            "Best trial: 0. Best value: 0.993449:   4%|▍         | 2/50 [00:44<17:34, 21.97s/it]/Users/rodrigobenitez/Library/Python/3.9/lib/python/site-packages/optuna/distributions.py:702: UserWarning: The distribution is specified by [2000, 12833] and step=1000, but the range is not divisible by `step`. It will be replaced by [2000, 12000].\n",
            "  warnings.warn(\n"
          ]
        },
        {
          "name": "stdout",
          "output_type": "stream",
          "text": [
            "[I 2025-06-22 18:21:28,130] Trial 1 finished with value: 0.9916586706768102 and parameters: {'n_positive_samples': 9000}. Best is trial 0 with value: 0.9934490870715471.\n"
          ]
        },
        {
          "name": "stderr",
          "output_type": "stream",
          "text": [
            "Best trial: 0. Best value: 0.993449:   6%|▌         | 3/50 [01:02<15:51, 20.24s/it]/Users/rodrigobenitez/Library/Python/3.9/lib/python/site-packages/optuna/distributions.py:702: UserWarning: The distribution is specified by [2000, 12833] and step=1000, but the range is not divisible by `step`. It will be replaced by [2000, 12000].\n",
            "  warnings.warn(\n"
          ]
        },
        {
          "name": "stdout",
          "output_type": "stream",
          "text": [
            "[I 2025-06-22 18:21:46,301] Trial 2 finished with value: 0.9916559206196119 and parameters: {'n_positive_samples': 7000}. Best is trial 0 with value: 0.9934490870715471.\n"
          ]
        },
        {
          "name": "stderr",
          "output_type": "stream",
          "text": [
            "Best trial: 0. Best value: 0.993449:   8%|▊         | 4/50 [01:19<14:31, 18.95s/it]/Users/rodrigobenitez/Library/Python/3.9/lib/python/site-packages/optuna/distributions.py:702: UserWarning: The distribution is specified by [2000, 12833] and step=1000, but the range is not divisible by `step`. It will be replaced by [2000, 12000].\n",
            "  warnings.warn(\n"
          ]
        },
        {
          "name": "stdout",
          "output_type": "stream",
          "text": [
            "[I 2025-06-22 18:22:03,279] Trial 3 finished with value: 0.9915678026002794 and parameters: {'n_positive_samples': 7000}. Best is trial 0 with value: 0.9934490870715471.\n"
          ]
        },
        {
          "name": "stderr",
          "output_type": "stream",
          "text": [
            "Best trial: 0. Best value: 0.993449:  10%|█         | 5/50 [01:34<13:12, 17.61s/it]/Users/rodrigobenitez/Library/Python/3.9/lib/python/site-packages/optuna/distributions.py:702: UserWarning: The distribution is specified by [2000, 12833] and step=1000, but the range is not divisible by `step`. It will be replaced by [2000, 12000].\n",
            "  warnings.warn(\n"
          ]
        },
        {
          "name": "stdout",
          "output_type": "stream",
          "text": [
            "[I 2025-06-22 18:22:18,522] Trial 4 finished with value: 0.9886892862691713 and parameters: {'n_positive_samples': 4000}. Best is trial 0 with value: 0.9934490870715471.\n"
          ]
        },
        {
          "name": "stderr",
          "output_type": "stream",
          "text": [
            "Best trial: 0. Best value: 0.993449:  12%|█▏        | 6/50 [01:49<12:14, 16.69s/it]/Users/rodrigobenitez/Library/Python/3.9/lib/python/site-packages/optuna/distributions.py:702: UserWarning: The distribution is specified by [2000, 12833] and step=1000, but the range is not divisible by `step`. It will be replaced by [2000, 12000].\n",
            "  warnings.warn(\n"
          ]
        },
        {
          "name": "stdout",
          "output_type": "stream",
          "text": [
            "[I 2025-06-22 18:22:33,422] Trial 5 finished with value: 0.9857934932280574 and parameters: {'n_positive_samples': 3000}. Best is trial 0 with value: 0.9934490870715471.\n"
          ]
        },
        {
          "name": "stderr",
          "output_type": "stream",
          "text": [
            "Best trial: 0. Best value: 0.993449:  14%|█▍        | 7/50 [02:12<13:23, 18.69s/it]/Users/rodrigobenitez/Library/Python/3.9/lib/python/site-packages/optuna/distributions.py:702: UserWarning: The distribution is specified by [2000, 12833] and step=1000, but the range is not divisible by `step`. It will be replaced by [2000, 12000].\n",
            "  warnings.warn(\n"
          ]
        },
        {
          "name": "stdout",
          "output_type": "stream",
          "text": [
            "[I 2025-06-22 18:22:56,238] Trial 6 finished with value: 0.9932216180462323 and parameters: {'n_positive_samples': 12000}. Best is trial 0 with value: 0.9934490870715471.\n"
          ]
        },
        {
          "name": "stderr",
          "output_type": "stream",
          "text": [
            "Best trial: 0. Best value: 0.993449:  16%|█▌        | 8/50 [02:31<13:07, 18.74s/it]/Users/rodrigobenitez/Library/Python/3.9/lib/python/site-packages/optuna/distributions.py:702: UserWarning: The distribution is specified by [2000, 12833] and step=1000, but the range is not divisible by `step`. It will be replaced by [2000, 12000].\n",
            "  warnings.warn(\n"
          ]
        },
        {
          "name": "stdout",
          "output_type": "stream",
          "text": [
            "[I 2025-06-22 18:23:15,075] Trial 7 finished with value: 0.9913812639523473 and parameters: {'n_positive_samples': 7000}. Best is trial 0 with value: 0.9934490870715471.\n"
          ]
        },
        {
          "name": "stderr",
          "output_type": "stream",
          "text": [
            "Best trial: 0. Best value: 0.993449:  18%|█▊        | 9/50 [02:44<11:33, 16.92s/it]/Users/rodrigobenitez/Library/Python/3.9/lib/python/site-packages/optuna/distributions.py:702: UserWarning: The distribution is specified by [2000, 12833] and step=1000, but the range is not divisible by `step`. It will be replaced by [2000, 12000].\n",
            "  warnings.warn(\n"
          ]
        },
        {
          "name": "stdout",
          "output_type": "stream",
          "text": [
            "[I 2025-06-22 18:23:28,002] Trial 8 finished with value: 0.9830894340562397 and parameters: {'n_positive_samples': 2000}. Best is trial 0 with value: 0.9934490870715471.\n"
          ]
        },
        {
          "name": "stderr",
          "output_type": "stream",
          "text": [
            "Best trial: 0. Best value: 0.993449:  20%|██        | 10/50 [03:05<12:02, 18.07s/it]/Users/rodrigobenitez/Library/Python/3.9/lib/python/site-packages/optuna/distributions.py:702: UserWarning: The distribution is specified by [2000, 12833] and step=1000, but the range is not divisible by `step`. It will be replaced by [2000, 12000].\n",
            "  warnings.warn(\n"
          ]
        },
        {
          "name": "stdout",
          "output_type": "stream",
          "text": [
            "[I 2025-06-22 18:23:48,630] Trial 9 finished with value: 0.9915648252637727 and parameters: {'n_positive_samples': 7000}. Best is trial 0 with value: 0.9934490870715471.\n"
          ]
        },
        {
          "name": "stderr",
          "output_type": "stream",
          "text": [
            "Best trial: 10. Best value: 0.993695:  22%|██▏       | 11/50 [03:26<12:21, 19.01s/it]/Users/rodrigobenitez/Library/Python/3.9/lib/python/site-packages/optuna/distributions.py:702: UserWarning: The distribution is specified by [2000, 12833] and step=1000, but the range is not divisible by `step`. It will be replaced by [2000, 12000].\n",
            "  warnings.warn(\n"
          ]
        },
        {
          "name": "stdout",
          "output_type": "stream",
          "text": [
            "[I 2025-06-22 18:24:09,774] Trial 10 finished with value: 0.9936945738877077 and parameters: {'n_positive_samples': 12000}. Best is trial 10 with value: 0.9936945738877077.\n"
          ]
        },
        {
          "name": "stderr",
          "output_type": "stream",
          "text": [
            "Best trial: 10. Best value: 0.993695:  24%|██▍       | 12/50 [03:48<12:42, 20.06s/it]/Users/rodrigobenitez/Library/Python/3.9/lib/python/site-packages/optuna/distributions.py:702: UserWarning: The distribution is specified by [2000, 12833] and step=1000, but the range is not divisible by `step`. It will be replaced by [2000, 12000].\n",
            "  warnings.warn(\n"
          ]
        },
        {
          "name": "stdout",
          "output_type": "stream",
          "text": [
            "[I 2025-06-22 18:24:32,233] Trial 11 finished with value: 0.9936412626121568 and parameters: {'n_positive_samples': 12000}. Best is trial 10 with value: 0.9936945738877077.\n"
          ]
        },
        {
          "name": "stderr",
          "output_type": "stream",
          "text": [
            "Best trial: 10. Best value: 0.993695:  26%|██▌       | 13/50 [04:08<12:20, 20.01s/it]/Users/rodrigobenitez/Library/Python/3.9/lib/python/site-packages/optuna/distributions.py:702: UserWarning: The distribution is specified by [2000, 12833] and step=1000, but the range is not divisible by `step`. It will be replaced by [2000, 12000].\n",
            "  warnings.warn(\n"
          ]
        },
        {
          "name": "stdout",
          "output_type": "stream",
          "text": [
            "[I 2025-06-22 18:24:52,134] Trial 12 finished with value: 0.9932045744389395 and parameters: {'n_positive_samples': 10000}. Best is trial 10 with value: 0.9936945738877077.\n"
          ]
        },
        {
          "name": "stderr",
          "output_type": "stream",
          "text": [
            "Best trial: 10. Best value: 0.993695:  28%|██▊       | 14/50 [04:32<12:42, 21.18s/it]/Users/rodrigobenitez/Library/Python/3.9/lib/python/site-packages/optuna/distributions.py:702: UserWarning: The distribution is specified by [2000, 12833] and step=1000, but the range is not divisible by `step`. It will be replaced by [2000, 12000].\n",
            "  warnings.warn(\n"
          ]
        },
        {
          "name": "stdout",
          "output_type": "stream",
          "text": [
            "[I 2025-06-22 18:25:16,010] Trial 13 finished with value: 0.9934844113879195 and parameters: {'n_positive_samples': 12000}. Best is trial 10 with value: 0.9936945738877077.\n"
          ]
        },
        {
          "name": "stderr",
          "output_type": "stream",
          "text": [
            "Best trial: 10. Best value: 0.993695:  30%|███       | 15/50 [04:52<12:11, 20.90s/it]/Users/rodrigobenitez/Library/Python/3.9/lib/python/site-packages/optuna/distributions.py:702: UserWarning: The distribution is specified by [2000, 12833] and step=1000, but the range is not divisible by `step`. It will be replaced by [2000, 12000].\n",
            "  warnings.warn(\n"
          ]
        },
        {
          "name": "stdout",
          "output_type": "stream",
          "text": [
            "[I 2025-06-22 18:25:36,259] Trial 14 finished with value: 0.9921502202417886 and parameters: {'n_positive_samples': 9000}. Best is trial 10 with value: 0.9936945738877077.\n"
          ]
        },
        {
          "name": "stderr",
          "output_type": "stream",
          "text": [
            "Best trial: 10. Best value: 0.993695:  32%|███▏      | 16/50 [05:12<11:40, 20.60s/it]/Users/rodrigobenitez/Library/Python/3.9/lib/python/site-packages/optuna/distributions.py:702: UserWarning: The distribution is specified by [2000, 12833] and step=1000, but the range is not divisible by `step`. It will be replaced by [2000, 12000].\n",
            "  warnings.warn(\n"
          ]
        },
        {
          "name": "stdout",
          "output_type": "stream",
          "text": [
            "[I 2025-06-22 18:25:56,156] Trial 15 finished with value: 0.9930178125555867 and parameters: {'n_positive_samples': 10000}. Best is trial 10 with value: 0.9936945738877077.\n"
          ]
        },
        {
          "name": "stderr",
          "output_type": "stream",
          "text": [
            "Best trial: 10. Best value: 0.993695:  34%|███▍      | 17/50 [05:29<10:39, 19.37s/it]/Users/rodrigobenitez/Library/Python/3.9/lib/python/site-packages/optuna/distributions.py:702: UserWarning: The distribution is specified by [2000, 12833] and step=1000, but the range is not divisible by `step`. It will be replaced by [2000, 12000].\n",
            "  warnings.warn(\n"
          ]
        },
        {
          "name": "stdout",
          "output_type": "stream",
          "text": [
            "[I 2025-06-22 18:26:12,658] Trial 16 finished with value: 0.989911247446171 and parameters: {'n_positive_samples': 5000}. Best is trial 10 with value: 0.9936945738877077.\n"
          ]
        },
        {
          "name": "stderr",
          "output_type": "stream",
          "text": [
            "Best trial: 10. Best value: 0.993695:  36%|███▌      | 18/50 [05:52<11:00, 20.63s/it]/Users/rodrigobenitez/Library/Python/3.9/lib/python/site-packages/optuna/distributions.py:702: UserWarning: The distribution is specified by [2000, 12833] and step=1000, but the range is not divisible by `step`. It will be replaced by [2000, 12000].\n",
            "  warnings.warn(\n"
          ]
        },
        {
          "name": "stdout",
          "output_type": "stream",
          "text": [
            "[I 2025-06-22 18:26:36,246] Trial 17 finished with value: 0.9936439152881469 and parameters: {'n_positive_samples': 12000}. Best is trial 10 with value: 0.9936945738877077.\n"
          ]
        },
        {
          "name": "stderr",
          "output_type": "stream",
          "text": [
            "Best trial: 10. Best value: 0.993695:  38%|███▊      | 19/50 [06:12<10:32, 20.40s/it]/Users/rodrigobenitez/Library/Python/3.9/lib/python/site-packages/optuna/distributions.py:702: UserWarning: The distribution is specified by [2000, 12833] and step=1000, but the range is not divisible by `step`. It will be replaced by [2000, 12000].\n",
            "  warnings.warn(\n"
          ]
        },
        {
          "name": "stdout",
          "output_type": "stream",
          "text": [
            "[I 2025-06-22 18:26:56,086] Trial 18 finished with value: 0.992888820033939 and parameters: {'n_positive_samples': 10000}. Best is trial 10 with value: 0.9936945738877077.\n"
          ]
        },
        {
          "name": "stderr",
          "output_type": "stream",
          "text": [
            "Best trial: 19. Best value: 0.993792:  40%|████      | 20/50 [06:33<10:16, 20.54s/it]/Users/rodrigobenitez/Library/Python/3.9/lib/python/site-packages/optuna/distributions.py:702: UserWarning: The distribution is specified by [2000, 12833] and step=1000, but the range is not divisible by `step`. It will be replaced by [2000, 12000].\n",
            "  warnings.warn(\n"
          ]
        },
        {
          "name": "stdout",
          "output_type": "stream",
          "text": [
            "[I 2025-06-22 18:27:16,970] Trial 19 finished with value: 0.9937916796292349 and parameters: {'n_positive_samples': 11000}. Best is trial 19 with value: 0.9937916796292349.\n"
          ]
        },
        {
          "name": "stderr",
          "output_type": "stream",
          "text": [
            "Best trial: 19. Best value: 0.993792:  42%|████▏     | 21/50 [06:54<10:01, 20.76s/it]/Users/rodrigobenitez/Library/Python/3.9/lib/python/site-packages/optuna/distributions.py:702: UserWarning: The distribution is specified by [2000, 12833] and step=1000, but the range is not divisible by `step`. It will be replaced by [2000, 12000].\n",
            "  warnings.warn(\n"
          ]
        },
        {
          "name": "stdout",
          "output_type": "stream",
          "text": [
            "[I 2025-06-22 18:27:38,233] Trial 20 finished with value: 0.9925002897543024 and parameters: {'n_positive_samples': 9000}. Best is trial 19 with value: 0.9937916796292349.\n"
          ]
        },
        {
          "name": "stderr",
          "output_type": "stream",
          "text": [
            "Best trial: 19. Best value: 0.993792:  44%|████▍     | 22/50 [07:15<09:41, 20.78s/it]/Users/rodrigobenitez/Library/Python/3.9/lib/python/site-packages/optuna/distributions.py:702: UserWarning: The distribution is specified by [2000, 12833] and step=1000, but the range is not divisible by `step`. It will be replaced by [2000, 12000].\n",
            "  warnings.warn(\n"
          ]
        },
        {
          "name": "stdout",
          "output_type": "stream",
          "text": [
            "[I 2025-06-22 18:27:59,066] Trial 21 finished with value: 0.9931049232887105 and parameters: {'n_positive_samples': 11000}. Best is trial 19 with value: 0.9937916796292349.\n"
          ]
        },
        {
          "name": "stderr",
          "output_type": "stream",
          "text": [
            "Best trial: 19. Best value: 0.993792:  46%|████▌     | 23/50 [07:38<09:40, 21.52s/it]/Users/rodrigobenitez/Library/Python/3.9/lib/python/site-packages/optuna/distributions.py:702: UserWarning: The distribution is specified by [2000, 12833] and step=1000, but the range is not divisible by `step`. It will be replaced by [2000, 12000].\n",
            "  warnings.warn(\n"
          ]
        },
        {
          "name": "stdout",
          "output_type": "stream",
          "text": [
            "[I 2025-06-22 18:28:22,296] Trial 22 finished with value: 0.9932807878487269 and parameters: {'n_positive_samples': 11000}. Best is trial 19 with value: 0.9937916796292349.\n"
          ]
        },
        {
          "name": "stderr",
          "output_type": "stream",
          "text": [
            "Best trial: 23. Best value: 0.993802:  48%|████▊     | 24/50 [08:02<09:40, 22.32s/it]/Users/rodrigobenitez/Library/Python/3.9/lib/python/site-packages/optuna/distributions.py:702: UserWarning: The distribution is specified by [2000, 12833] and step=1000, but the range is not divisible by `step`. It will be replaced by [2000, 12000].\n",
            "  warnings.warn(\n"
          ]
        },
        {
          "name": "stdout",
          "output_type": "stream",
          "text": [
            "[I 2025-06-22 18:28:46,488] Trial 23 finished with value: 0.9938018815623153 and parameters: {'n_positive_samples': 12000}. Best is trial 23 with value: 0.9938018815623153.\n"
          ]
        },
        {
          "name": "stderr",
          "output_type": "stream",
          "text": [
            "Best trial: 23. Best value: 0.993802:  50%|█████     | 25/50 [08:23<09:04, 21.76s/it]/Users/rodrigobenitez/Library/Python/3.9/lib/python/site-packages/optuna/distributions.py:702: UserWarning: The distribution is specified by [2000, 12833] and step=1000, but the range is not divisible by `step`. It will be replaced by [2000, 12000].\n",
            "  warnings.warn(\n"
          ]
        },
        {
          "name": "stdout",
          "output_type": "stream",
          "text": [
            "[I 2025-06-22 18:29:06,950] Trial 24 finished with value: 0.9935628500235018 and parameters: {'n_positive_samples': 11000}. Best is trial 23 with value: 0.9938018815623153.\n"
          ]
        },
        {
          "name": "stderr",
          "output_type": "stream",
          "text": [
            "Best trial: 23. Best value: 0.993802:  52%|█████▏    | 26/50 [08:40<08:10, 20.43s/it]/Users/rodrigobenitez/Library/Python/3.9/lib/python/site-packages/optuna/distributions.py:702: UserWarning: The distribution is specified by [2000, 12833] and step=1000, but the range is not divisible by `step`. It will be replaced by [2000, 12000].\n",
            "  warnings.warn(\n"
          ]
        },
        {
          "name": "stdout",
          "output_type": "stream",
          "text": [
            "[I 2025-06-22 18:29:24,270] Trial 25 finished with value: 0.9926451188282719 and parameters: {'n_positive_samples': 8000}. Best is trial 23 with value: 0.9938018815623153.\n"
          ]
        },
        {
          "name": "stderr",
          "output_type": "stream",
          "text": [
            "Best trial: 23. Best value: 0.993802:  54%|█████▍    | 27/50 [08:57<07:28, 19.48s/it]/Users/rodrigobenitez/Library/Python/3.9/lib/python/site-packages/optuna/distributions.py:702: UserWarning: The distribution is specified by [2000, 12833] and step=1000, but the range is not divisible by `step`. It will be replaced by [2000, 12000].\n",
            "  warnings.warn(\n"
          ]
        },
        {
          "name": "stdout",
          "output_type": "stream",
          "text": [
            "[I 2025-06-22 18:29:41,537] Trial 26 finished with value: 0.9897758319367252 and parameters: {'n_positive_samples': 5000}. Best is trial 23 with value: 0.9938018815623153.\n"
          ]
        },
        {
          "name": "stderr",
          "output_type": "stream",
          "text": [
            "Best trial: 23. Best value: 0.993802:  56%|█████▌    | 28/50 [09:19<07:20, 20.01s/it]/Users/rodrigobenitez/Library/Python/3.9/lib/python/site-packages/optuna/distributions.py:702: UserWarning: The distribution is specified by [2000, 12833] and step=1000, but the range is not divisible by `step`. It will be replaced by [2000, 12000].\n",
            "  warnings.warn(\n"
          ]
        },
        {
          "name": "stdout",
          "output_type": "stream",
          "text": [
            "[I 2025-06-22 18:30:02,772] Trial 27 finished with value: 0.9931409495848753 and parameters: {'n_positive_samples': 10000}. Best is trial 23 with value: 0.9938018815623153.\n"
          ]
        },
        {
          "name": "stderr",
          "output_type": "stream",
          "text": [
            "Best trial: 23. Best value: 0.993802:  58%|█████▊    | 29/50 [09:42<07:19, 20.92s/it]/Users/rodrigobenitez/Library/Python/3.9/lib/python/site-packages/optuna/distributions.py:702: UserWarning: The distribution is specified by [2000, 12833] and step=1000, but the range is not divisible by `step`. It will be replaced by [2000, 12000].\n",
            "  warnings.warn(\n"
          ]
        },
        {
          "name": "stdout",
          "output_type": "stream",
          "text": [
            "[I 2025-06-22 18:30:25,832] Trial 28 finished with value: 0.993435622531082 and parameters: {'n_positive_samples': 12000}. Best is trial 23 with value: 0.9938018815623153.\n"
          ]
        },
        {
          "name": "stderr",
          "output_type": "stream",
          "text": [
            "Best trial: 23. Best value: 0.993802:  60%|██████    | 30/50 [10:03<07:02, 21.13s/it]/Users/rodrigobenitez/Library/Python/3.9/lib/python/site-packages/optuna/distributions.py:702: UserWarning: The distribution is specified by [2000, 12833] and step=1000, but the range is not divisible by `step`. It will be replaced by [2000, 12000].\n",
            "  warnings.warn(\n"
          ]
        },
        {
          "name": "stdout",
          "output_type": "stream",
          "text": [
            "[I 2025-06-22 18:30:47,435] Trial 29 finished with value: 0.9935064707952673 and parameters: {'n_positive_samples': 11000}. Best is trial 23 with value: 0.9938018815623153.\n"
          ]
        },
        {
          "name": "stderr",
          "output_type": "stream",
          "text": [
            "Best trial: 23. Best value: 0.993802:  62%|██████▏   | 31/50 [10:22<06:27, 20.41s/it]/Users/rodrigobenitez/Library/Python/3.9/lib/python/site-packages/optuna/distributions.py:702: UserWarning: The distribution is specified by [2000, 12833] and step=1000, but the range is not divisible by `step`. It will be replaced by [2000, 12000].\n",
            "  warnings.warn(\n"
          ]
        },
        {
          "name": "stdout",
          "output_type": "stream",
          "text": [
            "[I 2025-06-22 18:31:06,174] Trial 30 finished with value: 0.9923352478566944 and parameters: {'n_positive_samples': 8000}. Best is trial 23 with value: 0.9938018815623153.\n"
          ]
        },
        {
          "name": "stderr",
          "output_type": "stream",
          "text": [
            "Best trial: 23. Best value: 0.993802:  64%|██████▍   | 32/50 [10:46<06:26, 21.46s/it]/Users/rodrigobenitez/Library/Python/3.9/lib/python/site-packages/optuna/distributions.py:702: UserWarning: The distribution is specified by [2000, 12833] and step=1000, but the range is not divisible by `step`. It will be replaced by [2000, 12000].\n",
            "  warnings.warn(\n"
          ]
        },
        {
          "name": "stdout",
          "output_type": "stream",
          "text": [
            "[I 2025-06-22 18:31:30,067] Trial 31 finished with value: 0.9934291881319375 and parameters: {'n_positive_samples': 12000}. Best is trial 23 with value: 0.9938018815623153.\n"
          ]
        },
        {
          "name": "stderr",
          "output_type": "stream",
          "text": [
            "Best trial: 23. Best value: 0.993802:  66%|██████▌   | 33/50 [11:10<06:17, 22.21s/it]/Users/rodrigobenitez/Library/Python/3.9/lib/python/site-packages/optuna/distributions.py:702: UserWarning: The distribution is specified by [2000, 12833] and step=1000, but the range is not divisible by `step`. It will be replaced by [2000, 12000].\n",
            "  warnings.warn(\n"
          ]
        },
        {
          "name": "stdout",
          "output_type": "stream",
          "text": [
            "[I 2025-06-22 18:31:54,049] Trial 32 finished with value: 0.9933790063255643 and parameters: {'n_positive_samples': 12000}. Best is trial 23 with value: 0.9938018815623153.\n"
          ]
        },
        {
          "name": "stderr",
          "output_type": "stream",
          "text": [
            "Best trial: 23. Best value: 0.993802:  68%|██████▊   | 34/50 [11:32<05:53, 22.07s/it]/Users/rodrigobenitez/Library/Python/3.9/lib/python/site-packages/optuna/distributions.py:702: UserWarning: The distribution is specified by [2000, 12833] and step=1000, but the range is not divisible by `step`. It will be replaced by [2000, 12000].\n",
            "  warnings.warn(\n"
          ]
        },
        {
          "name": "stdout",
          "output_type": "stream",
          "text": [
            "[I 2025-06-22 18:32:15,801] Trial 33 finished with value: 0.9933951998465818 and parameters: {'n_positive_samples': 11000}. Best is trial 23 with value: 0.9938018815623153.\n"
          ]
        },
        {
          "name": "stderr",
          "output_type": "stream",
          "text": [
            "Best trial: 23. Best value: 0.993802:  70%|███████   | 35/50 [11:52<05:24, 21.63s/it]/Users/rodrigobenitez/Library/Python/3.9/lib/python/site-packages/optuna/distributions.py:702: UserWarning: The distribution is specified by [2000, 12833] and step=1000, but the range is not divisible by `step`. It will be replaced by [2000, 12000].\n",
            "  warnings.warn(\n"
          ]
        },
        {
          "name": "stdout",
          "output_type": "stream",
          "text": [
            "[I 2025-06-22 18:32:36,394] Trial 34 finished with value: 0.9932051678339343 and parameters: {'n_positive_samples': 10000}. Best is trial 23 with value: 0.9938018815623153.\n"
          ]
        },
        {
          "name": "stderr",
          "output_type": "stream",
          "text": [
            "Best trial: 23. Best value: 0.993802:  72%|███████▏  | 36/50 [12:14<05:03, 21.68s/it]/Users/rodrigobenitez/Library/Python/3.9/lib/python/site-packages/optuna/distributions.py:702: UserWarning: The distribution is specified by [2000, 12833] and step=1000, but the range is not divisible by `step`. It will be replaced by [2000, 12000].\n",
            "  warnings.warn(\n"
          ]
        },
        {
          "name": "stdout",
          "output_type": "stream",
          "text": [
            "[I 2025-06-22 18:32:58,177] Trial 35 finished with value: 0.9936947100166382 and parameters: {'n_positive_samples': 12000}. Best is trial 23 with value: 0.9938018815623153.\n"
          ]
        },
        {
          "name": "stderr",
          "output_type": "stream",
          "text": [
            "Best trial: 23. Best value: 0.993802:  74%|███████▍  | 37/50 [12:37<04:47, 22.15s/it]/Users/rodrigobenitez/Library/Python/3.9/lib/python/site-packages/optuna/distributions.py:702: UserWarning: The distribution is specified by [2000, 12833] and step=1000, but the range is not divisible by `step`. It will be replaced by [2000, 12000].\n",
            "  warnings.warn(\n"
          ]
        },
        {
          "name": "stdout",
          "output_type": "stream",
          "text": [
            "[I 2025-06-22 18:33:21,420] Trial 36 finished with value: 0.9937342876607651 and parameters: {'n_positive_samples': 11000}. Best is trial 23 with value: 0.9938018815623153.\n"
          ]
        },
        {
          "name": "stderr",
          "output_type": "stream",
          "text": [
            "Best trial: 23. Best value: 0.993802:  76%|███████▌  | 38/50 [12:55<04:09, 20.80s/it]/Users/rodrigobenitez/Library/Python/3.9/lib/python/site-packages/optuna/distributions.py:702: UserWarning: The distribution is specified by [2000, 12833] and step=1000, but the range is not divisible by `step`. It will be replaced by [2000, 12000].\n",
            "  warnings.warn(\n"
          ]
        },
        {
          "name": "stdout",
          "output_type": "stream",
          "text": [
            "[I 2025-06-22 18:33:39,095] Trial 37 finished with value: 0.9926452993033742 and parameters: {'n_positive_samples': 8000}. Best is trial 23 with value: 0.9938018815623153.\n"
          ]
        },
        {
          "name": "stderr",
          "output_type": "stream",
          "text": [
            "Best trial: 23. Best value: 0.993802:  78%|███████▊  | 39/50 [13:14<03:42, 20.24s/it]/Users/rodrigobenitez/Library/Python/3.9/lib/python/site-packages/optuna/distributions.py:702: UserWarning: The distribution is specified by [2000, 12833] and step=1000, but the range is not divisible by `step`. It will be replaced by [2000, 12000].\n",
            "  warnings.warn(\n"
          ]
        },
        {
          "name": "stdout",
          "output_type": "stream",
          "text": [
            "[I 2025-06-22 18:33:58,022] Trial 38 finished with value: 0.9916558176525753 and parameters: {'n_positive_samples': 9000}. Best is trial 23 with value: 0.9938018815623153.\n"
          ]
        },
        {
          "name": "stderr",
          "output_type": "stream",
          "text": [
            "Best trial: 23. Best value: 0.993802:  80%|████████  | 40/50 [13:35<03:26, 20.63s/it]/Users/rodrigobenitez/Library/Python/3.9/lib/python/site-packages/optuna/distributions.py:702: UserWarning: The distribution is specified by [2000, 12833] and step=1000, but the range is not divisible by `step`. It will be replaced by [2000, 12000].\n",
            "  warnings.warn(\n"
          ]
        },
        {
          "name": "stdout",
          "output_type": "stream",
          "text": [
            "[I 2025-06-22 18:34:19,547] Trial 39 finished with value: 0.9936779492566 and parameters: {'n_positive_samples': 11000}. Best is trial 23 with value: 0.9938018815623153.\n"
          ]
        },
        {
          "name": "stderr",
          "output_type": "stream",
          "text": [
            "Best trial: 23. Best value: 0.993802:  82%|████████▏ | 41/50 [13:55<03:02, 20.26s/it]/Users/rodrigobenitez/Library/Python/3.9/lib/python/site-packages/optuna/distributions.py:702: UserWarning: The distribution is specified by [2000, 12833] and step=1000, but the range is not divisible by `step`. It will be replaced by [2000, 12000].\n",
            "  warnings.warn(\n"
          ]
        },
        {
          "name": "stdout",
          "output_type": "stream",
          "text": [
            "[I 2025-06-22 18:34:38,964] Trial 40 finished with value: 0.9918707947529407 and parameters: {'n_positive_samples': 9000}. Best is trial 23 with value: 0.9938018815623153.\n"
          ]
        },
        {
          "name": "stderr",
          "output_type": "stream",
          "text": [
            "Best trial: 23. Best value: 0.993802:  84%|████████▍ | 42/50 [14:15<02:41, 20.25s/it]/Users/rodrigobenitez/Library/Python/3.9/lib/python/site-packages/optuna/distributions.py:702: UserWarning: The distribution is specified by [2000, 12833] and step=1000, but the range is not divisible by `step`. It will be replaced by [2000, 12000].\n",
            "  warnings.warn(\n"
          ]
        },
        {
          "name": "stdout",
          "output_type": "stream",
          "text": [
            "[I 2025-06-22 18:34:59,170] Trial 41 finished with value: 0.9933922483187267 and parameters: {'n_positive_samples': 11000}. Best is trial 23 with value: 0.9938018815623153.\n"
          ]
        },
        {
          "name": "stderr",
          "output_type": "stream",
          "text": [
            "Best trial: 23. Best value: 0.993802:  86%|████████▌ | 43/50 [14:36<02:23, 20.48s/it]/Users/rodrigobenitez/Library/Python/3.9/lib/python/site-packages/optuna/distributions.py:702: UserWarning: The distribution is specified by [2000, 12833] and step=1000, but the range is not divisible by `step`. It will be replaced by [2000, 12000].\n",
            "  warnings.warn(\n"
          ]
        },
        {
          "name": "stdout",
          "output_type": "stream",
          "text": [
            "[I 2025-06-22 18:35:20,192] Trial 42 finished with value: 0.9936434227439156 and parameters: {'n_positive_samples': 12000}. Best is trial 23 with value: 0.9938018815623153.\n"
          ]
        },
        {
          "name": "stderr",
          "output_type": "stream",
          "text": [
            "Best trial: 23. Best value: 0.993802:  88%|████████▊ | 44/50 [14:56<02:01, 20.31s/it]/Users/rodrigobenitez/Library/Python/3.9/lib/python/site-packages/optuna/distributions.py:702: UserWarning: The distribution is specified by [2000, 12833] and step=1000, but the range is not divisible by `step`. It will be replaced by [2000, 12000].\n",
            "  warnings.warn(\n"
          ]
        },
        {
          "name": "stdout",
          "output_type": "stream",
          "text": [
            "[I 2025-06-22 18:35:40,103] Trial 43 finished with value: 0.9931055929373158 and parameters: {'n_positive_samples': 11000}. Best is trial 23 with value: 0.9938018815623153.\n"
          ]
        },
        {
          "name": "stderr",
          "output_type": "stream",
          "text": [
            "Best trial: 23. Best value: 0.993802:  90%|█████████ | 45/50 [15:19<01:44, 20.99s/it]/Users/rodrigobenitez/Library/Python/3.9/lib/python/site-packages/optuna/distributions.py:702: UserWarning: The distribution is specified by [2000, 12833] and step=1000, but the range is not divisible by `step`. It will be replaced by [2000, 12000].\n",
            "  warnings.warn(\n"
          ]
        },
        {
          "name": "stdout",
          "output_type": "stream",
          "text": [
            "[I 2025-06-22 18:36:02,670] Trial 44 finished with value: 0.9936964226380752 and parameters: {'n_positive_samples': 12000}. Best is trial 23 with value: 0.9938018815623153.\n"
          ]
        },
        {
          "name": "stderr",
          "output_type": "stream",
          "text": [
            "Best trial: 23. Best value: 0.993802:  92%|█████████▏| 46/50 [15:38<01:21, 20.41s/it]/Users/rodrigobenitez/Library/Python/3.9/lib/python/site-packages/optuna/distributions.py:702: UserWarning: The distribution is specified by [2000, 12833] and step=1000, but the range is not divisible by `step`. It will be replaced by [2000, 12000].\n",
            "  warnings.warn(\n"
          ]
        },
        {
          "name": "stdout",
          "output_type": "stream",
          "text": [
            "[I 2025-06-22 18:36:21,720] Trial 45 finished with value: 0.992763785985251 and parameters: {'n_positive_samples': 10000}. Best is trial 23 with value: 0.9938018815623153.\n"
          ]
        },
        {
          "name": "stderr",
          "output_type": "stream",
          "text": [
            "Best trial: 23. Best value: 0.993802:  94%|█████████▍| 47/50 [15:59<01:01, 20.56s/it]/Users/rodrigobenitez/Library/Python/3.9/lib/python/site-packages/optuna/distributions.py:702: UserWarning: The distribution is specified by [2000, 12833] and step=1000, but the range is not divisible by `step`. It will be replaced by [2000, 12000].\n",
            "  warnings.warn(\n"
          ]
        },
        {
          "name": "stdout",
          "output_type": "stream",
          "text": [
            "[I 2025-06-22 18:36:42,652] Trial 46 finished with value: 0.993010485363293 and parameters: {'n_positive_samples': 12000}. Best is trial 23 with value: 0.9938018815623153.\n"
          ]
        },
        {
          "name": "stderr",
          "output_type": "stream",
          "text": [
            "Best trial: 23. Best value: 0.993802:  96%|█████████▌| 48/50 [16:15<00:38, 19.20s/it]/Users/rodrigobenitez/Library/Python/3.9/lib/python/site-packages/optuna/distributions.py:702: UserWarning: The distribution is specified by [2000, 12833] and step=1000, but the range is not divisible by `step`. It will be replaced by [2000, 12000].\n",
            "  warnings.warn(\n"
          ]
        },
        {
          "name": "stdout",
          "output_type": "stream",
          "text": [
            "[I 2025-06-22 18:36:58,663] Trial 47 finished with value: 0.9911134237652034 and parameters: {'n_positive_samples': 6000}. Best is trial 23 with value: 0.9938018815623153.\n"
          ]
        },
        {
          "name": "stderr",
          "output_type": "stream",
          "text": [
            "Best trial: 23. Best value: 0.993802:  98%|█████████▊| 49/50 [16:28<00:17, 17.52s/it]/Users/rodrigobenitez/Library/Python/3.9/lib/python/site-packages/optuna/distributions.py:702: UserWarning: The distribution is specified by [2000, 12833] and step=1000, but the range is not divisible by `step`. It will be replaced by [2000, 12000].\n",
            "  warnings.warn(\n"
          ]
        },
        {
          "name": "stdout",
          "output_type": "stream",
          "text": [
            "[I 2025-06-22 18:37:12,262] Trial 48 finished with value: 0.9817889610304043 and parameters: {'n_positive_samples': 2000}. Best is trial 23 with value: 0.9938018815623153.\n"
          ]
        },
        {
          "name": "stderr",
          "output_type": "stream",
          "text": [
            "Best trial: 23. Best value: 0.993802: 100%|██████████| 50/50 [16:50<00:00, 20.21s/it]"
          ]
        },
        {
          "name": "stdout",
          "output_type": "stream",
          "text": [
            "[I 2025-06-22 18:37:33,939] Trial 49 finished with value: 0.9936419857098386 and parameters: {'n_positive_samples': 12000}. Best is trial 23 with value: 0.9938018815623153.\n",
            "\n",
            "Optimization completed!\n",
            "Best trial number: 23\n",
            "Best F1-score: 0.9938\n",
            "Best n_positive_samples found:\n",
            "  n_positive_samples: 12000\n",
            "\n",
            "XGBoost hyperparameters used (fixed):\n"
          ]
        },
        {
          "name": "stderr",
          "output_type": "stream",
          "text": [
            "\n"
          ]
        }
      ],
      "source": [
        "print(\"Starting optimization of n_positive_samples with Optuna and XGBoost...\")\n",
        "study = optuna.create_study(direction='maximize')\n",
        "study.optimize(objective, n_trials=50, show_progress_bar=True)\n",
        "\n",
        "print(\"\\nOptimization completed!\")\n",
        "print(f\"Best trial number: {study.best_trial.number}\")\n",
        "print(f\"Best F1-score: {study.best_value:.4f}\")\n",
        "print(\"Best n_positive_samples found:\")\n",
        "print(f\"  n_positive_samples: {study.best_params['n_positive_samples']}\")\n",
        "print(\"\\nXGBoost hyperparameters used (fixed):\")"
      ]
    },
    {
      "cell_type": "code",
      "execution_count": 58,
      "metadata": {},
      "outputs": [
        {
          "data": {
            "text/plain": [
              "{'n_positive_samples': 12000}"
            ]
          },
          "execution_count": 58,
          "metadata": {},
          "output_type": "execute_result"
        }
      ],
      "source": [
        "study.best_params"
      ]
    },
    {
      "cell_type": "code",
      "execution_count": 59,
      "metadata": {},
      "outputs": [
        {
          "name": "stdout",
          "output_type": "stream",
          "text": [
            "Optimized XGBoost model trained successfully with best parameters!\n",
            "Best n_positive_samples: 12000\n",
            "XGBoost hyperparameters used (fixed):\n",
            "  n_estimators: 90\n",
            "  max_depth: 12\n",
            "  learning_rate: 0.29700570855152436\n",
            "  subsample: 0.559334601997334\n",
            "  colsample_bytree: 0.7679733701856468\n",
            "  gamma: 0.019147842199662257\n",
            "  reg_alpha: 2.2123438853979347\n",
            "  reg_lambda: 4.657179995343226\n",
            "  eval_metric: logloss\n"
          ]
        }
      ],
      "source": [
        "# Train the final model with the best n_positive_samples (from Optuna)\n",
        "best_params = study.best_params\n",
        "\n",
        "# Re-prepare the data using the best n_positive_samples\n",
        "final_n_positive_samples = best_params['n_positive_samples']\n",
        "final_current_positive_patches = positive_patches[:final_n_positive_samples]\n",
        "\n",
        "# Combine positive and negative patches to form the full dataset\n",
        "X_final_full = np.array([feature.hog(im) for im in chain(final_current_positive_patches, negative_patches)])\n",
        "y_final_full = np.zeros(len(X_final_full))\n",
        "y_final_full[:len(final_current_positive_patches)] = 1\n",
        "\n",
        "# Split data into training and validation sets\n",
        "X_train_final, X_val_final, y_train_final, y_val_final = train_test_split(X_final_full, y_final_full, test_size=0.2, random_state=42)\n",
        "\n",
        "# Scale the features\n",
        "scaler_final = StandardScaler()\n",
        "X_train_std_final = scaler_final.fit_transform(X_train_final)\n",
        "X_val_std_final = scaler_final.transform(X_val_final) # Scale validation data too\n",
        "\n",
        "# Apply PCA (fixed parameters: 500 components, whiten=True)\n",
        "pca_final = PCA(n_components=500, whiten=True)\n",
        "X_train_pca_final = pca_final.fit_transform(X_train_std_final)\n",
        "X_val_pca_final = pca_final.transform(X_val_std_final) # Transform validation data\n",
        "\n",
        "# XGBoost hyperparameters (fixed)\n",
        "xgb_params = {\n",
        "    'n_estimators': 90,\n",
        "    'max_depth': 12,\n",
        "    'learning_rate': 0.29700570855152436,\n",
        "    'subsample': 0.559334601997334,\n",
        "    'colsample_bytree': 0.7679733701856468,\n",
        "    'gamma': 0.019147842199662257,\n",
        "    'reg_alpha': 2.2123438853979347,\n",
        "    'reg_lambda': 4.657179995343226,\n",
        "    'eval_metric': 'logloss'\n",
        "}\n",
        "\n",
        "# Create and train XGBoost model with the best n_positive_samples\n",
        "model_optimized = xgb.XGBClassifier(**xgb_params, n_jobs=-1, random_state=42)\n",
        "model_optimized.fit(X_train_pca_final, y_train_final)\n",
        "\n",
        "print(\"Optimized XGBoost model trained successfully with best parameters!\")\n",
        "print(f\"Best n_positive_samples: {best_params['n_positive_samples']}\")\n",
        "print(\"XGBoost hyperparameters used (fixed):\")\n",
        "for key, value in xgb_params.items():\n",
        "    print(f\"  {key}: {value}\")"
      ]
    },
    {
      "cell_type": "code",
      "execution_count": 83,
      "metadata": {},
      "outputs": [
        {
          "data": {
            "text/plain": [
              "'/Users/rodrigobenitez/Documents/GitHub/ORT-AI/ML para AI/Obligatorio'"
            ]
          },
          "execution_count": 83,
          "metadata": {},
          "output_type": "execute_result"
        }
      ],
      "source": [
        "os.getcwd()"
      ]
    },
    {
      "cell_type": "code",
      "execution_count": 60,
      "metadata": {},
      "outputs": [
        {
          "data": {
            "text/plain": [
              "['models/scaler_optuna.joblib']"
            ]
          },
          "execution_count": 60,
          "metadata": {},
          "output_type": "execute_result"
        }
      ],
      "source": [
        "joblib.dump(scaler_final ,'models/scaler_optuna.joblib')"
      ]
    },
    {
      "cell_type": "code",
      "execution_count": 61,
      "metadata": {},
      "outputs": [
        {
          "data": {
            "text/plain": [
              "['models/pca_optuna.joblib']"
            ]
          },
          "execution_count": 61,
          "metadata": {},
          "output_type": "execute_result"
        }
      ],
      "source": [
        "joblib.dump(pca_final ,'models/pca_optuna.joblib')"
      ]
    },
    {
      "cell_type": "code",
      "execution_count": 62,
      "metadata": {},
      "outputs": [
        {
          "data": {
            "text/plain": [
              "['models/XGBoost_optuna.joblib']"
            ]
          },
          "execution_count": 62,
          "metadata": {},
          "output_type": "execute_result"
        }
      ],
      "source": [
        "joblib.dump(model_optimized ,'models/XGBoost_optuna.joblib')"
      ]
    }
  ],
  "metadata": {
    "colab": {
      "provenance": []
    },
    "kernelspec": {
      "display_name": "Python 3",
      "language": "python",
      "name": "python3"
    },
    "language_info": {
      "codemirror_mode": {
        "name": "ipython",
        "version": 3
      },
      "file_extension": ".py",
      "mimetype": "text/x-python",
      "name": "python",
      "nbconvert_exporter": "python",
      "pygments_lexer": "ipython3",
      "version": "3.9.6"
    }
  },
  "nbformat": 4,
  "nbformat_minor": 0
}
