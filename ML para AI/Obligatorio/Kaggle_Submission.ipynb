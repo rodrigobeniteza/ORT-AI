{
  "cells": [
    {
      "cell_type": "code",
      "execution_count": 1,
      "metadata": {
        "id": "iLY9epq0BQGr"
      },
      "outputs": [],
      "source": [
        "#!unzip Test.zip"
      ]
    },
    {
      "cell_type": "code",
      "execution_count": 2,
      "metadata": {
        "id": "B9fY5qdDg-Tw"
      },
      "outputs": [],
      "source": [
        "import os\n",
        "from tqdm import tqdm\n",
        "import numpy as np\n",
        "import pandas as pd\n",
        "import matplotlib.pyplot as plt\n",
        "from skimage.transform import resize \n"
      ]
    },
    {
      "cell_type": "code",
      "execution_count": 3,
      "metadata": {
        "id": "DkX5RsTfmh4v"
      },
      "outputs": [],
      "source": [
        "suffix = '.pgm'\n",
        "kaggle_files = os.listdir('Test')\n",
        "pgm_kaggle_files = [filename for filename in kaggle_files if filename.endswith(suffix)]"
      ]
    },
    {
      "cell_type": "code",
      "execution_count": 4,
      "metadata": {
        "id": "S-NPCmx0pnF5"
      },
      "outputs": [
        {
          "data": {
            "text/plain": [
              "8000"
            ]
          },
          "execution_count": 4,
          "metadata": {},
          "output_type": "execute_result"
        }
      ],
      "source": [
        "len(pgm_kaggle_files)"
      ]
    },
    {
      "cell_type": "code",
      "execution_count": 5,
      "metadata": {
        "id": "tOhNJwR4mh4w"
      },
      "outputs": [
        {
          "name": "stderr",
          "output_type": "stream",
          "text": [
            "100%|██████████| 8000/8000 [00:04<00:00, 1967.39it/s]\n"
          ]
        }
      ],
      "source": [
        "IMG_SIZE = (64, 64)  # Tamaño al que se redimensionarán las imágenes\n",
        "\n",
        "kaggle_patches = []\n",
        "for filename in tqdm(pgm_kaggle_files):\n",
        "  path = 'Test/' + filename\n",
        "  with open(path, 'rb') as pgmf:\n",
        "      image = plt.imread(pgmf)\n",
        "      img_resized = resize(image, IMG_SIZE, anti_aliasing=True)\n",
        "      kaggle_patches.append(img_resized.flatten())"
      ]
    },
    {
      "cell_type": "code",
      "execution_count": 6,
      "metadata": {},
      "outputs": [
        {
          "data": {
            "text/plain": [
              "(4096,)"
            ]
          },
          "execution_count": 6,
          "metadata": {},
          "output_type": "execute_result"
        }
      ],
      "source": [
        "kaggle_patches[1].shape"
      ]
    },
    {
      "cell_type": "code",
      "execution_count": 7,
      "metadata": {
        "id": "w13NetjrmJvq"
      },
      "outputs": [
        {
          "name": "stderr",
          "output_type": "stream",
          "text": [
            "100%|██████████| 8000/8000 [00:00<00:00, 6633932.78it/s]\n"
          ]
        }
      ],
      "source": [
        "pgm_kaggle_files_id = []\n",
        "\n",
        "for filename in tqdm(pgm_kaggle_files):\n",
        "  pgm_kaggle_files_id.append(filename[5:-4])"
      ]
    },
    {
      "cell_type": "code",
      "execution_count": 8,
      "metadata": {},
      "outputs": [],
      "source": [
        "import joblib"
      ]
    },
    {
      "cell_type": "code",
      "execution_count": 9,
      "metadata": {
        "id": "sQCOSbNDALGq"
      },
      "outputs": [],
      "source": [
        "# Aquí debe utilizar su modelo\n",
        "model = joblib.load('models/knn_model.joblib')"
      ]
    },
    {
      "cell_type": "code",
      "execution_count": 10,
      "metadata": {
        "id": "_d6CKa_NomWo"
      },
      "outputs": [
        {
          "name": "stderr",
          "output_type": "stream",
          "text": [
            "100%|██████████| 8000/8000 [00:02<00:00, 3109.55it/s]\n"
          ]
        }
      ],
      "source": [
        "from skimage import feature\n",
        "\n",
        "# Aquí debe procesar las imagenes de pgm_kaggle_files\n",
        "X_kag = []\n",
        "\n",
        "suffix = '.pgm'\n",
        "dir = os.listdir('Test/')\n",
        "pgm_files = [filename for filename in dir if filename.endswith(suffix)]\n",
        "\n",
        "for filename in tqdm(pgm_files):\n",
        "    path = 'Test/' + filename\n",
        "    with open (path, 'rb') as pgmf:\n",
        "        image = plt.imread(pgmf)\n",
        "        img_resized = resize(image, IMG_SIZE, anti_aliasing=True)\n",
        "        X_kag.append(img_resized.flatten())\n",
        "     \n",
        "X = np.array(X_kag)"
      ]
    },
    {
      "cell_type": "code",
      "execution_count": 11,
      "metadata": {},
      "outputs": [
        {
          "data": {
            "text/plain": [
              "(8000, 4096)"
            ]
          },
          "execution_count": 11,
          "metadata": {},
          "output_type": "execute_result"
        }
      ],
      "source": [
        "X.shape"
      ]
    },
    {
      "cell_type": "code",
      "execution_count": 12,
      "metadata": {},
      "outputs": [
        {
          "data": {
            "text/plain": [
              "array([[0.47843137, 0.47843137, 0.47058824, ..., 0.1372549 , 0.13333333,\n",
              "        0.13333333],\n",
              "       [0.15686275, 0.15294118, 0.15294118, ..., 0.17254902, 0.16862745,\n",
              "        0.16470588],\n",
              "       [0.74901961, 0.75686275, 0.77254902, ..., 0.58823529, 0.50980392,\n",
              "        0.41176471],\n",
              "       ...,\n",
              "       [0.4       , 0.4       , 0.4       , ..., 0.63529412, 0.63137255,\n",
              "        0.62745098],\n",
              "       [0.77647059, 0.78431373, 0.78431373, ..., 0.63921569, 0.63529412,\n",
              "        0.63529412],\n",
              "       [0.87058824, 0.85490196, 0.82352941, ..., 0.63529412, 0.40392157,\n",
              "        0.34117647]])"
            ]
          },
          "execution_count": 12,
          "metadata": {},
          "output_type": "execute_result"
        }
      ],
      "source": [
        "X"
      ]
    },
    {
      "cell_type": "code",
      "execution_count": 13,
      "metadata": {},
      "outputs": [],
      "source": [
        "X = (X*255).astype(np.uint8)"
      ]
    },
    {
      "cell_type": "code",
      "execution_count": 14,
      "metadata": {},
      "outputs": [
        {
          "data": {
            "text/plain": [
              "array([[121, 121, 120, ...,  35,  34,  34],\n",
              "       [ 40,  39,  39, ...,  44,  43,  42],\n",
              "       [191, 193, 197, ..., 150, 130, 105],\n",
              "       ...,\n",
              "       [102, 102, 102, ..., 162, 161, 160],\n",
              "       [198, 200, 200, ..., 163, 162, 162],\n",
              "       [222, 218, 210, ..., 162, 103,  87]], dtype=uint8)"
            ]
          },
          "execution_count": 14,
          "metadata": {},
          "output_type": "execute_result"
        }
      ],
      "source": [
        "X"
      ]
    },
    {
      "cell_type": "code",
      "execution_count": 15,
      "metadata": {},
      "outputs": [],
      "source": [
        "pca_model = joblib.load('models/pca_model.joblib')"
      ]
    },
    {
      "cell_type": "code",
      "execution_count": 16,
      "metadata": {},
      "outputs": [],
      "source": [
        "X_pca_kag = pca_model.transform(X)\n",
        "\n",
        "# Predicción\n",
        "y_kag = model.predict(X_pca_kag)"
      ]
    },
    {
      "cell_type": "code",
      "execution_count": 17,
      "metadata": {
        "id": "VXZGedNXpOVM"
      },
      "outputs": [],
      "source": [
        "# Predicción + ID\n",
        "y_kag_dic = {pgm_kaggle_files_id[i]: y_kag[i] for i in range(len(pgm_kaggle_files_id))}\n",
        "kaggle_hat = pd.DataFrame(list(y_kag_dic.items()), columns=['id', 'target_feature'])\n",
        "kaggle_hat['id'] = kaggle_hat['id'].astype(int)\n",
        "kaggle_hat['target_feature'] = kaggle_hat['target_feature'].astype(int)\n",
        "kaggle_hat.sort_values(by='id', inplace=True)"
      ]
    },
    {
      "cell_type": "code",
      "execution_count": 18,
      "metadata": {
        "id": "7H2CshFsqHwz"
      },
      "outputs": [
        {
          "data": {
            "text/html": [
              "<div>\n",
              "<style scoped>\n",
              "    .dataframe tbody tr th:only-of-type {\n",
              "        vertical-align: middle;\n",
              "    }\n",
              "\n",
              "    .dataframe tbody tr th {\n",
              "        vertical-align: top;\n",
              "    }\n",
              "\n",
              "    .dataframe thead th {\n",
              "        text-align: right;\n",
              "    }\n",
              "</style>\n",
              "<table border=\"1\" class=\"dataframe\">\n",
              "  <thead>\n",
              "    <tr style=\"text-align: right;\">\n",
              "      <th></th>\n",
              "      <th>id</th>\n",
              "      <th>target_feature</th>\n",
              "    </tr>\n",
              "  </thead>\n",
              "  <tbody>\n",
              "    <tr>\n",
              "      <th>2069</th>\n",
              "      <td>0</td>\n",
              "      <td>0</td>\n",
              "    </tr>\n",
              "    <tr>\n",
              "      <th>2527</th>\n",
              "      <td>1</td>\n",
              "      <td>1</td>\n",
              "    </tr>\n",
              "    <tr>\n",
              "      <th>3030</th>\n",
              "      <td>2</td>\n",
              "      <td>0</td>\n",
              "    </tr>\n",
              "    <tr>\n",
              "      <th>2576</th>\n",
              "      <td>3</td>\n",
              "      <td>0</td>\n",
              "    </tr>\n",
              "    <tr>\n",
              "      <th>4060</th>\n",
              "      <td>4</td>\n",
              "      <td>0</td>\n",
              "    </tr>\n",
              "  </tbody>\n",
              "</table>\n",
              "</div>"
            ],
            "text/plain": [
              "      id  target_feature\n",
              "2069   0               0\n",
              "2527   1               1\n",
              "3030   2               0\n",
              "2576   3               0\n",
              "4060   4               0"
            ]
          },
          "execution_count": 18,
          "metadata": {},
          "output_type": "execute_result"
        }
      ],
      "source": [
        "kaggle_hat.head()"
      ]
    },
    {
      "cell_type": "code",
      "execution_count": 19,
      "metadata": {},
      "outputs": [
        {
          "name": "stdout",
          "output_type": "stream",
          "text": [
            "2025-06-14 00:54\n"
          ]
        }
      ],
      "source": [
        "from datetime import datetime\n",
        "\n",
        "fecha_hora = datetime.now().strftime(\"%Y-%m-%d %H:%M\")\n",
        "\n",
        "print(fecha_hora)"
      ]
    },
    {
      "cell_type": "code",
      "execution_count": 20,
      "metadata": {
        "id": "QuvqFr-4v85t"
      },
      "outputs": [],
      "source": [
        "# Guardamos en un .csv para subir a kaggle\n",
        "submission_name = f'CSV_samples/knn_{fecha_hora}'\n",
        "kaggle_hat.to_csv(submission_name + '.csv', index=False)"
      ]
    }
  ],
  "metadata": {
    "colab": {
      "provenance": []
    },
    "kernelspec": {
      "display_name": "Python 3",
      "language": "python",
      "name": "python3"
    },
    "language_info": {
      "codemirror_mode": {
        "name": "ipython",
        "version": 3
      },
      "file_extension": ".py",
      "mimetype": "text/x-python",
      "name": "python",
      "nbconvert_exporter": "python",
      "pygments_lexer": "ipython3",
      "version": "3.9.6"
    }
  },
  "nbformat": 4,
  "nbformat_minor": 0
}
