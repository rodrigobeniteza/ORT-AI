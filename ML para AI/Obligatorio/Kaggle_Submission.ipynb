{
  "cells": [
    {
      "cell_type": "code",
      "execution_count": 1,
      "metadata": {
        "id": "iLY9epq0BQGr"
      },
      "outputs": [],
      "source": [
        "#!unzip Test.zip"
      ]
    },
    {
      "cell_type": "code",
      "execution_count": 2,
      "metadata": {
        "id": "B9fY5qdDg-Tw"
      },
      "outputs": [],
      "source": [
        "import os\n",
        "from tqdm import tqdm\n",
        "import numpy as np\n",
        "import pandas as pd\n",
        "import matplotlib.pyplot as plt"
      ]
    },
    {
      "cell_type": "code",
      "execution_count": 8,
      "metadata": {
        "id": "DkX5RsTfmh4v"
      },
      "outputs": [],
      "source": [
        "suffix = '.pgm'\n",
        "kaggle_files = os.listdir('Test')\n",
        "pgm_kaggle_files = [filename for filename in kaggle_files if filename.endswith(suffix)]"
      ]
    },
    {
      "cell_type": "code",
      "execution_count": 9,
      "metadata": {
        "id": "S-NPCmx0pnF5"
      },
      "outputs": [
        {
          "data": {
            "text/plain": [
              "8000"
            ]
          },
          "execution_count": 9,
          "metadata": {},
          "output_type": "execute_result"
        }
      ],
      "source": [
        "len(pgm_kaggle_files)"
      ]
    },
    {
      "cell_type": "code",
      "execution_count": 10,
      "metadata": {
        "id": "tOhNJwR4mh4w"
      },
      "outputs": [
        {
          "name": "stderr",
          "output_type": "stream",
          "text": [
            "  0%|          | 0/8000 [00:00<?, ?it/s]"
          ]
        },
        {
          "name": "stderr",
          "output_type": "stream",
          "text": [
            "100%|██████████| 8000/8000 [00:04<00:00, 1923.46it/s]\n"
          ]
        }
      ],
      "source": [
        "kaggle_patches = []\n",
        "for filename in tqdm(pgm_kaggle_files):\n",
        "  path = 'Test/' + filename\n",
        "  with open(path, 'rb') as pgmf:\n",
        "      image = plt.imread(pgmf)\n",
        "  kaggle_patches.append(image)"
      ]
    },
    {
      "cell_type": "code",
      "execution_count": 11,
      "metadata": {
        "id": "w13NetjrmJvq"
      },
      "outputs": [
        {
          "name": "stderr",
          "output_type": "stream",
          "text": [
            "100%|██████████| 8000/8000 [00:00<00:00, 1068510.40it/s]\n"
          ]
        }
      ],
      "source": [
        "pgm_kaggle_files_id = []\n",
        "\n",
        "for filename in tqdm(pgm_kaggle_files):\n",
        "  pgm_kaggle_files_id.append(filename[5:-4])"
      ]
    },
    {
      "cell_type": "code",
      "execution_count": 12,
      "metadata": {},
      "outputs": [],
      "source": [
        "import joblib"
      ]
    },
    {
      "cell_type": "code",
      "execution_count": 21,
      "metadata": {
        "id": "sQCOSbNDALGq"
      },
      "outputs": [],
      "source": [
        "# Aquí debe utilizar su modelo\n",
        "model = joblib.load('models/best_knn_model.joblib')"
      ]
    },
    {
      "cell_type": "code",
      "execution_count": 22,
      "metadata": {
        "id": "_d6CKa_NomWo"
      },
      "outputs": [
        {
          "name": "stderr",
          "output_type": "stream",
          "text": [
            "100%|██████████| 8000/8000 [00:04<00:00, 1818.00it/s]\n",
            "Construyendo X: 100%|██████████| 8000/8000 [00:10<00:00, 775.41it/s]\n"
          ]
        }
      ],
      "source": [
        "from skimage import feature\n",
        "\n",
        "# Aquí debe procesar las imagenes de pgm_kaggle_files\n",
        "X_kag = []\n",
        "\n",
        "suffix = '.pgm'\n",
        "dir = os.listdir('Test/')\n",
        "pgm_files = [filename for filename in dir if filename.endswith(suffix)]\n",
        "\n",
        "for filename in tqdm(pgm_files):\n",
        "    path = 'Test/' + filename\n",
        "    with open (path, 'rb') as pgmf:\n",
        "        image = plt.imread(pgmf)\n",
        "        X_kag.append(image)\n",
        "        \n",
        "X = np.array([feature.hog(im) for im in tqdm(X_kag, desc='Construyendo X') ])\n"
      ]
    },
    {
      "cell_type": "code",
      "execution_count": 15,
      "metadata": {},
      "outputs": [],
      "source": [
        "pca_model = joblib.load('models/pca_model.joblib')"
      ]
    },
    {
      "cell_type": "code",
      "execution_count": 23,
      "metadata": {},
      "outputs": [
        {
          "ename": "",
          "evalue": "",
          "output_type": "error",
          "traceback": [
            "\u001b[1;31mThe Kernel crashed while executing code in the current cell or a previous cell. \n",
            "\u001b[1;31mPlease review the code in the cell(s) to identify a possible cause of the failure. \n",
            "\u001b[1;31mClick <a href='https://aka.ms/vscodeJupyterKernelCrash'>here</a> for more info. \n",
            "\u001b[1;31mView Jupyter <a href='command:jupyter.viewOutput'>log</a> for further details."
          ]
        }
      ],
      "source": [
        "X_pca_kag = pca_model.fit_transform(X)\n",
        "\n",
        "# Predicción\n",
        "y_kag = model.predict(X_pca_kag)"
      ]
    },
    {
      "cell_type": "code",
      "execution_count": 17,
      "metadata": {
        "id": "VXZGedNXpOVM"
      },
      "outputs": [],
      "source": [
        "# Predicción + ID\n",
        "y_kag_dic = {pgm_kaggle_files_id[i]: y_kag[i] for i in range(len(pgm_kaggle_files_id))}\n",
        "kaggle_hat = pd.DataFrame(list(y_kag_dic.items()), columns=['id', 'target_feature'])\n",
        "kaggle_hat['id'] = kaggle_hat['id'].astype(int)\n",
        "kaggle_hat['target_feature'] = kaggle_hat['target_feature'].astype(int)\n",
        "kaggle_hat.sort_values(by='id', inplace=True)"
      ]
    },
    {
      "cell_type": "code",
      "execution_count": 18,
      "metadata": {
        "id": "7H2CshFsqHwz"
      },
      "outputs": [
        {
          "data": {
            "text/html": [
              "<div>\n",
              "<style scoped>\n",
              "    .dataframe tbody tr th:only-of-type {\n",
              "        vertical-align: middle;\n",
              "    }\n",
              "\n",
              "    .dataframe tbody tr th {\n",
              "        vertical-align: top;\n",
              "    }\n",
              "\n",
              "    .dataframe thead th {\n",
              "        text-align: right;\n",
              "    }\n",
              "</style>\n",
              "<table border=\"1\" class=\"dataframe\">\n",
              "  <thead>\n",
              "    <tr style=\"text-align: right;\">\n",
              "      <th></th>\n",
              "      <th>id</th>\n",
              "      <th>target_feature</th>\n",
              "    </tr>\n",
              "  </thead>\n",
              "  <tbody>\n",
              "    <tr>\n",
              "      <th>2069</th>\n",
              "      <td>0</td>\n",
              "      <td>1</td>\n",
              "    </tr>\n",
              "    <tr>\n",
              "      <th>2527</th>\n",
              "      <td>1</td>\n",
              "      <td>0</td>\n",
              "    </tr>\n",
              "    <tr>\n",
              "      <th>3030</th>\n",
              "      <td>2</td>\n",
              "      <td>1</td>\n",
              "    </tr>\n",
              "    <tr>\n",
              "      <th>2576</th>\n",
              "      <td>3</td>\n",
              "      <td>1</td>\n",
              "    </tr>\n",
              "    <tr>\n",
              "      <th>4060</th>\n",
              "      <td>4</td>\n",
              "      <td>1</td>\n",
              "    </tr>\n",
              "  </tbody>\n",
              "</table>\n",
              "</div>"
            ],
            "text/plain": [
              "      id  target_feature\n",
              "2069   0               1\n",
              "2527   1               0\n",
              "3030   2               1\n",
              "2576   3               1\n",
              "4060   4               1"
            ]
          },
          "execution_count": 18,
          "metadata": {},
          "output_type": "execute_result"
        }
      ],
      "source": [
        "kaggle_hat.head()"
      ]
    },
    {
      "cell_type": "code",
      "execution_count": 19,
      "metadata": {},
      "outputs": [
        {
          "name": "stdout",
          "output_type": "stream",
          "text": [
            "2025-06-11 23:37\n"
          ]
        }
      ],
      "source": [
        "from datetime import datetime\n",
        "\n",
        "fecha_hora = datetime.now().strftime(\"%Y-%m-%d %H:%M\")\n",
        "\n",
        "print(fecha_hora)"
      ]
    },
    {
      "cell_type": "code",
      "execution_count": 20,
      "metadata": {
        "id": "QuvqFr-4v85t"
      },
      "outputs": [],
      "source": [
        "# Guardamos en un .csv para subir a kaggle\n",
        "submission_name = f'knn_{fecha_hora}'\n",
        "kaggle_hat.to_csv(submission_name + '.csv', index=False)"
      ]
    }
  ],
  "metadata": {
    "colab": {
      "provenance": []
    },
    "kernelspec": {
      "display_name": "ml-env",
      "language": "python",
      "name": "python3"
    },
    "language_info": {
      "codemirror_mode": {
        "name": "ipython",
        "version": 3
      },
      "file_extension": ".py",
      "mimetype": "text/x-python",
      "name": "python",
      "nbconvert_exporter": "python",
      "pygments_lexer": "ipython3",
      "version": "3.13.2"
    }
  },
  "nbformat": 4,
  "nbformat_minor": 0
}
