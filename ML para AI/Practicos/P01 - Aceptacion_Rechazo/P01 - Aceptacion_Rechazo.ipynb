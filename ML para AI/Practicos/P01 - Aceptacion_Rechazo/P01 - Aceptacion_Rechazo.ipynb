{
  "cells": [
    {
      "cell_type": "code",
      "execution_count": 7,
      "metadata": {
        "id": "m1GmNZK3qNHV"
      },
      "outputs": [],
      "source": [
        "import numpy as np\n",
        "import matplotlib.pyplot as plt"
      ]
    },
    {
      "cell_type": "code",
      "execution_count": 8,
      "metadata": {
        "id": "GMWTf3EvL8Kk"
      },
      "outputs": [],
      "source": [
        "# Definimos la densidad\n",
        "def densidad(x, theta):\n",
        "  return (1 + theta * x) / 2"
      ]
    },
    {
      "cell_type": "code",
      "execution_count": 9,
      "metadata": {
        "id": "LV1K0_tQp8Aa"
      },
      "outputs": [],
      "source": [
        "def generar_muestra(theta, n=10, seed=42):\n",
        "  np.random.seed(seed)\n",
        "\n",
        "  samples = []\n",
        "\n",
        "  while len(samples) < n:\n",
        "    x_proposed = np.random.uniform(-1, 1)  # Genera x uniforme en [-1, 1]\n",
        "    u = np.random.uniform(0, 1)  # Genera u uniforme en [0, 1]\n",
        "\n",
        "    if u <= densidad(x_proposed, theta):\n",
        "      samples.append(x_proposed)  # Aceptar x_proposed\n",
        "\n",
        "  return np.array(samples)"
      ]
    },
    {
      "cell_type": "code",
      "execution_count": 10,
      "metadata": {
        "colab": {
          "base_uri": "https://localhost:8080/"
        },
        "id": "pAHkwi-MrjE1",
        "outputId": "16039501-5d61-4226-affe-7f0495bdeef1"
      },
      "outputs": [
        {
          "data": {
            "text/plain": [
              "array([-0.81200864, -0.97174061,  0.22824033,  0.19208375,  0.32290029,\n",
              "        0.66327413,  0.21601246,  0.97593781,  0.80081921, -0.51666392])"
            ]
          },
          "execution_count": 10,
          "metadata": {},
          "output_type": "execute_result"
        }
      ],
      "source": [
        "# Ejemplo de uso para theta y n\n",
        "theta = 0.4\n",
        "n = 50\n",
        "samples = generar_muestra(theta, n, seed=1830)\n",
        "\n",
        "# Mostrar los primeros 10 valores simulados\n",
        "samples[:10]"
      ]
    },
    {
      "cell_type": "code",
      "execution_count": 11,
      "metadata": {
        "id": "9YjdzhoYBzGF"
      },
      "outputs": [],
      "source": [
        "np.savetxt('muestra.txt',samples)"
      ]
    },
    {
      "cell_type": "code",
      "execution_count": 12,
      "metadata": {
        "colab": {
          "base_uri": "https://localhost:8080/",
          "height": 342
        },
        "id": "jllsSRmcrxD0",
        "outputId": "dc741cdf-ef94-4ad7-b185-241b303a884a"
      },
      "outputs": [
        {
          "data": {
            "image/png": "[encoded data removed]",
            "text/plain": [
              "<Figure size 500x300 with 1 Axes>"
            ]
          },
          "metadata": {},
          "output_type": "display_data"
        }
      ],
      "source": [
        "# Utilizamos Seaborn para crear un histograma\n",
        "import seaborn as sns\n",
        "\n",
        "sns.set(style=\"whitegrid\")  # Estilo del gráfico\n",
        "plt.figure(figsize=(5, 3))  # Tamaño del gráfico\n",
        "\n",
        "sns.histplot(samples,\n",
        "             stat=\"density\",\n",
        "             color=\"skyblue\",\n",
        "             alpha=0.6,\n",
        "             line_kws={'linewidth': 3},\n",
        "             )\n",
        "\n",
        "plt.title(f'Histograma de la muestra')\n",
        "plt.xlabel('x')\n",
        "plt.ylabel('Densidad')\n",
        "\n",
        "plt.show()"
      ]
    },
    {
      "cell_type": "code",
      "execution_count": null,
      "metadata": {
        "id": "F4LBPO2hsiSL"
      },
      "outputs": [],
      "source": []
    }
  ],
  "metadata": {
    "colab": {
      "provenance": []
    },
    "kernelspec": {
      "display_name": "Python 3",
      "name": "python3"
    },
    "language_info": {
      "codemirror_mode": {
        "name": "ipython",
        "version": 3
      },
      "file_extension": ".py",
      "mimetype": "text/x-python",
      "name": "python",
      "nbconvert_exporter": "python",
      "pygments_lexer": "ipython3",
      "version": "3.9.6"
    }
  },
  "nbformat": 4,
  "nbformat_minor": 0
}
