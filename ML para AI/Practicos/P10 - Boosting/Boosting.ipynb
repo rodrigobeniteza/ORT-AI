{
  "nbformat": 4,
  "nbformat_minor": 0,
  "metadata": {
    "colab": {
      "provenance": []
    },
    "kernelspec": {
      "name": "python3",
      "display_name": "Python 3"
    },
    "language_info": {
      "name": "python"
    }
  },
  "cells": [
    {
      "cell_type": "code",
      "source": [
        "import numpy as np\n",
        "import pandas as pd\n",
        "from sklearn.datasets import fetch_openml\n",
        "from sklearn.ensemble import AdaBoostClassifier, GradientBoostingClassifier\n",
        "from sklearn.tree import DecisionTreeClassifier\n",
        "from sklearn.model_selection import train_test_split\n",
        "from sklearn.metrics import accuracy_score\n",
        "from sklearn.preprocessing import OneHotEncoder\n",
        "from sklearn.compose import ColumnTransformer\n",
        "from sklearn.pipeline import Pipeline\n",
        "from sklearn.impute import SimpleImputer\n",
        "from tqdm import tqdm\n",
        "from xgboost import XGBClassifier"
      ],
      "metadata": {
        "id": "JlKwqp2Q0A5O"
      },
      "execution_count": 1,
      "outputs": []
    },
    {
      "cell_type": "code",
      "source": [
        "# Cargar y preprocesar el dataset\n",
        "X, y = fetch_openml(name=\"adult\", version=2, as_frame=True, return_X_y=True)\n",
        "y = (y == \">50K\").astype(int)\n",
        "\n",
        "categorical = X.select_dtypes(include=\"category\").columns.tolist()\n",
        "numerical = X.select_dtypes(include=[\"int64\", \"float64\"]).columns.tolist()\n",
        "\n",
        "preprocessor = ColumnTransformer([\n",
        "    (\"num\", SimpleImputer(strategy=\"mean\"), numerical),\n",
        "    (\"cat\", Pipeline([\n",
        "        (\"impute\", SimpleImputer(strategy=\"most_frequent\")),\n",
        "        (\"encode\", OneHotEncoder(handle_unknown=\"ignore\"))\n",
        "    ]), categorical)\n",
        "])"
      ],
      "metadata": {
        "id": "R3qUh9r50D5J"
      },
      "execution_count": 2,
      "outputs": []
    },
    {
      "cell_type": "code",
      "source": [
        "# Dividir train/sel(o val)/test (72/18/10)\n",
        "X_dev, X_test, y_dev, y_test = train_test_split(\n",
        "    X, y, test_size=0.1, stratify=y, random_state=42\n",
        ")\n",
        "X_train, X_sel, y_train, y_sel = train_test_split(\n",
        "    X_dev, y_dev, test_size=0.2, stratify=y_dev, random_state=42\n",
        ")"
      ],
      "metadata": {
        "id": "7zfO-Gqx0Jcc"
      },
      "execution_count": 3,
      "outputs": []
    },
    {
      "cell_type": "code",
      "source": [
        "# Definir modelos a comparar (boosting)\n",
        "models = {\n",
        "    \"AdaBoost (árbol débil)\": AdaBoostClassifier(\n",
        "        estimator=DecisionTreeClassifier(max_depth=1),\n",
        "        n_estimators=30,\n",
        "        random_state=0\n",
        "    ),\n",
        "    \"AdaBoost (árbol más profundo)\": AdaBoostClassifier(\n",
        "        estimator=DecisionTreeClassifier(max_depth=None),\n",
        "        n_estimators=30,\n",
        "        random_state=0\n",
        "    ),\n",
        "    \"GB (árbol débil)\": GradientBoostingClassifier(\n",
        "        max_depth=1,\n",
        "        n_estimators=30,\n",
        "        random_state=0\n",
        "    ),\n",
        "    \"GB (árbol más profundo)\": GradientBoostingClassifier(\n",
        "        max_depth=None,\n",
        "        n_estimators=30,\n",
        "        random_state=0\n",
        "    ),\n",
        "    \"XGB (árbol débil)\": XGBClassifier(\n",
        "        max_depth=1,\n",
        "        n_estimators=30,\n",
        "        use_label_encoder=False,\n",
        "        eval_metric=\"logloss\",\n",
        "        verbosity=0,\n",
        "        random_state=0,\n",
        "        n_jobs=-1\n",
        "    ),\n",
        "    \"XGB (árbol más profundo)\": XGBClassifier(\n",
        "        max_depth=None,\n",
        "        n_estimators=30,\n",
        "        use_label_encoder=False,\n",
        "        eval_metric=\"logloss\",\n",
        "        verbosity=0,\n",
        "        random_state=0,\n",
        "        n_jobs=-1\n",
        "    )\n",
        "}"
      ],
      "metadata": {
        "id": "wthTr78m0MbU"
      },
      "execution_count": 19,
      "outputs": []
    },
    {
      "cell_type": "code",
      "source": [
        "# Entrenar y evaluar todos\n",
        "results = {}\n",
        "\n",
        "for name, model in tqdm(models.items()):\n",
        "    pipe = Pipeline([\n",
        "        (\"preproc\", preprocessor),\n",
        "        (\"clf\", model)\n",
        "    ])\n",
        "    pipe.fit(X_train, y_train)\n",
        "    y_pred = pipe.predict(X_sel)\n",
        "    acc = accuracy_score(y_sel, y_pred)\n",
        "    results[name] = acc"
      ],
      "metadata": {
        "colab": {
          "base_uri": "https://localhost:8080/"
        },
        "id": "pJyyaRA90ix0",
        "outputId": "37ac802a-1d4d-4c5f-a505-f5c4bc3ebdd0"
      },
      "execution_count": 20,
      "outputs": [
        {
          "output_type": "stream",
          "name": "stderr",
          "text": [
            "100%|██████████| 6/6 [02:15<00:00, 22.57s/it]\n"
          ]
        }
      ]
    },
    {
      "cell_type": "code",
      "source": [
        "# Mostrar resultados finales\n",
        "print(\"Accuracy en conjunto de selección:\")\n",
        "for name, acc in results.items():\n",
        "    print(f\"{name:35s}: {acc:.4f}\")"
      ],
      "metadata": {
        "colab": {
          "base_uri": "https://localhost:8080/"
        },
        "id": "YLXJhMHr0n2s",
        "outputId": "1b92dacb-b3ca-40fa-c29f-207a4d9698a6"
      },
      "execution_count": 21,
      "outputs": [
        {
          "output_type": "stream",
          "name": "stdout",
          "text": [
            "Accuracy en conjunto de selección:\n",
            "AdaBoost (árbol débil)             : 0.8447\n",
            "AdaBoost (árbol más profundo)      : 0.8215\n",
            "GB (árbol débil)                   : 0.8292\n",
            "GB (árbol más profundo)            : 0.8161\n",
            "XGB (árbol débil)                  : 0.8495\n",
            "XGB (árbol más profundo)           : 0.8760\n"
          ]
        }
      ]
    },
    {
      "cell_type": "code",
      "execution_count": 22,
      "metadata": {
        "colab": {
          "base_uri": "https://localhost:8080/"
        },
        "id": "RJVdsokPz-bt",
        "outputId": "a7b63535-6912-42a8-ebae-7ebd34fe7b02"
      },
      "outputs": [
        {
          "output_type": "stream",
          "name": "stdout",
          "text": [
            "\n",
            "Mejor modelo en selección: XGB (árbol más profundo)\n",
            "Accuracy en test: 0.8696\n"
          ]
        }
      ],
      "source": [
        "# Evaluar el mejor modelo en test\n",
        "best_model_name = max(results, key=results.get)\n",
        "best_model = models[best_model_name]\n",
        "\n",
        "pipe = Pipeline([\n",
        "    (\"preproc\", preprocessor),\n",
        "    (\"clf\", best_model)\n",
        "])\n",
        "pipe.fit(X_train, y_train)\n",
        "y_pred = pipe.predict(X_test)\n",
        "acc = accuracy_score(y_test, y_pred)\n",
        "\n",
        "print(f'\\nMejor modelo en selección: {best_model_name}')\n",
        "print(f'Accuracy en test: {acc:.4f}')"
      ]
    },
    {
      "cell_type": "code",
      "source": [],
      "metadata": {
        "id": "zJbgpmSA0vim"
      },
      "execution_count": null,
      "outputs": []
    }
  ]
}