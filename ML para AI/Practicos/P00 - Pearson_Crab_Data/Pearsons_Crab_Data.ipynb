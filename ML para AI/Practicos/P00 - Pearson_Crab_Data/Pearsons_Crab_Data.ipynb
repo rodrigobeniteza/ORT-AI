{
  "cells": [
    {
      "cell_type": "code",
      "execution_count": 4,
      "metadata": {
        "id": "GvYLV04aUMuU"
      },
      "outputs": [],
      "source": [
        "# Importamos algunas librearias a utilizar\n",
        "import numpy as np\n",
        "import matplotlib.pyplot as plt\n",
        "plt.style.use('ggplot')\n",
        "import pandas as pd"
      ]
    },
    {
      "cell_type": "markdown",
      "metadata": {
        "id": "0SsO8dwUV-Pz"
      },
      "source": [
        "# Datos"
      ]
    },
    {
      "cell_type": "code",
      "execution_count": 5,
      "metadata": {
        "id": "YF3ozbntUeTL"
      },
      "outputs": [],
      "source": [
        "# Cargamos los datos en Pandas DataFrame\n",
        "data = pd.read_csv('Pearson_Crab_Data.csv')"
      ]
    },
    {
      "cell_type": "code",
      "execution_count": 6,
      "metadata": {
        "colab": {
          "base_uri": "https://localhost:8080/",
          "height": 958
        },
        "id": "v8ant8gqU7Pr",
        "outputId": "c37e492a-e511-41ba-9c5a-bbc6941dfc5d"
      },
      "outputs": [
        {
          "data": {
            "text/html": [
              "<div>\n",
              "<style scoped>\n",
              "    .dataframe tbody tr th:only-of-type {\n",
              "        vertical-align: middle;\n",
              "    }\n",
              "\n",
              "    .dataframe tbody tr th {\n",
              "        vertical-align: top;\n",
              "    }\n",
              "\n",
              "    .dataframe thead th {\n",
              "        text-align: right;\n",
              "    }\n",
              "</style>\n",
              "<table border=\"1\" class=\"dataframe\">\n",
              "  <thead>\n",
              "    <tr style=\"text-align: right;\">\n",
              "      <th></th>\n",
              "      <th>ratio</th>\n",
              "      <th>freq</th>\n",
              "    </tr>\n",
              "  </thead>\n",
              "  <tbody>\n",
              "    <tr>\n",
              "      <th>0</th>\n",
              "      <td>0.5835</td>\n",
              "      <td>1</td>\n",
              "    </tr>\n",
              "    <tr>\n",
              "      <th>1</th>\n",
              "      <td>0.5875</td>\n",
              "      <td>3</td>\n",
              "    </tr>\n",
              "    <tr>\n",
              "      <th>2</th>\n",
              "      <td>0.5915</td>\n",
              "      <td>5</td>\n",
              "    </tr>\n",
              "    <tr>\n",
              "      <th>3</th>\n",
              "      <td>0.5955</td>\n",
              "      <td>2</td>\n",
              "    </tr>\n",
              "    <tr>\n",
              "      <th>4</th>\n",
              "      <td>0.5995</td>\n",
              "      <td>7</td>\n",
              "    </tr>\n",
              "    <tr>\n",
              "      <th>5</th>\n",
              "      <td>0.6035</td>\n",
              "      <td>10</td>\n",
              "    </tr>\n",
              "    <tr>\n",
              "      <th>6</th>\n",
              "      <td>0.6075</td>\n",
              "      <td>13</td>\n",
              "    </tr>\n",
              "    <tr>\n",
              "      <th>7</th>\n",
              "      <td>0.6115</td>\n",
              "      <td>19</td>\n",
              "    </tr>\n",
              "    <tr>\n",
              "      <th>8</th>\n",
              "      <td>0.6155</td>\n",
              "      <td>20</td>\n",
              "    </tr>\n",
              "    <tr>\n",
              "      <th>9</th>\n",
              "      <td>0.6195</td>\n",
              "      <td>25</td>\n",
              "    </tr>\n",
              "    <tr>\n",
              "      <th>10</th>\n",
              "      <td>0.6235</td>\n",
              "      <td>40</td>\n",
              "    </tr>\n",
              "    <tr>\n",
              "      <th>11</th>\n",
              "      <td>0.6275</td>\n",
              "      <td>31</td>\n",
              "    </tr>\n",
              "    <tr>\n",
              "      <th>12</th>\n",
              "      <td>0.6315</td>\n",
              "      <td>60</td>\n",
              "    </tr>\n",
              "    <tr>\n",
              "      <th>13</th>\n",
              "      <td>0.6355</td>\n",
              "      <td>62</td>\n",
              "    </tr>\n",
              "    <tr>\n",
              "      <th>14</th>\n",
              "      <td>0.6395</td>\n",
              "      <td>54</td>\n",
              "    </tr>\n",
              "    <tr>\n",
              "      <th>15</th>\n",
              "      <td>0.6435</td>\n",
              "      <td>74</td>\n",
              "    </tr>\n",
              "    <tr>\n",
              "      <th>16</th>\n",
              "      <td>0.6475</td>\n",
              "      <td>84</td>\n",
              "    </tr>\n",
              "    <tr>\n",
              "      <th>17</th>\n",
              "      <td>0.6515</td>\n",
              "      <td>86</td>\n",
              "    </tr>\n",
              "    <tr>\n",
              "      <th>18</th>\n",
              "      <td>0.6555</td>\n",
              "      <td>96</td>\n",
              "    </tr>\n",
              "    <tr>\n",
              "      <th>19</th>\n",
              "      <td>0.6595</td>\n",
              "      <td>85</td>\n",
              "    </tr>\n",
              "    <tr>\n",
              "      <th>20</th>\n",
              "      <td>0.6635</td>\n",
              "      <td>75</td>\n",
              "    </tr>\n",
              "    <tr>\n",
              "      <th>21</th>\n",
              "      <td>0.6675</td>\n",
              "      <td>47</td>\n",
              "    </tr>\n",
              "    <tr>\n",
              "      <th>22</th>\n",
              "      <td>0.6715</td>\n",
              "      <td>43</td>\n",
              "    </tr>\n",
              "    <tr>\n",
              "      <th>23</th>\n",
              "      <td>0.6755</td>\n",
              "      <td>24</td>\n",
              "    </tr>\n",
              "    <tr>\n",
              "      <th>24</th>\n",
              "      <td>0.6795</td>\n",
              "      <td>19</td>\n",
              "    </tr>\n",
              "    <tr>\n",
              "      <th>25</th>\n",
              "      <td>0.6835</td>\n",
              "      <td>9</td>\n",
              "    </tr>\n",
              "    <tr>\n",
              "      <th>26</th>\n",
              "      <td>0.6875</td>\n",
              "      <td>5</td>\n",
              "    </tr>\n",
              "    <tr>\n",
              "      <th>27</th>\n",
              "      <td>0.6915</td>\n",
              "      <td>0</td>\n",
              "    </tr>\n",
              "    <tr>\n",
              "      <th>28</th>\n",
              "      <td>0.6955</td>\n",
              "      <td>1</td>\n",
              "    </tr>\n",
              "  </tbody>\n",
              "</table>\n",
              "</div>"
            ],
            "text/plain": [
              "     ratio  freq\n",
              "0   0.5835     1\n",
              "1   0.5875     3\n",
              "2   0.5915     5\n",
              "3   0.5955     2\n",
              "4   0.5995     7\n",
              "5   0.6035    10\n",
              "6   0.6075    13\n",
              "7   0.6115    19\n",
              "8   0.6155    20\n",
              "9   0.6195    25\n",
              "10  0.6235    40\n",
              "11  0.6275    31\n",
              "12  0.6315    60\n",
              "13  0.6355    62\n",
              "14  0.6395    54\n",
              "15  0.6435    74\n",
              "16  0.6475    84\n",
              "17  0.6515    86\n",
              "18  0.6555    96\n",
              "19  0.6595    85\n",
              "20  0.6635    75\n",
              "21  0.6675    47\n",
              "22  0.6715    43\n",
              "23  0.6755    24\n",
              "24  0.6795    19\n",
              "25  0.6835     9\n",
              "26  0.6875     5\n",
              "27  0.6915     0\n",
              "28  0.6955     1"
            ]
          },
          "execution_count": 6,
          "metadata": {},
          "output_type": "execute_result"
        }
      ],
      "source": [
        "# Visualizamos los datos\n",
        "data"
      ]
    },
    {
      "cell_type": "code",
      "execution_count": 7,
      "metadata": {
        "colab": {
          "base_uri": "https://localhost:8080/",
          "height": 319
        },
        "id": "lJhEXpYvU78g",
        "outputId": "e78a7c2a-c05c-4549-c92e-6e7bb500dc58"
      },
      "outputs": [
        {
          "data": {
            "image/png": "[encoded data removed]",
            "text/plain": [
              "<Figure size 600x300 with 1 Axes>"
            ]
          },
          "metadata": {},
          "output_type": "display_data"
        }
      ],
      "source": [
        "# Graficamos las frecuencias\n",
        "plt.figure(figsize=(6, 3))\n",
        "plt.step(x=data['ratio'],y=data['freq'], label='Datos')\n",
        "plt.legend()\n",
        "plt.xlabel('ratio')\n",
        "plt.ylabel('Frecuencia')\n",
        "plt.show()"
      ]
    },
    {
      "cell_type": "code",
      "execution_count": 8,
      "metadata": {
        "id": "6CHqZD1ZXJVZ"
      },
      "outputs": [],
      "source": [
        "# Creamos una columna de frequencia relativa\n",
        "data['freq_rel'] = data['freq'] / data['freq'].sum()"
      ]
    },
    {
      "cell_type": "code",
      "execution_count": 9,
      "metadata": {
        "colab": {
          "base_uri": "https://localhost:8080/",
          "height": 206
        },
        "id": "_rFa6gUBXl7F",
        "outputId": "e893d5f9-9b4f-431d-f6a9-cbbe36726b66"
      },
      "outputs": [
        {
          "data": {
            "text/html": [
              "<div>\n",
              "<style scoped>\n",
              "    .dataframe tbody tr th:only-of-type {\n",
              "        vertical-align: middle;\n",
              "    }\n",
              "\n",
              "    .dataframe tbody tr th {\n",
              "        vertical-align: top;\n",
              "    }\n",
              "\n",
              "    .dataframe thead th {\n",
              "        text-align: right;\n",
              "    }\n",
              "</style>\n",
              "<table border=\"1\" class=\"dataframe\">\n",
              "  <thead>\n",
              "    <tr style=\"text-align: right;\">\n",
              "      <th></th>\n",
              "      <th>ratio</th>\n",
              "      <th>freq</th>\n",
              "      <th>freq_rel</th>\n",
              "    </tr>\n",
              "  </thead>\n",
              "  <tbody>\n",
              "    <tr>\n",
              "      <th>0</th>\n",
              "      <td>0.5835</td>\n",
              "      <td>1</td>\n",
              "      <td>0.001</td>\n",
              "    </tr>\n",
              "    <tr>\n",
              "      <th>1</th>\n",
              "      <td>0.5875</td>\n",
              "      <td>3</td>\n",
              "      <td>0.003</td>\n",
              "    </tr>\n",
              "    <tr>\n",
              "      <th>2</th>\n",
              "      <td>0.5915</td>\n",
              "      <td>5</td>\n",
              "      <td>0.005</td>\n",
              "    </tr>\n",
              "    <tr>\n",
              "      <th>3</th>\n",
              "      <td>0.5955</td>\n",
              "      <td>2</td>\n",
              "      <td>0.002</td>\n",
              "    </tr>\n",
              "    <tr>\n",
              "      <th>4</th>\n",
              "      <td>0.5995</td>\n",
              "      <td>7</td>\n",
              "      <td>0.007</td>\n",
              "    </tr>\n",
              "  </tbody>\n",
              "</table>\n",
              "</div>"
            ],
            "text/plain": [
              "    ratio  freq  freq_rel\n",
              "0  0.5835     1     0.001\n",
              "1  0.5875     3     0.003\n",
              "2  0.5915     5     0.005\n",
              "3  0.5955     2     0.002\n",
              "4  0.5995     7     0.007"
            ]
          },
          "execution_count": 9,
          "metadata": {},
          "output_type": "execute_result"
        }
      ],
      "source": [
        "# Visualizamos nuevamente los datos\n",
        "data.head()"
      ]
    },
    {
      "cell_type": "code",
      "execution_count": 11,
      "metadata": {
        "colab": {
          "base_uri": "https://localhost:8080/",
          "height": 319
        },
        "id": "5xyUc0gvXsEx",
        "outputId": "af51468b-f03c-40b0-d565-76743eb2974e"
      },
      "outputs": [
        {
          "data": {
            "image/png": "[encoded data removed]",
            "text/plain": [
              "<Figure size 600x300 with 1 Axes>"
            ]
          },
          "metadata": {},
          "output_type": "display_data"
        }
      ],
      "source": [
        "# Graficamos las frecuencias relativas\n",
        "plt.figure(figsize=(6, 3))\n",
        "plt.step(x=data['ratio'],y=data['freq_rel'], label='Datos')\n",
        "plt.legend()\n",
        "plt.xlabel('ratio')\n",
        "plt.ylabel('Frecuencia relativa')\n",
        "plt.show()"
      ]
    },
    {
      "cell_type": "code",
      "execution_count": 10,
      "metadata": {
        "id": "G18qk8zWX2yf"
      },
      "outputs": [],
      "source": [
        "# Calculamos la longitud del intervalo en el rango de ratio\n",
        "data['delta_ratio'] = data['ratio'].diff()"
      ]
    },
    {
      "cell_type": "code",
      "execution_count": 12,
      "metadata": {
        "colab": {
          "base_uri": "https://localhost:8080/",
          "height": 395
        },
        "id": "zA4uSWEnYPfF",
        "outputId": "6ed12f1f-1075-4568-e2af-119da875dd08"
      },
      "outputs": [
        {
          "data": {
            "text/html": [
              "<div>\n",
              "<style scoped>\n",
              "    .dataframe tbody tr th:only-of-type {\n",
              "        vertical-align: middle;\n",
              "    }\n",
              "\n",
              "    .dataframe tbody tr th {\n",
              "        vertical-align: top;\n",
              "    }\n",
              "\n",
              "    .dataframe thead th {\n",
              "        text-align: right;\n",
              "    }\n",
              "</style>\n",
              "<table border=\"1\" class=\"dataframe\">\n",
              "  <thead>\n",
              "    <tr style=\"text-align: right;\">\n",
              "      <th></th>\n",
              "      <th>ratio</th>\n",
              "      <th>freq</th>\n",
              "      <th>freq_rel</th>\n",
              "      <th>delta_ratio</th>\n",
              "    </tr>\n",
              "  </thead>\n",
              "  <tbody>\n",
              "    <tr>\n",
              "      <th>0</th>\n",
              "      <td>0.5835</td>\n",
              "      <td>1</td>\n",
              "      <td>0.001</td>\n",
              "      <td>NaN</td>\n",
              "    </tr>\n",
              "    <tr>\n",
              "      <th>1</th>\n",
              "      <td>0.5875</td>\n",
              "      <td>3</td>\n",
              "      <td>0.003</td>\n",
              "      <td>0.004</td>\n",
              "    </tr>\n",
              "    <tr>\n",
              "      <th>2</th>\n",
              "      <td>0.5915</td>\n",
              "      <td>5</td>\n",
              "      <td>0.005</td>\n",
              "      <td>0.004</td>\n",
              "    </tr>\n",
              "    <tr>\n",
              "      <th>3</th>\n",
              "      <td>0.5955</td>\n",
              "      <td>2</td>\n",
              "      <td>0.002</td>\n",
              "      <td>0.004</td>\n",
              "    </tr>\n",
              "    <tr>\n",
              "      <th>4</th>\n",
              "      <td>0.5995</td>\n",
              "      <td>7</td>\n",
              "      <td>0.007</td>\n",
              "      <td>0.004</td>\n",
              "    </tr>\n",
              "  </tbody>\n",
              "</table>\n",
              "</div>"
            ],
            "text/plain": [
              "    ratio  freq  freq_rel  delta_ratio\n",
              "0  0.5835     1     0.001          NaN\n",
              "1  0.5875     3     0.003        0.004\n",
              "2  0.5915     5     0.005        0.004\n",
              "3  0.5955     2     0.002        0.004\n",
              "4  0.5995     7     0.007        0.004"
            ]
          },
          "metadata": {},
          "output_type": "display_data"
        },
        {
          "data": {
            "text/html": [
              "<div>\n",
              "<style scoped>\n",
              "    .dataframe tbody tr th:only-of-type {\n",
              "        vertical-align: middle;\n",
              "    }\n",
              "\n",
              "    .dataframe tbody tr th {\n",
              "        vertical-align: top;\n",
              "    }\n",
              "\n",
              "    .dataframe thead th {\n",
              "        text-align: right;\n",
              "    }\n",
              "</style>\n",
              "<table border=\"1\" class=\"dataframe\">\n",
              "  <thead>\n",
              "    <tr style=\"text-align: right;\">\n",
              "      <th></th>\n",
              "      <th>ratio</th>\n",
              "      <th>freq</th>\n",
              "      <th>freq_rel</th>\n",
              "      <th>delta_ratio</th>\n",
              "    </tr>\n",
              "  </thead>\n",
              "  <tbody>\n",
              "    <tr>\n",
              "      <th>24</th>\n",
              "      <td>0.6795</td>\n",
              "      <td>19</td>\n",
              "      <td>0.019</td>\n",
              "      <td>0.004</td>\n",
              "    </tr>\n",
              "    <tr>\n",
              "      <th>25</th>\n",
              "      <td>0.6835</td>\n",
              "      <td>9</td>\n",
              "      <td>0.009</td>\n",
              "      <td>0.004</td>\n",
              "    </tr>\n",
              "    <tr>\n",
              "      <th>26</th>\n",
              "      <td>0.6875</td>\n",
              "      <td>5</td>\n",
              "      <td>0.005</td>\n",
              "      <td>0.004</td>\n",
              "    </tr>\n",
              "    <tr>\n",
              "      <th>27</th>\n",
              "      <td>0.6915</td>\n",
              "      <td>0</td>\n",
              "      <td>0.000</td>\n",
              "      <td>0.004</td>\n",
              "    </tr>\n",
              "    <tr>\n",
              "      <th>28</th>\n",
              "      <td>0.6955</td>\n",
              "      <td>1</td>\n",
              "      <td>0.001</td>\n",
              "      <td>0.004</td>\n",
              "    </tr>\n",
              "  </tbody>\n",
              "</table>\n",
              "</div>"
            ],
            "text/plain": [
              "     ratio  freq  freq_rel  delta_ratio\n",
              "24  0.6795    19     0.019        0.004\n",
              "25  0.6835     9     0.009        0.004\n",
              "26  0.6875     5     0.005        0.004\n",
              "27  0.6915     0     0.000        0.004\n",
              "28  0.6955     1     0.001        0.004"
            ]
          },
          "metadata": {},
          "output_type": "display_data"
        }
      ],
      "source": [
        "# Visualizamos nuevamente los datos\n",
        "display(data.head())\n",
        "display(data.tail())"
      ]
    },
    {
      "cell_type": "code",
      "execution_count": 13,
      "metadata": {
        "id": "XhWmw935YUVP"
      },
      "outputs": [],
      "source": [
        "# Creamos una columna de densidad = (frecuencia reativa) / (longitud)\n",
        "data['densidad'] = data['freq_rel'] / data['delta_ratio']"
      ]
    },
    {
      "cell_type": "code",
      "execution_count": 14,
      "metadata": {
        "colab": {
          "base_uri": "https://localhost:8080/",
          "height": 958
        },
        "id": "Q_6FVc0mY0dy",
        "outputId": "849fd257-debf-4a3f-b38d-553346170dab"
      },
      "outputs": [
        {
          "data": {
            "text/html": [
              "<div>\n",
              "<style scoped>\n",
              "    .dataframe tbody tr th:only-of-type {\n",
              "        vertical-align: middle;\n",
              "    }\n",
              "\n",
              "    .dataframe tbody tr th {\n",
              "        vertical-align: top;\n",
              "    }\n",
              "\n",
              "    .dataframe thead th {\n",
              "        text-align: right;\n",
              "    }\n",
              "</style>\n",
              "<table border=\"1\" class=\"dataframe\">\n",
              "  <thead>\n",
              "    <tr style=\"text-align: right;\">\n",
              "      <th></th>\n",
              "      <th>ratio</th>\n",
              "      <th>freq</th>\n",
              "      <th>freq_rel</th>\n",
              "      <th>delta_ratio</th>\n",
              "      <th>densidad</th>\n",
              "    </tr>\n",
              "  </thead>\n",
              "  <tbody>\n",
              "    <tr>\n",
              "      <th>0</th>\n",
              "      <td>0.5835</td>\n",
              "      <td>1</td>\n",
              "      <td>0.001</td>\n",
              "      <td>NaN</td>\n",
              "      <td>NaN</td>\n",
              "    </tr>\n",
              "    <tr>\n",
              "      <th>1</th>\n",
              "      <td>0.5875</td>\n",
              "      <td>3</td>\n",
              "      <td>0.003</td>\n",
              "      <td>0.004</td>\n",
              "      <td>0.75</td>\n",
              "    </tr>\n",
              "    <tr>\n",
              "      <th>2</th>\n",
              "      <td>0.5915</td>\n",
              "      <td>5</td>\n",
              "      <td>0.005</td>\n",
              "      <td>0.004</td>\n",
              "      <td>1.25</td>\n",
              "    </tr>\n",
              "    <tr>\n",
              "      <th>3</th>\n",
              "      <td>0.5955</td>\n",
              "      <td>2</td>\n",
              "      <td>0.002</td>\n",
              "      <td>0.004</td>\n",
              "      <td>0.50</td>\n",
              "    </tr>\n",
              "    <tr>\n",
              "      <th>4</th>\n",
              "      <td>0.5995</td>\n",
              "      <td>7</td>\n",
              "      <td>0.007</td>\n",
              "      <td>0.004</td>\n",
              "      <td>1.75</td>\n",
              "    </tr>\n",
              "    <tr>\n",
              "      <th>5</th>\n",
              "      <td>0.6035</td>\n",
              "      <td>10</td>\n",
              "      <td>0.010</td>\n",
              "      <td>0.004</td>\n",
              "      <td>2.50</td>\n",
              "    </tr>\n",
              "    <tr>\n",
              "      <th>6</th>\n",
              "      <td>0.6075</td>\n",
              "      <td>13</td>\n",
              "      <td>0.013</td>\n",
              "      <td>0.004</td>\n",
              "      <td>3.25</td>\n",
              "    </tr>\n",
              "    <tr>\n",
              "      <th>7</th>\n",
              "      <td>0.6115</td>\n",
              "      <td>19</td>\n",
              "      <td>0.019</td>\n",
              "      <td>0.004</td>\n",
              "      <td>4.75</td>\n",
              "    </tr>\n",
              "    <tr>\n",
              "      <th>8</th>\n",
              "      <td>0.6155</td>\n",
              "      <td>20</td>\n",
              "      <td>0.020</td>\n",
              "      <td>0.004</td>\n",
              "      <td>5.00</td>\n",
              "    </tr>\n",
              "    <tr>\n",
              "      <th>9</th>\n",
              "      <td>0.6195</td>\n",
              "      <td>25</td>\n",
              "      <td>0.025</td>\n",
              "      <td>0.004</td>\n",
              "      <td>6.25</td>\n",
              "    </tr>\n",
              "    <tr>\n",
              "      <th>10</th>\n",
              "      <td>0.6235</td>\n",
              "      <td>40</td>\n",
              "      <td>0.040</td>\n",
              "      <td>0.004</td>\n",
              "      <td>10.00</td>\n",
              "    </tr>\n",
              "    <tr>\n",
              "      <th>11</th>\n",
              "      <td>0.6275</td>\n",
              "      <td>31</td>\n",
              "      <td>0.031</td>\n",
              "      <td>0.004</td>\n",
              "      <td>7.75</td>\n",
              "    </tr>\n",
              "    <tr>\n",
              "      <th>12</th>\n",
              "      <td>0.6315</td>\n",
              "      <td>60</td>\n",
              "      <td>0.060</td>\n",
              "      <td>0.004</td>\n",
              "      <td>15.00</td>\n",
              "    </tr>\n",
              "    <tr>\n",
              "      <th>13</th>\n",
              "      <td>0.6355</td>\n",
              "      <td>62</td>\n",
              "      <td>0.062</td>\n",
              "      <td>0.004</td>\n",
              "      <td>15.50</td>\n",
              "    </tr>\n",
              "    <tr>\n",
              "      <th>14</th>\n",
              "      <td>0.6395</td>\n",
              "      <td>54</td>\n",
              "      <td>0.054</td>\n",
              "      <td>0.004</td>\n",
              "      <td>13.50</td>\n",
              "    </tr>\n",
              "    <tr>\n",
              "      <th>15</th>\n",
              "      <td>0.6435</td>\n",
              "      <td>74</td>\n",
              "      <td>0.074</td>\n",
              "      <td>0.004</td>\n",
              "      <td>18.50</td>\n",
              "    </tr>\n",
              "    <tr>\n",
              "      <th>16</th>\n",
              "      <td>0.6475</td>\n",
              "      <td>84</td>\n",
              "      <td>0.084</td>\n",
              "      <td>0.004</td>\n",
              "      <td>21.00</td>\n",
              "    </tr>\n",
              "    <tr>\n",
              "      <th>17</th>\n",
              "      <td>0.6515</td>\n",
              "      <td>86</td>\n",
              "      <td>0.086</td>\n",
              "      <td>0.004</td>\n",
              "      <td>21.50</td>\n",
              "    </tr>\n",
              "    <tr>\n",
              "      <th>18</th>\n",
              "      <td>0.6555</td>\n",
              "      <td>96</td>\n",
              "      <td>0.096</td>\n",
              "      <td>0.004</td>\n",
              "      <td>24.00</td>\n",
              "    </tr>\n",
              "    <tr>\n",
              "      <th>19</th>\n",
              "      <td>0.6595</td>\n",
              "      <td>85</td>\n",
              "      <td>0.085</td>\n",
              "      <td>0.004</td>\n",
              "      <td>21.25</td>\n",
              "    </tr>\n",
              "    <tr>\n",
              "      <th>20</th>\n",
              "      <td>0.6635</td>\n",
              "      <td>75</td>\n",
              "      <td>0.075</td>\n",
              "      <td>0.004</td>\n",
              "      <td>18.75</td>\n",
              "    </tr>\n",
              "    <tr>\n",
              "      <th>21</th>\n",
              "      <td>0.6675</td>\n",
              "      <td>47</td>\n",
              "      <td>0.047</td>\n",
              "      <td>0.004</td>\n",
              "      <td>11.75</td>\n",
              "    </tr>\n",
              "    <tr>\n",
              "      <th>22</th>\n",
              "      <td>0.6715</td>\n",
              "      <td>43</td>\n",
              "      <td>0.043</td>\n",
              "      <td>0.004</td>\n",
              "      <td>10.75</td>\n",
              "    </tr>\n",
              "    <tr>\n",
              "      <th>23</th>\n",
              "      <td>0.6755</td>\n",
              "      <td>24</td>\n",
              "      <td>0.024</td>\n",
              "      <td>0.004</td>\n",
              "      <td>6.00</td>\n",
              "    </tr>\n",
              "    <tr>\n",
              "      <th>24</th>\n",
              "      <td>0.6795</td>\n",
              "      <td>19</td>\n",
              "      <td>0.019</td>\n",
              "      <td>0.004</td>\n",
              "      <td>4.75</td>\n",
              "    </tr>\n",
              "    <tr>\n",
              "      <th>25</th>\n",
              "      <td>0.6835</td>\n",
              "      <td>9</td>\n",
              "      <td>0.009</td>\n",
              "      <td>0.004</td>\n",
              "      <td>2.25</td>\n",
              "    </tr>\n",
              "    <tr>\n",
              "      <th>26</th>\n",
              "      <td>0.6875</td>\n",
              "      <td>5</td>\n",
              "      <td>0.005</td>\n",
              "      <td>0.004</td>\n",
              "      <td>1.25</td>\n",
              "    </tr>\n",
              "    <tr>\n",
              "      <th>27</th>\n",
              "      <td>0.6915</td>\n",
              "      <td>0</td>\n",
              "      <td>0.000</td>\n",
              "      <td>0.004</td>\n",
              "      <td>0.00</td>\n",
              "    </tr>\n",
              "    <tr>\n",
              "      <th>28</th>\n",
              "      <td>0.6955</td>\n",
              "      <td>1</td>\n",
              "      <td>0.001</td>\n",
              "      <td>0.004</td>\n",
              "      <td>0.25</td>\n",
              "    </tr>\n",
              "  </tbody>\n",
              "</table>\n",
              "</div>"
            ],
            "text/plain": [
              "     ratio  freq  freq_rel  delta_ratio  densidad\n",
              "0   0.5835     1     0.001          NaN       NaN\n",
              "1   0.5875     3     0.003        0.004      0.75\n",
              "2   0.5915     5     0.005        0.004      1.25\n",
              "3   0.5955     2     0.002        0.004      0.50\n",
              "4   0.5995     7     0.007        0.004      1.75\n",
              "5   0.6035    10     0.010        0.004      2.50\n",
              "6   0.6075    13     0.013        0.004      3.25\n",
              "7   0.6115    19     0.019        0.004      4.75\n",
              "8   0.6155    20     0.020        0.004      5.00\n",
              "9   0.6195    25     0.025        0.004      6.25\n",
              "10  0.6235    40     0.040        0.004     10.00\n",
              "11  0.6275    31     0.031        0.004      7.75\n",
              "12  0.6315    60     0.060        0.004     15.00\n",
              "13  0.6355    62     0.062        0.004     15.50\n",
              "14  0.6395    54     0.054        0.004     13.50\n",
              "15  0.6435    74     0.074        0.004     18.50\n",
              "16  0.6475    84     0.084        0.004     21.00\n",
              "17  0.6515    86     0.086        0.004     21.50\n",
              "18  0.6555    96     0.096        0.004     24.00\n",
              "19  0.6595    85     0.085        0.004     21.25\n",
              "20  0.6635    75     0.075        0.004     18.75\n",
              "21  0.6675    47     0.047        0.004     11.75\n",
              "22  0.6715    43     0.043        0.004     10.75\n",
              "23  0.6755    24     0.024        0.004      6.00\n",
              "24  0.6795    19     0.019        0.004      4.75\n",
              "25  0.6835     9     0.009        0.004      2.25\n",
              "26  0.6875     5     0.005        0.004      1.25\n",
              "27  0.6915     0     0.000        0.004      0.00\n",
              "28  0.6955     1     0.001        0.004      0.25"
            ]
          },
          "execution_count": 14,
          "metadata": {},
          "output_type": "execute_result"
        }
      ],
      "source": [
        "# Visualizamos nuevamente los datos\n",
        "data"
      ]
    },
    {
      "cell_type": "code",
      "execution_count": 15,
      "metadata": {
        "colab": {
          "base_uri": "https://localhost:8080/",
          "height": 319
        },
        "id": "5DM-mTnAY5g-",
        "outputId": "2587b8af-557e-489a-f09f-2235d4b88e37"
      },
      "outputs": [
        {
          "data": {
            "image/png": "[encoded data removed]",
            "text/plain": [
              "<Figure size 600x300 with 1 Axes>"
            ]
          },
          "metadata": {},
          "output_type": "display_data"
        }
      ],
      "source": [
        "# Graficamos la densidad\n",
        "plt.figure(figsize=(6, 3))\n",
        "plt.step(x=data['ratio'],y=data['densidad'], label='Datos')\n",
        "plt.legend()\n",
        "plt.xlabel('ratio')\n",
        "plt.ylabel('Densidad')\n",
        "plt.show()"
      ]
    },
    {
      "cell_type": "markdown",
      "metadata": {
        "id": "qHqMG-GQaGvo"
      },
      "source": [
        "# Un modelos simple: una gaussiana"
      ]
    },
    {
      "cell_type": "markdown",
      "metadata": {
        "id": "ekUPRHEK-1ey"
      },
      "source": [
        "Considera la siguiente celda de código: ¿puedes encontrar valores de *mu* y *sigma* para que la curva gaussiana aproxime la densidad de los datos?"
      ]
    },
    {
      "cell_type": "code",
      "execution_count": 25,
      "metadata": {
        "id": "Ed_M9OxM-0xZ"
      },
      "outputs": [
        {
          "data": {
            "image/png": "[encoded data removed]",
            "text/plain": [
              "<Figure size 600x300 with 1 Axes>"
            ]
          },
          "metadata": {},
          "output_type": "display_data"
        }
      ],
      "source": [
        "import scipy\n",
        "\n",
        "mu = (data['ratio'] * data['freq_rel']).sum() \n",
        "sigma = np.sqrt((((data['ratio'] - mu)**2) * data['freq_rel']).sum())\n",
        "\n",
        "# Graficamos la densidad junto con la gaussiana\n",
        "plt.figure(figsize=(6, 3))\n",
        "plt.step(x=data['ratio'],y=data['densidad'], label='Datos')\n",
        "r = np.linspace(data['ratio'].min(), data['ratio'].max(), 100)\n",
        "plt.plot(r, norm.pdf(r, mu, sigma), label='Gaussiana') \n",
        "plt.legend()\n",
        "plt.xlabel('ratio')\n",
        "plt.ylabel('Densidad y Gaussiana')\n",
        "plt.show()"
      ]
    },
    {
      "cell_type": "markdown",
      "metadata": {
        "id": "dtqyRngz_9Wo"
      },
      "source": [
        "He aquí una solución posible"
      ]
    },
    {
      "cell_type": "code",
      "execution_count": 21,
      "metadata": {
        "id": "neeDmZshZx7O"
      },
      "outputs": [],
      "source": [
        "# Calculamos el sum-product de ratio y freq\n",
        "data['product'] = data['ratio'] * data['freq']"
      ]
    },
    {
      "cell_type": "code",
      "execution_count": 22,
      "metadata": {
        "colab": {
          "base_uri": "https://localhost:8080/",
          "height": 206
        },
        "id": "y7yHaGeCalDa",
        "outputId": "1539256e-86dd-4f32-d98e-bd38362342dc"
      },
      "outputs": [
        {
          "data": {
            "text/html": [
              "<div>\n",
              "<style scoped>\n",
              "    .dataframe tbody tr th:only-of-type {\n",
              "        vertical-align: middle;\n",
              "    }\n",
              "\n",
              "    .dataframe tbody tr th {\n",
              "        vertical-align: top;\n",
              "    }\n",
              "\n",
              "    .dataframe thead th {\n",
              "        text-align: right;\n",
              "    }\n",
              "</style>\n",
              "<table border=\"1\" class=\"dataframe\">\n",
              "  <thead>\n",
              "    <tr style=\"text-align: right;\">\n",
              "      <th></th>\n",
              "      <th>ratio</th>\n",
              "      <th>freq</th>\n",
              "      <th>freq_rel</th>\n",
              "      <th>delta_ratio</th>\n",
              "      <th>densidad</th>\n",
              "      <th>product</th>\n",
              "    </tr>\n",
              "  </thead>\n",
              "  <tbody>\n",
              "    <tr>\n",
              "      <th>0</th>\n",
              "      <td>0.5835</td>\n",
              "      <td>1</td>\n",
              "      <td>0.001</td>\n",
              "      <td>NaN</td>\n",
              "      <td>NaN</td>\n",
              "      <td>0.5835</td>\n",
              "    </tr>\n",
              "    <tr>\n",
              "      <th>1</th>\n",
              "      <td>0.5875</td>\n",
              "      <td>3</td>\n",
              "      <td>0.003</td>\n",
              "      <td>0.004</td>\n",
              "      <td>0.75</td>\n",
              "      <td>1.7625</td>\n",
              "    </tr>\n",
              "    <tr>\n",
              "      <th>2</th>\n",
              "      <td>0.5915</td>\n",
              "      <td>5</td>\n",
              "      <td>0.005</td>\n",
              "      <td>0.004</td>\n",
              "      <td>1.25</td>\n",
              "      <td>2.9575</td>\n",
              "    </tr>\n",
              "    <tr>\n",
              "      <th>3</th>\n",
              "      <td>0.5955</td>\n",
              "      <td>2</td>\n",
              "      <td>0.002</td>\n",
              "      <td>0.004</td>\n",
              "      <td>0.50</td>\n",
              "      <td>1.1910</td>\n",
              "    </tr>\n",
              "    <tr>\n",
              "      <th>4</th>\n",
              "      <td>0.5995</td>\n",
              "      <td>7</td>\n",
              "      <td>0.007</td>\n",
              "      <td>0.004</td>\n",
              "      <td>1.75</td>\n",
              "      <td>4.1965</td>\n",
              "    </tr>\n",
              "  </tbody>\n",
              "</table>\n",
              "</div>"
            ],
            "text/plain": [
              "    ratio  freq  freq_rel  delta_ratio  densidad  product\n",
              "0  0.5835     1     0.001          NaN       NaN   0.5835\n",
              "1  0.5875     3     0.003        0.004      0.75   1.7625\n",
              "2  0.5915     5     0.005        0.004      1.25   2.9575\n",
              "3  0.5955     2     0.002        0.004      0.50   1.1910\n",
              "4  0.5995     7     0.007        0.004      1.75   4.1965"
            ]
          },
          "execution_count": 22,
          "metadata": {},
          "output_type": "execute_result"
        }
      ],
      "source": [
        "# Visualizamos nuevamente los datos\n",
        "data.head()"
      ]
    },
    {
      "cell_type": "code",
      "execution_count": 23,
      "metadata": {
        "colab": {
          "base_uri": "https://localhost:8080/"
        },
        "id": "OWFwMek6ant7",
        "outputId": "9c1e18f3-1ea7-4b38-99e0-807966b0cea5"
      },
      "outputs": [
        {
          "name": "stdout",
          "output_type": "stream",
          "text": [
            "La media aproximada es: 0.646696\n"
          ]
        }
      ],
      "source": [
        "# Sumamos la columna 'product' y dividimos entre la suma de 'freq'\n",
        "approx_mean = data['product'].sum() / data['freq'].sum()\n",
        "print(f'La media aproximada es: {approx_mean}')"
      ]
    },
    {
      "cell_type": "code",
      "execution_count": 26,
      "metadata": {
        "colab": {
          "base_uri": "https://localhost:8080/"
        },
        "id": "yeUzeSGya3Xn",
        "outputId": "5acc2269-831b-4e8d-a17a-090091659d22"
      },
      "outputs": [
        {
          "name": "stdout",
          "output_type": "stream",
          "text": [
            "La desviación aproximada es: 0.019064773379193354\n"
          ]
        }
      ],
      "source": [
        "# Calculamos los desvios cuadráticos respecto a la media y hacemos el sum-product con freq\n",
        "data['quadratic_deviation'] = (data['ratio'] - approx_mean)**2 * data['freq']\n",
        "approx_deviation = np.sqrt(data['quadratic_deviation'].sum() / data['freq'].sum())\n",
        "print(f'La desviación aproximada es: {approx_deviation}')"
      ]
    },
    {
      "cell_type": "code",
      "execution_count": 27,
      "metadata": {
        "id": "5jFnmqWP3s_K"
      },
      "outputs": [],
      "source": [
        "# Importamos de scipy la distribución normal o gaussiana\n",
        "from scipy.stats import norm"
      ]
    },
    {
      "cell_type": "code",
      "execution_count": 28,
      "metadata": {
        "colab": {
          "base_uri": "https://localhost:8080/",
          "height": 319
        },
        "id": "Yx981coR28ny",
        "outputId": "48c234ad-d7b2-47ed-c7a7-24616780e521"
      },
      "outputs": [
        {
          "data": {
            "image/png": "[encoded data removed]",
            "text/plain": [
              "<Figure size 600x300 with 1 Axes>"
            ]
          },
          "metadata": {},
          "output_type": "display_data"
        }
      ],
      "source": [
        "# Agregamos al gráfico de la densidad anterior la curva gaussiana con media approx_mean y desvio approx_deviation\n",
        "# Graficamos la densidad junto con la gaussiana\n",
        "plt.figure(figsize=(6, 3))\n",
        "plt.step(x=data['ratio'],y=data['densidad'], label='Datos')\n",
        "r = np.linspace(data['ratio'].min(), data['ratio'].max(), 100)\n",
        "plt.plot(r, norm.pdf(r, approx_mean, approx_deviation), label='Gaussiana')\n",
        "plt.legend()\n",
        "plt.xlabel('ratio')\n",
        "plt.ylabel('Densidad y Gaussiana')\n",
        "plt.show()"
      ]
    },
    {
      "cell_type": "markdown",
      "metadata": {
        "id": "36_p3bIX4Co2"
      },
      "source": [
        "# Un modelo más complejo: mezcla de gaussianas"
      ]
    },
    {
      "cell_type": "code",
      "execution_count": 29,
      "metadata": {
        "id": "w0zqUX4W3Mea"
      },
      "outputs": [],
      "source": [
        "# Definimos una mezcla de dos gaussianas\n",
        "def gauss_mixture(x, mu1, mu2, sigma1, sigma2, pi):\n",
        "  return pi * norm.pdf(x, mu1, sigma1) + (1 - pi) * norm.pdf(x, mu2, sigma2)"
      ]
    },
    {
      "cell_type": "markdown",
      "metadata": {
        "id": "Zm79a8IAAMwM"
      },
      "source": [
        "Considera la siguiente celda de código: ¿puedes encontrar valores de *pi*, *mu1*, *mu2*, *sigma1* y *sigma2* para que la curva de la mezcla de gaussianas aproxime la densidad de los datos?"
      ]
    },
    {
      "cell_type": "code",
      "execution_count": null,
      "metadata": {
        "id": "CD49ZD6IAPto"
      },
      "outputs": [],
      "source": [
        "pi = None\n",
        "mu1 = None\n",
        "sigma1 = None\n",
        "mu2 = None\n",
        "sigma2 = None\n",
        "\n",
        "# Graficamos la densidad junto con la mezcla de gaussiana\n",
        "plt.figure(figsize=(6, 3))\n",
        "plt.step(x=data['ratio'],y=data['densidad'], label='Datos')\n",
        "r = np.linspace(data['ratio'].min(), data['ratio'].max(), 100)\n",
        "plt.plot(r, gauss_mixture(r, mu1, mu2, sigma1, sigma2, pi), label='Mezcla de gaussiana')\n",
        "plt.plot(r, pi*norm.pdf(r, mu1, sigma1), label='Gaussiana 1')\n",
        "plt.plot(r, (1-pi)*norm.pdf(r, mu2, sigma2), label='Gaussiana 2')\n",
        "plt.legend()\n",
        "plt.xlabel('ratio')\n",
        "plt.ylabel('Densidad y Gaussiana')\n",
        "plt.show()"
      ]
    },
    {
      "cell_type": "markdown",
      "metadata": {
        "id": "9WCpgk4MARyw"
      },
      "source": [
        "He aquí una solución posible:"
      ]
    },
    {
      "cell_type": "code",
      "execution_count": 22,
      "metadata": {
        "colab": {
          "base_uri": "https://localhost:8080/",
          "height": 319
        },
        "id": "SFGlsgZd5MpO",
        "outputId": "d2f7b0c4-bd07-4f6f-f786-abcf9d3a476f"
      },
      "outputs": [
        {
          "data": {
            "image/png": "[encoded data removed]",
            "text/plain": [
              "<Figure size 600x300 with 1 Axes>"
            ]
          },
          "metadata": {},
          "output_type": "display_data"
        }
      ],
      "source": [
        "# Graficamos la densidad junto con la mezcla de gaussiana\n",
        "plt.figure(figsize=(6, 3))\n",
        "plt.step(x=data['ratio'],y=data['densidad'], label='Datos')\n",
        "r = np.linspace(data['ratio'].min(), data['ratio'].max(), 100)\n",
        "pi = 0.5\n",
        "mu1 = .6343\n",
        "sigma1 = .0190\n",
        "mu2 = .6551\n",
        "sigma2 = .0121\n",
        "plt.plot(r, gauss_mixture(r, mu1, mu2, sigma1, sigma2, pi), label='Mezcla de gaussiana')\n",
        "plt.plot(r, pi*norm.pdf(r, mu1, sigma1), label='Gaussiana 1')\n",
        "plt.plot(r, (1-pi)*norm.pdf(r, mu2, sigma2), label='Gaussiana 2')\n",
        "plt.legend()\n",
        "plt.xlabel('ratio')\n",
        "plt.ylabel('Densidad y Gaussiana')\n",
        "plt.show()"
      ]
    },
    {
      "cell_type": "code",
      "execution_count": null,
      "metadata": {
        "id": "rxGaXzia8PfU"
      },
      "outputs": [],
      "source": []
    }
  ],
  "metadata": {
    "colab": {
      "provenance": []
    },
    "kernelspec": {
      "display_name": "Python 3",
      "name": "python3"
    },
    "language_info": {
      "codemirror_mode": {
        "name": "ipython",
        "version": 3
      },
      "file_extension": ".py",
      "mimetype": "text/x-python",
      "name": "python",
      "nbconvert_exporter": "python",
      "pygments_lexer": "ipython3",
      "version": "3.9.6"
    }
  },
  "nbformat": 4,
  "nbformat_minor": 0
}
